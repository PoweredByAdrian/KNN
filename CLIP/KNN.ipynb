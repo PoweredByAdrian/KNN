{
 "cells": [
  {
   "cell_type": "markdown",
   "id": "61b75e2f",
   "metadata": {},
   "source": [
    "# CLIP-Based Image-Text Matching Pipeline\n",
    "\n",
    "This notebook demonstrates a complete pipeline for processing, analyzing and matching images with relevant text descriptions using the CLIP neural network. The pipeline includes:\n",
    "\n",
    "1. **Data Acquisition**: Downloading JSON, image, and XML files from a Label Studio project\n",
    "2. **Data Analysis**: Counting and analyzing label distribution in the dataset\n",
    "3. **Data Filtering**: Selecting images and text with specific labels\n",
    "4. **Image Processing**: Cropping images based on annotations\n",
    "5. **Text Processing**: Filtering text regions to remove captions\n",
    "6. **CLIP Processing**: Using CLIP to find semantic matches between images and text\n",
    "\n",
    "Each section below implements one step in the pipeline."
   ]
  },
  {
   "cell_type": "markdown",
   "id": "a0e7d81b",
   "metadata": {},
   "source": [
    "Loads necessary modules and configures authentication for Label Studio API access.\n",
    "\n",
    "- Sets up a global debug flag to control logging verbosity\n",
    "- Loads an authentication token from a configuration file\n",
    "- Configures the logging system for a notebook environment"
   ]
  },
  {
   "cell_type": "code",
   "execution_count": 1,
   "id": "e4b667d5",
   "metadata": {},
   "outputs": [
    {
     "name": "stdout",
     "output_type": "stream",
     "text": [
      "INFO: Log level set to: INFO\n"
     ]
    }
   ],
   "source": [
    "# Import the module\n",
    "import download\n",
    "import os\n",
    "import sys\n",
    "import json\n",
    "from pathlib import Path\n",
    "from IPython.display import display, Markdown\n",
    "from tqdm import tqdm\n",
    "import ipywidgets\n",
    "from tqdm.notebook import tqdm as notebook_tqdm\n",
    "\n",
    "DEBUG = False\n",
    "\n",
    "# Load token from a config file (not in version control)\n",
    "try:\n",
    "    config_path = Path.home() / \".config\" / \"label_studio_config.json\"\n",
    "    with open(config_path) as f:\n",
    "        config = json.load(f)\n",
    "        label_studio_token = config.get(\"token\")\n",
    "except FileNotFoundError:\n",
    "    display(Markdown(\"## ⚠️ Config file not found\"))\n",
    "    display(Markdown(f\"Create a file at {config_path} with the content: `{{'token': 'your_token_here'}}`\"))\n",
    "    label_studio_token = None\n",
    "\n",
    "# Setup logging for notebook environment\n",
    "download.setup_logging(debug_mode=DEBUG, use_notebook=True)\n"
   ]
  },
  {
   "cell_type": "markdown",
   "id": "efaf6d20",
   "metadata": {},
   "source": [
    "Creates the directory structure needed for the pipeline:\n",
    "\n",
    "- **downloaded_images**: Storage for images downloaded from Label Studio\n",
    "- **texts**: Storage for XML files containing OCR text information\n",
    "- **splitted_jsons**: Storage for individual JSON annotation files\n",
    "- **output_context**: Where the final output images with context will be saved\n",
    "\n",
    "Each directory is created if it doesn't exist already."
   ]
  },
  {
   "cell_type": "code",
   "execution_count": 2,
   "id": "416a5add",
   "metadata": {},
   "outputs": [
    {
     "data": {
      "text/markdown": [
       "✓ Directory `downloaded_images` ready"
      ],
      "text/plain": [
       "<IPython.core.display.Markdown object>"
      ]
     },
     "metadata": {},
     "output_type": "display_data"
    },
    {
     "data": {
      "text/markdown": [
       "✓ Directory `texts` ready"
      ],
      "text/plain": [
       "<IPython.core.display.Markdown object>"
      ]
     },
     "metadata": {},
     "output_type": "display_data"
    },
    {
     "data": {
      "text/markdown": [
       "✓ Directory `splitted_jsons` ready"
      ],
      "text/plain": [
       "<IPython.core.display.Markdown object>"
      ]
     },
     "metadata": {},
     "output_type": "display_data"
    },
    {
     "data": {
      "text/markdown": [
       "✓ Directory `output_context` ready"
      ],
      "text/plain": [
       "<IPython.core.display.Markdown object>"
      ]
     },
     "metadata": {},
     "output_type": "display_data"
    }
   ],
   "source": [
    "\n",
    "# Define custom directories (relative to current directory)\n",
    "DIRS = {\n",
    "    \"images_dir\": \"downloaded_images\",  # Where downloaded images will go\n",
    "    \"texts_dir\": \"texts\",    # Where XML files are stored \n",
    "    \"jsons_dir\": \"splitted_jsons\",      # Where split JSON files will go\n",
    "    \"output_dir\": \"output_context\"    # Where output files will go\n",
    "}\n",
    "\n",
    "# Create directories if they don't exist\n",
    "for dir_name, dir_path in DIRS.items():\n",
    "    os.makedirs(dir_path, exist_ok=True)\n",
    "    display(Markdown(f\"✓ Directory `{dir_path}` ready\"))"
   ]
  },
  {
   "cell_type": "markdown",
   "id": "ba297fe3",
   "metadata": {},
   "source": [
    "Downloads the full JSON export from Label Studio containing all task annotations.\n",
    "\n",
    "- Uses the API token for authentication\n",
    "- Saves the export as \"label_studio_export.json\"\n",
    "- Displays the number of tasks downloaded\n",
    "- This export file contains annotation data for all images in the project"
   ]
  },
  {
   "cell_type": "code",
   "execution_count": 3,
   "id": "7fe0bcb3",
   "metadata": {},
   "outputs": [
    {
     "name": "stdout",
     "output_type": "stream",
     "text": [
      "INFO: --- Downloading Export JSON ---\n",
      "INFO: Using Label Studio URL: https://label-studio.semant.cz\n",
      "INFO: Using Project ID: 16\n",
      "INFO: Output file: label_studio_export.json\n",
      "INFO: Export file 'label_studio_export.json' already exists, loading from disk.\n",
      "INFO: Successfully loaded 5548 tasks from existing file.\n"
     ]
    },
    {
     "data": {
      "text/markdown": [
       "## Export Successful\n",
       "- Source: file\n",
       "- Tasks: 5548"
      ],
      "text/plain": [
       "<IPython.core.display.Markdown object>"
      ]
     },
     "metadata": {},
     "output_type": "display_data"
    }
   ],
   "source": [
    "# Download the export.json file\n",
    "result = download.download_export_json(\n",
    "    token=label_studio_token,\n",
    "    output_file=\"label_studio_export.json\"\n",
    ")\n",
    "\n",
    "if \"error\" in result:\n",
    "    display(Markdown(f\"## ❌ Error\\n{result['error']}\"))\n",
    "else:\n",
    "    labels = result[\"labels\"]\n",
    "    display(Markdown(f\"## Export Successful\\n- Source: {result['source']}\\n- Tasks: {len(labels)}\"))"
   ]
  },
  {
   "cell_type": "markdown",
   "id": "a24df7a6",
   "metadata": {},
   "source": [
    "Downloads all annotated images from the Label Studio project:\n",
    "\n",
    "- Only downloads images that have a corresponding XML file in the texts directory\n",
    "- Skips images that already exist locally\n",
    "- Uses the improved progress bar interface with tqdm.notebook\n",
    "- Shows detailed statistics about the download process\n",
    "\n",
    "This step ensures we have all the necessary image data for processing."
   ]
  },
  {
   "cell_type": "code",
   "execution_count": 4,
   "id": "bb679869",
   "metadata": {},
   "outputs": [
    {
     "name": "stdout",
     "output_type": "stream",
     "text": [
      "INFO: --- Running Download Mode ---\n",
      "INFO: Using Labels file: /home/adrian/school/KNN/CLIP/export.json\n",
      "INFO: Using Label Studio Project ID: 16\n",
      "INFO: Using Label Studio Base URL: https://label-studio.semant.cz\n",
      "INFO: Using Image save directory: /home/adrian/school/KNN/CLIP/downloaded_images\n",
      "INFO: Using XML check directory: /home/adrian/school/KNN/CLIP/texts\n",
      "INFO: Ensured image save directory exists: '/home/adrian/school/KNN/CLIP/downloaded_images'\n",
      "INFO: Label Studio token loaded successfully.\n",
      "INFO: Loading labels from file: '/home/adrian/school/KNN/CLIP/export.json'\n",
      "INFO: Successfully loaded 5548 labels from '/home/adrian/school/KNN/CLIP/export.json'.\n",
      "INFO: --- Starting Image Download Process ---\n",
      "INFO: Processing 5548 tasks from labels file...\n"
     ]
    },
    {
     "data": {
      "application/vnd.jupyter.widget-view+json": {
       "model_id": "b521b5d927c345e29cce01507ae6b276",
       "version_major": 2,
       "version_minor": 0
      },
      "text/plain": [
       "Downloading images:   0%|          | 0/5548 [00:00<?, ?task/s]"
      ]
     },
     "metadata": {},
     "output_type": "display_data"
    },
    {
     "name": "stdout",
     "output_type": "stream",
     "text": [
      "INFO: \n",
      "--- Download Summary ---\n",
      "INFO: Processing completed in: 0.10 seconds\n",
      "INFO: Total tasks in labels file: 5548\n",
      "INFO: Tasks processed: 5548\n",
      "INFO: Successfully downloaded images: 0\n",
      "INFO: Skipped (image already exists): 5548\n",
      "INFO: Skipped (no corresponding XML found): 0\n",
      "INFO: Skipped (no UUID extracted): 0\n",
      "INFO: Skipped (no/invalid/non-local image path): 0\n",
      "INFO: Failed downloads/saves: 0\n",
      "INFO: ------------------------\n"
     ]
    },
    {
     "data": {
      "text/markdown": [
       "\n",
       "        ## Download Results\n",
       "        - Total tasks: 5548\n",
       "        - Downloaded: 0\n",
       "        - Skipped (already exist): 5548\n",
       "        - Skipped (no XML): 0\n",
       "        - Failed: 0\n",
       "        "
      ],
      "text/plain": [
       "<IPython.core.display.Markdown object>"
      ]
     },
     "metadata": {},
     "output_type": "display_data"
    }
   ],
   "source": [
    "# Run download function with custom directories\n",
    "if label_studio_token:\n",
    "    result = download.run_download(\n",
    "        show_progress=True,\n",
    "        token=label_studio_token,\n",
    "        texts_dir=DIRS[\"texts_dir\"],\n",
    "        images_dir=DIRS[\"images_dir\"]\n",
    "    )\n",
    "    \n",
    "    # Display results as markdown\n",
    "    if \"error\" in result:\n",
    "        display(Markdown(f\"## ❌ Error\\n{result['error']}\"))\n",
    "    else:\n",
    "        display(Markdown(f\"\"\"\n",
    "        ## Download Results\n",
    "        - Total tasks: {result['total_tasks']}\n",
    "        - Downloaded: {result['downloaded']}\n",
    "        - Skipped (already exist): {result['skipped_exists']}\n",
    "        - Skipped (no XML): {result['skipped_no_xml']}\n",
    "        - Failed: {result['failed']}\n",
    "        \"\"\"))\n",
    "else:\n",
    "    display(Markdown(\"## ❌ Cannot proceed without token\"))"
   ]
  },
  {
   "cell_type": "markdown",
   "id": "b159f25b",
   "metadata": {},
   "source": [
    "Divides the master export file into individual JSON files, one per task:\n",
    "\n",
    "- Extracts each task from the export.json file\n",
    "- Creates a separate JSON file named with the UUID of the task\n",
    "- Verifies that the images and XML files match by comparing UUIDs\n",
    "- Uses the improved progress tracking with tqdm.notebook\n",
    "\n",
    "This step prepares the data for efficient parallel processing in later stages."
   ]
  },
  {
   "cell_type": "code",
   "execution_count": 5,
   "id": "bed4bd03",
   "metadata": {},
   "outputs": [
    {
     "name": "stdout",
     "output_type": "stream",
     "text": [
      "INFO: --- Running Split JSON Mode ---\n",
      "INFO: Input labels file: label_studio_export.json\n",
      "INFO: Output directory for split JSONs: /home/adrian/school/KNN/CLIP/splitted_jsons\n",
      "INFO: Ensured JSON save directory exists: '/home/adrian/school/KNN/CLIP/splitted_jsons'\n",
      "INFO: Loading labels from file: 'label_studio_export.json'\n",
      "INFO: Successfully loaded 5548 labels from 'label_studio_export.json'.\n",
      "INFO: Processing 5548 tasks to split from labels file...\n"
     ]
    },
    {
     "data": {
      "application/vnd.jupyter.widget-view+json": {
       "model_id": "0a7cd122d4ed49579c45f155f3dc4fec",
       "version_major": 2,
       "version_minor": 0
      },
      "text/plain": [
       "Splitting JSONs:   0%|          | 0/5548 [00:00<?, ?file/s]"
      ]
     },
     "metadata": {},
     "output_type": "display_data"
    },
    {
     "name": "stdout",
     "output_type": "stream",
     "text": [
      "INFO: \n",
      "--- Split JSON Summary ---\n",
      "INFO: Processing completed in: 6.70 seconds\n",
      "INFO: Total tasks in input file: 5548\n",
      "INFO: Tasks processed: 5548\n",
      "INFO: Successfully created JSON files: 5548\n",
      "INFO: Skipped (no UUID extracted): 0\n",
      "INFO: Failed JSON writes: 0\n",
      "INFO: --------------------------\n"
     ]
    },
    {
     "data": {
      "text/markdown": [
       "\n",
       "        ## JSON Split Results\n",
       "        - Total tasks: 5548\n",
       "        - JSON files created: 5548\n",
       "        - Skipped (no UUID): 0\n",
       "        - Failed writes: 0\n",
       "        - Processing time: 6.70 seconds\n",
       "        "
      ],
      "text/plain": [
       "<IPython.core.display.Markdown object>"
      ]
     },
     "metadata": {},
     "output_type": "display_data"
    },
    {
     "name": "stdout",
     "output_type": "stream",
     "text": [
      "INFO: --- Running Compare Mode ---\n",
      "INFO: Starting comparison between directories:\n",
      "INFO:   Texts directory: /home/adrian/school/KNN/CLIP/texts\n",
      "INFO:   Images directory: /home/adrian/school/KNN/CLIP/downloaded_images\n",
      "INFO: Found 5767 unique base filenames in /home/adrian/school/KNN/CLIP/texts\n",
      "INFO: Found 5548 unique base filenames in /home/adrian/school/KNN/CLIP/downloaded_images\n",
      "INFO: \n",
      "--- Comparison Results ---\n",
      "INFO: Matching base filenames found in both: 5548\n",
      "WARNING: Base filenames ONLY in 'texts' (219):\n",
      "WARNING:   - ecce043a-52f7-4c02-8293-e3caab6a371c.xml (Image missing)\n",
      "WARNING:   - ed0545ab-e3da-11e6-bea0-001b21d0d3a4.xml (Image missing)\n",
      "WARNING:   - ed42941d-18d7-4d77-ac84-23a22abb709b.xml (Image missing)\n",
      "WARNING:   - ed6c8d93-bd53-4ab1-be80-f755f17167f6.xml (Image missing)\n",
      "WARNING:   - ed73420b-e0b7-11e7-ada2-001b63bd97ba.xml (Image missing)\n",
      "WARNING:   - ed97baa1-c5bf-4306-8e65-45b5f742ca3e.xml (Image missing)\n",
      "WARNING:   - edb17328-405d-420b-b4a6-244fd4241179.xml (Image missing)\n",
      "WARNING:   - edcdbfe5-4c53-11e7-ba98-001b63bd97ba.xml (Image missing)\n",
      "WARNING:   - ee029eb8-fa88-4d98-a277-7086ad011cbe.xml (Image missing)\n",
      "WARNING:   - ee19142a-b588-11e7-97fd-00155d012102.xml (Image missing)\n",
      "WARNING:   - ee21a149-bc37-11e1-1431-001143e3f55c.xml (Image missing)\n",
      "WARNING:   - ee388430-6a64-11e0-939c-000d606f5dc6.xml (Image missing)\n",
      "WARNING:   - ee46d0c3-e468-11e8-bdc5-d485646517a0.xml (Image missing)\n",
      "WARNING:   - ee523ae5-9c4d-11e6-8e60-001b63bd97ba.xml (Image missing)\n",
      "WARNING:   - ee5742e4-86f0-4879-ab96-3aa3b7e679fd.xml (Image missing)\n",
      "WARNING:   - f14bf2a7-4289-45c7-b418-f50e55f01897.xml (Image missing)\n",
      "WARNING:   - f150f650-1be6-4488-a001-aca87f711b45.xml (Image missing)\n",
      "WARNING:   - f1538cc9-565c-11e1-1586-001143e3f55c.xml (Image missing)\n",
      "WARNING:   - f1538da7-565c-11e1-1586-001143e3f55c.xml (Image missing)\n",
      "WARNING:   - f158c146-0a71-11eb-b9eb-001b63bd97ba.xml (Image missing)\n",
      "WARNING:   ... (199 more)\n",
      "INFO: No base filenames found only in 'downloaded_images'.\n",
      "INFO: --------------------------\n",
      "WARNING: Mismatch Found: Directories do not match.\n"
     ]
    },
    {
     "data": {
      "text/markdown": [
       "\n",
       "            ## ⚠️ Mismatch between images and XMLs\n",
       "            - Files in both directories: 5548\n",
       "            - Files only in texts directory: 219\n",
       "            - Files only in images directory: 0\n",
       "            "
      ],
      "text/plain": [
       "<IPython.core.display.Markdown object>"
      ]
     },
     "metadata": {},
     "output_type": "display_data"
    }
   ],
   "source": [
    "# Split the export.json into individual JSON files\n",
    "if label_studio_token:\n",
    "    split_result = download.run_split_json(\n",
    "        show_progress=True,\n",
    "        labels_file=\"label_studio_export.json\",\n",
    "        jsons_dir=DIRS[\"jsons_dir\"]\n",
    "    )\n",
    "    \n",
    "    # Display results as markdown\n",
    "    if \"error\" in split_result:\n",
    "        display(Markdown(f\"## ❌ Error\\n{split_result['error']}\"))\n",
    "    else:\n",
    "        display(Markdown(f\"\"\"\n",
    "        ## JSON Split Results\n",
    "        - Total tasks: {split_result['total_tasks']}\n",
    "        - JSON files created: {split_result['json_created']}\n",
    "        - Skipped (no UUID): {split_result['skipped_no_uuid']}\n",
    "        - Failed writes: {split_result['failed_writes']}\n",
    "        - Processing time: {split_result['elapsed_time']:.2f} seconds\n",
    "        \"\"\"))\n",
    "        \n",
    "        # Also run directory comparison to verify we have matching files\n",
    "        compare_result = download.run_compare(\n",
    "            texts_dir=DIRS[\"texts_dir\"],\n",
    "            images_dir=DIRS[\"images_dir\"]\n",
    "        )\n",
    "        if compare_result[\"match\"]:\n",
    "            display(Markdown(\"## ✅ Images and XMLs match!\"))\n",
    "        else:\n",
    "            display(Markdown(f\"\"\"\n",
    "            ## ⚠️ Mismatch between images and XMLs\n",
    "            - Files in both directories: {compare_result['matching_count']}\n",
    "            - Files only in texts directory: {compare_result['texts_only_count']}\n",
    "            - Files only in images directory: {compare_result['images_only_count']}\n",
    "            \"\"\"))\n",
    "else:\n",
    "    display(Markdown(\"## ❌ Cannot proceed without token\"))"
   ]
  },
  {
   "cell_type": "markdown",
   "id": "b6fe543c",
   "metadata": {},
   "source": [
    "Analyzes the distribution of rectangle labels in the dataset:\n",
    "\n",
    "- Counts occurrences of each rectangle label across all JSON files\n",
    "- Displays results as a sorted DataFrame for easy analysis\n",
    "- Provides summary statistics about the dataset composition\n",
    "- Uses the improved progress bar implementation with tqdm.notebook\n",
    "\n",
    "This analysis helps identify which labels are most common and can inform filtering decisions."
   ]
  },
  {
   "cell_type": "code",
   "execution_count": 6,
   "id": "968b1a93",
   "metadata": {},
   "outputs": [
    {
     "name": "stdout",
     "output_type": "stream",
     "text": [
      "INFO: Log level set to: INFO\n",
      "INFO: Starting label count process for directory: /home/adrian/school/KNN/CLIP/jsons\n",
      "INFO: Scanning for JSON files in: /home/adrian/school/KNN/CLIP/jsons\n",
      "INFO: Found 5548 JSON files to process.\n"
     ]
    },
    {
     "data": {
      "application/vnd.jupyter.widget-view+json": {
       "model_id": "80bdfda5b79141f48bc06c180c3e7096",
       "version_major": 2,
       "version_minor": 0
      },
      "text/plain": [
       "Analyzing JSONs:   0%|          | 0/5548 [00:00<?, ?file/s]"
      ]
     },
     "metadata": {},
     "output_type": "display_data"
    },
    {
     "data": {
      "text/markdown": [
       "## Rectangle Label Counts"
      ],
      "text/plain": [
       "<IPython.core.display.Markdown object>"
      ]
     },
     "metadata": {},
     "output_type": "display_data"
    },
    {
     "data": {
      "application/vnd.microsoft.datawrangler.viewer.v0+json": {
       "columns": [
        {
         "name": "index",
         "rawType": "int64",
         "type": "integer"
        },
        {
         "name": "Label",
         "rawType": "object",
         "type": "string"
        },
        {
         "name": "Count",
         "rawType": "int64",
         "type": "integer"
        }
       ],
       "conversionMethod": "pd.DataFrame",
       "ref": "9fc97a32-d84f-47ea-b956-7216cb33930b",
       "rows": [
        [
         "2",
         "Obrázek",
         "7716"
        ],
        [
         "1",
         "Popis u obrázku",
         "4996"
        ],
        [
         "5",
         "Reklama",
         "2785"
        ],
        [
         "3",
         "Popis v textu",
         "2466"
        ],
        [
         "0",
         "Fotografie",
         "2090"
        ],
        [
         "9",
         "Ostatní knižní dekor",
         "1259"
        ],
        [
         "6",
         "Tabulka",
         "479"
        ],
        [
         "12",
         "Graf",
         "318"
        ],
        [
         "7",
         "Erb/cejch/logo/symbol",
         "287"
        ],
        [
         "14",
         "Schéma",
         "127"
        ],
        [
         "11",
         "Iniciála",
         "94"
        ],
        [
         "17",
         "Matematická formule",
         "92"
        ],
        [
         "10",
         "Ozdobný nápis",
         "87"
        ],
        [
         "19",
         "Razítko",
         "59"
        ],
        [
         "4",
         "Mapa",
         "56"
        ],
        [
         "13",
         "Půdorys",
         "42"
        ],
        [
         "20",
         "Ostatní výkresy",
         "39"
        ],
        [
         "16",
         "Geometrické výkresy",
         "38"
        ],
        [
         "8",
         "Rukopisné vpisky",
         "29"
        ],
        [
         "15",
         "Kreslený humor/karikatura/komiks",
         "28"
        ],
        [
         "21",
         "Viněta",
         "4"
        ],
        [
         "23",
         "Signet",
         "3"
        ],
        [
         "18",
         "Vlys",
         "1"
        ],
        [
         "22",
         "QR a čárový kód",
         "1"
        ]
       ],
       "shape": {
        "columns": 2,
        "rows": 24
       }
      },
      "text/html": [
       "<div>\n",
       "<style scoped>\n",
       "    .dataframe tbody tr th:only-of-type {\n",
       "        vertical-align: middle;\n",
       "    }\n",
       "\n",
       "    .dataframe tbody tr th {\n",
       "        vertical-align: top;\n",
       "    }\n",
       "\n",
       "    .dataframe thead th {\n",
       "        text-align: right;\n",
       "    }\n",
       "</style>\n",
       "<table border=\"1\" class=\"dataframe\">\n",
       "  <thead>\n",
       "    <tr style=\"text-align: right;\">\n",
       "      <th></th>\n",
       "      <th>Label</th>\n",
       "      <th>Count</th>\n",
       "    </tr>\n",
       "  </thead>\n",
       "  <tbody>\n",
       "    <tr>\n",
       "      <th>2</th>\n",
       "      <td>Obrázek</td>\n",
       "      <td>7716</td>\n",
       "    </tr>\n",
       "    <tr>\n",
       "      <th>1</th>\n",
       "      <td>Popis u obrázku</td>\n",
       "      <td>4996</td>\n",
       "    </tr>\n",
       "    <tr>\n",
       "      <th>5</th>\n",
       "      <td>Reklama</td>\n",
       "      <td>2785</td>\n",
       "    </tr>\n",
       "    <tr>\n",
       "      <th>3</th>\n",
       "      <td>Popis v textu</td>\n",
       "      <td>2466</td>\n",
       "    </tr>\n",
       "    <tr>\n",
       "      <th>0</th>\n",
       "      <td>Fotografie</td>\n",
       "      <td>2090</td>\n",
       "    </tr>\n",
       "    <tr>\n",
       "      <th>9</th>\n",
       "      <td>Ostatní knižní dekor</td>\n",
       "      <td>1259</td>\n",
       "    </tr>\n",
       "    <tr>\n",
       "      <th>6</th>\n",
       "      <td>Tabulka</td>\n",
       "      <td>479</td>\n",
       "    </tr>\n",
       "    <tr>\n",
       "      <th>12</th>\n",
       "      <td>Graf</td>\n",
       "      <td>318</td>\n",
       "    </tr>\n",
       "    <tr>\n",
       "      <th>7</th>\n",
       "      <td>Erb/cejch/logo/symbol</td>\n",
       "      <td>287</td>\n",
       "    </tr>\n",
       "    <tr>\n",
       "      <th>14</th>\n",
       "      <td>Schéma</td>\n",
       "      <td>127</td>\n",
       "    </tr>\n",
       "    <tr>\n",
       "      <th>11</th>\n",
       "      <td>Iniciála</td>\n",
       "      <td>94</td>\n",
       "    </tr>\n",
       "    <tr>\n",
       "      <th>17</th>\n",
       "      <td>Matematická formule</td>\n",
       "      <td>92</td>\n",
       "    </tr>\n",
       "    <tr>\n",
       "      <th>10</th>\n",
       "      <td>Ozdobný nápis</td>\n",
       "      <td>87</td>\n",
       "    </tr>\n",
       "    <tr>\n",
       "      <th>19</th>\n",
       "      <td>Razítko</td>\n",
       "      <td>59</td>\n",
       "    </tr>\n",
       "    <tr>\n",
       "      <th>4</th>\n",
       "      <td>Mapa</td>\n",
       "      <td>56</td>\n",
       "    </tr>\n",
       "    <tr>\n",
       "      <th>13</th>\n",
       "      <td>Půdorys</td>\n",
       "      <td>42</td>\n",
       "    </tr>\n",
       "    <tr>\n",
       "      <th>20</th>\n",
       "      <td>Ostatní výkresy</td>\n",
       "      <td>39</td>\n",
       "    </tr>\n",
       "    <tr>\n",
       "      <th>16</th>\n",
       "      <td>Geometrické výkresy</td>\n",
       "      <td>38</td>\n",
       "    </tr>\n",
       "    <tr>\n",
       "      <th>8</th>\n",
       "      <td>Rukopisné vpisky</td>\n",
       "      <td>29</td>\n",
       "    </tr>\n",
       "    <tr>\n",
       "      <th>15</th>\n",
       "      <td>Kreslený humor/karikatura/komiks</td>\n",
       "      <td>28</td>\n",
       "    </tr>\n",
       "    <tr>\n",
       "      <th>21</th>\n",
       "      <td>Viněta</td>\n",
       "      <td>4</td>\n",
       "    </tr>\n",
       "    <tr>\n",
       "      <th>23</th>\n",
       "      <td>Signet</td>\n",
       "      <td>3</td>\n",
       "    </tr>\n",
       "    <tr>\n",
       "      <th>18</th>\n",
       "      <td>Vlys</td>\n",
       "      <td>1</td>\n",
       "    </tr>\n",
       "    <tr>\n",
       "      <th>22</th>\n",
       "      <td>QR a čárový kód</td>\n",
       "      <td>1</td>\n",
       "    </tr>\n",
       "  </tbody>\n",
       "</table>\n",
       "</div>"
      ],
      "text/plain": [
       "                               Label  Count\n",
       "2                            Obrázek   7716\n",
       "1                    Popis u obrázku   4996\n",
       "5                            Reklama   2785\n",
       "3                      Popis v textu   2466\n",
       "0                         Fotografie   2090\n",
       "9               Ostatní knižní dekor   1259\n",
       "6                            Tabulka    479\n",
       "12                              Graf    318\n",
       "7              Erb/cejch/logo/symbol    287\n",
       "14                            Schéma    127\n",
       "11                          Iniciála     94\n",
       "17               Matematická formule     92\n",
       "10                     Ozdobný nápis     87\n",
       "19                           Razítko     59\n",
       "4                               Mapa     56\n",
       "13                           Půdorys     42\n",
       "20                   Ostatní výkresy     39\n",
       "16               Geometrické výkresy     38\n",
       "8                   Rukopisné vpisky     29\n",
       "15  Kreslený humor/karikatura/komiks     28\n",
       "21                            Viněta      4\n",
       "23                            Signet      3\n",
       "18                              Vlys      1\n",
       "22                   QR a čárový kód      1"
      ]
     },
     "metadata": {},
     "output_type": "display_data"
    },
    {
     "data": {
      "text/markdown": [
       "\n",
       "## Summary Statistics\n",
       "- Total files processed: 5548\n",
       "- Files with rectangle labels: 5489\n",
       "- Files without rectangle labels: 59\n",
       "- Files with errors: 0\n",
       "- Total label instances: 23096\n",
       "- Unique labels found: 24\n"
      ],
      "text/plain": [
       "<IPython.core.display.Markdown object>"
      ]
     },
     "metadata": {},
     "output_type": "display_data"
    }
   ],
   "source": [
    "# Import the module\n",
    "import count_json\n",
    "from IPython.display import display, Markdown\n",
    "import pandas as pd\n",
    "\n",
    "# Setup logging for notebook environment\n",
    "count_json.setup_logging(debug_mode=DEBUG, use_notebook=True)\n",
    "\n",
    "# Run the count_labels function with default directory\n",
    "result = count_json.run_count_labels(print_table=False)  # Don't print tables in notebook\n",
    "\n",
    "# Display results as a DataFrame\n",
    "label_df = pd.DataFrame(\n",
    "    list(result[\"label_counts\"].items()), \n",
    "    columns=[\"Label\", \"Count\"]\n",
    ").sort_values(\"Count\", ascending=False)\n",
    "\n",
    "display(Markdown(\"## Rectangle Label Counts\"))\n",
    "display(label_df)\n",
    "\n",
    "# Show summary stats\n",
    "display(Markdown(f\"\"\"\n",
    "## Summary Statistics\n",
    "- Total files processed: {result[\"total_files\"]}\n",
    "- Files with rectangle labels: {result[\"processed_files\"] - result[\"no_labels_files\"]}\n",
    "- Files without rectangle labels: {result[\"no_labels_files\"]}\n",
    "- Files with errors: {result[\"error_files\"]}\n",
    "- Total label instances: {result[\"total_labels\"]}\n",
    "- Unique labels found: {result[\"unique_labels\"]}\n",
    "\"\"\"))"
   ]
  },
  {
   "cell_type": "markdown",
   "id": "8f123dde",
   "metadata": {},
   "source": [
    "Filters JSON, image, and XML files to keep only those with the target label:\n",
    "\n",
    "- Identifies all JSONs containing the label \"Obrázek\" (Picture)\n",
    "- Copies matching JSONs to the filtered_jsons directory\n",
    "- Copies corresponding images to the filtered_images directory\n",
    "- Copies corresponding XML files to the filtered_texts directory\n",
    "- Features multiple progress bars with the improved tqdm implementation\n",
    "- Updates the directory dictionary with new filtered paths\n",
    "\n",
    "This filtering step ensures we focus only on tasks with images/illustrations."
   ]
  },
  {
   "cell_type": "code",
   "execution_count": 7,
   "id": "7c1dd605",
   "metadata": {},
   "outputs": [
    {
     "name": "stdout",
     "output_type": "stream",
     "text": [
      "INFO: Log level set to: INFO\n",
      "INFO: Starting filter and sync process for label: 'Obrázek'\n",
      "INFO: JSON source directory: splitted_jsons\n",
      "INFO: Images source directory: downloaded_images\n",
      "INFO: Texts source directory: texts\n",
      "INFO: Output directory: filtered_jsons\n",
      "INFO: Scanning 5548 JSON files for label: 'Obrázek'\n"
     ]
    },
    {
     "data": {
      "application/vnd.jupyter.widget-view+json": {
       "model_id": "b3ca07e0efa247fbba1ebf22c8f539e4",
       "version_major": 2,
       "version_minor": 0
      },
      "text/plain": [
       "Filtering JSONs for 'Obrázek':   0%|          | 0/5548 [00:00<?, ?file/s]"
      ]
     },
     "metadata": {},
     "output_type": "display_data"
    },
    {
     "name": "stdout",
     "output_type": "stream",
     "text": [
      "INFO: Filtering complete: 3949 files with 'Obrázek', 1599 files without\n",
      "INFO: Syncing files with 3949 UUIDs\n",
      "INFO: Output directory: filtered_images\n",
      "INFO: Processing 5548 jpg/jpeg/png/gif/bmp/tif/tiff files\n"
     ]
    },
    {
     "data": {
      "application/vnd.jupyter.widget-view+json": {
       "model_id": "4667d112ce6f40bf856ccf018e891aa3",
       "version_major": 2,
       "version_minor": 0
      },
      "text/plain": [
       "Syncing jpg/jpeg/png/gif/bmp/tif/tiff:   0%|          | 0/5548 [00:00<?, ?file/s]"
      ]
     },
     "metadata": {},
     "output_type": "display_data"
    },
    {
     "name": "stdout",
     "output_type": "stream",
     "text": [
      "INFO: Sync complete: Copied 3949 files, Skipped 1599 files\n",
      "INFO: Syncing files with 3949 UUIDs\n",
      "INFO: Output directory: filtered_texts\n",
      "INFO: Processing 5765 xml/txt files\n"
     ]
    },
    {
     "data": {
      "application/vnd.jupyter.widget-view+json": {
       "model_id": "de38ad289b014bcca1d89f54d1faf10b",
       "version_major": 2,
       "version_minor": 0
      },
      "text/plain": [
       "Syncing xml/txt:   0%|          | 0/5765 [00:00<?, ?file/s]"
      ]
     },
     "metadata": {},
     "output_type": "display_data"
    },
    {
     "name": "stdout",
     "output_type": "stream",
     "text": [
      "INFO: Sync complete: Copied 3949 files, Skipped 1816 files\n"
     ]
    },
    {
     "data": {
      "text/markdown": [
       "\n",
       "## Filter Results for Label: 'Obrázek'\n",
       "\n",
       "### JSON Files:\n",
       "- With label: 3949\n",
       "- Without label: 1599\n",
       "- **Total processed: 5548**\n",
       "\n",
       "### Image Files:\n",
       "- Matching filtered JSONs: 3949\n",
       "- Not matching: 1599\n",
       "- **Total processed: 5548**\n",
       "\n",
       "### Text Files (XML):\n",
       "- Matching filtered JSONs: 3949\n",
       "- Not matching: 1816\n",
       "- **Total processed: 5765**\n",
       "\n",
       "### Final Dataset:\n",
       "- Total matching triplets (JSON+image+XML): 3949\n",
       "- Files were copied to filtered directories\n"
      ],
      "text/plain": [
       "<IPython.core.display.Markdown object>"
      ]
     },
     "metadata": {},
     "output_type": "display_data"
    }
   ],
   "source": [
    "# Import the enhanced filtering module\n",
    "import filter_by_label\n",
    "from IPython.display import display, Markdown\n",
    "from tqdm.notebook import tqdm  # Import tqdm for notebooks\n",
    "\n",
    "# Setup logging for notebook environment\n",
    "filter_by_label.setup_logging(debug_mode=DEBUG, use_notebook=True)\n",
    "\n",
    "# Run the filter process with our directory structure for all three file types\n",
    "result = filter_by_label.run_filter_by_label(\n",
    "    jsons_dir=DIRS[\"jsons_dir\"],                # Source JSONs  \n",
    "    images_dir=DIRS[\"images_dir\"],              # Source images\n",
    "    texts_dir=DIRS[\"texts_dir\"],                # Source XML texts\n",
    "    filtered_jsons_dir=\"filtered_jsons\",        # Output filtered JSONs\n",
    "    filtered_images_dir=\"filtered_images\",      # Output filtered images\n",
    "    filtered_texts_dir=\"filtered_texts\",        # Output filtered XMLs\n",
    "    label=\"Obrázek\",                           # Filter by this label\n",
    "    copy_files=True,                            # Copy instead of move\n",
    "    case_sensitive=False                       # Case-insensitive matching\n",
    ")\n",
    "# Display results as markdown\n",
    "display(Markdown(f\"\"\"\n",
    "## Filter Results for Label: '{result[\"label_filtered\"]}'\n",
    "\n",
    "### JSON Files:\n",
    "- With label: {result[\"json_matches\"]}\n",
    "- Without label: {result[\"json_non_matches\"]}\n",
    "- **Total processed: {result[\"json_matches\"] + result[\"json_non_matches\"]}**\n",
    "\n",
    "### Image Files:\n",
    "- Matching filtered JSONs: {result[\"image_matches\"]}\n",
    "- Not matching: {result[\"image_non_matches\"]}\n",
    "- **Total processed: {result[\"image_matches\"] + result[\"image_non_matches\"]}**\n",
    "\n",
    "### Text Files (XML):\n",
    "- Matching filtered JSONs: {result[\"text_matches\"]}\n",
    "- Not matching: {result[\"text_non_matches\"]}\n",
    "- **Total processed: {result[\"text_matches\"] + result[\"text_non_matches\"]}**\n",
    "\n",
    "### Final Dataset:\n",
    "- Total matching triplets (JSON+image+XML): {result[\"total_matching_pairs\"]}\n",
    "- Files were {result[\"file_operation\"].lower()} to filtered directories\n",
    "\"\"\"))\n",
    "\n",
    "# Update our directories dictionary with the filtered directories\n",
    "DIRS[\"filtered_jsons_dir\"] = \"filtered_jsons\"\n",
    "DIRS[\"filtered_images_dir\"] = \"filtered_images\"\n",
    "DIRS[\"filtered_texts_dir\"] = \"filtered_texts\""
   ]
  },
  {
   "cell_type": "markdown",
   "id": "17bb6505",
   "metadata": {},
   "source": [
    "Processes the filtered images to crop them to their annotated regions:\n",
    "\n",
    "- For each JSON file, finds rectangles with the \"Obrázek\" label\n",
    "- Extracts the coordinates of these rectangles\n",
    "- Crops the corresponding image to these boundaries\n",
    "- Saves the cropped images to a new directory\n",
    "- Uses the enhanced progress bar with tqdm.notebook\n",
    "- Updates the directory dictionary with the cropped images path\n",
    "\n",
    "Cropping lets us focus only on the annotated image content and removes unnecessary background."
   ]
  },
  {
   "cell_type": "code",
   "execution_count": 8,
   "id": "69823a1f",
   "metadata": {},
   "outputs": [
    {
     "name": "stdout",
     "output_type": "stream",
     "text": [
      "INFO: Log level set to: INFO\n",
      "INFO: Starting image cropping process\n",
      "INFO: Input JSON directory: /home/adrian/school/KNN/CLIP/filtered_jsons\n"
     ]
    },
    {
     "name": "stdout",
     "output_type": "stream",
     "text": [
      "INFO: Input Image directory: /home/adrian/school/KNN/CLIP/filtered_images\n",
      "INFO: Output directory for crops: /home/adrian/school/KNN/CLIP/cropped_images\n",
      "INFO: Target label for cropping: 'Obrázek'\n",
      "INFO: Ensured output directory exists: /home/adrian/school/KNN/CLIP/cropped_images\n",
      "INFO: Found 3949 JSON files to process\n"
     ]
    },
    {
     "data": {
      "application/vnd.jupyter.widget-view+json": {
       "model_id": "12ba1c1c7aa64a2aa6c09f756051fcec",
       "version_major": 2,
       "version_minor": 0
      },
      "text/plain": [
       "Cropping images:   0%|          | 0/3949 [00:00<?, ?file/s]"
      ]
     },
     "metadata": {},
     "output_type": "display_data"
    },
    {
     "name": "stdout",
     "output_type": "stream",
     "text": [
      "WARNING: Could not find image file for UUID 'CB05D8B0-8E41-11DE-9080-0030487BE43A' in directory '/home/adrian/school/KNN/CLIP/filtered_images' with extensions ['.jpg', '.jpeg', '.png', '.bmp', '.gif', '.tiff']\n",
      "ERROR: Skipping JSON: Could not find matching image for UUID 'CB05D8B0-8E41-11DE-9080-0030487BE43A' in '/home/adrian/school/KNN/CLIP/filtered_images' mentioned in /home/adrian/school/KNN/CLIP/filtered_jsons/CB05D8B0-8E41-11DE-9080-0030487BE43A.json\n",
      "WARNING: Could not find image file for UUID 'D14F8090-1222-11DE-AF19-0030487BE43A' in directory '/home/adrian/school/KNN/CLIP/filtered_images' with extensions ['.jpg', '.jpeg', '.png', '.bmp', '.gif', '.tiff']\n",
      "ERROR: Skipping JSON: Could not find matching image for UUID 'D14F8090-1222-11DE-AF19-0030487BE43A' in '/home/adrian/school/KNN/CLIP/filtered_images' mentioned in /home/adrian/school/KNN/CLIP/filtered_jsons/D14F8090-1222-11DE-AF19-0030487BE43A.json\n",
      "WARNING: Could not find image file for UUID 'E50A16C0-F2BC-11DD-B7D3-0030487BE43A' in directory '/home/adrian/school/KNN/CLIP/filtered_images' with extensions ['.jpg', '.jpeg', '.png', '.bmp', '.gif', '.tiff']\n",
      "ERROR: Skipping JSON: Could not find matching image for UUID 'E50A16C0-F2BC-11DD-B7D3-0030487BE43A' in '/home/adrian/school/KNN/CLIP/filtered_images' mentioned in /home/adrian/school/KNN/CLIP/filtered_jsons/E50A16C0-F2BC-11DD-B7D3-0030487BE43A.json\n",
      "WARNING: Could not find image file for UUID 'C5025230-07F1-11DE-94C9-0030487BE43A' in directory '/home/adrian/school/KNN/CLIP/filtered_images' with extensions ['.jpg', '.jpeg', '.png', '.bmp', '.gif', '.tiff']\n",
      "ERROR: Skipping JSON: Could not find matching image for UUID 'C5025230-07F1-11DE-94C9-0030487BE43A' in '/home/adrian/school/KNN/CLIP/filtered_images' mentioned in /home/adrian/school/KNN/CLIP/filtered_jsons/C5025230-07F1-11DE-94C9-0030487BE43A.json\n",
      "WARNING: Could not find image file for UUID '2F589EB0-04CC-11DE-A21E-0030487BE43A' in directory '/home/adrian/school/KNN/CLIP/filtered_images' with extensions ['.jpg', '.jpeg', '.png', '.bmp', '.gif', '.tiff']\n",
      "ERROR: Skipping JSON: Could not find matching image for UUID '2F589EB0-04CC-11DE-A21E-0030487BE43A' in '/home/adrian/school/KNN/CLIP/filtered_images' mentioned in /home/adrian/school/KNN/CLIP/filtered_jsons/2F589EB0-04CC-11DE-A21E-0030487BE43A.json\n",
      "WARNING: Could not find image file for UUID '96150BC0-B7DD-11DD-9E41-0030487BE43A' in directory '/home/adrian/school/KNN/CLIP/filtered_images' with extensions ['.jpg', '.jpeg', '.png', '.bmp', '.gif', '.tiff']\n",
      "ERROR: Skipping JSON: Could not find matching image for UUID '96150BC0-B7DD-11DD-9E41-0030487BE43A' in '/home/adrian/school/KNN/CLIP/filtered_images' mentioned in /home/adrian/school/KNN/CLIP/filtered_jsons/96150BC0-B7DD-11DD-9E41-0030487BE43A.json\n",
      "WARNING: Could not find image file for UUID '656EFB60-0351-11DE-9406-0030487BE43A' in directory '/home/adrian/school/KNN/CLIP/filtered_images' with extensions ['.jpg', '.jpeg', '.png', '.bmp', '.gif', '.tiff']\n",
      "ERROR: Skipping JSON: Could not find matching image for UUID '656EFB60-0351-11DE-9406-0030487BE43A' in '/home/adrian/school/KNN/CLIP/filtered_images' mentioned in /home/adrian/school/KNN/CLIP/filtered_jsons/656EFB60-0351-11DE-9406-0030487BE43A.json\n",
      "INFO: Processing completed in: 459.67 seconds\n",
      "INFO: Total JSON files found: 3949\n",
      "INFO: JSON files processed: 3949\n",
      "INFO: JSON files with processing errors: 0\n",
      "INFO: Total 'Obrázek' crops created: 7709\n"
     ]
    },
    {
     "data": {
      "text/markdown": [
       "\n",
       "    ## Image Cropping Results\n",
       "    \n",
       "    - **Processed Files:** 3949 of 3949 JSON files\n",
       "    - **Files with Errors:** 0\n",
       "    - **Crops Created:** 7709 images\n",
       "    - **Label Used:** \"Obrázek\"\n",
       "    - **Processing Time:** 459.67 seconds\n",
       "    \n",
       "    All cropped images were saved to `/home/adrian/school/KNN/CLIP/cropped_images`\n",
       "    "
      ],
      "text/plain": [
       "<IPython.core.display.Markdown object>"
      ]
     },
     "metadata": {},
     "output_type": "display_data"
    }
   ],
   "source": [
    "# Import the image cropping module\n",
    "import trim_images\n",
    "from IPython.display import display, Markdown\n",
    "\n",
    "# Setup logging for notebook environment\n",
    "trim_images.setup_logging(debug_mode=DEBUG, use_notebook=True)\n",
    "\n",
    "# Run the cropping process with our directory structure\n",
    "result = trim_images.run_crop_images(\n",
    "    jsons_dir=DIRS[\"filtered_jsons_dir\"],      # Use the filtered JSONs\n",
    "    images_dir=DIRS[\"filtered_images_dir\"],    # Use the filtered images \n",
    "    output_dir=\"cropped_images\",               # Where cropped images will go\n",
    "    target_label=\"Obrázek\",                    # Label to look for\n",
    "    show_progress=True                         # Show progress updates\n",
    ")\n",
    "\n",
    "# Display results as markdown\n",
    "if \"error\" in result:\n",
    "    display(Markdown(f\"## ❌ Error\\n{result['error']}\"))\n",
    "else:\n",
    "    display(Markdown(f\"\"\"\n",
    "    ## Image Cropping Results\n",
    "    \n",
    "    - **Processed Files:** {result['files_processed']} of {result['total_files_found']} JSON files\n",
    "    - **Files with Errors:** {result['files_with_errors']}\n",
    "    - **Crops Created:** {result['crops_created']} images\n",
    "    - **Label Used:** \"{result['target_label']}\"\n",
    "    - **Processing Time:** {result['elapsed_time']:.2f} seconds\n",
    "    \n",
    "    All cropped images were saved to `{result['output_dir']}`\n",
    "    \"\"\"))\n",
    "\n",
    "# Update our directories dictionary with the cropped images directory\n",
    "DIRS[\"cropped_images_dir\"] = \"cropped_images\""
   ]
  },
  {
   "cell_type": "markdown",
   "id": "c699eaf7",
   "metadata": {},
   "source": [
    "Analyzes the filtered JSONs to identify images that have text descriptions:\n",
    "\n",
    "- Looks for files with the \"Popis v textu\" (Text Description) label\n",
    "- Also checks for co-occurrence of \"Obrázek\" and \"Popis v textu\" labels\n",
    "- Provides detailed statistics about label distribution\n",
    "- Shows a sample of files that contain text descriptions\n",
    "- Uses the enhanced progress tracking with tqdm.notebook\n",
    "\n",
    "This information helps us understand how many images have associated text descriptions."
   ]
  },
  {
   "cell_type": "code",
   "execution_count": 9,
   "id": "dc58ab18",
   "metadata": {},
   "outputs": [
    {
     "name": "stdout",
     "output_type": "stream",
     "text": [
      "INFO: Log level set to: INFO\n",
      "INFO: Starting analysis for directory: /home/adrian/school/KNN/CLIP/filtered_jsons\n",
      "INFO: Additionally checking for co-occurrence of labels: 'Obrázek' AND 'Popis v textu'\n",
      "INFO: Scanning for JSON files in: /home/adrian/school/KNN/CLIP/filtered_jsons\n",
      "INFO: Found 3949 JSON files to process.\n"
     ]
    },
    {
     "data": {
      "application/vnd.jupyter.widget-view+json": {
       "model_id": "1c2e94f1abcf418c83f26d3b1e8af60d",
       "version_major": 2,
       "version_minor": 0
      },
      "text/plain": [
       "Analyzing JSON files:   0%|          | 0/3949 [00:00<?, ?file/s]"
      ]
     },
     "metadata": {},
     "output_type": "display_data"
    },
    {
     "name": "stdout",
     "output_type": "stream",
     "text": [
      "INFO: List of files with 'Popis v textu' label written to: /home/adrian/school/KNN/CLIP/popis_v_textu_files.txt\n"
     ]
    },
    {
     "data": {
      "text/markdown": [
       "## Rectangle Label Counts"
      ],
      "text/plain": [
       "<IPython.core.display.Markdown object>"
      ]
     },
     "metadata": {},
     "output_type": "display_data"
    },
    {
     "data": {
      "application/vnd.microsoft.datawrangler.viewer.v0+json": {
       "columns": [
        {
         "name": "index",
         "rawType": "int64",
         "type": "integer"
        },
        {
         "name": "Label",
         "rawType": "object",
         "type": "string"
        },
        {
         "name": "Count",
         "rawType": "int64",
         "type": "integer"
        }
       ],
       "conversionMethod": "pd.DataFrame",
       "ref": "0f6e760b-a3e2-4e88-8633-ab5109fc5699",
       "rows": [
        [
         "0",
         "Obrázek",
         "7716"
        ],
        [
         "1",
         "Popis u obrázku",
         "2926"
        ],
        [
         "3",
         "Reklama",
         "2631"
        ],
        [
         "2",
         "Popis v textu",
         "1646"
        ],
        [
         "6",
         "Ostatní knižní dekor",
         "1236"
        ],
        [
         "4",
         "Tabulka",
         "414"
        ],
        [
         "9",
         "Fotografie",
         "274"
        ],
        [
         "5",
         "Erb/cejch/logo/symbol",
         "273"
        ],
        [
         "8",
         "Iniciála",
         "91"
        ],
        [
         "7",
         "Ozdobný nápis",
         "75"
        ],
        [
         "13",
         "Razítko",
         "36"
        ],
        [
         "20",
         "Matematická formule",
         "26"
        ],
        [
         "17",
         "Rukopisné vpisky",
         "26"
        ],
        [
         "12",
         "Schéma",
         "24"
        ],
        [
         "14",
         "Graf",
         "22"
        ],
        [
         "18",
         "Ostatní výkresy",
         "17"
        ],
        [
         "11",
         "Mapa",
         "14"
        ],
        [
         "16",
         "Půdorys",
         "14"
        ],
        [
         "21",
         "Kreslený humor/karikatura/komiks",
         "9"
        ],
        [
         "15",
         "Geometrické výkresy",
         "7"
        ],
        [
         "19",
         "Viněta",
         "3"
        ],
        [
         "10",
         "Vlys",
         "1"
        ],
        [
         "22",
         "QR a čárový kód",
         "1"
        ]
       ],
       "shape": {
        "columns": 2,
        "rows": 23
       }
      },
      "text/html": [
       "<div>\n",
       "<style scoped>\n",
       "    .dataframe tbody tr th:only-of-type {\n",
       "        vertical-align: middle;\n",
       "    }\n",
       "\n",
       "    .dataframe tbody tr th {\n",
       "        vertical-align: top;\n",
       "    }\n",
       "\n",
       "    .dataframe thead th {\n",
       "        text-align: right;\n",
       "    }\n",
       "</style>\n",
       "<table border=\"1\" class=\"dataframe\">\n",
       "  <thead>\n",
       "    <tr style=\"text-align: right;\">\n",
       "      <th></th>\n",
       "      <th>Label</th>\n",
       "      <th>Count</th>\n",
       "    </tr>\n",
       "  </thead>\n",
       "  <tbody>\n",
       "    <tr>\n",
       "      <th>0</th>\n",
       "      <td>Obrázek</td>\n",
       "      <td>7716</td>\n",
       "    </tr>\n",
       "    <tr>\n",
       "      <th>1</th>\n",
       "      <td>Popis u obrázku</td>\n",
       "      <td>2926</td>\n",
       "    </tr>\n",
       "    <tr>\n",
       "      <th>3</th>\n",
       "      <td>Reklama</td>\n",
       "      <td>2631</td>\n",
       "    </tr>\n",
       "    <tr>\n",
       "      <th>2</th>\n",
       "      <td>Popis v textu</td>\n",
       "      <td>1646</td>\n",
       "    </tr>\n",
       "    <tr>\n",
       "      <th>6</th>\n",
       "      <td>Ostatní knižní dekor</td>\n",
       "      <td>1236</td>\n",
       "    </tr>\n",
       "    <tr>\n",
       "      <th>4</th>\n",
       "      <td>Tabulka</td>\n",
       "      <td>414</td>\n",
       "    </tr>\n",
       "    <tr>\n",
       "      <th>9</th>\n",
       "      <td>Fotografie</td>\n",
       "      <td>274</td>\n",
       "    </tr>\n",
       "    <tr>\n",
       "      <th>5</th>\n",
       "      <td>Erb/cejch/logo/symbol</td>\n",
       "      <td>273</td>\n",
       "    </tr>\n",
       "    <tr>\n",
       "      <th>8</th>\n",
       "      <td>Iniciála</td>\n",
       "      <td>91</td>\n",
       "    </tr>\n",
       "    <tr>\n",
       "      <th>7</th>\n",
       "      <td>Ozdobný nápis</td>\n",
       "      <td>75</td>\n",
       "    </tr>\n",
       "    <tr>\n",
       "      <th>13</th>\n",
       "      <td>Razítko</td>\n",
       "      <td>36</td>\n",
       "    </tr>\n",
       "    <tr>\n",
       "      <th>20</th>\n",
       "      <td>Matematická formule</td>\n",
       "      <td>26</td>\n",
       "    </tr>\n",
       "    <tr>\n",
       "      <th>17</th>\n",
       "      <td>Rukopisné vpisky</td>\n",
       "      <td>26</td>\n",
       "    </tr>\n",
       "    <tr>\n",
       "      <th>12</th>\n",
       "      <td>Schéma</td>\n",
       "      <td>24</td>\n",
       "    </tr>\n",
       "    <tr>\n",
       "      <th>14</th>\n",
       "      <td>Graf</td>\n",
       "      <td>22</td>\n",
       "    </tr>\n",
       "    <tr>\n",
       "      <th>18</th>\n",
       "      <td>Ostatní výkresy</td>\n",
       "      <td>17</td>\n",
       "    </tr>\n",
       "    <tr>\n",
       "      <th>11</th>\n",
       "      <td>Mapa</td>\n",
       "      <td>14</td>\n",
       "    </tr>\n",
       "    <tr>\n",
       "      <th>16</th>\n",
       "      <td>Půdorys</td>\n",
       "      <td>14</td>\n",
       "    </tr>\n",
       "    <tr>\n",
       "      <th>21</th>\n",
       "      <td>Kreslený humor/karikatura/komiks</td>\n",
       "      <td>9</td>\n",
       "    </tr>\n",
       "    <tr>\n",
       "      <th>15</th>\n",
       "      <td>Geometrické výkresy</td>\n",
       "      <td>7</td>\n",
       "    </tr>\n",
       "    <tr>\n",
       "      <th>19</th>\n",
       "      <td>Viněta</td>\n",
       "      <td>3</td>\n",
       "    </tr>\n",
       "    <tr>\n",
       "      <th>10</th>\n",
       "      <td>Vlys</td>\n",
       "      <td>1</td>\n",
       "    </tr>\n",
       "    <tr>\n",
       "      <th>22</th>\n",
       "      <td>QR a čárový kód</td>\n",
       "      <td>1</td>\n",
       "    </tr>\n",
       "  </tbody>\n",
       "</table>\n",
       "</div>"
      ],
      "text/plain": [
       "                               Label  Count\n",
       "0                            Obrázek   7716\n",
       "1                    Popis u obrázku   2926\n",
       "3                            Reklama   2631\n",
       "2                      Popis v textu   1646\n",
       "6               Ostatní knižní dekor   1236\n",
       "4                            Tabulka    414\n",
       "9                         Fotografie    274\n",
       "5              Erb/cejch/logo/symbol    273\n",
       "8                           Iniciála     91\n",
       "7                      Ozdobný nápis     75\n",
       "13                           Razítko     36\n",
       "20               Matematická formule     26\n",
       "17                  Rukopisné vpisky     26\n",
       "12                            Schéma     24\n",
       "14                              Graf     22\n",
       "18                   Ostatní výkresy     17\n",
       "11                              Mapa     14\n",
       "16                           Půdorys     14\n",
       "21  Kreslený humor/karikatura/komiks      9\n",
       "15               Geometrické výkresy      7\n",
       "19                            Viněta      3\n",
       "10                              Vlys      1\n",
       "22                   QR a čárový kód      1"
      ]
     },
     "metadata": {},
     "output_type": "display_data"
    },
    {
     "data": {
      "text/markdown": [
       "\n",
       "## Description Analysis Results\n",
       "- Total files processed: 3949\n",
       "- Files with rectangle labels: 3949\n",
       "- Files without rectangle labels: 0\n",
       "- Files with errors: 0\n",
       "- **Files with \"Popis v textu\" label: 858**\n",
       "- Total label instances: 17482\n",
       "- Unique labels found: 23\n"
      ],
      "text/plain": [
       "<IPython.core.display.Markdown object>"
      ]
     },
     "metadata": {},
     "output_type": "display_data"
    },
    {
     "data": {
      "text/markdown": [
       "\n",
       "    ## Label Co-occurrence\n",
       "    Files containing BOTH \"Obrázek\" AND \"Popis v textu\": **858**\n",
       "    "
      ],
      "text/plain": [
       "<IPython.core.display.Markdown object>"
      ]
     },
     "metadata": {},
     "output_type": "display_data"
    },
    {
     "data": {
      "text/markdown": [
       "\n",
       "    ## Files with Descriptions\n",
       "    Sample of files containing \"Popis v textu\" label (858 total):\n",
       "    - 9fc3f6dd-ca34-407c-9455-44aa098fa163.json\n",
       "- f0fd55b4-226f-11ea-acbe-001999480be2.json\n",
       "- 2c8ddb80-ab5b-11eb-81e5-005056825209.json\n",
       "- 560c97c0-5625-11e1-6101-001143e3f55c.json\n",
       "- 3af14969-5d26-11e5-830c-001999480be2.json\n",
       "- 771e2287-d176-4d2c-a7ae-faf8855029c6.json\n",
       "- b37803a3-a675-11e6-adc0-d485646517a0.json\n",
       "- d80939e4-80a8-40c2-b71e-28d76031c0ad.json\n",
       "- cb68d5e1-cfb1-40cb-b33a-3dd1c048e3c8.json\n",
       "- 4fac6b3f-f27f-4272-9472-f1f72d906440.json\n",
       "    ...(and more)\n",
       "    "
      ],
      "text/plain": [
       "<IPython.core.display.Markdown object>"
      ]
     },
     "metadata": {},
     "output_type": "display_data"
    }
   ],
   "source": [
    "# Import the description finding module\n",
    "import find_label_description\n",
    "from IPython.display import display, Markdown\n",
    "import pandas as pd\n",
    "\n",
    "# Setup logging for notebook environment\n",
    "find_label_description.setup_logging(debug_mode=DEBUG, use_notebook=True)\n",
    "\n",
    "# Run the analysis function with the filtered JSONs directory\n",
    "result = find_label_description.run_find_descriptions(\n",
    "    jsons_dir=DIRS[\"filtered_jsons_dir\"],\n",
    "    pair_to_check=[\"Obrázek\", \"Popis v textu\"], \n",
    "    print_table=False  # Don't print tables in notebook\n",
    ")\n",
    "\n",
    "# Display label counts as a DataFrame\n",
    "label_df = pd.DataFrame(\n",
    "    list(result[\"label_counts\"].items()), \n",
    "    columns=[\"Label\", \"Count\"]\n",
    ").sort_values(\"Count\", ascending=False)\n",
    "\n",
    "display(Markdown(\"## Rectangle Label Counts\"))\n",
    "display(label_df)\n",
    "\n",
    "# Show summary stats\n",
    "display(Markdown(f\"\"\"\n",
    "## Description Analysis Results\n",
    "- Total files processed: {result[\"total_files\"]}\n",
    "- Files with rectangle labels: {result[\"processed_files\"] - result[\"no_labels_files\"]}\n",
    "- Files without rectangle labels: {result[\"no_labels_files\"]}\n",
    "- Files with errors: {result[\"error_files\"]}\n",
    "- **Files with \"Popis v textu\" label: {result[\"description_count\"]}**\n",
    "- Total label instances: {result[\"total_labels\"]}\n",
    "- Unique labels found: {result[\"unique_labels\"]}\n",
    "\"\"\"))\n",
    "\n",
    "# Show pair co-occurrence if requested\n",
    "if \"pair_checked\" in result:\n",
    "    display(Markdown(f\"\"\"\n",
    "    ## Label Co-occurrence\n",
    "    Files containing BOTH \"{result[\"pair_checked\"][0]}\" AND \"{result[\"pair_checked\"][1]}\": **{result[\"pair_count\"]}**\n",
    "    \"\"\"))\n",
    "\n",
    "# Show sample of files with descriptions\n",
    "if result[\"files_with_description\"]:\n",
    "    sample_files = result[\"files_with_description\"][:10]  # Show first 10\n",
    "    sample_list = \"\\n\".join([f\"- {file}\" for file in sample_files])\n",
    "    \n",
    "    display(Markdown(f\"\"\"\n",
    "    ## Files with Descriptions\n",
    "    Sample of files containing \"Popis v textu\" label ({len(result[\"files_with_description\"])} total):\n",
    "    {sample_list}\n",
    "    {'...(and more)' if len(result[\"files_with_description\"]) > 10 else ''}\n",
    "    \"\"\"))\n",
    "else:\n",
    "    display(Markdown(\"## No files with descriptions were found\"))\n",
    "\n",
    "# Add the description files to our DIRS dictionary\n",
    "DIRS[\"description_files\"] = result[\"files_with_description\"] "
   ]
  },
  {
   "cell_type": "markdown",
   "id": "8d31744f",
   "metadata": {},
   "source": [
    "Removes text regions that are explicitly labeled as picture descriptions:\n",
    "\n",
    "- Matches \"Popis u obrázku\" (Picture Description) regions in JSON files\n",
    "- Identifies the corresponding text regions in XML files using IoU matching\n",
    "- Removes those text regions from the XML files\n",
    "- Creates new filtered XML files without description text\n",
    "- Uses enhanced progress tracking with tqdm.notebook\n",
    "- Updates the directory dictionary with the filtered text path\n",
    "\n",
    "This step ensures CLIP doesn't match images with their existing captions in the text."
   ]
  },
  {
   "cell_type": "code",
   "execution_count": 10,
   "id": "e569e0d2",
   "metadata": {},
   "outputs": [
    {
     "name": "stdout",
     "output_type": "stream",
     "text": [
      "INFO: numba available, importing jit\n",
      "INFO: Log level set to: INFO\n",
      "INFO: Starting picture description filtering process\n",
      "INFO: Found 3949 JSON files and 9497 XML files\n"
     ]
    },
    {
     "data": {
      "application/vnd.jupyter.widget-view+json": {
       "model_id": "2f8ce25d0bc442b4ba9374d69d87321b",
       "version_major": 2,
       "version_minor": 0
      },
      "text/plain": [
       "Filtering descriptions:   0%|          | 0/3949 [00:00<?, ?file/s]"
      ]
     },
     "metadata": {},
     "output_type": "display_data"
    },
    {
     "name": "stdout",
     "output_type": "stream",
     "text": [
      "INFO: Removed 2 matching regions from /home/adrian/school/KNN/CLIP/filtered_texts/9fc3f6dd-ca34-407c-9455-44aa098fa163.xml\n",
      "INFO: Removed 1 matching regions from /home/adrian/school/KNN/CLIP/filtered_texts/8f04042d-2d06-4e1f-bd4f-a8a5abfa95f6.xml\n",
      "INFO: Removed 1 matching regions from /home/adrian/school/KNN/CLIP/filtered_texts/3d2a5068-d0db-4e3c-beab-0a64a523ac25.xml\n",
      "INFO: Removed 1 matching regions from /home/adrian/school/KNN/CLIP/filtered_texts/f0fd55b4-226f-11ea-acbe-001999480be2.xml\n",
      "INFO: Removed 2 matching regions from /home/adrian/school/KNN/CLIP/filtered_texts/2c8ddb80-ab5b-11eb-81e5-005056825209.xml\n",
      "INFO: Removed 3 matching regions from /home/adrian/school/KNN/CLIP/filtered_texts/560c97c0-5625-11e1-6101-001143e3f55c.xml\n",
      "INFO: Removed 2 matching regions from /home/adrian/school/KNN/CLIP/filtered_texts/3af14969-5d26-11e5-830c-001999480be2.xml\n",
      "INFO: Removed 2 matching regions from /home/adrian/school/KNN/CLIP/filtered_texts/dd58291d-fbb7-11e9-99ae-001999480be2.xml\n",
      "INFO: Removed 1 matching regions from /home/adrian/school/KNN/CLIP/filtered_texts/492c226e-fa8a-41e0-b044-d42d551abde2.xml\n",
      "INFO: Removed 1 matching regions from /home/adrian/school/KNN/CLIP/filtered_texts/215715e5-c5a0-11e1-1726-001143e3f55c.xml\n",
      "INFO: Removed 2 matching regions from /home/adrian/school/KNN/CLIP/filtered_texts/771e2287-d176-4d2c-a7ae-faf8855029c6.xml\n",
      "INFO: Removed 1 matching regions from /home/adrian/school/KNN/CLIP/filtered_texts/2e84ef8f-a874-11ed-8046-000c29086a30.xml\n",
      "INFO: Removed 1 matching regions from /home/adrian/school/KNN/CLIP/filtered_texts/7f3ced7a-e3d5-4e95-97c2-f82a909a94e3.xml\n",
      "INFO: Removed 1 matching regions from /home/adrian/school/KNN/CLIP/filtered_texts/e043d66d-4657-4dcd-bb47-e31ba7ac7feb.xml\n",
      "INFO: Removed 1 matching regions from /home/adrian/school/KNN/CLIP/filtered_texts/b37803a3-a675-11e6-adc0-d485646517a0.xml\n",
      "INFO: Removed 1 matching regions from /home/adrian/school/KNN/CLIP/filtered_texts/d80939e4-80a8-40c2-b71e-28d76031c0ad.xml\n",
      "INFO: Removed 1 matching regions from /home/adrian/school/KNN/CLIP/filtered_texts/cb68d5e1-cfb1-40cb-b33a-3dd1c048e3c8.xml\n",
      "INFO: Removed 2 matching regions from /home/adrian/school/KNN/CLIP/filtered_texts/1ba607a1-a67c-11e6-adc0-d485646517a0.xml\n",
      "INFO: Removed 1 matching regions from /home/adrian/school/KNN/CLIP/filtered_texts/32479951-cead-4256-9d71-7a8f31bd3641.xml\n",
      "INFO: Removed 1 matching regions from /home/adrian/school/KNN/CLIP/filtered_texts/d52475bd-4178-11ec-9fc7-00155d012102.xml\n",
      "INFO: Removed 9 matching regions from /home/adrian/school/KNN/CLIP/filtered_texts/162225f4-637a-4e07-8f94-58d5d103bfe5.xml\n",
      "INFO: Removed 1 matching regions from /home/adrian/school/KNN/CLIP/filtered_texts/438a5629-ba43-496a-86f6-56848345e5e7.xml\n",
      "INFO: Removed 1 matching regions from /home/adrian/school/KNN/CLIP/filtered_texts/c79d79e5-4611-11e1-1586-001143e3f55c.xml\n",
      "INFO: Removed 1 matching regions from /home/adrian/school/KNN/CLIP/filtered_texts/7b515a99-ec73-11e3-9d90-001b63bd97ba.xml\n",
      "INFO: Removed 2 matching regions from /home/adrian/school/KNN/CLIP/filtered_texts/4fac6b3f-f27f-4272-9472-f1f72d906440.xml\n",
      "INFO: Removed 1 matching regions from /home/adrian/school/KNN/CLIP/filtered_texts/59b513f3-cc19-4f94-88ea-527820bdea9b.xml\n",
      "INFO: Removed 1 matching regions from /home/adrian/school/KNN/CLIP/filtered_texts/9976f6c4-bb92-4bcc-9811-16f013faeaaf.xml\n",
      "INFO: Removed 1 matching regions from /home/adrian/school/KNN/CLIP/filtered_texts/8bd68f00-a5de-11dd-b4e6-000d606f5dc6.xml\n",
      "INFO: Removed 1 matching regions from /home/adrian/school/KNN/CLIP/filtered_texts/4a60873f-3898-4198-9194-5bd561b21ec0.xml\n",
      "INFO: Removed 1 matching regions from /home/adrian/school/KNN/CLIP/filtered_texts/b63af1cc-4611-11e1-1586-001143e3f55c.xml\n",
      "INFO: Removed 2 matching regions from /home/adrian/school/KNN/CLIP/filtered_texts/835c595d-9d9a-11e5-b62c-d485646517a0.xml\n",
      "INFO: Removed 2 matching regions from /home/adrian/school/KNN/CLIP/filtered_texts/03802025-3757-4dc2-b004-ce22ad5e52a4.xml\n",
      "INFO: Removed 1 matching regions from /home/adrian/school/KNN/CLIP/filtered_texts/1d9c1970-6b09-11dd-8bad-000d606f5dc6.xml\n",
      "INFO: Removed 3 matching regions from /home/adrian/school/KNN/CLIP/filtered_texts/e4c188bf-9fee-429f-a179-0b68d3d4045b.xml\n",
      "INFO: Removed 1 matching regions from /home/adrian/school/KNN/CLIP/filtered_texts/3911dac4-e833-49a4-a139-63705acbef02.xml\n",
      "INFO: Removed 2 matching regions from /home/adrian/school/KNN/CLIP/filtered_texts/92b046a9-2259-4497-962e-96aedf77cf75.xml\n",
      "INFO: Removed 1 matching regions from /home/adrian/school/KNN/CLIP/filtered_texts/5a4d14e9-c3ec-11e9-adcd-001999480be2.xml\n",
      "INFO: Removed 1 matching regions from /home/adrian/school/KNN/CLIP/filtered_texts/c86fca14-ae33-11e1-1586-001143e3f55c.xml\n",
      "INFO: Removed 2 matching regions from /home/adrian/school/KNN/CLIP/filtered_texts/8412e719-d4aa-40c5-956a-538b875eb54e.xml\n",
      "INFO: Removed 1 matching regions from /home/adrian/school/KNN/CLIP/filtered_texts/331bec20-abcf-11eb-8c6c-005056827e51.xml\n",
      "INFO: Removed 2 matching regions from /home/adrian/school/KNN/CLIP/filtered_texts/4ae04040-ab61-11eb-81e5-005056825209.xml\n",
      "INFO: Removed 1 matching regions from /home/adrian/school/KNN/CLIP/filtered_texts/8f7d18ad-4c6a-11e1-1418-001143e3f55c.xml\n",
      "INFO: Removed 1 matching regions from /home/adrian/school/KNN/CLIP/filtered_texts/621493d8-af23-4d51-9c17-aa5b19703efd.xml\n",
      "INFO: Removed 1 matching regions from /home/adrian/school/KNN/CLIP/filtered_texts/118660b1-b03a-4be7-b791-6e05452ba550.xml\n",
      "INFO: Removed 1 matching regions from /home/adrian/school/KNN/CLIP/filtered_texts/b90be2aa-47fc-11e1-3713-001143e3f55c.xml\n",
      "INFO: Removed 1 matching regions from /home/adrian/school/KNN/CLIP/filtered_texts/4192e860-4eb8-11df-b50b-0030487be43a.xml\n",
      "INFO: Removed 1 matching regions from /home/adrian/school/KNN/CLIP/filtered_texts/b40573a8-a80c-4b44-82bb-d3377c9bb97d.xml\n",
      "INFO: Removed 2 matching regions from /home/adrian/school/KNN/CLIP/filtered_texts/a7843f07-dad1-11e5-b8f4-001b21d0d3a4.xml\n",
      "INFO: Removed 1 matching regions from /home/adrian/school/KNN/CLIP/filtered_texts/43c58dfd-435e-11dd-b505-00145e5790ea.xml\n",
      "INFO: Removed 2 matching regions from /home/adrian/school/KNN/CLIP/filtered_texts/e55e8e67-be93-11e9-ba82-001999480be2.xml\n",
      "INFO: Removed 1 matching regions from /home/adrian/school/KNN/CLIP/filtered_texts/4e69551f-5625-11e1-1418-001143e3f55c.xml\n",
      "INFO: Removed 1 matching regions from /home/adrian/school/KNN/CLIP/filtered_texts/37e61934-f123-4d98-90a2-fb4b02d1a4a8.xml\n",
      "INFO: Removed 1 matching regions from /home/adrian/school/KNN/CLIP/filtered_texts/c1041720-ab56-11eb-9f2d-5ef3fc9bb22f.xml\n",
      "INFO: Removed 1 matching regions from /home/adrian/school/KNN/CLIP/filtered_texts/74b88b9d-d0b9-43d8-83ae-45b4ecf21251.xml\n",
      "INFO: Removed 1 matching regions from /home/adrian/school/KNN/CLIP/filtered_texts/a4ab8575-4334-11e1-1431-001143e3f55c.xml\n",
      "INFO: Removed 3 matching regions from /home/adrian/school/KNN/CLIP/filtered_texts/246699ce-331b-11ec-a6f0-001b63bd97ba.xml\n",
      "INFO: Removed 1 matching regions from /home/adrian/school/KNN/CLIP/filtered_texts/8d3e6610-2093-414e-833d-5922cead4483.xml\n",
      "INFO: Removed 1 matching regions from /home/adrian/school/KNN/CLIP/filtered_texts/bf09c889-012a-4009-9f2d-799b56c971b0.xml\n",
      "INFO: Removed 1 matching regions from /home/adrian/school/KNN/CLIP/filtered_texts/472b078e-4203-11ec-aa36-001b63bd97ba.xml\n",
      "INFO: Removed 2 matching regions from /home/adrian/school/KNN/CLIP/filtered_texts/6fe32a30-abb9-11eb-8ea3-5ef3fc9ae867.xml\n",
      "INFO: Removed 1 matching regions from /home/adrian/school/KNN/CLIP/filtered_texts/286effb7-770b-4b26-a83c-5b201e594b94.xml\n",
      "INFO: Removed 1 matching regions from /home/adrian/school/KNN/CLIP/filtered_texts/b7024a01-1f70-4566-9c28-5e058e6e918f.xml\n",
      "INFO: Removed 1 matching regions from /home/adrian/school/KNN/CLIP/filtered_texts/2af79b2c-646d-46f8-8ef2-4d17dca90b18.xml\n",
      "INFO: Removed 1 matching regions from /home/adrian/school/KNN/CLIP/filtered_texts/c812e866-6a19-44f4-afeb-1945acae279d.xml\n",
      "INFO: Removed 1 matching regions from /home/adrian/school/KNN/CLIP/filtered_texts/b6c1961b-6f6b-11e2-1586-001143e3f55c.xml\n",
      "INFO: Removed 1 matching regions from /home/adrian/school/KNN/CLIP/filtered_texts/eb303dbc-db0e-43d2-ad07-ea72f9dbb3e1.xml\n",
      "INFO: Removed 1 matching regions from /home/adrian/school/KNN/CLIP/filtered_texts/3870534a-c0e4-11e5-befe-001999480be2.xml\n",
      "INFO: Removed 1 matching regions from /home/adrian/school/KNN/CLIP/filtered_texts/d03eeb0b-3cfa-11e1-5298-001143e3f55c.xml\n",
      "INFO: Removed 1 matching regions from /home/adrian/school/KNN/CLIP/filtered_texts/33451ec3-14ad-4f6b-bf51-c315c3077952.xml\n",
      "INFO: Removed 2 matching regions from /home/adrian/school/KNN/CLIP/filtered_texts/69e565d1-c8e5-4489-8ec1-22b4b9809895.xml\n",
      "INFO: Removed 3 matching regions from /home/adrian/school/KNN/CLIP/filtered_texts/dda21eb0-ab68-11eb-9f2d-5ef3fc9bb22f.xml\n",
      "INFO: Removed 1 matching regions from /home/adrian/school/KNN/CLIP/filtered_texts/cc26f5fa-cab8-4463-a8f0-4f7fe3a8fe0b.xml\n",
      "INFO: Removed 1 matching regions from /home/adrian/school/KNN/CLIP/filtered_texts/784fa094-b8b4-47e2-b219-603bdf2c62cf.xml\n",
      "INFO: Removed 1 matching regions from /home/adrian/school/KNN/CLIP/filtered_texts/71285cf0-abd0-11eb-8ea3-5ef3fc9ae867.xml\n",
      "INFO: Removed 1 matching regions from /home/adrian/school/KNN/CLIP/filtered_texts/2f8fbee2-8306-11e5-b0da-001999480be2.xml\n",
      "INFO: Removed 1 matching regions from /home/adrian/school/KNN/CLIP/filtered_texts/1d0ef84c-435e-11dd-b505-00145e5790ea.xml\n",
      "INFO: Removed 1 matching regions from /home/adrian/school/KNN/CLIP/filtered_texts/4d34cca2-5625-11e1-1418-001143e3f55c.xml\n",
      "INFO: Removed 4 matching regions from /home/adrian/school/KNN/CLIP/filtered_texts/9b84162e-896c-4e79-b7ac-e03494b4baaa.xml\n",
      "INFO: Removed 2 matching regions from /home/adrian/school/KNN/CLIP/filtered_texts/e87fde44-d88b-4df5-95f7-f97e0b9108df.xml\n",
      "INFO: Removed 1 matching regions from /home/adrian/school/KNN/CLIP/filtered_texts/1f767fe0-b739-11ea-998c-005056827e51.xml\n",
      "INFO: Removed 1 matching regions from /home/adrian/school/KNN/CLIP/filtered_texts/12aee74c-be7f-481a-a286-f9866ff4dede.xml\n",
      "INFO: Removed 1 matching regions from /home/adrian/school/KNN/CLIP/filtered_texts/1d6085bb-5a8e-11e7-8040-d485646517a0.xml\n",
      "INFO: Removed 3 matching regions from /home/adrian/school/KNN/CLIP/filtered_texts/263e7030-ab58-11eb-8c6c-005056827e51.xml\n",
      "INFO: Removed 1 matching regions from /home/adrian/school/KNN/CLIP/filtered_texts/770a1a8a-43be-11eb-b2c7-001999480be2.xml\n",
      "INFO: Removed 1 matching regions from /home/adrian/school/KNN/CLIP/filtered_texts/30baffed-bdcd-4fd5-9306-a8c6886bf7e7.xml\n",
      "INFO: Removed 1 matching regions from /home/adrian/school/KNN/CLIP/filtered_texts/45d3edbe-18a6-46e5-89f5-5b3d2354f470.xml\n",
      "INFO: Removed 1 matching regions from /home/adrian/school/KNN/CLIP/filtered_texts/42ddad17-8304-11e5-9973-001999480be2.xml\n",
      "INFO: Removed 2 matching regions from /home/adrian/school/KNN/CLIP/filtered_texts/6fd9b450-abb9-11eb-8ea3-5ef3fc9ae867.xml\n",
      "INFO: Removed 2 matching regions from /home/adrian/school/KNN/CLIP/filtered_texts/ac408dd9-f21b-4e88-b80e-24b9a842cd02.xml\n",
      "INFO: Removed 1 matching regions from /home/adrian/school/KNN/CLIP/filtered_texts/cd629fee-78d7-4d89-abb8-7a9eba0dbc7f.xml\n",
      "INFO: Removed 3 matching regions from /home/adrian/school/KNN/CLIP/filtered_texts/ac018a90-a682-11e6-adc0-d485646517a0.xml\n",
      "INFO: Removed 1 matching regions from /home/adrian/school/KNN/CLIP/filtered_texts/f019ad74-565c-11e1-1418-001143e3f55c.xml\n",
      "INFO: Removed 1 matching regions from /home/adrian/school/KNN/CLIP/filtered_texts/3aedf0b5-8272-4ab6-b57e-ee2e4566870d.xml\n",
      "INFO: Removed 2 matching regions from /home/adrian/school/KNN/CLIP/filtered_texts/b90268e7-c0e3-11e5-abe4-001999480be2.xml\n",
      "INFO: Removed 1 matching regions from /home/adrian/school/KNN/CLIP/filtered_texts/73ec036c-6ad2-4671-9cf7-2684ecfdc137.xml\n",
      "INFO: Removed 1 matching regions from /home/adrian/school/KNN/CLIP/filtered_texts/1bced7be-435e-11dd-b505-00145e5790ea.xml\n",
      "INFO: Removed 3 matching regions from /home/adrian/school/KNN/CLIP/filtered_texts/e90d585f-a67c-11e6-adc0-d485646517a0.xml\n",
      "INFO: Removed 1 matching regions from /home/adrian/school/KNN/CLIP/filtered_texts/008588e0-a7db-11dc-997e-000d606f5dc6.xml\n",
      "INFO: Removed 1 matching regions from /home/adrian/school/KNN/CLIP/filtered_texts/dd445725-ec7c-11e3-a870-001b63bd97ba.xml\n",
      "INFO: Removed 3 matching regions from /home/adrian/school/KNN/CLIP/filtered_texts/e6d7637a-97d1-4f8d-a937-047630e81cc9.xml\n",
      "INFO: Removed 3 matching regions from /home/adrian/school/KNN/CLIP/filtered_texts/63e619aa-9ba0-40e6-a580-dfbea659f568.xml\n",
      "INFO: Removed 2 matching regions from /home/adrian/school/KNN/CLIP/filtered_texts/68bbb584-be94-11e9-ba82-001999480be2.xml\n",
      "INFO: Removed 1 matching regions from /home/adrian/school/KNN/CLIP/filtered_texts/951f5951-7a37-4a64-a0ee-e0fe08bf36f2.xml\n",
      "INFO: Removed 1 matching regions from /home/adrian/school/KNN/CLIP/filtered_texts/042e6380-aea6-11e3-ae43-0030487be43a.xml\n",
      "INFO: Removed 1 matching regions from /home/adrian/school/KNN/CLIP/filtered_texts/198f67d7-32d1-417d-8461-c34eb998bbfd.xml\n",
      "INFO: Removed 3 matching regions from /home/adrian/school/KNN/CLIP/filtered_texts/4cd0ecbc-435e-11dd-b505-00145e5790ea.xml\n",
      "INFO: Removed 1 matching regions from /home/adrian/school/KNN/CLIP/filtered_texts/328a0719-e8fc-4f22-86d8-af9a52454987.xml\n",
      "INFO: Removed 1 matching regions from /home/adrian/school/KNN/CLIP/filtered_texts/4b07af7d-2259-11ea-8d84-001b63bd97ba.xml\n",
      "INFO: Removed 1 matching regions from /home/adrian/school/KNN/CLIP/filtered_texts/c62fda67-148b-11e1-8339-001143e3f55c.xml\n",
      "INFO: Removed 5 matching regions from /home/adrian/school/KNN/CLIP/filtered_texts/e7873e03-7e33-11e5-a611-d485646517a0.xml\n",
      "INFO: Removed 1 matching regions from /home/adrian/school/KNN/CLIP/filtered_texts/32f7a69d-6761-11e9-bca3-001999480be2.xml\n",
      "INFO: Removed 1 matching regions from /home/adrian/school/KNN/CLIP/filtered_texts/72d0b1b1-7080-48fe-9ba1-38599c6fb886.xml\n",
      "INFO: Removed 1 matching regions from /home/adrian/school/KNN/CLIP/filtered_texts/a54764b0-2de9-4c06-840b-63b3d49b021d.xml\n",
      "INFO: Removed 1 matching regions from /home/adrian/school/KNN/CLIP/filtered_texts/dd587792-fbb7-11e9-99ae-001999480be2.xml\n",
      "INFO: Removed 2 matching regions from /home/adrian/school/KNN/CLIP/filtered_texts/d7615f25-c0e3-11e5-bf90-001999480be2.xml\n",
      "INFO: Removed 2 matching regions from /home/adrian/school/KNN/CLIP/filtered_texts/3435db34-3188-11eb-91fc-001b63bd97ba.xml\n",
      "INFO: Removed 1 matching regions from /home/adrian/school/KNN/CLIP/filtered_texts/d25ec710-2106-11dd-a806-000d606f5dc6.xml\n",
      "INFO: Removed 1 matching regions from /home/adrian/school/KNN/CLIP/filtered_texts/0c4e1b6a-e3e5-11e6-b2e6-d485646517a0.xml\n",
      "INFO: Removed 2 matching regions from /home/adrian/school/KNN/CLIP/filtered_texts/a099298b-5be4-4363-8a43-e9c95db21e2f.xml\n",
      "INFO: Removed 1 matching regions from /home/adrian/school/KNN/CLIP/filtered_texts/bf384f6d-9335-4bf8-bc50-e446612a72e1.xml\n",
      "INFO: Removed 2 matching regions from /home/adrian/school/KNN/CLIP/filtered_texts/aad954cf-82ed-4be1-9710-7698809083ea.xml\n",
      "INFO: Removed 1 matching regions from /home/adrian/school/KNN/CLIP/filtered_texts/d839eafa-93ac-44fa-aaf6-ab89e39decfa.xml\n",
      "INFO: Removed 2 matching regions from /home/adrian/school/KNN/CLIP/filtered_texts/ce22eba7-dbd4-4fec-9929-5b8681a38b86.xml\n",
      "INFO: Removed 1 matching regions from /home/adrian/school/KNN/CLIP/filtered_texts/13d7361a-aaca-4361-bf97-27325a419d62.xml\n",
      "INFO: Removed 2 matching regions from /home/adrian/school/KNN/CLIP/filtered_texts/473a949f-bd30-11e6-a419-001b63bd97ba.xml\n",
      "INFO: Removed 5 matching regions from /home/adrian/school/KNN/CLIP/filtered_texts/13459370-a675-11e6-adc0-d485646517a0.xml\n",
      "INFO: Removed 2 matching regions from /home/adrian/school/KNN/CLIP/filtered_texts/8c74af02-d6d4-47bf-a364-2f2a4593d65d.xml\n",
      "INFO: Removed 1 matching regions from /home/adrian/school/KNN/CLIP/filtered_texts/86ee40a2-d6b3-410b-9a81-fe73011419de.xml\n",
      "INFO: Removed 10 matching regions from /home/adrian/school/KNN/CLIP/filtered_texts/5aed344c-412f-4018-92c4-94134ced9149.xml\n",
      "INFO: Removed 4 matching regions from /home/adrian/school/KNN/CLIP/filtered_texts/217f2bca-a677-11e6-adc0-d485646517a0.xml\n",
      "INFO: Removed 5 matching regions from /home/adrian/school/KNN/CLIP/filtered_texts/25ddd0bc-c3ed-11e9-adcd-001999480be2.xml\n",
      "INFO: Removed 1 matching regions from /home/adrian/school/KNN/CLIP/filtered_texts/376e15d0-4edb-11df-a922-0030487be43a.xml\n",
      "INFO: Removed 1 matching regions from /home/adrian/school/KNN/CLIP/filtered_texts/bd250bbb-33ac-454b-8636-e7754ca7c1ec.xml\n",
      "INFO: Removed 1 matching regions from /home/adrian/school/KNN/CLIP/filtered_texts/ad586f77-3a7c-4f2d-9128-2595817d246c.xml\n",
      "INFO: Removed 2 matching regions from /home/adrian/school/KNN/CLIP/filtered_texts/cc7fdd11-79f3-4cd6-ba7e-8e521ca0b3aa.xml\n",
      "INFO: Removed 1 matching regions from /home/adrian/school/KNN/CLIP/filtered_texts/dcb4a719-8e9e-400c-a03d-3355a5da6b9a.xml\n",
      "INFO: Removed 1 matching regions from /home/adrian/school/KNN/CLIP/filtered_texts/47163fe3-435e-11dd-b505-00145e5790ea.xml\n",
      "INFO: Removed 1 matching regions from /home/adrian/school/KNN/CLIP/filtered_texts/cfb8e38c-0ce1-4b1d-90a4-491611009c7d.xml\n",
      "INFO: Removed 1 matching regions from /home/adrian/school/KNN/CLIP/filtered_texts/d09a15d8-9878-46c7-bd03-2da87b56a6ad.xml\n",
      "INFO: Removed 1 matching regions from /home/adrian/school/KNN/CLIP/filtered_texts/5617b7a4-4165-11ec-9114-001b63bd97ba.xml\n",
      "INFO: Removed 1 matching regions from /home/adrian/school/KNN/CLIP/filtered_texts/7e659851-4394-11eb-9bf5-001999480be2.xml\n",
      "INFO: Removed 1 matching regions from /home/adrian/school/KNN/CLIP/filtered_texts/03f4fae5-55f3-4886-b993-244b607c7cf9.xml\n",
      "INFO: Removed 4 matching regions from /home/adrian/school/KNN/CLIP/filtered_texts/e7dae578-763e-4f8b-91c1-c1b31f9c675f.xml\n",
      "INFO: Removed 1 matching regions from /home/adrian/school/KNN/CLIP/filtered_texts/a9568885-432c-40ef-8613-9f9065e1dd49.xml\n",
      "INFO: Removed 1 matching regions from /home/adrian/school/KNN/CLIP/filtered_texts/aa163cf7-e9bb-484d-80f5-289a56ce6362.xml\n",
      "INFO: Removed 2 matching regions from /home/adrian/school/KNN/CLIP/filtered_texts/8da59a36-4c6a-11e1-1331-001143e3f55c.xml\n",
      "INFO: Removed 1 matching regions from /home/adrian/school/KNN/CLIP/filtered_texts/84fc0252-b3b7-48b4-aab4-88a3393bca4a.xml\n",
      "INFO: Removed 1 matching regions from /home/adrian/school/KNN/CLIP/filtered_texts/709f0790-435e-11dd-b505-00145e5790ea.xml\n",
      "INFO: Removed 1 matching regions from /home/adrian/school/KNN/CLIP/filtered_texts/710f80d8-f12c-4d10-8f2e-1751e6a33a55.xml\n",
      "INFO: Removed 2 matching regions from /home/adrian/school/KNN/CLIP/filtered_texts/1c8f8f5f-435e-11dd-b505-00145e5790ea.xml\n",
      "INFO: Removed 1 matching regions from /home/adrian/school/KNN/CLIP/filtered_texts/7cd17e80-2fe4-11e3-83e1-0030487be43a.xml\n",
      "INFO: Removed 1 matching regions from /home/adrian/school/KNN/CLIP/filtered_texts/18063480-31ac-11df-9079-0030487be43a.xml\n",
      "INFO: Removed 4 matching regions from /home/adrian/school/KNN/CLIP/filtered_texts/27b69f26-a66b-11e6-adc0-d485646517a0.xml\n",
      "INFO: Removed 1 matching regions from /home/adrian/school/KNN/CLIP/filtered_texts/10838a60-7486-11df-99b9-0030487be43a.xml\n",
      "INFO: Removed 1 matching regions from /home/adrian/school/KNN/CLIP/filtered_texts/272fae72-c18f-4631-99d5-c5f5069f3b17.xml\n",
      "INFO: Removed 3 matching regions from /home/adrian/school/KNN/CLIP/filtered_texts/3c013b7a-a665-11e6-adc0-d485646517a0.xml\n",
      "INFO: Removed 1 matching regions from /home/adrian/school/KNN/CLIP/filtered_texts/e9fbe6fd-e6f8-41dc-99e0-471fd85f2baa.xml\n",
      "INFO: Removed 10 matching regions from /home/adrian/school/KNN/CLIP/filtered_texts/6b401bae-3edc-11e7-b97e-001b63bd97ba.xml\n",
      "INFO: Removed 1 matching regions from /home/adrian/school/KNN/CLIP/filtered_texts/9637abeb-d18d-42cf-9cf3-171559691398.xml\n",
      "INFO: Removed 1 matching regions from /home/adrian/school/KNN/CLIP/filtered_texts/68d03144-9a0f-48d1-85f9-f9457efee62f.xml\n",
      "INFO: Removed 2 matching regions from /home/adrian/school/KNN/CLIP/filtered_texts/539a1f6e-8306-11e5-a6ca-001999480be2.xml\n",
      "INFO: Removed 2 matching regions from /home/adrian/school/KNN/CLIP/filtered_texts/abf85a7e-b9f8-4bad-a2a1-bf501ecce2f0.xml\n",
      "INFO: Removed 1 matching regions from /home/adrian/school/KNN/CLIP/filtered_texts/c299bcaa-148b-11e1-1586-001143e3f55c.xml\n",
      "INFO: Removed 1 matching regions from /home/adrian/school/KNN/CLIP/filtered_texts/f2f24db0-7c3e-46d5-8ee2-3e3c52e06868.xml\n",
      "INFO: Removed 2 matching regions from /home/adrian/school/KNN/CLIP/filtered_texts/dd96924a-3ed8-11e7-b97e-001b63bd97ba.xml\n",
      "INFO: Removed 2 matching regions from /home/adrian/school/KNN/CLIP/filtered_texts/d367a41f-4909-11eb-bff6-001999480be2.xml\n",
      "INFO: Removed 1 matching regions from /home/adrian/school/KNN/CLIP/filtered_texts/07a2e9fd-e0a4-4ce9-8bb3-f947c6864964.xml\n",
      "INFO: Removed 3 matching regions from /home/adrian/school/KNN/CLIP/filtered_texts/04b58e4f-efab-11e3-8d6c-001b63bd97ba.xml\n",
      "INFO: Removed 2 matching regions from /home/adrian/school/KNN/CLIP/filtered_texts/b3ecf2f9-6f6b-11e2-1726-001143e3f55c.xml\n",
      "INFO: Removed 1 matching regions from /home/adrian/school/KNN/CLIP/filtered_texts/57ab5393-5625-11e1-1331-001143e3f55c.xml\n",
      "INFO: Removed 1 matching regions from /home/adrian/school/KNN/CLIP/filtered_texts/6c2e9eb0-155d-11de-985c-000d606f5dc6.xml\n",
      "INFO: Removed 2 matching regions from /home/adrian/school/KNN/CLIP/filtered_texts/52c3c608-fd12-11e7-8209-00155d012102.xml\n",
      "INFO: Removed 1 matching regions from /home/adrian/school/KNN/CLIP/filtered_texts/5c121ec8-bd30-11e6-a419-001b63bd97ba.xml\n",
      "INFO: Removed 4 matching regions from /home/adrian/school/KNN/CLIP/filtered_texts/cef8e73f-3b9e-4a20-aced-16fd83d20e08.xml\n",
      "INFO: Removed 2 matching regions from /home/adrian/school/KNN/CLIP/filtered_texts/c1ec90a5-4611-11e1-1726-001143e3f55c.xml\n",
      "INFO: Removed 1 matching regions from /home/adrian/school/KNN/CLIP/filtered_texts/111019bd-f599-11e9-b6ed-001999480be2.xml\n",
      "INFO: Removed 1 matching regions from /home/adrian/school/KNN/CLIP/filtered_texts/debe1132-7e36-11e5-a611-d485646517a0.xml\n",
      "INFO: Removed 2 matching regions from /home/adrian/school/KNN/CLIP/filtered_texts/1f737301-ea7a-470d-8c68-7fe458b0a630.xml\n",
      "INFO: Removed 1 matching regions from /home/adrian/school/KNN/CLIP/filtered_texts/710ece25-0fca-4536-8394-6dc5aaecc571.xml\n",
      "INFO: Removed 1 matching regions from /home/adrian/school/KNN/CLIP/filtered_texts/22f3854c-e775-4f46-9d57-a734c9b3ce7c.xml\n",
      "INFO: Removed 3 matching regions from /home/adrian/school/KNN/CLIP/filtered_texts/a905b5a6-2547-11e9-885c-001999480be2.xml\n",
      "INFO: Removed 1 matching regions from /home/adrian/school/KNN/CLIP/filtered_texts/813638a4-0398-4159-bdb0-e6370f9fc5e4.xml\n",
      "INFO: Removed 1 matching regions from /home/adrian/school/KNN/CLIP/filtered_texts/d398c03b-6351-11e2-bdfb-001999480be2.xml\n",
      "INFO: Removed 1 matching regions from /home/adrian/school/KNN/CLIP/filtered_texts/2b3e27a5-82ac-11e9-aa6f-00155d012102.xml\n",
      "INFO: Removed 9 matching regions from /home/adrian/school/KNN/CLIP/filtered_texts/67ea62c9-0d6a-4ba8-9885-082afa2b8613.xml\n",
      "INFO: Removed 1 matching regions from /home/adrian/school/KNN/CLIP/filtered_texts/0410b590-533c-11dd-a258-000d606f5dc6.xml\n",
      "INFO: Removed 1 matching regions from /home/adrian/school/KNN/CLIP/filtered_texts/37d2c6b2-83ce-11e5-9411-001999480be2.xml\n",
      "INFO: Removed 1 matching regions from /home/adrian/school/KNN/CLIP/filtered_texts/dd8f190b-7fb3-48bd-b0b5-ebe0442ba5e8.xml\n",
      "INFO: Removed 2 matching regions from /home/adrian/school/KNN/CLIP/filtered_texts/029e473e-1f89-11eb-abda-d485646517a0.xml\n",
      "INFO: Removed 1 matching regions from /home/adrian/school/KNN/CLIP/filtered_texts/9e98c416-3f4c-4877-b149-c84a5ba579d0.xml\n",
      "INFO: Removed 1 matching regions from /home/adrian/school/KNN/CLIP/filtered_texts/19346f18-58eb-49a3-bf2c-a93e2db83542.xml\n",
      "INFO: Removed 2 matching regions from /home/adrian/school/KNN/CLIP/filtered_texts/af33fbc6-16ad-482c-87c4-7c7bf087a3fc.xml\n",
      "INFO: Removed 1 matching regions from /home/adrian/school/KNN/CLIP/filtered_texts/df4e9df0-abaf-11eb-81e5-005056825209.xml\n",
      "INFO: Removed 5 matching regions from /home/adrian/school/KNN/CLIP/filtered_texts/d500c5b3-2bfc-4c2d-9d92-b161c48dc34a.xml\n",
      "INFO: Removed 2 matching regions from /home/adrian/school/KNN/CLIP/filtered_texts/bc04509c-ae33-11e1-1726-001143e3f55c.xml\n",
      "INFO: Removed 2 matching regions from /home/adrian/school/KNN/CLIP/filtered_texts/59177c93-d072-11e7-9c0b-001b63bd97ba.xml\n",
      "INFO: Removed 2 matching regions from /home/adrian/school/KNN/CLIP/filtered_texts/001fb740-cc2b-11ea-b34d-5ef3fc9bb22f.xml\n",
      "INFO: Removed 1 matching regions from /home/adrian/school/KNN/CLIP/filtered_texts/3d4debdf-fb21-11e9-b8a2-001999480be2.xml\n",
      "INFO: Removed 1 matching regions from /home/adrian/school/KNN/CLIP/filtered_texts/1ebbb2f0-fed8-11ea-ae96-5ef3fc9ae867.xml\n",
      "INFO: Removed 1 matching regions from /home/adrian/school/KNN/CLIP/filtered_texts/11118e51-e4bd-4764-9abc-dff2fc32868b.xml\n",
      "INFO: Removed 1 matching regions from /home/adrian/school/KNN/CLIP/filtered_texts/215c5065-901e-11ed-868a-001b63bd97ba.xml\n",
      "INFO: Removed 2 matching regions from /home/adrian/school/KNN/CLIP/filtered_texts/2562962a-3eda-11e7-b97e-001b63bd97ba.xml\n",
      "INFO: Removed 1 matching regions from /home/adrian/school/KNN/CLIP/filtered_texts/0d7fc7c9-f599-11e9-b6ed-001999480be2.xml\n",
      "INFO: Removed 1 matching regions from /home/adrian/school/KNN/CLIP/filtered_texts/f068ada6-e085-430b-8282-3faff07d2688.xml\n",
      "INFO: Removed 1 matching regions from /home/adrian/school/KNN/CLIP/filtered_texts/d4f8ad8d-6522-4d19-86a9-b454e0812ef5.xml\n",
      "INFO: Removed 1 matching regions from /home/adrian/school/KNN/CLIP/filtered_texts/8f7a90b0-5519-409d-addc-fbf533ef9d26.xml\n",
      "INFO: Removed 1 matching regions from /home/adrian/school/KNN/CLIP/filtered_texts/5f80267b-71c7-11e1-a313-005056a60003.xml\n",
      "INFO: Removed 1 matching regions from /home/adrian/school/KNN/CLIP/filtered_texts/1068cda9-843e-11e4-9ff6-001b63bd97ba.xml\n",
      "INFO: Removed 1 matching regions from /home/adrian/school/KNN/CLIP/filtered_texts/0cfb2071-20c2-11ea-85d8-001999480be2.xml\n",
      "INFO: Removed 1 matching regions from /home/adrian/school/KNN/CLIP/filtered_texts/b5de6f9e-3142-49a6-bc5d-17d71fe2c79c.xml\n",
      "INFO: Removed 1 matching regions from /home/adrian/school/KNN/CLIP/filtered_texts/84562bf0-4395-11eb-9bf5-001999480be2.xml\n",
      "INFO: Removed 1 matching regions from /home/adrian/school/KNN/CLIP/filtered_texts/4e3ebbcf-e303-11e6-96e2-001999480be2.xml\n",
      "INFO: Removed 2 matching regions from /home/adrian/school/KNN/CLIP/filtered_texts/3f1dc137-f711-11e9-94c9-001999480be2.xml\n",
      "INFO: Removed 1 matching regions from /home/adrian/school/KNN/CLIP/filtered_texts/0b15cbd6-56c1-4633-8315-5b10deddd2b7.xml\n",
      "INFO: Removed 1 matching regions from /home/adrian/school/KNN/CLIP/filtered_texts/ca13ca6c-3cfa-11e1-5298-001143e3f55c.xml\n",
      "INFO: Removed 2 matching regions from /home/adrian/school/KNN/CLIP/filtered_texts/789a59a9-6b01-4248-8a65-87bcc14d05ee.xml\n",
      "INFO: Removed 2 matching regions from /home/adrian/school/KNN/CLIP/filtered_texts/e517a359-e302-11e6-88ad-001999480be2.xml\n",
      "INFO: Removed 2 matching regions from /home/adrian/school/KNN/CLIP/filtered_texts/cfb47a3e-6d6f-43f8-ad7b-82455aaa1840.xml\n",
      "INFO: Removed 1 matching regions from /home/adrian/school/KNN/CLIP/filtered_texts/adeba715-4387-11eb-a6da-001999480be2.xml\n",
      "INFO: Removed 1 matching regions from /home/adrian/school/KNN/CLIP/filtered_texts/02928146-e6ab-11e5-bc5e-001b21d0d3a4.xml\n",
      "INFO: Removed 1 matching regions from /home/adrian/school/KNN/CLIP/filtered_texts/46ebfc49-7607-40dd-9737-b8c90d949460.xml\n",
      "INFO: Removed 3 matching regions from /home/adrian/school/KNN/CLIP/filtered_texts/06a706b1-7520-464b-9355-2a0152a6df7f.xml\n",
      "INFO: Removed 1 matching regions from /home/adrian/school/KNN/CLIP/filtered_texts/3f441d6a-e3ab-11e6-8046-001999480be2.xml\n",
      "INFO: Removed 2 matching regions from /home/adrian/school/KNN/CLIP/filtered_texts/103a26b5-e256-11e6-9725-001999480be2.xml\n",
      "INFO: Removed 2 matching regions from /home/adrian/school/KNN/CLIP/filtered_texts/48d53ff4-859e-4598-9c3e-aee28c41019a.xml\n",
      "INFO: Removed 3 matching regions from /home/adrian/school/KNN/CLIP/filtered_texts/63ce8749-2c58-4016-bcbf-d7ba249b5ca9.xml\n",
      "INFO: Removed 1 matching regions from /home/adrian/school/KNN/CLIP/filtered_texts/b230bfc3-ed51-11e3-8ebb-001b63bd97ba.xml\n",
      "INFO: Removed 1 matching regions from /home/adrian/school/KNN/CLIP/filtered_texts/5c060cf2-435e-11dd-b505-00145e5790ea.xml\n",
      "INFO: Removed 1 matching regions from /home/adrian/school/KNN/CLIP/filtered_texts/c09fd729-e2fe-11e6-abe0-001999480be2.xml\n",
      "INFO: Removed 1 matching regions from /home/adrian/school/KNN/CLIP/filtered_texts/95881250-bbab-11e1-1418-001143e3f55c.xml\n",
      "INFO: Removed 1 matching regions from /home/adrian/school/KNN/CLIP/filtered_texts/50919dac-435e-11dd-b505-00145e5790ea.xml\n",
      "INFO: Removed 3 matching regions from /home/adrian/school/KNN/CLIP/filtered_texts/71dc8d12-a681-11e6-adc0-d485646517a0.xml\n",
      "INFO: Removed 1 matching regions from /home/adrian/school/KNN/CLIP/filtered_texts/38fd0770-5ed0-11e0-aa8b-000d606f5dc6.xml\n",
      "INFO: Removed 1 matching regions from /home/adrian/school/KNN/CLIP/filtered_texts/01059695-40e4-11e1-1331-001143e3f55c.xml\n",
      "INFO: Removed 2 matching regions from /home/adrian/school/KNN/CLIP/filtered_texts/836e08b0-4911-11eb-afe5-001999480be2.xml\n",
      "INFO: Removed 1 matching regions from /home/adrian/school/KNN/CLIP/filtered_texts/c37aacdb-1d05-11ea-80a0-001999480be2.xml\n",
      "INFO: Removed 1 matching regions from /home/adrian/school/KNN/CLIP/filtered_texts/7c1a01d6-ec73-11e3-9d90-001b63bd97ba.xml\n",
      "INFO: Removed 1 matching regions from /home/adrian/school/KNN/CLIP/filtered_texts/088d8692-b9d5-41a1-ab9c-2345fac13745.xml\n",
      "INFO: Removed 1 matching regions from /home/adrian/school/KNN/CLIP/filtered_texts/f612bf49-87c8-4e87-bb5d-1600766797c4.xml\n",
      "INFO: Removed 1 matching regions from /home/adrian/school/KNN/CLIP/filtered_texts/81086b31-2611-4eb8-97a7-dd3ebde702d4.xml\n",
      "INFO: Removed 1 matching regions from /home/adrian/school/KNN/CLIP/filtered_texts/321f5d3c-43c0-11eb-b2c7-001999480be2.xml\n",
      "INFO: Removed 3 matching regions from /home/adrian/school/KNN/CLIP/filtered_texts/25a1b58e-4388-11eb-a6da-001999480be2.xml\n",
      "INFO: Removed 2 matching regions from /home/adrian/school/KNN/CLIP/filtered_texts/73d805d9-8186-4b9e-89ec-64a21051c6a8.xml\n",
      "INFO: Removed 1 matching regions from /home/adrian/school/KNN/CLIP/filtered_texts/b489b300-4147-11ed-9667-005056822549.xml\n",
      "INFO: Removed 1 matching regions from /home/adrian/school/KNN/CLIP/filtered_texts/810756d0-a9b5-4f95-badb-1c65454caba6.xml\n",
      "INFO: Removed 1 matching regions from /home/adrian/school/KNN/CLIP/filtered_texts/9ae9a506-b7cf-41a0-9c5b-d17c80511a9e.xml\n",
      "INFO: Removed 2 matching regions from /home/adrian/school/KNN/CLIP/filtered_texts/f02fe3a0-1010-471d-b61a-efb7668db2b9.xml\n",
      "INFO: Removed 1 matching regions from /home/adrian/school/KNN/CLIP/filtered_texts/2d77f889-971a-4744-ad56-428c5dfe9427.xml\n",
      "INFO: Removed 1 matching regions from /home/adrian/school/KNN/CLIP/filtered_texts/e4a483ba-ca96-11e5-a54b-001b21d0d3a4.xml\n",
      "INFO: Removed 1 matching regions from /home/adrian/school/KNN/CLIP/filtered_texts/7b4987d4-a64f-4af6-ae7c-e6dea80c2301.xml\n",
      "INFO: Removed 1 matching regions from /home/adrian/school/KNN/CLIP/filtered_texts/2a0eb675-507b-4b2f-805b-d77e87df23be.xml\n",
      "INFO: Removed 1 matching regions from /home/adrian/school/KNN/CLIP/filtered_texts/dd5828fc-fbb7-11e9-99ae-001999480be2.xml\n",
      "INFO: Removed 1 matching regions from /home/adrian/school/KNN/CLIP/filtered_texts/116073e6-3f45-43a1-8cd0-ff0686f2e949.xml\n",
      "INFO: Removed 3 matching regions from /home/adrian/school/KNN/CLIP/filtered_texts/3ba3e9b3-a66e-11e6-adc0-d485646517a0.xml\n",
      "INFO: Removed 2 matching regions from /home/adrian/school/KNN/CLIP/filtered_texts/97d20962-4334-11e1-3052-001143e3f55c.xml\n",
      "INFO: Removed 2 matching regions from /home/adrian/school/KNN/CLIP/filtered_texts/23025b57-9d8a-4630-a680-20098ab43dbd.xml\n",
      "INFO: Removed 1 matching regions from /home/adrian/school/KNN/CLIP/filtered_texts/43c57e11-5cf1-11e8-a84a-001999480be2.xml\n",
      "INFO: Removed 1 matching regions from /home/adrian/school/KNN/CLIP/filtered_texts/6bf14244-1c85-421d-a13d-3e0a7c10879a.xml\n",
      "INFO: Removed 1 matching regions from /home/adrian/school/KNN/CLIP/filtered_texts/51fe25fd-3758-4270-b3a2-f280785973e4.xml\n",
      "INFO: Removed 2 matching regions from /home/adrian/school/KNN/CLIP/filtered_texts/a1f5a4db-4c6a-11e1-1418-001143e3f55c.xml\n",
      "INFO: Removed 2 matching regions from /home/adrian/school/KNN/CLIP/filtered_texts/4c50f721-f658-11e9-b9f7-001999480be2.xml\n",
      "INFO: Removed 1 matching regions from /home/adrian/school/KNN/CLIP/filtered_texts/db7ad93f-faa1-4236-856b-4cb0383f49b9.xml\n",
      "INFO: Removed 1 matching regions from /home/adrian/school/KNN/CLIP/filtered_texts/f37fd789-96b4-41c3-9d28-842a403939b9.xml\n",
      "INFO: Removed 1 matching regions from /home/adrian/school/KNN/CLIP/filtered_texts/9ab2a053-6222-469d-9599-478526a73df3.xml\n",
      "INFO: Removed 1 matching regions from /home/adrian/school/KNN/CLIP/filtered_texts/ce16c6d3-e46c-11e8-bdc5-d485646517a0.xml\n",
      "INFO: Removed 1 matching regions from /home/adrian/school/KNN/CLIP/filtered_texts/5b46ca70-6f18-4802-a8a5-a36bbeeefe79.xml\n",
      "INFO: Removed 2 matching regions from /home/adrian/school/KNN/CLIP/filtered_texts/e4b883d8-8ca8-4fb0-b93a-590e30234288.xml\n",
      "INFO: Removed 3 matching regions from /home/adrian/school/KNN/CLIP/filtered_texts/2b4330c7-82ac-11e9-aa6f-00155d012102.xml\n",
      "INFO: Removed 1 matching regions from /home/adrian/school/KNN/CLIP/filtered_texts/57130b7b-5625-11e1-1418-001143e3f55c.xml\n",
      "INFO: Removed 2 matching regions from /home/adrian/school/KNN/CLIP/filtered_texts/e2a115de-a679-11e6-adc0-d485646517a0.xml\n",
      "INFO: Removed 2 matching regions from /home/adrian/school/KNN/CLIP/filtered_texts/d0b4081a-8f05-4417-94aa-f1cc60d81179.xml\n",
      "INFO: Removed 1 matching regions from /home/adrian/school/KNN/CLIP/filtered_texts/6b3bd71d-bdc3-45de-89d7-97c6c429829c.xml\n",
      "INFO: Removed 1 matching regions from /home/adrian/school/KNN/CLIP/filtered_texts/52028137-5625-11e1-1418-001143e3f55c.xml\n",
      "INFO: Removed 1 matching regions from /home/adrian/school/KNN/CLIP/filtered_texts/9588124b-bbab-11e1-1418-001143e3f55c.xml\n",
      "INFO: Removed 1 matching regions from /home/adrian/school/KNN/CLIP/filtered_texts/ccfe4327-6454-47f8-8fa3-5f42dff01f73.xml\n",
      "INFO: Removed 1 matching regions from /home/adrian/school/KNN/CLIP/filtered_texts/225729f0-2ede-11e0-8650-0030487be43a.xml\n",
      "INFO: Removed 1 matching regions from /home/adrian/school/KNN/CLIP/filtered_texts/3c45a228-14b7-48e6-b260-a80e0a01e25f.xml\n",
      "INFO: Removed 3 matching regions from /home/adrian/school/KNN/CLIP/filtered_texts/2cea2d3e-56d6-11e1-1726-001143e3f55c.xml\n",
      "INFO: Removed 1 matching regions from /home/adrian/school/KNN/CLIP/filtered_texts/95e2cfa0-3f68-4ade-8105-2f089b4a9776.xml\n",
      "INFO: Removed 1 matching regions from /home/adrian/school/KNN/CLIP/filtered_texts/a88d7f6a-3e5e-44a0-8c06-227fe8953c5a.xml\n",
      "INFO: Removed 1 matching regions from /home/adrian/school/KNN/CLIP/filtered_texts/d32182a7-4e17-4ac2-9ee9-59650bfcf10c.xml\n",
      "INFO: Removed 1 matching regions from /home/adrian/school/KNN/CLIP/filtered_texts/168482b1-3bf1-11e8-90eb-001b63bd97ba.xml\n",
      "INFO: Removed 2 matching regions from /home/adrian/school/KNN/CLIP/filtered_texts/4d5b8d48-59b8-11e8-b45f-001999480be2.xml\n",
      "INFO: Removed 1 matching regions from /home/adrian/school/KNN/CLIP/filtered_texts/00f9bbf0-5589-11dd-bb54-000d606f5dc6.xml\n",
      "INFO: Removed 1 matching regions from /home/adrian/school/KNN/CLIP/filtered_texts/de544283-3cfa-11e1-3052-001143e3f55c.xml\n",
      "INFO: Removed 1 matching regions from /home/adrian/school/KNN/CLIP/filtered_texts/b4497cfe-2867-4d68-b1d2-864674fabcaa.xml\n",
      "INFO: Removed 1 matching regions from /home/adrian/school/KNN/CLIP/filtered_texts/77b7b642-5ec5-42f0-b8b5-53f3cda8909b.xml\n",
      "INFO: Removed 1 matching regions from /home/adrian/school/KNN/CLIP/filtered_texts/321291b2-3973-11e8-9ba9-001b63bd97ba.xml\n",
      "INFO: Removed 1 matching regions from /home/adrian/school/KNN/CLIP/filtered_texts/1ebafd90-3983-11e8-b11d-001b63bd97ba.xml\n",
      "INFO: Removed 1 matching regions from /home/adrian/school/KNN/CLIP/filtered_texts/c3d9b7ca-8573-11ea-b7ee-001999480be2.xml\n",
      "INFO: Removed 2 matching regions from /home/adrian/school/KNN/CLIP/filtered_texts/6ff54320-20c2-11ea-85d8-001999480be2.xml\n",
      "INFO: Removed 2 matching regions from /home/adrian/school/KNN/CLIP/filtered_texts/a33a3c6d-a905-11e3-be51-d485646517a0.xml\n",
      "INFO: Removed 8 matching regions from /home/adrian/school/KNN/CLIP/filtered_texts/80f85cb1-1b5d-11ea-9b9b-001b63bd97ba.xml\n",
      "INFO: Removed 3 matching regions from /home/adrian/school/KNN/CLIP/filtered_texts/51554b26-a674-11e6-adc0-d485646517a0.xml\n",
      "INFO: Removed 2 matching regions from /home/adrian/school/KNN/CLIP/filtered_texts/e7d1f97c-5a5f-11e7-921c-d485646517a0.xml\n",
      "INFO: Removed 1 matching regions from /home/adrian/school/KNN/CLIP/filtered_texts/95039cfe-ffc6-11e9-b0f5-001999480be2.xml\n",
      "INFO: Removed 1 matching regions from /home/adrian/school/KNN/CLIP/filtered_texts/b23f7883-32cf-4305-9543-6bf4ba1737dc.xml\n",
      "INFO: Removed 1 matching regions from /home/adrian/school/KNN/CLIP/filtered_texts/072a75d0-a47c-11e3-9aec-0030487be43a.xml\n",
      "INFO: Removed 1 matching regions from /home/adrian/school/KNN/CLIP/filtered_texts/529af07a-5625-11e1-1726-001143e3f55c.xml\n",
      "INFO: Removed 2 matching regions from /home/adrian/school/KNN/CLIP/filtered_texts/5f6abab0-bd5a-11de-a3b0-000d606f5dc6.xml\n",
      "INFO: Removed 6 matching regions from /home/adrian/school/KNN/CLIP/filtered_texts/02146f48-8d13-4be4-bc5a-a25b48485b2f.xml\n",
      "INFO: Removed 1 matching regions from /home/adrian/school/KNN/CLIP/filtered_texts/c19cdb8d-afc2-4522-8d34-42d8d15426d4.xml\n",
      "INFO: Removed 1 matching regions from /home/adrian/school/KNN/CLIP/filtered_texts/386fe2d4-1b23-11e5-bd83-00155d010f03.xml\n",
      "INFO: Removed 2 matching regions from /home/adrian/school/KNN/CLIP/filtered_texts/0a388090-1b58-11dd-884d-000d606f5dc6.xml\n",
      "INFO: Removed 1 matching regions from /home/adrian/school/KNN/CLIP/filtered_texts/277b3705-d3f3-475e-8efc-36b532e174b7.xml\n",
      "INFO: Removed 1 matching regions from /home/adrian/school/KNN/CLIP/filtered_texts/dcaf6637-7653-4cc0-897f-37d84b3eec63.xml\n",
      "INFO: Removed 1 matching regions from /home/adrian/school/KNN/CLIP/filtered_texts/07c7c666-3bcf-4aee-b3bc-552fe4bf254a.xml\n",
      "INFO: Removed 1 matching regions from /home/adrian/school/KNN/CLIP/filtered_texts/8e579df2-db51-11e7-ad0b-00155d012102.xml\n",
      "INFO: Removed 2 matching regions from /home/adrian/school/KNN/CLIP/filtered_texts/3a199ec9-6b3e-11e5-bb63-001b21d0d3a4.xml\n",
      "INFO: Removed 1 matching regions from /home/adrian/school/KNN/CLIP/filtered_texts/84ae031e-5253-427e-b18d-a7d782f8742d.xml\n",
      "INFO: Removed 1 matching regions from /home/adrian/school/KNN/CLIP/filtered_texts/422fd370-ddf9-11df-9e8a-0030487be43a.xml\n",
      "INFO: Removed 2 matching regions from /home/adrian/school/KNN/CLIP/filtered_texts/0afc6cd0-1b58-11dd-aca0-000d606f5dc6.xml\n",
      "INFO: Removed 1 matching regions from /home/adrian/school/KNN/CLIP/filtered_texts/08ac6690-e47c-11e2-b860-0030487be43a.xml\n",
      "INFO: Removed 2 matching regions from /home/adrian/school/KNN/CLIP/filtered_texts/70dc30e2-4d5d-4b77-bfeb-2c99933ffb1c.xml\n",
      "INFO: Removed 1 matching regions from /home/adrian/school/KNN/CLIP/filtered_texts/31b6b5b1-5d24-4fe3-8ec3-44b6a9be0430.xml\n",
      "INFO: Removed 1 matching regions from /home/adrian/school/KNN/CLIP/filtered_texts/8e7efd3b-a2f5-428d-82a2-4e17d7ce5fef.xml\n",
      "INFO: Removed 1 matching regions from /home/adrian/school/KNN/CLIP/filtered_texts/6e1acb26-765f-4267-ad70-7d358070e7f6.xml\n",
      "INFO: Removed 1 matching regions from /home/adrian/school/KNN/CLIP/filtered_texts/2404a9d6-c5a0-11e1-1154-001143e3f55c.xml\n",
      "INFO: Removed 1 matching regions from /home/adrian/school/KNN/CLIP/filtered_texts/c310993f-9638-11e8-a0d6-00155d012102.xml\n",
      "INFO: Removed 4 matching regions from /home/adrian/school/KNN/CLIP/filtered_texts/02f590b9-ebc1-11e3-b214-001b63bd97ba.xml\n",
      "INFO: Removed 2 matching regions from /home/adrian/school/KNN/CLIP/filtered_texts/0c6af995-bf88-11e1-1232-001143e3f55c.xml\n",
      "INFO: Removed 1 matching regions from /home/adrian/school/KNN/CLIP/filtered_texts/5eeb45a2-4879-4074-8f64-1ccc5e4980e2.xml\n",
      "INFO: Removed 1 matching regions from /home/adrian/school/KNN/CLIP/filtered_texts/677fba33-28b3-491c-a6ce-220bf838a71b.xml\n",
      "INFO: Removed 1 matching regions from /home/adrian/school/KNN/CLIP/filtered_texts/741d941a-59b8-11e8-b45f-001999480be2.xml\n",
      "INFO: Removed 2 matching regions from /home/adrian/school/KNN/CLIP/filtered_texts/a661004a-7535-4aff-afd6-bff20ba4cc2a.xml\n",
      "INFO: Removed 1 matching regions from /home/adrian/school/KNN/CLIP/filtered_texts/102e4bc3-2147-44e9-833a-45c6adbe5b13.xml\n",
      "INFO: Removed 7 matching regions from /home/adrian/school/KNN/CLIP/filtered_texts/61d21f20-2b74-4141-9cf8-a88e2da61530.xml\n",
      "INFO: Removed 1 matching regions from /home/adrian/school/KNN/CLIP/filtered_texts/c79d79e4-4611-11e1-1586-001143e3f55c.xml\n",
      "INFO: Removed 1 matching regions from /home/adrian/school/KNN/CLIP/filtered_texts/de04f540-7f24-11dd-baaf-0013d398622b.xml\n",
      "INFO: Removed 2 matching regions from /home/adrian/school/KNN/CLIP/filtered_texts/b70e3920-e462-44d7-8f4c-2df0d050ef07.xml\n",
      "INFO: Removed 1 matching regions from /home/adrian/school/KNN/CLIP/filtered_texts/5c2bcb97-219c-11ea-8bef-001999480be2.xml\n",
      "INFO: Removed 2 matching regions from /home/adrian/school/KNN/CLIP/filtered_texts/856a5810-9f4e-4c48-8caf-f8ce9b73cf1e.xml\n",
      "INFO: Removed 2 matching regions from /home/adrian/school/KNN/CLIP/filtered_texts/2317c729-3e42-11e1-bdd3-005056a60003.xml\n",
      "INFO: Removed 1 matching regions from /home/adrian/school/KNN/CLIP/filtered_texts/a9f76295-4c6d-4a69-9ace-cde8035a3b31.xml\n",
      "INFO: Removed 2 matching regions from /home/adrian/school/KNN/CLIP/filtered_texts/a07d115b-59ba-11e8-b45f-001999480be2.xml\n",
      "INFO: Removed 2 matching regions from /home/adrian/school/KNN/CLIP/filtered_texts/ca0c3fdd-3316-11ec-9321-001b63bd97ba.xml\n",
      "INFO: Removed 4 matching regions from /home/adrian/school/KNN/CLIP/filtered_texts/50e933ba-d71d-4fd6-a33f-9c4d13a3d7c9.xml\n",
      "INFO: Removed 1 matching regions from /home/adrian/school/KNN/CLIP/filtered_texts/3f1d73d6-f711-11e9-94c9-001999480be2.xml\n",
      "INFO: Removed 2 matching regions from /home/adrian/school/KNN/CLIP/filtered_texts/7a123bce-5ff1-49bc-a239-bdaa0f336d9e.xml\n",
      "INFO: Removed 1 matching regions from /home/adrian/school/KNN/CLIP/filtered_texts/2c4a90b0-61f2-47a2-a4c5-424613ee3b07.xml\n",
      "INFO: Removed 1 matching regions from /home/adrian/school/KNN/CLIP/filtered_texts/5e18a3a1-435f-11dd-b505-00145e5790ea.xml\n",
      "INFO: Removed 2 matching regions from /home/adrian/school/KNN/CLIP/filtered_texts/8f9942ca-e16f-46b5-a350-51b2182fe98a.xml\n",
      "INFO: Removed 1 matching regions from /home/adrian/school/KNN/CLIP/filtered_texts/dd585057-fbb7-11e9-99ae-001999480be2.xml\n",
      "INFO: Removed 2 matching regions from /home/adrian/school/KNN/CLIP/filtered_texts/a2934f4c-d0f4-11e7-9b7b-001b63bd97ba.xml\n",
      "INFO: Removed 1 matching regions from /home/adrian/school/KNN/CLIP/filtered_texts/24f8965c-219b-11ea-8bef-001999480be2.xml\n",
      "INFO: Removed 1 matching regions from /home/adrian/school/KNN/CLIP/filtered_texts/8d620620-c21b-11dd-b143-000d606f5dc6.xml\n",
      "INFO: Removed 1 matching regions from /home/adrian/school/KNN/CLIP/filtered_texts/d3784b36-4611-11e1-1418-001143e3f55c.xml\n",
      "INFO: Removed 4 matching regions from /home/adrian/school/KNN/CLIP/filtered_texts/246ab81f-331b-11ec-a6f0-001b63bd97ba.xml\n",
      "INFO: Removed 1 matching regions from /home/adrian/school/KNN/CLIP/filtered_texts/8ff9a290-4ed7-4b79-b5cf-23b01af5c15d.xml\n",
      "INFO: Removed 1 matching regions from /home/adrian/school/KNN/CLIP/filtered_texts/b071c674-4611-11e1-1431-001143e3f55c.xml\n",
      "INFO: Removed 2 matching regions from /home/adrian/school/KNN/CLIP/filtered_texts/a98e1602-c3ec-11e9-adcd-001999480be2.xml\n",
      "INFO: Removed 4 matching regions from /home/adrian/school/KNN/CLIP/filtered_texts/0fb057f0-1b58-11dd-b90d-000d606f5dc6.xml\n",
      "INFO: Removed 2 matching regions from /home/adrian/school/KNN/CLIP/filtered_texts/2f291463-891f-455c-b95d-af22f1bce097.xml\n",
      "INFO: Removed 1 matching regions from /home/adrian/school/KNN/CLIP/filtered_texts/1f989af0-a340-4fa1-867a-4cb54955c66c.xml\n",
      "INFO: Removed 1 matching regions from /home/adrian/school/KNN/CLIP/filtered_texts/781bdd82-ebca-11e3-8d06-001b63bd97ba.xml\n",
      "INFO: Removed 1 matching regions from /home/adrian/school/KNN/CLIP/filtered_texts/2bef57b9-565b-44da-9440-7e3a10e540e4.xml\n",
      "INFO: Removed 2 matching regions from /home/adrian/school/KNN/CLIP/filtered_texts/386ef930-c280-11e9-92f0-001999480be2.xml\n",
      "INFO: Removed 2 matching regions from /home/adrian/school/KNN/CLIP/filtered_texts/086f9546-9f1a-4431-acb5-7e21d00009fd.xml\n",
      "INFO: Removed 2 matching regions from /home/adrian/school/KNN/CLIP/filtered_texts/48938b3f-e23d-11e6-8e53-001999480be2.xml\n",
      "INFO: Removed 2 matching regions from /home/adrian/school/KNN/CLIP/filtered_texts/58967619-0d7f-11e3-1154-001143e3f55c.xml\n",
      "INFO: Removed 1 matching regions from /home/adrian/school/KNN/CLIP/filtered_texts/b0c62078-4334-11e1-1278-001143e3f55c.xml\n",
      "INFO: Removed 1 matching regions from /home/adrian/school/KNN/CLIP/filtered_texts/c57455fd-28fd-44e3-8b40-66c8f9bd0426.xml\n",
      "INFO: Removed 2 matching regions from /home/adrian/school/KNN/CLIP/filtered_texts/8a73eb48-e658-11e3-8201-001b63bd97ba.xml\n",
      "INFO: Removed 2 matching regions from /home/adrian/school/KNN/CLIP/filtered_texts/20a1bce4-9e1e-4979-a2f6-f7a488b4729b.xml\n",
      "INFO: Removed 1 matching regions from /home/adrian/school/KNN/CLIP/filtered_texts/efb01b29-0a71-11eb-b9eb-001b63bd97ba.xml\n",
      "INFO: Removed 1 matching regions from /home/adrian/school/KNN/CLIP/filtered_texts/52e460df-6e51-46ef-8bbd-262962bfe42e.xml\n",
      "INFO: Removed 1 matching regions from /home/adrian/school/KNN/CLIP/filtered_texts/f555680e-7a93-4489-a89a-291f1c9f369c.xml\n",
      "INFO: Removed 3 matching regions from /home/adrian/school/KNN/CLIP/filtered_texts/05bd2c8e-830f-11e5-8940-001999480be2.xml\n",
      "INFO: Removed 2 matching regions from /home/adrian/school/KNN/CLIP/filtered_texts/21f37f86-a671-11e6-adc0-d485646517a0.xml\n",
      "INFO: Removed 1 matching regions from /home/adrian/school/KNN/CLIP/filtered_texts/2d328a72-c280-11e9-92f0-001999480be2.xml\n",
      "INFO: Removed 1 matching regions from /home/adrian/school/KNN/CLIP/filtered_texts/84be7c40-ab58-11eb-8ea3-5ef3fc9ae867.xml\n",
      "INFO: Removed 2 matching regions from /home/adrian/school/KNN/CLIP/filtered_texts/60162071-e0b4-45d4-87b7-bdbb4a6802ba.xml\n",
      "INFO: Removed 1 matching regions from /home/adrian/school/KNN/CLIP/filtered_texts/17f56ba0-31ac-11df-b959-0030487be43a.xml\n",
      "INFO: Removed 1 matching regions from /home/adrian/school/KNN/CLIP/filtered_texts/948596b7-bbab-11e1-6101-001143e3f55c.xml\n",
      "INFO: Removed 1 matching regions from /home/adrian/school/KNN/CLIP/filtered_texts/32fdbb0b-e257-11e6-bd32-001999480be2.xml\n",
      "INFO: Removed 1 matching regions from /home/adrian/school/KNN/CLIP/filtered_texts/76d15cde-e085-42af-8b03-c0607baae688.xml\n",
      "INFO: Removed 3 matching regions from /home/adrian/school/KNN/CLIP/filtered_texts/20e31792-a518-4ff2-94a6-038b8273eead.xml\n",
      "INFO: Removed 1 matching regions from /home/adrian/school/KNN/CLIP/filtered_texts/379ecf46-ffa3-4668-b9af-7c2cad7c7856.xml\n",
      "INFO: Removed 1 matching regions from /home/adrian/school/KNN/CLIP/filtered_texts/2058c5a8-72f8-4bec-9932-795ef4054b79.xml\n",
      "INFO: Removed 2 matching regions from /home/adrian/school/KNN/CLIP/filtered_texts/4ced9fd0-cfd0-11ea-9a89-005056825209.xml\n",
      "INFO: Removed 1 matching regions from /home/adrian/school/KNN/CLIP/filtered_texts/98248448-db35-4977-aade-588ec08a3459.xml\n",
      "INFO: Removed 1 matching regions from /home/adrian/school/KNN/CLIP/filtered_texts/934b0942-8a98-48e0-9c71-236dc2cec037.xml\n",
      "INFO: Removed 1 matching regions from /home/adrian/school/KNN/CLIP/filtered_texts/412dbb83-7161-11e4-b827-001b63bd97ba.xml\n",
      "INFO: Removed 1 matching regions from /home/adrian/school/KNN/CLIP/filtered_texts/a51c6636-f657-11e9-b9f7-001999480be2.xml\n",
      "INFO: Removed 1 matching regions from /home/adrian/school/KNN/CLIP/filtered_texts/c17bdd8b-4931-40c3-97ab-e609cdd9f0a2.xml\n",
      "INFO: Removed 1 matching regions from /home/adrian/school/KNN/CLIP/filtered_texts/e2e10033-d3db-4190-a763-33687e2a2522.xml\n",
      "INFO: Removed 1 matching regions from /home/adrian/school/KNN/CLIP/filtered_texts/69f87fe4-4a14-11e1-8339-001143e3f55c.xml\n",
      "INFO: Removed 2 matching regions from /home/adrian/school/KNN/CLIP/filtered_texts/5c12bb87-bd30-11e6-a419-001b63bd97ba.xml\n",
      "INFO: Removed 1 matching regions from /home/adrian/school/KNN/CLIP/filtered_texts/f67f3980-ac31-11eb-9f2d-5ef3fc9bb22f.xml\n",
      "INFO: Removed 5 matching regions from /home/adrian/school/KNN/CLIP/filtered_texts/4ef42223-db57-11e8-b78f-001b63bd97ba.xml\n",
      "INFO: Removed 5 matching regions from /home/adrian/school/KNN/CLIP/filtered_texts/98f5504c-0792-4c1e-ba73-007498286ae2.xml\n",
      "INFO: Removed 1 matching regions from /home/adrian/school/KNN/CLIP/filtered_texts/452e98d0-e523-11dc-b1f1-000d606f5dc6.xml\n",
      "INFO: Removed 5 matching regions from /home/adrian/school/KNN/CLIP/filtered_texts/3440dabd-7ccd-463c-8a9f-520e7b1ac8cb.xml\n",
      "INFO: Removed 1 matching regions from /home/adrian/school/KNN/CLIP/filtered_texts/379b2fcc-fc8d-47a3-958b-2085be09cc71.xml\n",
      "INFO: Removed 2 matching regions from /home/adrian/school/KNN/CLIP/filtered_texts/44dae220-a666-419a-bb71-1f3a4542a2aa.xml\n",
      "INFO: Removed 1 matching regions from /home/adrian/school/KNN/CLIP/filtered_texts/D14F8090-1222-11DE-AF19-0030487BE43A.xml\n",
      "INFO: Removed 1 matching regions from /home/adrian/school/KNN/CLIP/filtered_texts/b9918dcd-c97b-4f4b-be5d-fb82e60ec1d0.xml\n",
      "INFO: Removed 3 matching regions from /home/adrian/school/KNN/CLIP/filtered_texts/7f994c9f-a6ff-4e12-9a7a-b290c929a2a8.xml\n",
      "INFO: Removed 1 matching regions from /home/adrian/school/KNN/CLIP/filtered_texts/91e55c6f-d7d1-4be5-b162-5ba5294192ea.xml\n",
      "INFO: Removed 2 matching regions from /home/adrian/school/KNN/CLIP/filtered_texts/eb77ed79-5d5c-44bf-8b60-5cdbac3bef83.xml\n",
      "INFO: Removed 1 matching regions from /home/adrian/school/KNN/CLIP/filtered_texts/e1151010-e2b8-430b-bb06-f9baaf6416e8.xml\n",
      "INFO: Removed 2 matching regions from /home/adrian/school/KNN/CLIP/filtered_texts/5219f64c-a67b-11e6-adc0-d485646517a0.xml\n",
      "INFO: Removed 1 matching regions from /home/adrian/school/KNN/CLIP/filtered_texts/799da8cf-100f-11e9-90ef-001999480be2.xml\n",
      "INFO: Removed 1 matching regions from /home/adrian/school/KNN/CLIP/filtered_texts/246b2d7a-331b-11ec-a6f0-001b63bd97ba.xml\n",
      "INFO: Removed 1 matching regions from /home/adrian/school/KNN/CLIP/filtered_texts/5d8f6cb1-f022-4d8e-939a-16880c700667.xml\n",
      "INFO: Removed 1 matching regions from /home/adrian/school/KNN/CLIP/filtered_texts/e153c848-f658-11e9-b9f7-001999480be2.xml\n",
      "INFO: Removed 1 matching regions from /home/adrian/school/KNN/CLIP/filtered_texts/740261bb-435f-11dd-b505-00145e5790ea.xml\n",
      "INFO: Removed 1 matching regions from /home/adrian/school/KNN/CLIP/filtered_texts/d240cfe5-6218-4a63-abb6-86ef4c1d7a46.xml\n",
      "INFO: Removed 1 matching regions from /home/adrian/school/KNN/CLIP/filtered_texts/47c5d27d-82bf-4987-ae26-3d593133b143.xml\n",
      "INFO: Removed 1 matching regions from /home/adrian/school/KNN/CLIP/filtered_texts/baeab4d7-47fc-11e1-1331-001143e3f55c.xml\n",
      "INFO: Removed 1 matching regions from /home/adrian/school/KNN/CLIP/filtered_texts/245a2321-dac7-44d1-81c4-6e1cfd9942e0.xml\n",
      "INFO: Removed 1 matching regions from /home/adrian/school/KNN/CLIP/filtered_texts/e27793e0-3c40-49c3-93b3-c51f59221800.xml\n",
      "INFO: Removed 1 matching regions from /home/adrian/school/KNN/CLIP/filtered_texts/c2232431-7e34-11e5-a611-d485646517a0.xml\n",
      "INFO: Removed 1 matching regions from /home/adrian/school/KNN/CLIP/filtered_texts/617bf4c0-4a14-11e1-1331-001143e3f55c.xml\n",
      "INFO: Removed 1 matching regions from /home/adrian/school/KNN/CLIP/filtered_texts/01c217e1-625f-41f6-910d-5452ba9447ae.xml\n",
      "INFO: Removed 1 matching regions from /home/adrian/school/KNN/CLIP/filtered_texts/367e6606-a670-11e6-adc0-d485646517a0.xml\n",
      "INFO: Removed 2 matching regions from /home/adrian/school/KNN/CLIP/filtered_texts/c9040955-148b-11e1-8339-001143e3f55c.xml\n",
      "INFO: Removed 2 matching regions from /home/adrian/school/KNN/CLIP/filtered_texts/1061b551-ab59-11eb-9f2d-5ef3fc9bb22f.xml\n",
      "INFO: Removed 1 matching regions from /home/adrian/school/KNN/CLIP/filtered_texts/c96886ab-6761-11e9-bca3-001999480be2.xml\n",
      "INFO: Removed 1 matching regions from /home/adrian/school/KNN/CLIP/filtered_texts/37a02c26-a138-437b-8ab1-04c7bbeb55ce.xml\n",
      "INFO: Removed 1 matching regions from /home/adrian/school/KNN/CLIP/filtered_texts/6fd34434-ffeb-4e58-b809-9e3dc41a6135.xml\n",
      "INFO: Removed 2 matching regions from /home/adrian/school/KNN/CLIP/filtered_texts/480f1eef-435e-11dd-b505-00145e5790ea.xml\n",
      "INFO: Removed 1 matching regions from /home/adrian/school/KNN/CLIP/filtered_texts/b5e5e2b0-82a9-11df-9301-0030487be43a.xml\n",
      "INFO: Removed 1 matching regions from /home/adrian/school/KNN/CLIP/filtered_texts/c15e80a0-4d2c-11df-922a-0030487be43a.xml\n",
      "INFO: Removed 2 matching regions from /home/adrian/school/KNN/CLIP/filtered_texts/4463c2fe-0f65-428d-a968-c91b2db8b8c8.xml\n",
      "INFO: Removed 3 matching regions from /home/adrian/school/KNN/CLIP/filtered_texts/16b2e11d-1154-431d-b191-0fa343ed543d.xml\n",
      "INFO: Removed 3 matching regions from /home/adrian/school/KNN/CLIP/filtered_texts/486f04a2-3ed9-11e7-b97e-001b63bd97ba.xml\n",
      "INFO: Removed 1 matching regions from /home/adrian/school/KNN/CLIP/filtered_texts/de167c6e-b51a-4b71-8f47-c9ba51ee666d.xml\n",
      "INFO: Removed 1 matching regions from /home/adrian/school/KNN/CLIP/filtered_texts/1557ea2d-d59c-455f-89b6-ff1adcd14ac0.xml\n",
      "INFO: Removed 1 matching regions from /home/adrian/school/KNN/CLIP/filtered_texts/0288b1dd-acdb-11eb-a2bf-001b63bd97ba.xml\n",
      "INFO: Removed 2 matching regions from /home/adrian/school/KNN/CLIP/filtered_texts/d732bb0d-4611-11e1-1586-001143e3f55c.xml\n",
      "INFO: Removed 3 matching regions from /home/adrian/school/KNN/CLIP/filtered_texts/43c67884-435e-11dd-b505-00145e5790ea.xml\n",
      "INFO: Removed 1 matching regions from /home/adrian/school/KNN/CLIP/filtered_texts/2f5b95d8-7631-4b57-8573-3879bd7c4c96.xml\n",
      "INFO: Removed 2 matching regions from /home/adrian/school/KNN/CLIP/filtered_texts/450194e1-4efb-11e9-aa8e-005056a2b051.xml\n",
      "INFO: Removed 2 matching regions from /home/adrian/school/KNN/CLIP/filtered_texts/ff75d234-434a-4430-8eee-48a6bea519f8.xml\n",
      "INFO: Removed 1 matching regions from /home/adrian/school/KNN/CLIP/filtered_texts/e0f3101b-013d-11ea-bd5c-001999480be2.xml\n",
      "INFO: Removed 1 matching regions from /home/adrian/school/KNN/CLIP/filtered_texts/4beb28fd-97b6-43ca-913c-5dc60d0643e0.xml\n",
      "INFO: Removed 1 matching regions from /home/adrian/school/KNN/CLIP/filtered_texts/4d5d4c69-3597-48f4-9a9b-0a5f488425e4.xml\n",
      "INFO: Removed 1 matching regions from /home/adrian/school/KNN/CLIP/filtered_texts/803b02ad-4a51-4d27-8c13-7bfaa4c9c915.xml\n",
      "INFO: Removed 1 matching regions from /home/adrian/school/KNN/CLIP/filtered_texts/baf56782-148b-11e1-8339-001143e3f55c.xml\n",
      "INFO: Removed 1 matching regions from /home/adrian/school/KNN/CLIP/filtered_texts/84131b2c-4393-11eb-9bf5-001999480be2.xml\n",
      "INFO: Removed 1 matching regions from /home/adrian/school/KNN/CLIP/filtered_texts/0622d046-128f-4848-870c-fa3c76acd8ec.xml\n",
      "INFO: Removed 1 matching regions from /home/adrian/school/KNN/CLIP/filtered_texts/510b3f14-6e96-42d3-80f8-74b074bb8031.xml\n",
      "INFO: Removed 1 matching regions from /home/adrian/school/KNN/CLIP/filtered_texts/36c28d1e-e75b-11e8-a438-d485646517a0.xml\n",
      "INFO: Removed 1 matching regions from /home/adrian/school/KNN/CLIP/filtered_texts/453cc218-4648-11e9-8ee0-00155d012102.xml\n",
      "INFO: Removed 2 matching regions from /home/adrian/school/KNN/CLIP/filtered_texts/53300af0-b639-11ea-9b5d-005056825209.xml\n",
      "INFO: Removed 1 matching regions from /home/adrian/school/KNN/CLIP/filtered_texts/418a453a-b7e8-4444-a6fb-9d8a3b0b11d9.xml\n",
      "INFO: Removed 1 matching regions from /home/adrian/school/KNN/CLIP/filtered_texts/dd585038-fbb7-11e9-99ae-001999480be2.xml\n",
      "INFO: Removed 3 matching regions from /home/adrian/school/KNN/CLIP/filtered_texts/0828f4e4-ec68-4133-af9e-52cc1e9dd692.xml\n",
      "INFO: Removed 7 matching regions from /home/adrian/school/KNN/CLIP/filtered_texts/2c77bcf1-3188-11eb-91fc-001b63bd97ba.xml\n",
      "INFO: Removed 1 matching regions from /home/adrian/school/KNN/CLIP/filtered_texts/1fa42700-a2d3-4dab-af62-1f0005e25272.xml\n",
      "INFO: Removed 2 matching regions from /home/adrian/school/KNN/CLIP/filtered_texts/889c05aa-4088-43d6-8e2b-3f59c2099eb8.xml\n",
      "INFO: Removed 2 matching regions from /home/adrian/school/KNN/CLIP/filtered_texts/a999fae5-43be-11eb-b2c7-001999480be2.xml\n",
      "INFO: Removed 3 matching regions from /home/adrian/school/KNN/CLIP/filtered_texts/3a591d38-5a88-11e7-8040-d485646517a0.xml\n",
      "INFO: Removed 1 matching regions from /home/adrian/school/KNN/CLIP/filtered_texts/50d1a2e2-5625-11e1-1418-001143e3f55c.xml\n",
      "INFO: Removed 12 matching regions from /home/adrian/school/KNN/CLIP/filtered_texts/2001c6c0-080c-11dd-b663-000d606f5dc6.xml\n",
      "INFO: Removed 1 matching regions from /home/adrian/school/KNN/CLIP/filtered_texts/46c19f04-f992-493d-a047-bf28d7281e2d.xml\n",
      "INFO: Removed 1 matching regions from /home/adrian/school/KNN/CLIP/filtered_texts/e2d0a93a-ebab-48be-b263-5d9d8ff5e892.xml\n",
      "INFO: Removed 1 matching regions from /home/adrian/school/KNN/CLIP/filtered_texts/eee064f5-bca1-41fc-9017-c640927650f8.xml\n",
      "INFO: Removed 2 matching regions from /home/adrian/school/KNN/CLIP/filtered_texts/d8fbee90-8e42-45b3-8f09-a3dd83f35d9b.xml\n",
      "INFO: Removed 1 matching regions from /home/adrian/school/KNN/CLIP/filtered_texts/52a1a75c-e3aa-11e6-9028-001999480be2.xml\n",
      "INFO: Removed 1 matching regions from /home/adrian/school/KNN/CLIP/filtered_texts/34fab046-690c-4fa2-8585-ec54459c10be.xml\n",
      "INFO: Removed 1 matching regions from /home/adrian/school/KNN/CLIP/filtered_texts/0eb6f8cd-89fa-4273-ad0e-1fe34ee17fe5.xml\n",
      "INFO: Removed 1 matching regions from /home/adrian/school/KNN/CLIP/filtered_texts/baf539cb-58b9-434c-b87f-9b1ed8c55dd5.xml\n",
      "INFO: Removed 2 matching regions from /home/adrian/school/KNN/CLIP/filtered_texts/8d8b365e-82ab-11e9-aa6f-00155d012102.xml\n",
      "INFO: Removed 2 matching regions from /home/adrian/school/KNN/CLIP/filtered_texts/3f1de89b-f711-11e9-94c9-001999480be2.xml\n",
      "INFO: Removed 1 matching regions from /home/adrian/school/KNN/CLIP/filtered_texts/4768cc20-435e-11dd-b505-00145e5790ea.xml\n",
      "INFO: Removed 1 matching regions from /home/adrian/school/KNN/CLIP/filtered_texts/822fd8b3-2547-11e9-885c-001999480be2.xml\n",
      "INFO: Removed 1 matching regions from /home/adrian/school/KNN/CLIP/filtered_texts/4b627e59-5625-11e1-1726-001143e3f55c.xml\n",
      "INFO: Removed 1 matching regions from /home/adrian/school/KNN/CLIP/filtered_texts/26a6baa3-dba9-40ce-b8c2-ca5ac24c336f.xml\n",
      "INFO: Removed 1 matching regions from /home/adrian/school/KNN/CLIP/filtered_texts/7b3473b1-4948-11eb-b0ca-001999480be2.xml\n",
      "INFO: Removed 1 matching regions from /home/adrian/school/KNN/CLIP/filtered_texts/24622d41-331b-11ec-a6f0-001b63bd97ba.xml\n",
      "INFO: Removed 8 matching regions from /home/adrian/school/KNN/CLIP/filtered_texts/db56d183-b110-4eae-8218-c9ab0f2df99b.xml\n",
      "INFO: Removed 1 matching regions from /home/adrian/school/KNN/CLIP/filtered_texts/6fe55bb2-040a-4ba0-9401-7b0c01e26382.xml\n",
      "INFO: Removed 1 matching regions from /home/adrian/school/KNN/CLIP/filtered_texts/75e943ed-7807-4b70-8551-82a68bace3aa.xml\n",
      "INFO: Removed 1 matching regions from /home/adrian/school/KNN/CLIP/filtered_texts/5ff2ebad-e19c-4929-99e6-dfae7125bb81.xml\n",
      "INFO: Removed 1 matching regions from /home/adrian/school/KNN/CLIP/filtered_texts/db0c6bc5-3cfa-11e1-1119-001143e3f55c.xml\n",
      "INFO: Removed 1 matching regions from /home/adrian/school/KNN/CLIP/filtered_texts/a60bf9dc-ef44-47c6-94c4-474d55f34e96.xml\n",
      "INFO: Removed 1 matching regions from /home/adrian/school/KNN/CLIP/filtered_texts/e156ca84-ec7f-11e3-a2e8-001b63bd97ba.xml\n",
      "INFO: Removed 6 matching regions from /home/adrian/school/KNN/CLIP/filtered_texts/745e0bbe-435e-11dd-b505-00145e5790ea.xml\n",
      "INFO: Removed 1 matching regions from /home/adrian/school/KNN/CLIP/filtered_texts/1c921195-8fd8-4a7a-b1a4-a8f37140add4.xml\n",
      "INFO: Removed 1 matching regions from /home/adrian/school/KNN/CLIP/filtered_texts/cfda6210-9b1d-4c22-975d-345e1c5b307e.xml\n",
      "INFO: Removed 1 matching regions from /home/adrian/school/KNN/CLIP/filtered_texts/b0f0b317-fda4-4768-9682-fdde3554b642.xml\n",
      "INFO: Removed 1 matching regions from /home/adrian/school/KNN/CLIP/filtered_texts/3e9a5046-435e-11dd-b505-00145e5790ea.xml\n",
      "INFO: Removed 2 matching regions from /home/adrian/school/KNN/CLIP/filtered_texts/04a9e13a-fd12-11e7-8209-00155d012102.xml\n",
      "INFO: Removed 1 matching regions from /home/adrian/school/KNN/CLIP/filtered_texts/738bcbe0-b100-4ee0-a4c5-aa2b380340cc.xml\n",
      "INFO: Removed 2 matching regions from /home/adrian/school/KNN/CLIP/filtered_texts/0620ed83-83d2-11e5-b701-001999480be2.xml\n",
      "INFO: Removed 2 matching regions from /home/adrian/school/KNN/CLIP/filtered_texts/661ed7af-1e4a-415e-993a-109f18c48307.xml\n",
      "INFO: Removed 1 matching regions from /home/adrian/school/KNN/CLIP/filtered_texts/2c3b59d7-c7c0-427b-a66d-babb274c8f2b.xml\n",
      "INFO: Removed 1 matching regions from /home/adrian/school/KNN/CLIP/filtered_texts/1f7a9336-09ae-48ca-9181-3fbc6c010224.xml\n",
      "INFO: Removed 3 matching regions from /home/adrian/school/KNN/CLIP/filtered_texts/48887dde-a683-11e6-adc0-d485646517a0.xml\n",
      "INFO: Removed 1 matching regions from /home/adrian/school/KNN/CLIP/filtered_texts/5b16dfa2-643f-46e9-b6e9-8563d142906d.xml\n",
      "INFO: Removed 2 matching regions from /home/adrian/school/KNN/CLIP/filtered_texts/3b388000-cc2b-11ea-9a89-005056825209.xml\n",
      "INFO: Removed 3 matching regions from /home/adrian/school/KNN/CLIP/filtered_texts/a31d38f3-d111-11e7-8c43-001b63bd97ba.xml\n",
      "INFO: Removed 1 matching regions from /home/adrian/school/KNN/CLIP/filtered_texts/1dd815f1-b306-40e8-b215-616ca60c4039.xml\n",
      "INFO: Removed 2 matching regions from /home/adrian/school/KNN/CLIP/filtered_texts/d246d0c2-4611-11e1-2755-001143e3f55c.xml\n",
      "INFO: Removed 1 matching regions from /home/adrian/school/KNN/CLIP/filtered_texts/ab0f15b0-abcd-11eb-8ea3-5ef3fc9ae867.xml\n",
      "INFO: Removed 2 matching regions from /home/adrian/school/KNN/CLIP/filtered_texts/73de6b66-43c0-11eb-b2c7-001999480be2.xml\n",
      "INFO: Removed 1 matching regions from /home/adrian/school/KNN/CLIP/filtered_texts/4060bd12-de08-482e-8de8-94d08ee6eff4.xml\n",
      "INFO: Removed 1 matching regions from /home/adrian/school/KNN/CLIP/filtered_texts/b7b12425-ae33-11e1-4047-001143e3f55c.xml\n",
      "INFO: Removed 1 matching regions from /home/adrian/school/KNN/CLIP/filtered_texts/73a2ec94-04fb-4364-901d-26b8f3ed29e2.xml\n",
      "INFO: Removed 2 matching regions from /home/adrian/school/KNN/CLIP/filtered_texts/356b2de0-3c87-4afc-a9c8-a65b7a39d858.xml\n",
      "INFO: Removed 3 matching regions from /home/adrian/school/KNN/CLIP/filtered_texts/7ae7454e-ffd3-11e9-b286-00155d012102.xml\n",
      "INFO: Removed 1 matching regions from /home/adrian/school/KNN/CLIP/filtered_texts/714ebe78-90c0-45f9-9843-1981ccde93f7.xml\n",
      "INFO: Removed 2 matching regions from /home/adrian/school/KNN/CLIP/filtered_texts/c1ec9185-4611-11e1-1726-001143e3f55c.xml\n",
      "INFO: Removed 2 matching regions from /home/adrian/school/KNN/CLIP/filtered_texts/e42e4ed8-628b-486e-94d2-a2ebdfcfe360.xml\n",
      "INFO: Removed 2 matching regions from /home/adrian/school/KNN/CLIP/filtered_texts/099dee40-1b58-11dd-93f5-000d606f5dc6.xml\n",
      "INFO: Removed 1 matching regions from /home/adrian/school/KNN/CLIP/filtered_texts/59cd4522-539e-485c-861f-ea6fd7e62a02.xml\n",
      "INFO: Removed 1 matching regions from /home/adrian/school/KNN/CLIP/filtered_texts/3c33d983-59ba-11e8-b45f-001999480be2.xml\n",
      "INFO: Removed 1 matching regions from /home/adrian/school/KNN/CLIP/filtered_texts/c78ff1b7-ae33-11e1-1586-001143e3f55c.xml\n",
      "INFO: Removed 1 matching regions from /home/adrian/school/KNN/CLIP/filtered_texts/bcc2fa72-d214-497e-b9ec-5025511f09a2.xml\n",
      "INFO: Removed 1 matching regions from /home/adrian/school/KNN/CLIP/filtered_texts/cda1e2f8-b024-4de8-bb15-2a1cf7879b1f.xml\n",
      "INFO: Removed 1 matching regions from /home/adrian/school/KNN/CLIP/filtered_texts/2ba56346-bb42-4c41-a6e7-2e688fd8ad80.xml\n",
      "INFO: Removed 1 matching regions from /home/adrian/school/KNN/CLIP/filtered_texts/b5261770-643d-11e0-818b-000d606f5dc6.xml\n",
      "INFO: Removed 1 matching regions from /home/adrian/school/KNN/CLIP/filtered_texts/ad9f7756-bac8-11e1-4047-001143e3f55c.xml\n",
      "INFO: Removed 1 matching regions from /home/adrian/school/KNN/CLIP/filtered_texts/6d1ea120-d79f-11df-b44c-0030487be43a.xml\n",
      "INFO: Removed 4 matching regions from /home/adrian/school/KNN/CLIP/filtered_texts/46c29182-e3de-11e6-8595-d485646517a0.xml\n",
      "INFO: Removed 1 matching regions from /home/adrian/school/KNN/CLIP/filtered_texts/005691ff-906e-421f-a6c5-2fa7ece2fb9b.xml\n",
      "INFO: Removed 1 matching regions from /home/adrian/school/KNN/CLIP/filtered_texts/d9139cc3-ac7e-4cf7-9693-4ae94068e6d5.xml\n",
      "INFO: Removed 6 matching regions from /home/adrian/school/KNN/CLIP/filtered_texts/bd12dd20-abc1-11eb-8c6c-005056827e51.xml\n",
      "INFO: Removed 1 matching regions from /home/adrian/school/KNN/CLIP/filtered_texts/699b2f68-823a-11e5-9cc3-001999480be2.xml\n",
      "INFO: Removed 1 matching regions from /home/adrian/school/KNN/CLIP/filtered_texts/720efd69-2259-11ea-8d84-001b63bd97ba.xml\n",
      "INFO: Removed 1 matching regions from /home/adrian/school/KNN/CLIP/filtered_texts/dd59fe28-fbb7-11e9-99ae-001999480be2.xml\n",
      "INFO: Removed 1 matching regions from /home/adrian/school/KNN/CLIP/filtered_texts/e4ea28c6-0da8-4e11-850f-d7f37c006ba2.xml\n",
      "INFO: Removed 1 matching regions from /home/adrian/school/KNN/CLIP/filtered_texts/1eb46610-1ab7-11de-b194-0030487be43a.xml\n",
      "INFO: Removed 3 matching regions from /home/adrian/school/KNN/CLIP/filtered_texts/28c3c826-e58f-4e9b-9e19-71d3d3ed73c1.xml\n",
      "INFO: Removed 1 matching regions from /home/adrian/school/KNN/CLIP/filtered_texts/cce3c253-b956-4057-8c5e-99bb4463cae6.xml\n",
      "INFO: Removed 1 matching regions from /home/adrian/school/KNN/CLIP/filtered_texts/bf22a44f-4176-4988-b867-df7b5c149932.xml\n",
      "INFO: Removed 1 matching regions from /home/adrian/school/KNN/CLIP/filtered_texts/486ff410-0e3c-11e3-a73e-0030487be43a.xml\n",
      "INFO: Removed 1 matching regions from /home/adrian/school/KNN/CLIP/filtered_texts/12d1b140-a677-11e6-adc0-d485646517a0.xml\n",
      "INFO: Removed 2 matching regions from /home/adrian/school/KNN/CLIP/filtered_texts/81238141-536c-40a9-88d8-a9bd1927249b.xml\n",
      "INFO: Removed 1 matching regions from /home/adrian/school/KNN/CLIP/filtered_texts/35368e6d-2182-485d-a604-32401245fc02.xml\n",
      "INFO: Removed 2 matching regions from /home/adrian/school/KNN/CLIP/filtered_texts/380992f0-e23f-11ea-804d-005056827e51.xml\n",
      "INFO: Removed 1 matching regions from /home/adrian/school/KNN/CLIP/filtered_texts/97ecee31-4647-11e9-8ee0-00155d012102.xml\n",
      "INFO: Removed 1 matching regions from /home/adrian/school/KNN/CLIP/filtered_texts/ccb0b227-fa45-11e9-be7c-001999480be2.xml\n",
      "INFO: Removed 3 matching regions from /home/adrian/school/KNN/CLIP/filtered_texts/3f1de8ad-f711-11e9-94c9-001999480be2.xml\n",
      "INFO: Removed 1 matching regions from /home/adrian/school/KNN/CLIP/filtered_texts/3bbe3f90-fae1-11e9-92a2-001999480be2.xml\n",
      "INFO: Removed 1 matching regions from /home/adrian/school/KNN/CLIP/filtered_texts/a1ca0810-fed6-11ea-8f65-005056825209.xml\n",
      "INFO: Removed 1 matching regions from /home/adrian/school/KNN/CLIP/filtered_texts/a1f5a44c-4c6a-11e1-1418-001143e3f55c.xml\n",
      "INFO: Removed 1 matching regions from /home/adrian/school/KNN/CLIP/filtered_texts/cf434a6c-661c-4dca-a392-d9ee58a05f4b.xml\n",
      "INFO: Removed 1 matching regions from /home/adrian/school/KNN/CLIP/filtered_texts/851a34d6-4394-11eb-9bf5-001999480be2.xml\n",
      "INFO: Removed 1 matching regions from /home/adrian/school/KNN/CLIP/filtered_texts/70487741-1728-4af8-a607-4037bc7d45ef.xml\n",
      "INFO: Removed 1 matching regions from /home/adrian/school/KNN/CLIP/filtered_texts/13635273-43c0-11eb-b2c7-001999480be2.xml\n",
      "INFO: Removed 1 matching regions from /home/adrian/school/KNN/CLIP/filtered_texts/de5443b8-3cfa-11e1-3052-001143e3f55c.xml\n",
      "INFO: Removed 1 matching regions from /home/adrian/school/KNN/CLIP/filtered_texts/b5d91919-47fc-11e1-2544-001143e3f55c.xml\n",
      "INFO: Removed 1 matching regions from /home/adrian/school/KNN/CLIP/filtered_texts/59ba4ea8-698d-4acb-8259-313a9da9bef4.xml\n",
      "INFO: Removed 2 matching regions from /home/adrian/school/KNN/CLIP/filtered_texts/48328558-435e-11dd-b505-00145e5790ea.xml\n",
      "INFO: Removed 1 matching regions from /home/adrian/school/KNN/CLIP/filtered_texts/2200eb32-c5a0-11e1-1586-001143e3f55c.xml\n",
      "INFO: Removed 1 matching regions from /home/adrian/school/KNN/CLIP/filtered_texts/48b54158-5352-4dd1-bac6-0e2d35fefede.xml\n",
      "INFO: Removed 1 matching regions from /home/adrian/school/KNN/CLIP/filtered_texts/b8331423-148b-11e1-8339-001143e3f55c.xml\n",
      "INFO: Removed 2 matching regions from /home/adrian/school/KNN/CLIP/filtered_texts/06f26718-5a8c-11e7-8040-d485646517a0.xml\n",
      "INFO: Removed 1 matching regions from /home/adrian/school/KNN/CLIP/filtered_texts/ab7b72a4-fe81-487f-bc94-a3e341f73297.xml\n",
      "INFO: Removed 1 matching regions from /home/adrian/school/KNN/CLIP/filtered_texts/bfc5c9d6-e3a8-11e6-90f2-001999480be2.xml\n",
      "INFO: Removed 1 matching regions from /home/adrian/school/KNN/CLIP/filtered_texts/24d00ae8-63b5-47b8-af46-45b02bda3f47.xml\n",
      "INFO: Removed 2 matching regions from /home/adrian/school/KNN/CLIP/filtered_texts/939e7379-cf8e-11e7-a61c-001b63bd97ba.xml\n",
      "INFO: Removed 1 matching regions from /home/adrian/school/KNN/CLIP/filtered_texts/d03eebf9-3cfa-11e1-5298-001143e3f55c.xml\n",
      "INFO: Removed 6 matching regions from /home/adrian/school/KNN/CLIP/filtered_texts/c771bf60-65c8-11e0-a2db-000d606f5dc6.xml\n",
      "INFO: Removed 1 matching regions from /home/adrian/school/KNN/CLIP/filtered_texts/c6862602-0906-4289-8565-b093d7442110.xml\n",
      "INFO: Removed 1 matching regions from /home/adrian/school/KNN/CLIP/filtered_texts/0d370460-c19f-43b7-b9d4-cbaf6e4da9a7.xml\n",
      "INFO: Removed 1 matching regions from /home/adrian/school/KNN/CLIP/filtered_texts/f0ceb9bd-65c8-4ff7-846b-a6bcd5bb91e1.xml\n",
      "INFO: Removed 2 matching regions from /home/adrian/school/KNN/CLIP/filtered_texts/054d6170-64f4-11e0-9845-000d606f5dc6.xml\n",
      "INFO: Removed 1 matching regions from /home/adrian/school/KNN/CLIP/filtered_texts/be72f590-148b-11e1-1729-001143e3f55c.xml\n",
      "INFO: Removed 1 matching regions from /home/adrian/school/KNN/CLIP/filtered_texts/56571c49-e0bd-4470-ac19-fb53ef7570d5.xml\n",
      "INFO: Removed 2 matching regions from /home/adrian/school/KNN/CLIP/filtered_texts/21aba43d-ce79-403e-9ead-bc90108929c8.xml\n",
      "INFO: Removed 2 matching regions from /home/adrian/school/KNN/CLIP/filtered_texts/4bb6e7a3-3eda-11e7-b97e-001b63bd97ba.xml\n",
      "INFO: Removed 1 matching regions from /home/adrian/school/KNN/CLIP/filtered_texts/db065049-bc24-4ee5-99b7-61bc459e6ad6.xml\n",
      "INFO: Removed 1 matching regions from /home/adrian/school/KNN/CLIP/filtered_texts/245e8340-331b-11ec-a6f0-001b63bd97ba.xml\n",
      "INFO: Removed 1 matching regions from /home/adrian/school/KNN/CLIP/filtered_texts/ba76e6a1-681f-11e9-99a4-001999480be2.xml\n",
      "INFO: Removed 1 matching regions from /home/adrian/school/KNN/CLIP/filtered_texts/255d5c36-c5a0-11e1-1418-001143e3f55c.xml\n",
      "INFO: Removed 2 matching regions from /home/adrian/school/KNN/CLIP/filtered_texts/5c31e697-712c-11e2-83a5-005056a60003.xml\n",
      "INFO: Removed 3 matching regions from /home/adrian/school/KNN/CLIP/filtered_texts/b46d1efc-cad5-4046-a88c-2d9a7c6857ed.xml\n",
      "INFO: Removed 1 matching regions from /home/adrian/school/KNN/CLIP/filtered_texts/8b6dc90f-59f8-11e9-94c4-001b63bd97ba.xml\n",
      "INFO: Removed 3 matching regions from /home/adrian/school/KNN/CLIP/filtered_texts/197ee088-7e35-11e5-a611-d485646517a0.xml\n",
      "INFO: Removed 1 matching regions from /home/adrian/school/KNN/CLIP/filtered_texts/65ff5741-47d1-499e-bd61-665553d74380.xml\n",
      "INFO: Removed 1 matching regions from /home/adrian/school/KNN/CLIP/filtered_texts/20a42c50-587b-11e5-99c3-00155d010f03.xml\n",
      "INFO: Removed 1 matching regions from /home/adrian/school/KNN/CLIP/filtered_texts/2d7e7de1-1cf5-4c36-9ddc-27e3ef9e7e7d.xml\n",
      "INFO: Removed 2 matching regions from /home/adrian/school/KNN/CLIP/filtered_texts/5f1c689d-3320-11ec-a297-001b63bd97ba.xml\n",
      "INFO: Removed 2 matching regions from /home/adrian/school/KNN/CLIP/filtered_texts/a9060322-2547-11e9-885c-001999480be2.xml\n",
      "INFO: Removed 2 matching regions from /home/adrian/school/KNN/CLIP/filtered_texts/7bffa573-faf5-453c-bc6a-140352c0e281.xml\n",
      "INFO: Removed 3 matching regions from /home/adrian/school/KNN/CLIP/filtered_texts/2f38ed9d-e470-11e8-bdc5-d485646517a0.xml\n",
      "INFO: Removed 1 matching regions from /home/adrian/school/KNN/CLIP/filtered_texts/10e3a668-f711-11e9-94c9-001999480be2.xml\n",
      "INFO: Removed 1 matching regions from /home/adrian/school/KNN/CLIP/filtered_texts/e202be95-06a9-471a-8df6-e5b0a551900d.xml\n",
      "INFO: Removed 1 matching regions from /home/adrian/school/KNN/CLIP/filtered_texts/baf5682e-148b-11e1-8339-001143e3f55c.xml\n",
      "INFO: Removed 1 matching regions from /home/adrian/school/KNN/CLIP/filtered_texts/c409511d-148b-11e1-8339-001143e3f55c.xml\n",
      "INFO: Removed 1 matching regions from /home/adrian/school/KNN/CLIP/filtered_texts/85fac154-d68f-45a9-af1a-ab7d66691d32.xml\n",
      "INFO: Removed 1 matching regions from /home/adrian/school/KNN/CLIP/filtered_texts/9b44e512-e637-11e3-abd1-001b63bd97ba.xml\n",
      "INFO: Removed 1 matching regions from /home/adrian/school/KNN/CLIP/filtered_texts/15a2af53-d53a-420d-a378-9f5aa79b45bc.xml\n",
      "INFO: Removed 1 matching regions from /home/adrian/school/KNN/CLIP/filtered_texts/b1907f84-16d8-4bbd-99c0-c6c0f4f89f57.xml\n",
      "INFO: Removed 3 matching regions from /home/adrian/school/KNN/CLIP/filtered_texts/4c3ff6e1-435e-11dd-b505-00145e5790ea.xml\n",
      "INFO: Removed 2 matching regions from /home/adrian/school/KNN/CLIP/filtered_texts/2464ebcc-331b-11ec-a6f0-001b63bd97ba.xml\n",
      "INFO: Removed 1 matching regions from /home/adrian/school/KNN/CLIP/filtered_texts/144c5889-0a6e-11eb-9aa6-001b63bd97ba.xml\n",
      "INFO: Removed 1 matching regions from /home/adrian/school/KNN/CLIP/filtered_texts/bca4bae4-a176-45fb-b74b-94187ac3c45e.xml\n",
      "INFO: Removed 1 matching regions from /home/adrian/school/KNN/CLIP/filtered_texts/bcb5b810-f8cf-11e1-872e-0030487be43a.xml\n",
      "INFO: Removed 1 matching regions from /home/adrian/school/KNN/CLIP/filtered_texts/336da586-9e7c-4411-95f6-8cdbe55c89e3.xml\n",
      "INFO: Removed 1 matching regions from /home/adrian/school/KNN/CLIP/filtered_texts/2d224db6-06be-4d80-9e06-4f82e7faf8a9.xml\n",
      "INFO: Removed 5 matching regions from /home/adrian/school/KNN/CLIP/filtered_texts/47bbb964-4fad-4d3d-88f6-195cfa85b97b.xml\n",
      "INFO: Removed 1 matching regions from /home/adrian/school/KNN/CLIP/filtered_texts/2c080930-fc21-11e1-97b8-0030487be43a.xml\n",
      "INFO: Removed 4 matching regions from /home/adrian/school/KNN/CLIP/filtered_texts/47451b94-bd30-11e6-a419-001b63bd97ba.xml\n",
      "INFO: Removed 1 matching regions from /home/adrian/school/KNN/CLIP/filtered_texts/b6a70707-1bce-470e-bf9c-48465a6c24f9.xml\n",
      "INFO: Removed 1 matching regions from /home/adrian/school/KNN/CLIP/filtered_texts/53bf77d6-e0dd-4fb2-b85f-685a757baddb.xml\n",
      "INFO: Removed 2 matching regions from /home/adrian/school/KNN/CLIP/filtered_texts/276fb4c9-5dac-4469-a320-69bd1cd73b72.xml\n",
      "INFO: Removed 3 matching regions from /home/adrian/school/KNN/CLIP/filtered_texts/70a1998b-a672-11e6-adc0-d485646517a0.xml\n",
      "INFO: Removed 2 matching regions from /home/adrian/school/KNN/CLIP/filtered_texts/925b5ce5-7e37-11e5-a611-d485646517a0.xml\n",
      "INFO: Removed 3 matching regions from /home/adrian/school/KNN/CLIP/filtered_texts/a9c13712-4387-11eb-a6da-001999480be2.xml\n",
      "INFO: Removed 5 matching regions from /home/adrian/school/KNN/CLIP/filtered_texts/69f18276-a66d-11e6-adc0-d485646517a0.xml\n",
      "INFO: Removed 1 matching regions from /home/adrian/school/KNN/CLIP/filtered_texts/f33d629b-cf50-4161-ba7b-6a9b3a3d7d11.xml\n",
      "INFO: Removed 1 matching regions from /home/adrian/school/KNN/CLIP/filtered_texts/98d9e7bf-b19f-42fd-acca-eaf707944ae7.xml\n",
      "INFO: Removed 2 matching regions from /home/adrian/school/KNN/CLIP/filtered_texts/197c2041-c855-44c1-88eb-afac09f594ed.xml\n",
      "INFO: Removed 1 matching regions from /home/adrian/school/KNN/CLIP/filtered_texts/7099ce29-7cbf-400d-b2f4-160c7a8208c0.xml\n",
      "INFO: Removed 1 matching regions from /home/adrian/school/KNN/CLIP/filtered_texts/776dbd1b-04a2-4981-9b6a-0d01d56264d5.xml\n",
      "INFO: Removed 1 matching regions from /home/adrian/school/KNN/CLIP/filtered_texts/6e7902b2-eace-4321-a750-efa6710b775d.xml\n",
      "INFO: Removed 1 matching regions from /home/adrian/school/KNN/CLIP/filtered_texts/c84f3814-148b-11e1-1729-001143e3f55c.xml\n",
      "INFO: Removed 2 matching regions from /home/adrian/school/KNN/CLIP/filtered_texts/56c3de48-adde-4ef3-8f37-3b333fadfae9.xml\n",
      "INFO: Removed 1 matching regions from /home/adrian/school/KNN/CLIP/filtered_texts/43be891f-435e-11dd-b505-00145e5790ea.xml\n",
      "INFO: Removed 1 matching regions from /home/adrian/school/KNN/CLIP/filtered_texts/2a0654d1-0ccf-413e-b40a-2c738d710d06.xml\n",
      "INFO: Removed 1 matching regions from /home/adrian/school/KNN/CLIP/filtered_texts/720e12bf-2259-11ea-8d84-001b63bd97ba.xml\n",
      "INFO: Removed 1 matching regions from /home/adrian/school/KNN/CLIP/filtered_texts/3559dea8-fb23-11e9-b8a2-001999480be2.xml\n",
      "INFO: Removed 1 matching regions from /home/adrian/school/KNN/CLIP/filtered_texts/52d995a0-865f-11de-846d-0030487be43a.xml\n",
      "INFO: Removed 1 matching regions from /home/adrian/school/KNN/CLIP/filtered_texts/50849ec0-4446-11eb-a06d-001999480be2.xml\n",
      "INFO: Removed 3 matching regions from /home/adrian/school/KNN/CLIP/filtered_texts/c8559efb-a669-11e6-adc0-d485646517a0.xml\n",
      "INFO: Removed 2 matching regions from /home/adrian/school/KNN/CLIP/filtered_texts/2d83f304-1093-41ef-ba17-4a546ff2a0de.xml\n",
      "INFO: Removed 1 matching regions from /home/adrian/school/KNN/CLIP/filtered_texts/0102b49f-92e8-4aed-86a7-bcb02c983451.xml\n",
      "INFO: Removed 1 matching regions from /home/adrian/school/KNN/CLIP/filtered_texts/57b245a9-2001-4e55-8e40-b19e8923b5f3.xml\n",
      "INFO: Removed 1 matching regions from /home/adrian/school/KNN/CLIP/filtered_texts/dda162ab-33f5-4897-b0bf-b7caf71d25cd.xml\n",
      "INFO: Removed 1 matching regions from /home/adrian/school/KNN/CLIP/filtered_texts/249e8460-ab6f-11eb-8ea3-5ef3fc9ae867.xml\n",
      "INFO: Removed 2 matching regions from /home/adrian/school/KNN/CLIP/filtered_texts/8244bc04-cc82-4663-b7be-fc0061c5ee8a.xml\n",
      "INFO: Removed 2 matching regions from /home/adrian/school/KNN/CLIP/filtered_texts/83fd63b0-4edb-11df-9e05-0030487be43a.xml\n",
      "INFO: Removed 2 matching regions from /home/adrian/school/KNN/CLIP/filtered_texts/5c941320-6c89-4964-b793-8d2845e7e7ba.xml\n",
      "INFO: Removed 2 matching regions from /home/adrian/school/KNN/CLIP/filtered_texts/7f867819-ec73-11e3-9d90-001b63bd97ba.xml\n",
      "INFO: Removed 3 matching regions from /home/adrian/school/KNN/CLIP/filtered_texts/112d0ac4-6acd-4641-ba8b-158507ef83c4.xml\n",
      "INFO: Removed 1 matching regions from /home/adrian/school/KNN/CLIP/filtered_texts/c8f61965-2cf4-4ba2-8aa4-9a461a9e55ed.xml\n",
      "INFO: Removed 1 matching regions from /home/adrian/school/KNN/CLIP/filtered_texts/12d0e9b1-c3ec-11e9-adcd-001999480be2.xml\n",
      "INFO: Removed 1 matching regions from /home/adrian/school/KNN/CLIP/filtered_texts/0bd7c97f-e375-11e8-bfb3-001b63bd97ba.xml\n",
      "INFO: Removed 1 matching regions from /home/adrian/school/KNN/CLIP/filtered_texts/e536e2c8-e3f9-11e6-aeaf-001b63bd97ba.xml\n",
      "INFO: Removed 1 matching regions from /home/adrian/school/KNN/CLIP/filtered_texts/a5df7e4b-b71c-406a-9a57-7b541af66480.xml\n",
      "INFO: Removed 3 matching regions from /home/adrian/school/KNN/CLIP/filtered_texts/dec63b3d-a670-11e6-adc0-d485646517a0.xml\n",
      "INFO: Removed 1 matching regions from /home/adrian/school/KNN/CLIP/filtered_texts/22e6a5d5-f7bd-4b5b-978c-e131f9c76ed6.xml\n",
      "INFO: Removed 1 matching regions from /home/adrian/school/KNN/CLIP/filtered_texts/9b713ca6-a676-11e6-adc0-d485646517a0.xml\n",
      "INFO: Removed 1 matching regions from /home/adrian/school/KNN/CLIP/filtered_texts/e9f39b2b-9636-4d49-937d-996ad7ac61b8.xml\n",
      "INFO: Removed 1 matching regions from /home/adrian/school/KNN/CLIP/filtered_texts/d8d59fba-df1b-46de-ae76-0c014a64f534.xml\n",
      "INFO: Removed 1 matching regions from /home/adrian/school/KNN/CLIP/filtered_texts/054c3be0-bab0-11e4-9efb-00155d010f03.xml\n",
      "INFO: Removed 1 matching regions from /home/adrian/school/KNN/CLIP/filtered_texts/3892923c-4320-4412-9d55-fef0ae1bd84d.xml\n",
      "INFO: Removed 1 matching regions from /home/adrian/school/KNN/CLIP/filtered_texts/2c676f8f-ed3c-4524-bfbb-8e2b1076abd5.xml\n",
      "INFO: Removed 1 matching regions from /home/adrian/school/KNN/CLIP/filtered_texts/70d76484-a307-4740-8275-17555b23c7e6.xml\n",
      "INFO: Removed 2 matching regions from /home/adrian/school/KNN/CLIP/filtered_texts/25d64330-bca9-11e2-95fa-0030487be43a.xml\n",
      "INFO: Removed 1 matching regions from /home/adrian/school/KNN/CLIP/filtered_texts/67cf66bc-59b8-11e8-b45f-001999480be2.xml\n",
      "INFO: Removed 1 matching regions from /home/adrian/school/KNN/CLIP/filtered_texts/cfda0fac-77b7-46a1-a9fc-369cec1ae206.xml\n",
      "INFO: Removed 1 matching regions from /home/adrian/school/KNN/CLIP/filtered_texts/53969d55-fda4-4d6d-86db-ff6e5526229c.xml\n",
      "INFO: Removed 1 matching regions from /home/adrian/school/KNN/CLIP/filtered_texts/5b279a77-8bfd-4353-842e-5a33017e4830.xml\n",
      "INFO: Removed 1 matching regions from /home/adrian/school/KNN/CLIP/filtered_texts/02a453f7-4905-11eb-9b2b-001999480be2.xml\n",
      "INFO: Removed 1 matching regions from /home/adrian/school/KNN/CLIP/filtered_texts/452b0baf-49ba-4e1d-b82d-b96b09932e54.xml\n",
      "INFO: Removed 1 matching regions from /home/adrian/school/KNN/CLIP/filtered_texts/60c97de0-1cad-4979-9aaa-8cf3eaaa34d8.xml\n",
      "INFO: Removed 2 matching regions from /home/adrian/school/KNN/CLIP/filtered_texts/682552f8-4178-11ec-9fc7-00155d012102.xml\n",
      "INFO: Removed 1 matching regions from /home/adrian/school/KNN/CLIP/filtered_texts/9611d472-423f-48e5-8687-2e144982efbe.xml\n",
      "INFO: Removed 1 matching regions from /home/adrian/school/KNN/CLIP/filtered_texts/452d6768-c50d-42f7-bbb7-18e3bcc519bc.xml\n",
      "INFO: Removed 1 matching regions from /home/adrian/school/KNN/CLIP/filtered_texts/a0806f51-e302-11e6-9a25-001999480be2.xml\n",
      "INFO: Removed 1 matching regions from /home/adrian/school/KNN/CLIP/filtered_texts/1b348ce9-5d25-11e5-97a8-001999480be2.xml\n",
      "INFO: Removed 1 matching regions from /home/adrian/school/KNN/CLIP/filtered_texts/45b171df-97e4-4074-9e44-d36e0e0ffbeb.xml\n",
      "INFO: Removed 1 matching regions from /home/adrian/school/KNN/CLIP/filtered_texts/b909ddf1-7000-11e4-a049-001b63bd97ba.xml\n",
      "INFO: Removed 2 matching regions from /home/adrian/school/KNN/CLIP/filtered_texts/bcf786c1-3eb6-40ef-9d0f-4364c318ed5c.xml\n",
      "INFO: Removed 2 matching regions from /home/adrian/school/KNN/CLIP/filtered_texts/26545599-fae0-11e9-92a2-001999480be2.xml\n",
      "INFO: Removed 2 matching regions from /home/adrian/school/KNN/CLIP/filtered_texts/278c5c81-020d-43e7-99ef-4bb103be1a67.xml\n",
      "INFO: Removed 2 matching regions from /home/adrian/school/KNN/CLIP/filtered_texts/7d8f6892-c548-477c-8cf2-8d9a6ba6836e.xml\n",
      "INFO: Removed 1 matching regions from /home/adrian/school/KNN/CLIP/filtered_texts/89723ee6-7643-46e0-b905-f2c16a8131fd.xml\n",
      "INFO: Removed 1 matching regions from /home/adrian/school/KNN/CLIP/filtered_texts/d86070b3-90ce-4bd7-85b1-f3191fb14044.xml\n",
      "INFO: Removed 1 matching regions from /home/adrian/school/KNN/CLIP/filtered_texts/E50A16C0-F2BC-11DD-B7D3-0030487BE43A.xml\n",
      "INFO: Removed 1 matching regions from /home/adrian/school/KNN/CLIP/filtered_texts/7fa28827-e511-458a-929c-edf51694a6c5.xml\n",
      "INFO: Removed 1 matching regions from /home/adrian/school/KNN/CLIP/filtered_texts/d4ee545f-7079-11e4-86c5-001b63bd97ba.xml\n",
      "INFO: Removed 1 matching regions from /home/adrian/school/KNN/CLIP/filtered_texts/5f1fae2b-8a06-11ea-b5cd-001999480be2.xml\n",
      "INFO: Removed 2 matching regions from /home/adrian/school/KNN/CLIP/filtered_texts/bf87eba6-6efb-4755-8387-f58016843218.xml\n",
      "INFO: Removed 2 matching regions from /home/adrian/school/KNN/CLIP/filtered_texts/e65a1750-f2ef-4b33-8450-85eef744babe.xml\n",
      "INFO: Removed 1 matching regions from /home/adrian/school/KNN/CLIP/filtered_texts/0d3a3371-4398-11eb-9bf5-001999480be2.xml\n",
      "INFO: Removed 2 matching regions from /home/adrian/school/KNN/CLIP/filtered_texts/7a110d67-993a-4422-bb56-25f281c51fe1.xml\n",
      "INFO: Removed 1 matching regions from /home/adrian/school/KNN/CLIP/filtered_texts/7a953822-211c-473a-99b8-6d6d57f59d5b.xml\n",
      "INFO: Removed 2 matching regions from /home/adrian/school/KNN/CLIP/filtered_texts/eea6f0c6-224f-11ea-be98-001b63bd97ba.xml\n",
      "INFO: Removed 1 matching regions from /home/adrian/school/KNN/CLIP/filtered_texts/54fe333c-b721-4037-b8fa-06c328b1157a.xml\n",
      "INFO: Removed 1 matching regions from /home/adrian/school/KNN/CLIP/filtered_texts/a07e2502-e302-11e6-9a25-001999480be2.xml\n",
      "INFO: Removed 1 matching regions from /home/adrian/school/KNN/CLIP/filtered_texts/1d121350-0f7f-11dd-b22d-000d606f5dc6.xml\n",
      "INFO: Removed 2 matching regions from /home/adrian/school/KNN/CLIP/filtered_texts/6009d1be-43c0-11eb-b2c7-001999480be2.xml\n",
      "INFO: Removed 2 matching regions from /home/adrian/school/KNN/CLIP/filtered_texts/93cef8f5-719e-4ef2-b00d-9f67135d6443.xml\n",
      "INFO: Removed 4 matching regions from /home/adrian/school/KNN/CLIP/filtered_texts/a905b5a2-2547-11e9-885c-001999480be2.xml\n",
      "INFO: Removed 2 matching regions from /home/adrian/school/KNN/CLIP/filtered_texts/a9041660-59cd-11e0-87c8-000d606f5dc6.xml\n",
      "INFO: Removed 1 matching regions from /home/adrian/school/KNN/CLIP/filtered_texts/1eda9d6c-2547-11e9-885c-001999480be2.xml\n",
      "INFO: Removed 2 matching regions from /home/adrian/school/KNN/CLIP/filtered_texts/8231376d-2547-11e9-885c-001999480be2.xml\n",
      "INFO: Removed 1 matching regions from /home/adrian/school/KNN/CLIP/filtered_texts/f30a70d2-c89e-4d96-8a4e-f70858818407.xml\n",
      "INFO: Removed 1 matching regions from /home/adrian/school/KNN/CLIP/filtered_texts/5a2475e2-e757-11e8-a438-d485646517a0.xml\n",
      "INFO: Removed 2 matching regions from /home/adrian/school/KNN/CLIP/filtered_texts/2a47de07-f851-4557-91cf-6ccb10f27165.xml\n",
      "INFO: Removed 1 matching regions from /home/adrian/school/KNN/CLIP/filtered_texts/35bbd9cd-43bf-11eb-b2c7-001999480be2.xml\n",
      "INFO: Removed 1 matching regions from /home/adrian/school/KNN/CLIP/filtered_texts/b6c3ee46-47fc-11e1-3085-001143e3f55c.xml\n",
      "INFO: Removed 1 matching regions from /home/adrian/school/KNN/CLIP/filtered_texts/1ba6d496-59b9-11e8-b45f-001999480be2.xml\n",
      "INFO: Removed 1 matching regions from /home/adrian/school/KNN/CLIP/filtered_texts/e9e0edf9-fd34-4a85-93fb-6efa571e4e0d.xml\n",
      "INFO: Removed 3 matching regions from /home/adrian/school/KNN/CLIP/filtered_texts/72b3f48c-e300-11e6-97c0-001999480be2.xml\n",
      "INFO: Removed 2 matching regions from /home/adrian/school/KNN/CLIP/filtered_texts/7dc5d0cc-85e1-41c1-acc8-810d778e6355.xml\n",
      "INFO: Removed 6 matching regions from /home/adrian/school/KNN/CLIP/filtered_texts/78674850-dff6-47ff-a39b-a0526518bb2c.xml\n",
      "INFO: Removed 6 matching regions from /home/adrian/school/KNN/CLIP/filtered_texts/0eb7a6c9-a675-11e6-adc0-d485646517a0.xml\n",
      "INFO: Removed 1 matching regions from /home/adrian/school/KNN/CLIP/filtered_texts/47432007-bd30-11e6-a419-001b63bd97ba.xml\n",
      "INFO: Removed 1 matching regions from /home/adrian/school/KNN/CLIP/filtered_texts/d2af1fdc-6d51-49ae-815d-6c9ae468490c.xml\n",
      "INFO: Removed 2 matching regions from /home/adrian/school/KNN/CLIP/filtered_texts/7afefdbf-e302-11e6-b12a-001999480be2.xml\n",
      "INFO: Removed 1 matching regions from /home/adrian/school/KNN/CLIP/filtered_texts/73674b42-acd6-11eb-a829-001b63bd97ba.xml\n",
      "INFO: Removed 2 matching regions from /home/adrian/school/KNN/CLIP/filtered_texts/aa0dd7a2-71c7-11e1-a313-005056a60003.xml\n",
      "INFO: Removed 1 matching regions from /home/adrian/school/KNN/CLIP/filtered_texts/b7b12441-ae33-11e1-4047-001143e3f55c.xml\n",
      "INFO: Removed 1 matching regions from /home/adrian/school/KNN/CLIP/filtered_texts/c2e0fb80-3cfa-11e1-5015-001143e3f55c.xml\n",
      "INFO: Removed 2 matching regions from /home/adrian/school/KNN/CLIP/filtered_texts/31092c90-fed7-11ea-8f65-005056825209.xml\n",
      "INFO: Removed 1 matching regions from /home/adrian/school/KNN/CLIP/filtered_texts/af75a6cd-3c81-4a59-af1f-dade2084e9dc.xml\n",
      "INFO: Removed 1 matching regions from /home/adrian/school/KNN/CLIP/filtered_texts/15d9d948-fe6e-4f28-879b-46ff23987aff.xml\n",
      "INFO: Removed 1 matching regions from /home/adrian/school/KNN/CLIP/filtered_texts/38a77ec0-ab70-11eb-9f2d-5ef3fc9bb22f.xml\n",
      "INFO: Removed 1 matching regions from /home/adrian/school/KNN/CLIP/filtered_texts/661e49f9-7eb8-11e3-af11-d485646517a0.xml\n",
      "INFO: Removed 1 matching regions from /home/adrian/school/KNN/CLIP/filtered_texts/eae64c40-9642-4f55-a701-f7c47503eeaa.xml\n",
      "INFO: Removed 1 matching regions from /home/adrian/school/KNN/CLIP/filtered_texts/6735264f-c10d-42fb-8f04-8acf4c91dadf.xml\n",
      "INFO: Removed 2 matching regions from /home/adrian/school/KNN/CLIP/filtered_texts/808cd66a-0675-4d41-b64b-fef91f4520ce.xml\n",
      "INFO: Removed 1 matching regions from /home/adrian/school/KNN/CLIP/filtered_texts/6b100c4b-aab6-4a2a-97ab-644a0095d47c.xml\n",
      "INFO: Removed 1 matching regions from /home/adrian/school/KNN/CLIP/filtered_texts/5b4a9947-0d7f-11e3-1726-001143e3f55c.xml\n",
      "INFO: Removed 1 matching regions from /home/adrian/school/KNN/CLIP/filtered_texts/e6d208e8-3cfa-11e1-8486-001143e3f55c.xml\n",
      "INFO: Removed 1 matching regions from /home/adrian/school/KNN/CLIP/filtered_texts/08cdfb10-8305-11e5-9189-001999480be2.xml\n",
      "INFO: Removed 2 matching regions from /home/adrian/school/KNN/CLIP/filtered_texts/5c55bb3b-8307-11e5-b908-001999480be2.xml\n",
      "INFO: Removed 1 matching regions from /home/adrian/school/KNN/CLIP/filtered_texts/9d663b4c-bbab-11e1-6101-001143e3f55c.xml\n",
      "INFO: Removed 3 matching regions from /home/adrian/school/KNN/CLIP/filtered_texts/18858307-8c0e-4935-a1da-198440eff745.xml\n",
      "INFO: Removed 2 matching regions from /home/adrian/school/KNN/CLIP/filtered_texts/e35c01ad-d7ca-4937-afb8-74aa5f3d31c5.xml\n",
      "INFO: Removed 3 matching regions from /home/adrian/school/KNN/CLIP/filtered_texts/1f3ce6dc-cc27-47ae-aa5b-361c9d38f153.xml\n",
      "INFO: Removed 3 matching regions from /home/adrian/school/KNN/CLIP/filtered_texts/575c21b1-cb0e-4698-880d-8f6034d3cc9a.xml\n",
      "INFO: Removed 1 matching regions from /home/adrian/school/KNN/CLIP/filtered_texts/cac023d0-7d3c-4937-95b7-c36d3828a6ae.xml\n",
      "INFO: Removed 1 matching regions from /home/adrian/school/KNN/CLIP/filtered_texts/838b653e-9976-4d3f-9006-a93d996cf318.xml\n",
      "INFO: Removed 1 matching regions from /home/adrian/school/KNN/CLIP/filtered_texts/326d0928-5f11-4ebb-9983-f81fbc89bd85.xml\n",
      "INFO: Removed 8 matching regions from /home/adrian/school/KNN/CLIP/filtered_texts/873651f8-15c5-4056-9ec8-f7bf62afcd45.xml\n",
      "INFO: Removed 1 matching regions from /home/adrian/school/KNN/CLIP/filtered_texts/823074d1-2547-11e9-885c-001999480be2.xml\n",
      "INFO: Removed 1 matching regions from /home/adrian/school/KNN/CLIP/filtered_texts/e2608c7a-e111-4803-829b-be640078eacf.xml\n",
      "INFO: Removed 3 matching regions from /home/adrian/school/KNN/CLIP/filtered_texts/68a607b7-5c8f-4e9e-a0b4-56cd262f1599.xml\n",
      "INFO: Removed 1 matching regions from /home/adrian/school/KNN/CLIP/filtered_texts/2cea2d5b-56d6-11e1-1726-001143e3f55c.xml\n",
      "INFO: Removed 1 matching regions from /home/adrian/school/KNN/CLIP/filtered_texts/9abf0d60-250c-11ec-96b6-00155d004e1c.xml\n",
      "INFO: Removed 2 matching regions from /home/adrian/school/KNN/CLIP/filtered_texts/46253810-09c0-11e0-920b-000d606f5dc6.xml\n",
      "INFO: Removed 3 matching regions from /home/adrian/school/KNN/CLIP/filtered_texts/3bbc97a0-25d1-11eb-9210-5ef3fc9ae867.xml\n",
      "INFO: Removed 1 matching regions from /home/adrian/school/KNN/CLIP/filtered_texts/bf48e33b-8308-11e5-804d-001999480be2.xml\n",
      "INFO: Removed 1 matching regions from /home/adrian/school/KNN/CLIP/filtered_texts/2ee64baf-56d6-11e1-1726-001143e3f55c.xml\n",
      "INFO: Removed 1 matching regions from /home/adrian/school/KNN/CLIP/filtered_texts/5da4fffb-58c8-46fd-a62e-ad42c45e688c.xml\n",
      "INFO: Removed 1 matching regions from /home/adrian/school/KNN/CLIP/filtered_texts/4be58f94-0d7f-11e3-1586-001143e3f55c.xml\n",
      "INFO: Removed 1 matching regions from /home/adrian/school/KNN/CLIP/filtered_texts/23588b85-c5a0-11e1-4047-001143e3f55c.xml\n",
      "INFO: Removed 2 matching regions from /home/adrian/school/KNN/CLIP/filtered_texts/e16d08b6-85a7-4de5-9a87-dd6142f2698a.xml\n",
      "INFO: Removed 1 matching regions from /home/adrian/school/KNN/CLIP/filtered_texts/e2ba8fbe-a50a-11e3-a3d7-001b63bd97ba.xml\n",
      "INFO: Removed 1 matching regions from /home/adrian/school/KNN/CLIP/filtered_texts/1e28ecf0-d82e-11e2-b14e-0030487be43a.xml\n",
      "INFO: Removed 1 matching regions from /home/adrian/school/KNN/CLIP/filtered_texts/3a23e745-fa36-11e9-82df-001999480be2.xml\n",
      "INFO: Removed 2 matching regions from /home/adrian/school/KNN/CLIP/filtered_texts/de717e40-4395-11eb-9bf5-001999480be2.xml\n",
      "INFO: Removed 1 matching regions from /home/adrian/school/KNN/CLIP/filtered_texts/b96b10ba-230d-11ea-ab2d-001999480be2.xml\n",
      "INFO: Removed 1 matching regions from /home/adrian/school/KNN/CLIP/filtered_texts/3bbe182e-fae1-11e9-92a2-001999480be2.xml\n",
      "INFO: Removed 1 matching regions from /home/adrian/school/KNN/CLIP/filtered_texts/1be3667b-6596-4ded-a8a2-ecee4b2acf22.xml\n",
      "INFO: Removed 1 matching regions from /home/adrian/school/KNN/CLIP/filtered_texts/90d615a9-9c01-4e36-8ce2-33baf09b68a6.xml\n",
      "INFO: Removed 1 matching regions from /home/adrian/school/KNN/CLIP/filtered_texts/823272d5-345d-47ef-b8a6-334185f21d57.xml\n",
      "INFO: Removed 2 matching regions from /home/adrian/school/KNN/CLIP/filtered_texts/c5ec4f82-3b0b-11ec-b43b-001b63bd97ba.xml\n",
      "INFO: Removed 1 matching regions from /home/adrian/school/KNN/CLIP/filtered_texts/0a7e3975-20c2-11ea-85d8-001999480be2.xml\n",
      "INFO: Removed 2 matching regions from /home/adrian/school/KNN/CLIP/filtered_texts/ae4dc3b0-000d-49bf-ac82-5285e10906ed.xml\n",
      "INFO: Removed 1 matching regions from /home/adrian/school/KNN/CLIP/filtered_texts/d912d38a-a0b9-48a2-ad31-ef4b48cdff92.xml\n",
      "INFO: Removed 2 matching regions from /home/adrian/school/KNN/CLIP/filtered_texts/3f1d9a06-f711-11e9-94c9-001999480be2.xml\n",
      "INFO: Removed 2 matching regions from /home/adrian/school/KNN/CLIP/filtered_texts/ec530886-1c65-4aef-ba73-9b1173882222.xml\n",
      "INFO: Removed 1 matching regions from /home/adrian/school/KNN/CLIP/filtered_texts/27c373df-dbdb-11e6-95e2-001b63bd97ba.xml\n",
      "INFO: Removed 1 matching regions from /home/adrian/school/KNN/CLIP/filtered_texts/6aa98be5-5cf1-11e8-a84a-001999480be2.xml\n",
      "INFO: Removed 1 matching regions from /home/adrian/school/KNN/CLIP/filtered_texts/d443dc82-32bc-46dc-8800-114f5cc7f247.xml\n",
      "INFO: Removed 1 matching regions from /home/adrian/school/KNN/CLIP/filtered_texts/c18dceec-6df1-4f27-9247-21e4d67fed8f.xml\n",
      "INFO: Removed 1 matching regions from /home/adrian/school/KNN/CLIP/filtered_texts/9dc8bc96-a67d-11e6-adc0-d485646517a0.xml\n",
      "INFO: Removed 3 matching regions from /home/adrian/school/KNN/CLIP/filtered_texts/c00425c0-7aa2-11eb-a671-5ef3fc9bb22f.xml\n",
      "INFO: Removed 1 matching regions from /home/adrian/school/KNN/CLIP/filtered_texts/43741b8b-a5ab-4a2f-8ba0-5ddd511678cd.xml\n",
      "INFO: Removed 1 matching regions from /home/adrian/school/KNN/CLIP/filtered_texts/8a0181c5-c405-4f44-bc7a-840104678d2d.xml\n",
      "INFO: Removed 1 matching regions from /home/adrian/school/KNN/CLIP/filtered_texts/4c7335cd-3600-11ea-ade3-001b63bd97ba.xml\n",
      "INFO: Removed 1 matching regions from /home/adrian/school/KNN/CLIP/filtered_texts/e9565e7f-20c1-11ea-85d8-001999480be2.xml\n",
      "INFO: Removed 1 matching regions from /home/adrian/school/KNN/CLIP/filtered_texts/48fe9d7d-5625-11e1-1726-001143e3f55c.xml\n",
      "INFO: Removed 1 matching regions from /home/adrian/school/KNN/CLIP/filtered_texts/7c0c0a60-e53a-11dc-8de9-000d606f5dc6.xml\n",
      "INFO: Removed 1 matching regions from /home/adrian/school/KNN/CLIP/filtered_texts/792fcf3d-5276-11e1-1729-001143e3f55c.xml\n",
      "INFO: Removed 2 matching regions from /home/adrian/school/KNN/CLIP/filtered_texts/1c1f8fa9-435e-11dd-b505-00145e5790ea.xml\n",
      "INFO: Removed 3 matching regions from /home/adrian/school/KNN/CLIP/filtered_texts/cf195116-5889-48fe-8821-376aab4e15fa.xml\n",
      "INFO: Removed 1 matching regions from /home/adrian/school/KNN/CLIP/filtered_texts/2055dc34-d0e7-11e7-a472-001b63bd97ba.xml\n",
      "INFO: Removed 1 matching regions from /home/adrian/school/KNN/CLIP/filtered_texts/ad5aaae5-7e90-4676-82de-c2fb7b8361a4.xml\n",
      "INFO: Removed 1 matching regions from /home/adrian/school/KNN/CLIP/filtered_texts/da9132ad-01ef-4571-b72a-0dd16a326e9d.xml\n",
      "INFO: Removed 1 matching regions from /home/adrian/school/KNN/CLIP/filtered_texts/51a62c55-0144-11ea-a067-001999480be2.xml\n",
      "INFO: Removed 3 matching regions from /home/adrian/school/KNN/CLIP/filtered_texts/38748930-dbba-11e6-8be1-001b63bd97ba.xml\n",
      "INFO: Removed 4 matching regions from /home/adrian/school/KNN/CLIP/filtered_texts/04472302-d28f-459a-80cf-d87c4d0e1091.xml\n",
      "INFO: Removed 1 matching regions from /home/adrian/school/KNN/CLIP/filtered_texts/c30e9e0c-9638-11e8-a0d6-00155d012102.xml\n",
      "INFO: Removed 3 matching regions from /home/adrian/school/KNN/CLIP/filtered_texts/0a9a9ca1-b44d-42cc-addf-ce5a317b0832.xml\n",
      "INFO: Removed 1 matching regions from /home/adrian/school/KNN/CLIP/filtered_texts/32dd5353-59b8-11e8-b45f-001999480be2.xml\n",
      "INFO: Removed 2 matching regions from /home/adrian/school/KNN/CLIP/filtered_texts/aa5aa417-5a5b-11e7-921c-d485646517a0.xml\n",
      "INFO: Removed 1 matching regions from /home/adrian/school/KNN/CLIP/filtered_texts/1bd03cbb-e5c8-4cc3-903a-384c28ecb526.xml\n",
      "INFO: Removed 1 matching regions from /home/adrian/school/KNN/CLIP/filtered_texts/bfc55491-e3a8-11e6-90f2-001999480be2.xml\n",
      "INFO: Removed 1 matching regions from /home/adrian/school/KNN/CLIP/filtered_texts/61be7fde-b6ba-11ed-a22a-001b63bd97ba.xml\n",
      "INFO: Removed 1 matching regions from /home/adrian/school/KNN/CLIP/filtered_texts/2645be5f-ae48-446b-81f5-fe3005b3b3e6.xml\n",
      "INFO: Removed 4 matching regions from /home/adrian/school/KNN/CLIP/filtered_texts/c937433b-693b-43ba-a1ad-4dd3b2c19875.xml\n",
      "INFO: Removed 1 matching regions from /home/adrian/school/KNN/CLIP/filtered_texts/b933a93c-3a3d-11ed-8147-00155d01210b.xml\n",
      "INFO: Removed 1 matching regions from /home/adrian/school/KNN/CLIP/filtered_texts/16ba393f-e6aa-11e5-bc5e-001b21d0d3a4.xml\n",
      "INFO: Removed 1 matching regions from /home/adrian/school/KNN/CLIP/filtered_texts/40bf7d39-0a73-11eb-9049-001b63bd97ba.xml\n",
      "INFO: Removed 4 matching regions from /home/adrian/school/KNN/CLIP/filtered_texts/bc353579-90c3-4a67-b783-2330ef67a7ec.xml\n",
      "INFO: Removed 1 matching regions from /home/adrian/school/KNN/CLIP/filtered_texts/2368ef9b-0c6d-4bed-a1e0-7d0f084fa2a7.xml\n",
      "INFO: Removed 1 matching regions from /home/adrian/school/KNN/CLIP/filtered_texts/f3e9ec01-48e1-11e1-1232-001143e3f55c.xml\n",
      "INFO: Removed 1 matching regions from /home/adrian/school/KNN/CLIP/filtered_texts/b18ff429-fffd-409f-9f89-75918b952365.xml\n",
      "INFO: Removed 1 matching regions from /home/adrian/school/KNN/CLIP/filtered_texts/44a4f7ab-f4a3-4140-9b16-4e163443433c.xml\n",
      "INFO: Removed 1 matching regions from /home/adrian/school/KNN/CLIP/filtered_texts/4bfbb051-5625-11e1-1726-001143e3f55c.xml\n",
      "INFO: Removed 2 matching regions from /home/adrian/school/KNN/CLIP/filtered_texts/02b9a960-4cc7-4b5f-b2d7-9bb5b26200dc.xml\n",
      "INFO: Removed 1 matching regions from /home/adrian/school/KNN/CLIP/filtered_texts/93027087-4ae3-4a47-9954-7ba35f53f36a.xml\n",
      "INFO: Removed 1 matching regions from /home/adrian/school/KNN/CLIP/filtered_texts/77257931-c954-473b-9f0f-7f32f7665446.xml\n",
      "INFO: Removed 2 matching regions from /home/adrian/school/KNN/CLIP/filtered_texts/ca5b13d8-4611-11e1-8339-001143e3f55c.xml\n",
      "INFO: Removed 1 matching regions from /home/adrian/school/KNN/CLIP/filtered_texts/0595e7be-231f-11ea-ab6b-001999480be2.xml\n",
      "INFO: Removed 1 matching regions from /home/adrian/school/KNN/CLIP/filtered_texts/8bced2fe-d786-46f1-bb7e-b1b42733c038.xml\n",
      "INFO: Removed 1 matching regions from /home/adrian/school/KNN/CLIP/filtered_texts/b18826a4-6f6b-11e2-2544-001143e3f55c.xml\n",
      "INFO: Removed 1 matching regions from /home/adrian/school/KNN/CLIP/filtered_texts/81addacb-4393-11eb-9bf5-001999480be2.xml\n",
      "INFO: Removed 3 matching regions from /home/adrian/school/KNN/CLIP/filtered_texts/8c33678c-e757-11e8-a438-d485646517a0.xml\n",
      "INFO: Removed 2 matching regions from /home/adrian/school/KNN/CLIP/filtered_texts/94c688f1-b034-4259-a0b7-03615adc269a.xml\n",
      "INFO: Removed 1 matching regions from /home/adrian/school/KNN/CLIP/filtered_texts/a2cf7676-f5be-47de-ac71-2f28e7a85881.xml\n",
      "INFO: Removed 2 matching regions from /home/adrian/school/KNN/CLIP/filtered_texts/5683b64c-df23-404a-a20a-b323ec715909.xml\n",
      "INFO: Removed 1 matching regions from /home/adrian/school/KNN/CLIP/filtered_texts/5b89fecb-435e-11dd-b505-00145e5790ea.xml\n",
      "INFO: Removed 1 matching regions from /home/adrian/school/KNN/CLIP/filtered_texts/2425994e-44f9-45f7-b367-7874dac6e99a.xml\n",
      "INFO: Removed 1 matching regions from /home/adrian/school/KNN/CLIP/filtered_texts/4b07af7f-2259-11ea-8d84-001b63bd97ba.xml\n",
      "INFO: Removed 1 matching regions from /home/adrian/school/KNN/CLIP/filtered_texts/5f19f6d2-e533-4ae6-b56c-ba5a7d0e94db.xml\n",
      "INFO: Removed 1 matching regions from /home/adrian/school/KNN/CLIP/filtered_texts/97978c4e-79f8-4c59-bb08-b4141dd1584e.xml\n",
      "INFO: Removed 1 matching regions from /home/adrian/school/KNN/CLIP/filtered_texts/96be5347-05eb-47f8-a4d6-ae059bf637f5.xml\n",
      "INFO: Removed 3 matching regions from /home/adrian/school/KNN/CLIP/filtered_texts/da246455-b0bc-4030-8b82-19986705088a.xml\n",
      "INFO: Removed 2 matching regions from /home/adrian/school/KNN/CLIP/filtered_texts/852640f0-ab67-11eb-81e5-005056825209.xml\n",
      "INFO: Removed 1 matching regions from /home/adrian/school/KNN/CLIP/filtered_texts/7bbb0637-79cf-424f-a4ec-6273ad31e258.xml\n",
      "INFO: Removed 1 matching regions from /home/adrian/school/KNN/CLIP/filtered_texts/66d44ad2-9374-4b94-8db6-55799dd3f36e.xml\n",
      "INFO: Removed 1 matching regions from /home/adrian/school/KNN/CLIP/filtered_texts/a51d959a-36ad-4d2a-a66a-49b3a6b60bc0.xml\n",
      "INFO: Removed 1 matching regions from /home/adrian/school/KNN/CLIP/filtered_texts/715f7220-1967-11de-a3a4-0030487be43a.xml\n",
      "INFO: Removed 1 matching regions from /home/adrian/school/KNN/CLIP/filtered_texts/509daad0-37aa-4567-9de9-2bf57234166a.xml\n",
      "INFO: Removed 1 matching regions from /home/adrian/school/KNN/CLIP/filtered_texts/d9676ef7-3cfa-11e1-1431-001143e3f55c.xml\n",
      "INFO: Removed 1 matching regions from /home/adrian/school/KNN/CLIP/filtered_texts/bdfe4c1f-1ea5-4b96-aeb7-941cfcf82d47.xml\n",
      "INFO: Removed 1 matching regions from /home/adrian/school/KNN/CLIP/filtered_texts/c58df333-3cfa-11e1-1457-001143e3f55c.xml\n",
      "INFO: Removed 1 matching regions from /home/adrian/school/KNN/CLIP/filtered_texts/e2e5b9b3-a2ac-11e7-8e33-001b63bd97ba.xml\n",
      "INFO: Removed 2 matching regions from /home/adrian/school/KNN/CLIP/filtered_texts/9091a280-1ac0-11de-84a0-0030487be43a.xml\n",
      "INFO: Removed 1 matching regions from /home/adrian/school/KNN/CLIP/filtered_texts/67cdb3d2-efbc-4f47-bf14-d630175c7349.xml\n",
      "INFO: Removed 2 matching regions from /home/adrian/school/KNN/CLIP/filtered_texts/07e26096-14e3-45da-a099-d00756c3d7e5.xml\n",
      "INFO: Removed 2 matching regions from /home/adrian/school/KNN/CLIP/filtered_texts/213667a0-7e38-11e5-a611-d485646517a0.xml\n",
      "INFO: Removed 1 matching regions from /home/adrian/school/KNN/CLIP/filtered_texts/57ab53e4-5625-11e1-1331-001143e3f55c.xml\n",
      "INFO: Removed 1 matching regions from /home/adrian/school/KNN/CLIP/filtered_texts/14d558e0-9029-11e0-8c99-0030487be43a.xml\n",
      "INFO: Removed 1 matching regions from /home/adrian/school/KNN/CLIP/filtered_texts/767edaa0-5817-11dd-98c3-000d606f5dc6.xml\n",
      "INFO: Removed 1 matching regions from /home/adrian/school/KNN/CLIP/filtered_texts/025282a9-588c-48cf-951a-c9a58cac9a09.xml\n",
      "INFO: Removed 1 matching regions from /home/adrian/school/KNN/CLIP/filtered_texts/1b8d1347-435e-11dd-b505-00145e5790ea.xml\n",
      "INFO: Removed 1 matching regions from /home/adrian/school/KNN/CLIP/filtered_texts/3a4dd67f-6554-464e-b790-9623f8f1886a.xml\n",
      "INFO: Removed 1 matching regions from /home/adrian/school/KNN/CLIP/filtered_texts/a2c26a90-537a-11df-9688-0030487be43a.xml\n",
      "INFO: Removed 1 matching regions from /home/adrian/school/KNN/CLIP/filtered_texts/c8ec832f-c1f3-4854-97ad-b6e16d54b67f.xml\n",
      "INFO: Removed 1 matching regions from /home/adrian/school/KNN/CLIP/filtered_texts/71bb6a54-5eed-11eb-9ff8-001b63bd97ba.xml\n",
      "INFO: Removed 5 matching regions from /home/adrian/school/KNN/CLIP/filtered_texts/a114b940-25cf-11eb-acc7-5ef3fc9bb22f.xml\n",
      "INFO: Removed 1 matching regions from /home/adrian/school/KNN/CLIP/filtered_texts/35383d80-39eb-4a08-981f-6bfe2f276886.xml\n",
      "INFO: Removed 1 matching regions from /home/adrian/school/KNN/CLIP/filtered_texts/46fa04eb-435e-11dd-b505-00145e5790ea.xml\n",
      "INFO: Removed 1 matching regions from /home/adrian/school/KNN/CLIP/filtered_texts/4c452697-435e-11dd-b505-00145e5790ea.xml\n",
      "INFO: Removed 1 matching regions from /home/adrian/school/KNN/CLIP/filtered_texts/92817c9a-e49d-433a-9b86-f76343bbcd30.xml\n",
      "INFO: Removed 1 matching regions from /home/adrian/school/KNN/CLIP/filtered_texts/cf626d01-3cfa-11e1-8486-001143e3f55c.xml\n",
      "INFO: Removed 1 matching regions from /home/adrian/school/KNN/CLIP/filtered_texts/a1374739-4393-11eb-9bf5-001999480be2.xml\n",
      "INFO: Removed 1 matching regions from /home/adrian/school/KNN/CLIP/filtered_texts/32dd2c29-59b8-11e8-b45f-001999480be2.xml\n",
      "INFO: Removed 2 matching regions from /home/adrian/school/KNN/CLIP/filtered_texts/47ff66b6-435e-11dd-b505-00145e5790ea.xml\n",
      "INFO: Removed 1 matching regions from /home/adrian/school/KNN/CLIP/filtered_texts/74864c0d-7e36-11e5-a611-d485646517a0.xml\n",
      "INFO: Removed 2 matching regions from /home/adrian/school/KNN/CLIP/filtered_texts/24625474-331b-11ec-a6f0-001b63bd97ba.xml\n",
      "INFO: Removed 1 matching regions from /home/adrian/school/KNN/CLIP/filtered_texts/e8de51be-3cfa-11e1-1872-001143e3f55c.xml\n",
      "INFO: Removed 1 matching regions from /home/adrian/school/KNN/CLIP/filtered_texts/e25bfac8-881b-11e3-b573-001b63bd97ba.xml\n",
      "INFO: Removed 1 matching regions from /home/adrian/school/KNN/CLIP/filtered_texts/C5025230-07F1-11DE-94C9-0030487BE43A.xml\n",
      "INFO: Removed 1 matching regions from /home/adrian/school/KNN/CLIP/filtered_texts/9e623b6f-bf4f-11e9-bdf3-001999480be2.xml\n",
      "INFO: Removed 1 matching regions from /home/adrian/school/KNN/CLIP/filtered_texts/3132fa30-5597-11dd-b304-000d606f5dc6.xml\n",
      "INFO: Removed 1 matching regions from /home/adrian/school/KNN/CLIP/filtered_texts/c33a7190-7aa2-11eb-864a-005056825209.xml\n",
      "INFO: Removed 1 matching regions from /home/adrian/school/KNN/CLIP/filtered_texts/bb5b8e9e-34c4-4c80-8e21-30fb88b2f40c.xml\n",
      "INFO: Removed 1 matching regions from /home/adrian/school/KNN/CLIP/filtered_texts/27592db9-e3aa-11e6-b2c0-001999480be2.xml\n",
      "INFO: Removed 1 matching regions from /home/adrian/school/KNN/CLIP/filtered_texts/059ecf15-3068-4860-9016-f91d16b55ec0.xml\n",
      "INFO: Removed 1 matching regions from /home/adrian/school/KNN/CLIP/filtered_texts/1551e320-5821-11e3-a600-0030487be43a.xml\n",
      "INFO: Removed 3 matching regions from /home/adrian/school/KNN/CLIP/filtered_texts/cb7e4112-7a07-4257-a49c-acea3b3cf44f.xml\n",
      "INFO: Removed 1 matching regions from /home/adrian/school/KNN/CLIP/filtered_texts/3d54f238-d24e-48b1-a7f0-e4a18dae6e71.xml\n",
      "INFO: Removed 1 matching regions from /home/adrian/school/KNN/CLIP/filtered_texts/7e399cef-f651-11ea-81ae-00155d012102.xml\n",
      "INFO: Removed 2 matching regions from /home/adrian/school/KNN/CLIP/filtered_texts/ce48d773-a685-11e6-adc0-d485646517a0.xml\n",
      "INFO: Removed 2 matching regions from /home/adrian/school/KNN/CLIP/filtered_texts/dc96c4c7-ca1d-47a6-a25d-a273e5268421.xml\n",
      "INFO: Removed 2 matching regions from /home/adrian/school/KNN/CLIP/filtered_texts/0d7743b1-ecf5-11e4-8da1-001b63bd97ba.xml\n",
      "INFO: Removed 1 matching regions from /home/adrian/school/KNN/CLIP/filtered_texts/778f5f1d-bb45-402c-86b6-e0e40dae0c01.xml\n",
      "INFO: Removed 1 matching regions from /home/adrian/school/KNN/CLIP/filtered_texts/185da165-8626-11ea-b1aa-001999480be2.xml\n",
      "INFO: Removed 1 matching regions from /home/adrian/school/KNN/CLIP/filtered_texts/08c8049b-b58f-4562-97f0-f475c40254bd.xml\n",
      "INFO: Removed 2 matching regions from /home/adrian/school/KNN/CLIP/filtered_texts/1041a2e1-ebbd-11e3-8ee9-001b63bd97ba.xml\n",
      "INFO: Removed 1 matching regions from /home/adrian/school/KNN/CLIP/filtered_texts/084f107e-08b0-4463-aef1-98d85772bea4.xml\n",
      "INFO: Removed 1 matching regions from /home/adrian/school/KNN/CLIP/filtered_texts/71c2a8e6-7b8b-4593-b4a4-a77c3d5d5e66.xml\n",
      "INFO: Removed 1 matching regions from /home/adrian/school/KNN/CLIP/filtered_texts/43b14226-435e-11dd-b505-00145e5790ea.xml\n",
      "INFO: Removed 1 matching regions from /home/adrian/school/KNN/CLIP/filtered_texts/e5efe7b0-f797-11ec-8611-005056822549.xml\n",
      "INFO: Removed 1 matching regions from /home/adrian/school/KNN/CLIP/filtered_texts/d25e6c8f-7e38-11e5-a611-d485646517a0.xml\n",
      "INFO: Removed 2 matching regions from /home/adrian/school/KNN/CLIP/filtered_texts/4866552f-5625-11e1-1418-001143e3f55c.xml\n",
      "INFO: Removed 2 matching regions from /home/adrian/school/KNN/CLIP/filtered_texts/17ab8e7a-7813-48f4-a008-bba04db577f0.xml\n",
      "INFO: Removed 1 matching regions from /home/adrian/school/KNN/CLIP/filtered_texts/9696dfea-4c6a-11e1-1418-001143e3f55c.xml\n",
      "INFO: Removed 2 matching regions from /home/adrian/school/KNN/CLIP/filtered_texts/3a36e281-7ec1-11e3-af11-d485646517a0.xml\n",
      "INFO: Removed 1 matching regions from /home/adrian/school/KNN/CLIP/filtered_texts/bc190584-6a43-11e9-9d4f-001999480be2.xml\n",
      "INFO: Removed 1 matching regions from /home/adrian/school/KNN/CLIP/filtered_texts/47c32162-435e-11dd-b505-00145e5790ea.xml\n",
      "INFO: Removed 1 matching regions from /home/adrian/school/KNN/CLIP/filtered_texts/4d5b3e89-59b8-11e8-b45f-001999480be2.xml\n",
      "INFO: Removed 1 matching regions from /home/adrian/school/KNN/CLIP/filtered_texts/8a1b3070-e88a-11ea-8ce6-005056825209.xml\n",
      "INFO: Removed 1 matching regions from /home/adrian/school/KNN/CLIP/filtered_texts/996700d4-0774-4835-b386-98c0010ac23b.xml\n",
      "INFO: Removed 1 matching regions from /home/adrian/school/KNN/CLIP/filtered_texts/09b7fe20-91e4-4f1c-b78c-58474e4de687.xml\n",
      "INFO: Removed 2 matching regions from /home/adrian/school/KNN/CLIP/filtered_texts/48b4429d-a67b-11e6-adc0-d485646517a0.xml\n",
      "INFO: Removed 1 matching regions from /home/adrian/school/KNN/CLIP/filtered_texts/c37b6fa5-1d05-11ea-80a0-001999480be2.xml\n",
      "INFO: Removed 1 matching regions from /home/adrian/school/KNN/CLIP/filtered_texts/ce4723be-8bc6-11e2-8339-001143e3f55c.xml\n",
      "INFO: Removed 1 matching regions from /home/adrian/school/KNN/CLIP/filtered_texts/26861475-71c6-11e1-a313-005056a60003.xml\n",
      "INFO: Removed 1 matching regions from /home/adrian/school/KNN/CLIP/filtered_texts/36e9c00a-817a-11e5-aee1-001b21d0d3a4.xml\n",
      "INFO: Removed 1 matching regions from /home/adrian/school/KNN/CLIP/filtered_texts/742e9e43-c06b-4dd4-beca-57e177fbc30a.xml\n",
      "INFO: Removed 4 matching regions from /home/adrian/school/KNN/CLIP/filtered_texts/4e44890a-e303-11e6-96e2-001999480be2.xml\n",
      "INFO: Removed 2 matching regions from /home/adrian/school/KNN/CLIP/filtered_texts/c5d25f1f-a67d-11e6-adc0-d485646517a0.xml\n",
      "INFO: Removed 1 matching regions from /home/adrian/school/KNN/CLIP/filtered_texts/71c6af47-85f2-45b3-9d5c-8fea25d8b4cf.xml\n",
      "INFO: Removed 1 matching regions from /home/adrian/school/KNN/CLIP/filtered_texts/16919a20-b619-11ea-9c77-5ef3fc9ae867.xml\n",
      "INFO: Removed 1 matching regions from /home/adrian/school/KNN/CLIP/filtered_texts/529af082-5625-11e1-1726-001143e3f55c.xml\n",
      "INFO: Removed 3 matching regions from /home/adrian/school/KNN/CLIP/filtered_texts/c2406867-57f5-47cd-859e-aee6bc0e2eef.xml\n",
      "INFO: Removed 1 matching regions from /home/adrian/school/KNN/CLIP/filtered_texts/4a6ab9f3-11e6-4c1c-ad8e-e5be82645f7a.xml\n",
      "INFO: Removed 1 matching regions from /home/adrian/school/KNN/CLIP/filtered_texts/641a6c75-4a14-11e1-1418-001143e3f55c.xml\n",
      "INFO: Removed 2 matching regions from /home/adrian/school/KNN/CLIP/filtered_texts/b02ee834-83b0-43a6-a218-b94f65b4bf48.xml\n",
      "INFO: Removed 2 matching regions from /home/adrian/school/KNN/CLIP/filtered_texts/d732bc20-4611-11e1-1586-001143e3f55c.xml\n",
      "INFO: Removed 1 matching regions from /home/adrian/school/KNN/CLIP/filtered_texts/5059767a-435e-11dd-b505-00145e5790ea.xml\n",
      "INFO: Removed 1 matching regions from /home/adrian/school/KNN/CLIP/filtered_texts/9f4d6803-4c6a-11e1-1586-001143e3f55c.xml\n",
      "INFO: Removed 1 matching regions from /home/adrian/school/KNN/CLIP/filtered_texts/e463bc27-bc37-11e1-1418-001143e3f55c.xml\n",
      "INFO: Removed 2 matching regions from /home/adrian/school/KNN/CLIP/filtered_texts/23796467-65b5-4488-99e0-15f5a1630421.xml\n",
      "INFO: Removed 3 matching regions from /home/adrian/school/KNN/CLIP/filtered_texts/82304d98-2547-11e9-885c-001999480be2.xml\n",
      "INFO: Removed 1 matching regions from /home/adrian/school/KNN/CLIP/filtered_texts/2ee8bfe6-4a33-440f-a4f3-922bb560a80d.xml\n",
      "INFO: Removed 2 matching regions from /home/adrian/school/KNN/CLIP/filtered_texts/c2964907-7e3a-11e5-a611-d485646517a0.xml\n",
      "INFO: Removed 1 matching regions from /home/adrian/school/KNN/CLIP/filtered_texts/32ddc815-59b8-11e8-b45f-001999480be2.xml\n",
      "INFO: Removed 1 matching regions from /home/adrian/school/KNN/CLIP/filtered_texts/3d1f848d-df3d-11e1-1154-001143e3f55c.xml\n",
      "INFO: Removed 1 matching regions from /home/adrian/school/KNN/CLIP/filtered_texts/b1f2d995-6c66-4b49-a972-57ee436e5e4d.xml\n",
      "INFO: Removed 2 matching regions from /home/adrian/school/KNN/CLIP/filtered_texts/36fec19f-df3d-11e1-1211-001143e3f55c.xml\n",
      "INFO: Removed 1 matching regions from /home/adrian/school/KNN/CLIP/filtered_texts/4b66386d-435e-11dd-b505-00145e5790ea.xml\n",
      "INFO: Removed 1 matching regions from /home/adrian/school/KNN/CLIP/filtered_texts/29823ccb-7e37-11e5-a611-d485646517a0.xml\n",
      "INFO: Removed 1 matching regions from /home/adrian/school/KNN/CLIP/filtered_texts/b5183b16-a816-4f5b-8259-24ac384d9479.xml\n",
      "INFO: Removed 1 matching regions from /home/adrian/school/KNN/CLIP/filtered_texts/23d2e591-71c7-11e1-a313-005056a60003.xml\n",
      "INFO: Removed 2 matching regions from /home/adrian/school/KNN/CLIP/filtered_texts/7bf35563-5dd2-475c-b1f1-ab3f95b9535a.xml\n",
      "INFO: Removed 1 matching regions from /home/adrian/school/KNN/CLIP/filtered_texts/e7b72c50-d63a-11ea-903c-5ef3fc9ae867.xml\n",
      "INFO: Removed 3 matching regions from /home/adrian/school/KNN/CLIP/filtered_texts/590aab90-bd30-11e6-a419-001b63bd97ba.xml\n",
      "INFO: Removed 1 matching regions from /home/adrian/school/KNN/CLIP/filtered_texts/6ea7bac8-aea2-42a8-b47d-6a67515e3217.xml\n",
      "INFO: Removed 2 matching regions from /home/adrian/school/KNN/CLIP/filtered_texts/4cd0c5a6-435e-11dd-b505-00145e5790ea.xml\n",
      "INFO: Removed 1 matching regions from /home/adrian/school/KNN/CLIP/filtered_texts/7f3229b2-71c7-11e1-a313-005056a60003.xml\n",
      "INFO: Removed 1 matching regions from /home/adrian/school/KNN/CLIP/filtered_texts/afc69d22-2883-4c6d-86a7-ed3e0eb18aa2.xml\n",
      "INFO: Removed 4 matching regions from /home/adrian/school/KNN/CLIP/filtered_texts/93c28405-bdca-11e5-983c-001b21d0d3a4.xml\n",
      "INFO: Removed 1 matching regions from /home/adrian/school/KNN/CLIP/filtered_texts/eb3c5671-2d54-44fb-bf0f-a4ae279eb9f4.xml\n",
      "INFO: Removed 1 matching regions from /home/adrian/school/KNN/CLIP/filtered_texts/2d612e33-2547-11e9-885c-001999480be2.xml\n",
      "INFO: Removed 3 matching regions from /home/adrian/school/KNN/CLIP/filtered_texts/dce85f79-ef08-46fc-8f84-75b843217412.xml\n",
      "INFO: Removed 1 matching regions from /home/adrian/school/KNN/CLIP/filtered_texts/dd587784-fbb7-11e9-99ae-001999480be2.xml\n",
      "INFO: Removed 1 matching regions from /home/adrian/school/KNN/CLIP/filtered_texts/b22778f3-40f0-4934-884d-e94b4367f807.xml\n",
      "INFO: Removed 3 matching regions from /home/adrian/school/KNN/CLIP/filtered_texts/c1c845d0-e0e3-11df-890b-000d606f5dc6.xml\n",
      "INFO: Removed 2 matching regions from /home/adrian/school/KNN/CLIP/filtered_texts/e7e456ec-71c6-11e1-a313-005056a60003.xml\n",
      "INFO: Removed 1 matching regions from /home/adrian/school/KNN/CLIP/filtered_texts/302eed32-f632-11e9-a2fd-001999480be2.xml\n",
      "INFO: Removed 1 matching regions from /home/adrian/school/KNN/CLIP/filtered_texts/6da76942-5eed-11eb-9ff8-001b63bd97ba.xml\n",
      "INFO: Removed 1 matching regions from /home/adrian/school/KNN/CLIP/filtered_texts/a4ab867d-4334-11e1-1431-001143e3f55c.xml\n",
      "INFO: Removed 1 matching regions from /home/adrian/school/KNN/CLIP/filtered_texts/4e6954af-5625-11e1-1418-001143e3f55c.xml\n",
      "INFO: Removed 1 matching regions from /home/adrian/school/KNN/CLIP/filtered_texts/4d1358e8-c9f9-481a-8ee1-bbb3a8e4324c.xml\n",
      "INFO: Removed 1 matching regions from /home/adrian/school/KNN/CLIP/filtered_texts/d184c484-b9d5-4925-9c72-c4c1006b0059.xml\n",
      "INFO: Removed 2 matching regions from /home/adrian/school/KNN/CLIP/filtered_texts/07cba9e6-8576-4122-9184-8637fe2e3088.xml\n",
      "INFO: Removed 1 matching regions from /home/adrian/school/KNN/CLIP/filtered_texts/1c492bca-bbe5-45fb-95d9-16788d69b964.xml\n",
      "INFO: Removed 1 matching regions from /home/adrian/school/KNN/CLIP/filtered_texts/17fd336f-ad70-4029-a820-5f87702b55c5.xml\n",
      "INFO: Removed 1 matching regions from /home/adrian/school/KNN/CLIP/filtered_texts/1f7df6c3-5cf2-11e8-a84a-001999480be2.xml\n",
      "INFO: Removed 1 matching regions from /home/adrian/school/KNN/CLIP/filtered_texts/9aa404d7-4c6a-11e1-1729-001143e3f55c.xml\n",
      "INFO: Removed 1 matching regions from /home/adrian/school/KNN/CLIP/filtered_texts/f595da41-700f-4aee-b07a-04b3c2acdeab.xml\n",
      "INFO: Removed 1 matching regions from /home/adrian/school/KNN/CLIP/filtered_texts/2F589EB0-04CC-11DE-A21E-0030487BE43A.xml\n",
      "INFO: Removed 1 matching regions from /home/adrian/school/KNN/CLIP/filtered_texts/553e01ac-0a81-472b-ac72-4fd118b19306.xml\n",
      "INFO: Removed 1 matching regions from /home/adrian/school/KNN/CLIP/filtered_texts/00b525c9-3403-11eb-9331-001b63bd97ba.xml\n",
      "INFO: Removed 1 matching regions from /home/adrian/school/KNN/CLIP/filtered_texts/b995d793-148b-11e1-1154-001143e3f55c.xml\n",
      "INFO: Removed 1 matching regions from /home/adrian/school/KNN/CLIP/filtered_texts/540ae2be-3860-40c2-8d5e-a19205ca8bb5.xml\n",
      "INFO: Removed 3 matching regions from /home/adrian/school/KNN/CLIP/filtered_texts/b453f52b-7471-4e13-9e21-166dfd7f7806.xml\n",
      "INFO: Removed 1 matching regions from /home/adrian/school/KNN/CLIP/filtered_texts/73cbcb40-d765-48dd-aead-4fde9c0ec3ef.xml\n",
      "INFO: Removed 2 matching regions from /home/adrian/school/KNN/CLIP/filtered_texts/201e66d3-f34b-4b3a-802c-bb06a5596197.xml\n",
      "INFO: Removed 1 matching regions from /home/adrian/school/KNN/CLIP/filtered_texts/a8917433-7632-486f-b5e3-e9dff37118ca.xml\n",
      "INFO: Removed 1 matching regions from /home/adrian/school/KNN/CLIP/filtered_texts/0ac9defe-cea9-4514-b28a-18cb60ec543a.xml\n",
      "INFO: Removed 1 matching regions from /home/adrian/school/KNN/CLIP/filtered_texts/373884c4-7c6a-43e1-88a5-d16427800397.xml\n",
      "INFO: Removed 1 matching regions from /home/adrian/school/KNN/CLIP/filtered_texts/7b5a277c-5276-11e1-8339-001143e3f55c.xml\n",
      "INFO: Removed 1 matching regions from /home/adrian/school/KNN/CLIP/filtered_texts/60a0ae9d-4d9e-11e1-8486-001143e3f55c.xml\n",
      "INFO: Removed 1 matching regions from /home/adrian/school/KNN/CLIP/filtered_texts/b4a69ff7-ef91-4b61-b78f-03aece9299b2.xml\n",
      "INFO: Removed 1 matching regions from /home/adrian/school/KNN/CLIP/filtered_texts/c65a98e1-4611-11e1-1331-001143e3f55c.xml\n",
      "INFO: Removed 1 matching regions from /home/adrian/school/KNN/CLIP/filtered_texts/4133178c-2bf2-11ec-9b77-00155d012102.xml\n",
      "INFO: Removed 1 matching regions from /home/adrian/school/KNN/CLIP/filtered_texts/2989747d-c00e-11e9-b1d3-00155d012102.xml\n",
      "INFO: Removed 1 matching regions from /home/adrian/school/KNN/CLIP/filtered_texts/983c72d5-e405-4a87-ab1f-cde598869428.xml\n",
      "INFO: Removed 2 matching regions from /home/adrian/school/KNN/CLIP/filtered_texts/782cb12f-a4f4-4c9e-a525-9265fd1bd063.xml\n",
      "INFO: Removed 2 matching regions from /home/adrian/school/KNN/CLIP/filtered_texts/085e38d2-3027-4c1d-802b-62f54fbf3982.xml\n",
      "INFO: Removed 1 matching regions from /home/adrian/school/KNN/CLIP/filtered_texts/efad7b30-86a3-11e0-a82e-0013d398622b.xml\n",
      "INFO: Removed 1 matching regions from /home/adrian/school/KNN/CLIP/filtered_texts/1cba586d-65fe-4b61-9503-ba994bbda0a3.xml\n",
      "INFO: Removed 2 matching regions from /home/adrian/school/KNN/CLIP/filtered_texts/08abce05-4802-40a4-a48b-5dce1a0bf24e.xml\n",
      "INFO: Removed 1 matching regions from /home/adrian/school/KNN/CLIP/filtered_texts/3c8b609a-4394-11eb-9bf5-001999480be2.xml\n",
      "INFO: Removed 2 matching regions from /home/adrian/school/KNN/CLIP/filtered_texts/f0605a30-59fc-4da2-92db-d1c16453f27b.xml\n",
      "INFO: Removed 2 matching regions from /home/adrian/school/KNN/CLIP/filtered_texts/aa1f9856-6895-4a26-afce-df5c301f0f03.xml\n",
      "INFO: Removed 1 matching regions from /home/adrian/school/KNN/CLIP/filtered_texts/9098f082-09a9-409e-a5ce-863c1d50d247.xml\n",
      "INFO: Removed 1 matching regions from /home/adrian/school/KNN/CLIP/filtered_texts/5f9379e0-aa9b-11e3-8c84-d485646517a0.xml\n",
      "INFO: Removed 1 matching regions from /home/adrian/school/KNN/CLIP/filtered_texts/4c6e0ba1-435e-11dd-b505-00145e5790ea.xml\n",
      "INFO: Removed 1 matching regions from /home/adrian/school/KNN/CLIP/filtered_texts/cc1a6010-abab-11eb-8ea3-5ef3fc9ae867.xml\n",
      "INFO: Removed 1 matching regions from /home/adrian/school/KNN/CLIP/filtered_texts/5a289ae5-5cd5-11e8-a9b6-001999480be2.xml\n",
      "INFO: Removed 1 matching regions from /home/adrian/school/KNN/CLIP/filtered_texts/f22620d0-e845-11e4-9084-0030487be43a.xml\n",
      "INFO: Removed 1 matching regions from /home/adrian/school/KNN/CLIP/filtered_texts/17ef7d60-17e8-47e6-894d-ab1b4f6f2b98.xml\n",
      "INFO: Removed 7 matching regions from /home/adrian/school/KNN/CLIP/filtered_texts/a2b58ac9-e3de-11e6-8595-d485646517a0.xml\n",
      "INFO: Removed 1 matching regions from /home/adrian/school/KNN/CLIP/filtered_texts/41d82c3c-ece1-42b1-95b6-a5f411d2b56e.xml\n",
      "INFO: Removed 2 matching regions from /home/adrian/school/KNN/CLIP/filtered_texts/b6c196d7-6f6b-11e2-1586-001143e3f55c.xml\n",
      "INFO: Removed 1 matching regions from /home/adrian/school/KNN/CLIP/filtered_texts/3e3e8485-25b4-45ff-a341-a649b8d66bee.xml\n",
      "INFO: Removed 2 matching regions from /home/adrian/school/KNN/CLIP/filtered_texts/01e91b23-0c82-4324-bf4a-b6dcd49b2aab.xml\n",
      "INFO: Removed 1 matching regions from /home/adrian/school/KNN/CLIP/filtered_texts/b4bfe6cf-f46c-11e7-ae40-001b63bd97ba.xml\n",
      "INFO: Removed 1 matching regions from /home/adrian/school/KNN/CLIP/filtered_texts/546609b6-d827-11ec-9902-00155d01210b.xml\n",
      "INFO: Removed 2 matching regions from /home/adrian/school/KNN/CLIP/filtered_texts/1623c5f9-3c62-11e1-1457-001143e3f55c.xml\n",
      "INFO: Removed 1 matching regions from /home/adrian/school/KNN/CLIP/filtered_texts/78e1ce9e-3fa2-4b9e-8d66-7d879f6accc1.xml\n",
      "INFO: Removed 1 matching regions from /home/adrian/school/KNN/CLIP/filtered_texts/b901574e-c0e3-11e5-abe4-001999480be2.xml\n",
      "INFO: Removed 2 matching regions from /home/adrian/school/KNN/CLIP/filtered_texts/ba5dd47e-3b01-11ec-a227-001b63bd97ba.xml\n",
      "INFO: Removed 2 matching regions from /home/adrian/school/KNN/CLIP/filtered_texts/e51866c9-e302-11e6-88ad-001999480be2.xml\n",
      "INFO: Removed 2 matching regions from /home/adrian/school/KNN/CLIP/filtered_texts/590c320b-bd30-11e6-a419-001b63bd97ba.xml\n",
      "INFO: Removed 1 matching regions from /home/adrian/school/KNN/CLIP/filtered_texts/f57b5009-fd11-11e7-8209-00155d012102.xml\n",
      "INFO: Removed 1 matching regions from /home/adrian/school/KNN/CLIP/filtered_texts/42bb7ceb-4b1e-4489-a56b-5aa86e727251.xml\n",
      "INFO: Removed 1 matching regions from /home/adrian/school/KNN/CLIP/filtered_texts/3428a9fe-4ce4-11e1-1431-001143e3f55c.xml\n",
      "INFO: Removed 2 matching regions from /home/adrian/school/KNN/CLIP/filtered_texts/003d9392-3e40-11e1-bdd3-005056a60003.xml\n",
      "INFO: Removed 1 matching regions from /home/adrian/school/KNN/CLIP/filtered_texts/cb4a494b-2ddc-42cb-83ad-45a35be62d44.xml\n",
      "INFO: Removed 3 matching regions from /home/adrian/school/KNN/CLIP/filtered_texts/2872953d-c7dd-4819-b094-e1f84e7407bf.xml\n",
      "INFO: Removed 1 matching regions from /home/adrian/school/KNN/CLIP/filtered_texts/35603540-ab6b-11eb-8ea3-5ef3fc9ae867.xml\n",
      "INFO: Removed 1 matching regions from /home/adrian/school/KNN/CLIP/filtered_texts/0155b207-4b5e-42ae-98b0-6a3904294e66.xml\n",
      "INFO: Removed 1 matching regions from /home/adrian/school/KNN/CLIP/filtered_texts/0a3a55cc-67ca-11e8-bf34-00155d012102.xml\n",
      "INFO: Removed 1 matching regions from /home/adrian/school/KNN/CLIP/filtered_texts/0623421b-71c7-11e1-a313-005056a60003.xml\n",
      "INFO: Removed 1 matching regions from /home/adrian/school/KNN/CLIP/filtered_texts/d1a5249e-dee2-4112-b27f-0ad6201b7432.xml\n",
      "INFO: Removed 2 matching regions from /home/adrian/school/KNN/CLIP/filtered_texts/9aba7f53-e637-11e3-abd1-001b63bd97ba.xml\n",
      "INFO: Removed 1 matching regions from /home/adrian/school/KNN/CLIP/filtered_texts/9c72c018-5695-43f6-896c-2331a9da0b83.xml\n",
      "INFO: Removed 1 matching regions from /home/adrian/school/KNN/CLIP/filtered_texts/b2a6ce34-4611-11e1-8339-001143e3f55c.xml\n",
      "INFO: Removed 2 matching regions from /home/adrian/school/KNN/CLIP/filtered_texts/5b3ac2b0-ef93-11ea-b427-005056825209.xml\n",
      "INFO: Removed 8 matching regions from /home/adrian/school/KNN/CLIP/filtered_texts/64b2fb0a-0d86-11e8-8ee8-001b63bd97ba.xml\n",
      "INFO: Removed 1 matching regions from /home/adrian/school/KNN/CLIP/filtered_texts/377d0caa-505d-4ff2-a621-897b6c90e68b.xml\n",
      "INFO: Removed 1 matching regions from /home/adrian/school/KNN/CLIP/filtered_texts/e7fce910-1a00-11e2-8222-000d606f5dc6.xml\n",
      "INFO: Removed 5 matching regions from /home/adrian/school/KNN/CLIP/filtered_texts/797faaab-5105-4377-8fca-afd42d7ee4a5.xml\n",
      "INFO: Removed 4 matching regions from /home/adrian/school/KNN/CLIP/filtered_texts/c3c22b88-c2cb-4287-8797-7aa9beb5a57c.xml\n",
      "INFO: Removed 2 matching regions from /home/adrian/school/KNN/CLIP/filtered_texts/4501bc04-4efb-11e9-aa8e-005056a2b051.xml\n",
      "INFO: Removed 1 matching regions from /home/adrian/school/KNN/CLIP/filtered_texts/ff9f868f-9d8d-4214-80fd-06a8944c8434.xml\n",
      "INFO: Removed 1 matching regions from /home/adrian/school/KNN/CLIP/filtered_texts/af2430b1-4334-11e1-1431-001143e3f55c.xml\n",
      "INFO: Removed 3 matching regions from /home/adrian/school/KNN/CLIP/filtered_texts/9ac772f0-aa75-11eb-9f2d-5ef3fc9bb22f.xml\n",
      "INFO: Removed 1 matching regions from /home/adrian/school/KNN/CLIP/filtered_texts/3bbe1848-fae1-11e9-92a2-001999480be2.xml\n",
      "INFO: Removed 1 matching regions from /home/adrian/school/KNN/CLIP/filtered_texts/68a235fc-509c-4d42-a706-db1e0530bee2.xml\n",
      "INFO: Removed 3 matching regions from /home/adrian/school/KNN/CLIP/filtered_texts/5f5edfce-435f-11dd-b505-00145e5790ea.xml\n",
      "INFO: Removed 3 matching regions from /home/adrian/school/KNN/CLIP/filtered_texts/5ddd23cc-e755-11e8-a438-d485646517a0.xml\n",
      "INFO: Removed 1 matching regions from /home/adrian/school/KNN/CLIP/filtered_texts/b954e67e-83e0-11e5-9d4c-001999480be2.xml\n",
      "INFO: Removed 1 matching regions from /home/adrian/school/KNN/CLIP/filtered_texts/09e64c4e-0a6e-11eb-9aa6-001b63bd97ba.xml\n",
      "INFO: Removed 2 matching regions from /home/adrian/school/KNN/CLIP/filtered_texts/488e8054-ade5-4b8f-80b6-ad6847ae9862.xml\n",
      "INFO: Removed 1 matching regions from /home/adrian/school/KNN/CLIP/filtered_texts/459dd0dc-dad9-4f8f-9526-41e1d4db0071.xml\n",
      "INFO: Removed 2 matching regions from /home/adrian/school/KNN/CLIP/filtered_texts/cf4f5d7d-bf4e-11e9-bdf3-001999480be2.xml\n",
      "INFO: Removed 1 matching regions from /home/adrian/school/KNN/CLIP/filtered_texts/78b7a994-4b69-4811-9735-22b3780e08a3.xml\n",
      "INFO: Removed 1 matching regions from /home/adrian/school/KNN/CLIP/filtered_texts/d40b55ef-5a0e-43ef-8162-7f48964a4fe1.xml\n",
      "INFO: Removed 1 matching regions from /home/adrian/school/KNN/CLIP/filtered_texts/a9f8b7d8-a298-4b89-93be-f3c13eda33f9.xml\n",
      "INFO: Removed 1 matching regions from /home/adrian/school/KNN/CLIP/filtered_texts/77c24bc5-ebca-11e3-8d06-001b63bd97ba.xml\n",
      "INFO: Removed 1 matching regions from /home/adrian/school/KNN/CLIP/filtered_texts/ca2e435c-3d10-4bb6-a58b-7160d7954852.xml\n",
      "INFO: Removed 2 matching regions from /home/adrian/school/KNN/CLIP/filtered_texts/6cd3bcf0-915f-11de-97f8-0030487be43a.xml\n",
      "INFO: Removed 1 matching regions from /home/adrian/school/KNN/CLIP/filtered_texts/0dac1246-ea58-44d1-8770-7a61dc9040f3.xml\n",
      "INFO: Removed 1 matching regions from /home/adrian/school/KNN/CLIP/filtered_texts/77ea5846-70ac-11e4-a671-001b63bd97ba.xml\n",
      "INFO: Removed 1 matching regions from /home/adrian/school/KNN/CLIP/filtered_texts/713b0b57-bf4e-11e9-bdf3-001999480be2.xml\n",
      "INFO: Removed 1 matching regions from /home/adrian/school/KNN/CLIP/filtered_texts/0aa79fb0-e7b4-11dd-98db-0030487be43a.xml\n",
      "INFO: Removed 1 matching regions from /home/adrian/school/KNN/CLIP/filtered_texts/4db563f0-5a61-11e7-921c-d485646517a0.xml\n",
      "INFO: Removed 2 matching regions from /home/adrian/school/KNN/CLIP/filtered_texts/5d630aaf-fd12-11e7-8209-00155d012102.xml\n",
      "INFO: Removed 1 matching regions from /home/adrian/school/KNN/CLIP/filtered_texts/d7cbe2d2-c5bf-4979-b914-7cd67171392c.xml\n",
      "INFO: Removed 1 matching regions from /home/adrian/school/KNN/CLIP/filtered_texts/55884c7b-5625-11e1-1418-001143e3f55c.xml\n",
      "INFO: Removed 1 matching regions from /home/adrian/school/KNN/CLIP/filtered_texts/940c0ab0-b13f-4d6c-92d2-0aeda2161c31.xml\n",
      "INFO: Removed 1 matching regions from /home/adrian/school/KNN/CLIP/filtered_texts/dbf9cfb7-b0d1-4ba7-b4ab-c6e03176fede.xml\n",
      "INFO: Removed 11 matching regions from /home/adrian/school/KNN/CLIP/filtered_texts/53c1ddf0-7a2f-11df-aac9-0030487be43a.xml\n",
      "INFO: Removed 1 matching regions from /home/adrian/school/KNN/CLIP/filtered_texts/05063ef0-e6a7-48b4-9fb5-6ae29bf614eb.xml\n",
      "INFO: Removed 1 matching regions from /home/adrian/school/KNN/CLIP/filtered_texts/b8fc7579-c0e3-11e5-abe4-001999480be2.xml\n",
      "INFO: Removed 1 matching regions from /home/adrian/school/KNN/CLIP/filtered_texts/61cd0adc-482f-481f-a96d-ab0078306b60.xml\n",
      "INFO: Removed 1 matching regions from /home/adrian/school/KNN/CLIP/filtered_texts/68bbb577-be94-11e9-ba82-001999480be2.xml\n",
      "INFO: Removed 1 matching regions from /home/adrian/school/KNN/CLIP/filtered_texts/5bd141a9-435e-11dd-b505-00145e5790ea.xml\n",
      "INFO: Removed 1 matching regions from /home/adrian/school/KNN/CLIP/filtered_texts/de544351-3cfa-11e1-3052-001143e3f55c.xml\n",
      "INFO: Removed 1 matching regions from /home/adrian/school/KNN/CLIP/filtered_texts/6f5798c0-4d48-11df-a518-0030487be43a.xml\n",
      "INFO: Removed 1 matching regions from /home/adrian/school/KNN/CLIP/filtered_texts/be31091d-4393-11eb-9bf5-001999480be2.xml\n",
      "INFO: Removed 2 matching regions from /home/adrian/school/KNN/CLIP/filtered_texts/1606acea-8b89-4178-9877-802418246fb6.xml\n",
      "INFO: Removed 2 matching regions from /home/adrian/school/KNN/CLIP/filtered_texts/8048e7e2-43eb-438f-84df-2d86a7456010.xml\n",
      "INFO: Removed 2 matching regions from /home/adrian/school/KNN/CLIP/filtered_texts/7b3132ec-8d82-431f-986c-76468aa816ad.xml\n",
      "INFO: Removed 1 matching regions from /home/adrian/school/KNN/CLIP/filtered_texts/3d617810-5147-11df-9670-0030487be43a.xml\n",
      "INFO: Removed 1 matching regions from /home/adrian/school/KNN/CLIP/filtered_texts/02fb1c25-c3ec-11e9-adcd-001999480be2.xml\n",
      "INFO: Removed 1 matching regions from /home/adrian/school/KNN/CLIP/filtered_texts/48349f33-b0a1-11e6-b56f-001b63bd97ba.xml\n",
      "INFO: Removed 4 matching regions from /home/adrian/school/KNN/CLIP/filtered_texts/f0c87480-2030-11eb-a034-5ef3fc9bb22f.xml\n",
      "INFO: Removed 1 matching regions from /home/adrian/school/KNN/CLIP/filtered_texts/31898b3d-8d1b-4a44-b910-962aad122916.xml\n",
      "INFO: Removed 3 matching regions from /home/adrian/school/KNN/CLIP/filtered_texts/a777fa6d-306c-4c6d-8f17-482852f7231f.xml\n",
      "INFO: Removed 2 matching regions from /home/adrian/school/KNN/CLIP/filtered_texts/bfd889ac-007c-42cb-b2fd-00677073862d.xml\n",
      "INFO: Removed 2 matching regions from /home/adrian/school/KNN/CLIP/filtered_texts/2596b4f4-0442-406e-8f68-4fea244f239f.xml\n",
      "INFO: Removed 2 matching regions from /home/adrian/school/KNN/CLIP/filtered_texts/b455ae64-5dd4-4997-8639-d282bf6a1185.xml\n",
      "INFO: Removed 1 matching regions from /home/adrian/school/KNN/CLIP/filtered_texts/cc2f8090-643e-11e0-ac94-000d606f5dc6.xml\n",
      "INFO: Removed 2 matching regions from /home/adrian/school/KNN/CLIP/filtered_texts/9e52c550-4334-11e1-1589-001143e3f55c.xml\n",
      "INFO: Removed 1 matching regions from /home/adrian/school/KNN/CLIP/filtered_texts/844668e0-a68d-11de-bbaf-0013d398622b.xml\n",
      "INFO: Removed 1 matching regions from /home/adrian/school/KNN/CLIP/filtered_texts/e4068377-04ee-491d-8b8f-36087aa340a6.xml\n",
      "INFO: Removed 2 matching regions from /home/adrian/school/KNN/CLIP/filtered_texts/4772df4a-cd1a-4f9a-a3f2-e242e830cb02.xml\n",
      "INFO: Removed 1 matching regions from /home/adrian/school/KNN/CLIP/filtered_texts/835659a0-1a01-11e2-87e4-000d606f5dc6.xml\n",
      "INFO: Removed 1 matching regions from /home/adrian/school/KNN/CLIP/filtered_texts/892fc3e8-8939-4645-a65d-3f157c54afb4.xml\n",
      "INFO: Removed 3 matching regions from /home/adrian/school/KNN/CLIP/filtered_texts/5f0107f2-435f-11dd-b505-00145e5790ea.xml\n",
      "INFO: Removed 1 matching regions from /home/adrian/school/KNN/CLIP/filtered_texts/33d9d190-e6f2-11dd-9ddc-0030487be43a.xml\n",
      "INFO: Removed 1 matching regions from /home/adrian/school/KNN/CLIP/filtered_texts/f03da3d6-30dc-4025-b5d8-0c86104a99a2.xml\n",
      "INFO: Removed 2 matching regions from /home/adrian/school/KNN/CLIP/filtered_texts/97e03de7-7e35-11e5-a611-d485646517a0.xml\n",
      "INFO: Removed 3 matching regions from /home/adrian/school/KNN/CLIP/filtered_texts/4d3d6067-96a5-43e8-8f4e-10a7aacf8f92.xml\n",
      "INFO: Removed 1 matching regions from /home/adrian/school/KNN/CLIP/filtered_texts/2f38ed99-e470-11e8-bdc5-d485646517a0.xml\n",
      "INFO: Removed 1 matching regions from /home/adrian/school/KNN/CLIP/filtered_texts/a07d116d-59ba-11e8-b45f-001999480be2.xml\n",
      "INFO: Removed 2 matching regions from /home/adrian/school/KNN/CLIP/filtered_texts/210ba7b1-fd12-11e7-8209-00155d012102.xml\n",
      "INFO: Removed 1 matching regions from /home/adrian/school/KNN/CLIP/filtered_texts/8aea1f41-31c0-470f-9ab9-af8a1885ded6.xml\n",
      "INFO: Removed 2 matching regions from /home/adrian/school/KNN/CLIP/filtered_texts/389a980d-510a-42ff-acb2-41917df659a9.xml\n",
      "INFO: Removed 1 matching regions from /home/adrian/school/KNN/CLIP/filtered_texts/4a61faac-b986-4f26-8c74-153922926b94.xml\n",
      "INFO: Removed 2 matching regions from /home/adrian/school/KNN/CLIP/filtered_texts/c0ca760a-3cfa-11e1-1331-001143e3f55c.xml\n",
      "INFO: Removed 3 matching regions from /home/adrian/school/KNN/CLIP/filtered_texts/90b8d133-b83b-11e4-aa1b-001b21d0d3a4.xml\n",
      "INFO: Removed 2 matching regions from /home/adrian/school/KNN/CLIP/filtered_texts/0c462d3a-9337-4ea9-9d34-b3835fe132b7.xml\n",
      "INFO: Removed 1 matching regions from /home/adrian/school/KNN/CLIP/filtered_texts/1c8f684a-435e-11dd-b505-00145e5790ea.xml\n",
      "INFO: Removed 1 matching regions from /home/adrian/school/KNN/CLIP/filtered_texts/44d074c0-5d91-11e3-85df-0030487be43a.xml\n",
      "INFO: Removed 2 matching regions from /home/adrian/school/KNN/CLIP/filtered_texts/6616d858-e263-4ab1-9aed-c00479a04d29.xml\n",
      "INFO: Removed 1 matching regions from /home/adrian/school/KNN/CLIP/filtered_texts/0b0a1c3d-e258-11e6-99f8-001999480be2.xml\n",
      "INFO: Removed 1 matching regions from /home/adrian/school/KNN/CLIP/filtered_texts/850a7b44-b5d7-11e4-a0e9-001b21d0d3a4.xml\n",
      "INFO: Removed 2 matching regions from /home/adrian/school/KNN/CLIP/filtered_texts/29b7a0b5-4ce4-11e1-1726-001143e3f55c.xml\n",
      "INFO: Removed 1 matching regions from /home/adrian/school/KNN/CLIP/filtered_texts/d8fa8607-cf5b-11e7-aedf-001b63bd97ba.xml\n",
      "INFO: Removed 2 matching regions from /home/adrian/school/KNN/CLIP/filtered_texts/1c47fd01-26a2-4cdc-85e1-1f38b564c764.xml\n",
      "INFO: Removed 1 matching regions from /home/adrian/school/KNN/CLIP/filtered_texts/d4928e11-3cfa-11e1-7459-001143e3f55c.xml\n",
      "INFO: Removed 1 matching regions from /home/adrian/school/KNN/CLIP/filtered_texts/e42bc49d-3b49-42bc-9469-21db96f05893.xml\n",
      "INFO: Removed 1 matching regions from /home/adrian/school/KNN/CLIP/filtered_texts/02b32c92-ac0b-11e1-1589-001143e3f55c.xml\n",
      "INFO: Removed 1 matching regions from /home/adrian/school/KNN/CLIP/filtered_texts/4ae6de07-6cad-498f-9ce8-ba9cf5c2a24c.xml\n",
      "INFO: Removed 2 matching regions from /home/adrian/school/KNN/CLIP/filtered_texts/53e3b031-9770-11e5-a24f-001b63bd97ba.xml\n",
      "INFO: Removed 1 matching regions from /home/adrian/school/KNN/CLIP/filtered_texts/a35c6484-ebc6-11e3-a89f-001b63bd97ba.xml\n",
      "INFO: Removed 1 matching regions from /home/adrian/school/KNN/CLIP/filtered_texts/0d8aebcc-5b1d-4e78-8426-a2f6bb1a2f0c.xml\n",
      "INFO: Removed 1 matching regions from /home/adrian/school/KNN/CLIP/filtered_texts/47bd3a38-42b5-426a-9477-975010604ec4.xml\n",
      "INFO: Removed 1 matching regions from /home/adrian/school/KNN/CLIP/filtered_texts/c5e068ba-3b0b-11ec-b43b-001b63bd97ba.xml\n",
      "INFO: Removed 1 matching regions from /home/adrian/school/KNN/CLIP/filtered_texts/bc192bd1-6a43-11e9-9d4f-001999480be2.xml\n",
      "INFO: Removed 1 matching regions from /home/adrian/school/KNN/CLIP/filtered_texts/9e20bc1d-59b8-11e8-b45f-001999480be2.xml\n",
      "INFO: Removed 1 matching regions from /home/adrian/school/KNN/CLIP/filtered_texts/c0869416-846a-4247-9dec-88ad917a91b7.xml\n",
      "INFO: Removed 5 matching regions from /home/adrian/school/KNN/CLIP/filtered_texts/ca98bd40-0823-11e0-b5a0-000d606f5dc6.xml\n",
      "INFO: Removed 1 matching regions from /home/adrian/school/KNN/CLIP/filtered_texts/b267ea37-4334-11e1-1431-001143e3f55c.xml\n",
      "INFO: Removed 1 matching regions from /home/adrian/school/KNN/CLIP/filtered_texts/300b24dd-5244-49dd-9385-86958c513bac.xml\n",
      "INFO: Removed 1 matching regions from /home/adrian/school/KNN/CLIP/filtered_texts/139da568-83a1-11e5-9996-001999480be2.xml\n",
      "INFO: Removed 1 matching regions from /home/adrian/school/KNN/CLIP/filtered_texts/387201be-23f5-4a6a-a9f4-7c7ede4bff3b.xml\n",
      "INFO: Removed 1 matching regions from /home/adrian/school/KNN/CLIP/filtered_texts/503625a0-5625-11e1-1418-001143e3f55c.xml\n",
      "INFO: Removed 1 matching regions from /home/adrian/school/KNN/CLIP/filtered_texts/94274bfc-ab83-4c87-a5ac-6112dda2a585.xml\n",
      "INFO: Removed 2 matching regions from /home/adrian/school/KNN/CLIP/filtered_texts/dbfad0c9-5ccd-4f8f-bb82-2965ad3a9566.xml\n",
      "INFO: Removed 1 matching regions from /home/adrian/school/KNN/CLIP/filtered_texts/e5eb1110-ab60-11eb-8ea3-5ef3fc9ae867.xml\n",
      "INFO: Removed 1 matching regions from /home/adrian/school/KNN/CLIP/filtered_texts/42990729-f4ae-41c6-81c1-eba8aa1e0c32.xml\n",
      "INFO: Removed 1 matching regions from /home/adrian/school/KNN/CLIP/filtered_texts/d5b45540-b9c7-11df-833c-0030487be43a.xml\n",
      "INFO: Removed 1 matching regions from /home/adrian/school/KNN/CLIP/filtered_texts/d893f1de-3cfa-11e1-1090-001143e3f55c.xml\n",
      "INFO: Removed 1 matching regions from /home/adrian/school/KNN/CLIP/filtered_texts/2f4ff9d1-5cd5-11e8-a9b6-001999480be2.xml\n",
      "INFO: Removed 1 matching regions from /home/adrian/school/KNN/CLIP/filtered_texts/ca1b9241-b522-42af-809a-3c2d2396fb83.xml\n",
      "INFO: Removed 1 matching regions from /home/adrian/school/KNN/CLIP/filtered_texts/db0c6bd2-3cfa-11e1-1119-001143e3f55c.xml\n",
      "INFO: Removed 7 matching regions from /home/adrian/school/KNN/CLIP/filtered_texts/5337f030-8e61-457b-ba46-9444a82bf7d2.xml\n",
      "INFO: Removed 1 matching regions from /home/adrian/school/KNN/CLIP/filtered_texts/c1e4ebca-148b-11e1-1729-001143e3f55c.xml\n",
      "INFO: Removed 4 matching regions from /home/adrian/school/KNN/CLIP/filtered_texts/54559b40-cf16-11ed-8e7c-5ef3fcdaa9a7.xml\n",
      "INFO: Removed 1 matching regions from /home/adrian/school/KNN/CLIP/filtered_texts/3533f05e-4d0f-45cd-a8fe-dc62e037b115.xml\n",
      "INFO: Removed 1 matching regions from /home/adrian/school/KNN/CLIP/filtered_texts/062f4b53-abe0-4a64-a79c-a27b360ab8e3.xml\n",
      "INFO: Removed 1 matching regions from /home/adrian/school/KNN/CLIP/filtered_texts/35c22578-a8d3-11e5-8c71-001b63bd97ba.xml\n",
      "INFO: Removed 1 matching regions from /home/adrian/school/KNN/CLIP/filtered_texts/7119774d-7164-11e4-8efd-001b63bd97ba.xml\n",
      "INFO: Removed 1 matching regions from /home/adrian/school/KNN/CLIP/filtered_texts/5aa7be4a-83da-11e5-81bb-001999480be2.xml\n",
      "INFO: Removed 2 matching regions from /home/adrian/school/KNN/CLIP/filtered_texts/5ce02b3e-b878-11e6-8f09-001b63bd97ba.xml\n",
      "INFO: Removed 1 matching regions from /home/adrian/school/KNN/CLIP/filtered_texts/03495180-6566-438c-a781-7f23d6988e5d.xml\n",
      "INFO: Removed 1 matching regions from /home/adrian/school/KNN/CLIP/filtered_texts/a59f29c1-2b84-4279-8d36-8b7286af8040.xml\n",
      "INFO: Removed 1 matching regions from /home/adrian/school/KNN/CLIP/filtered_texts/505546ba-9cd5-4f84-a015-657b95f1ceed.xml\n",
      "INFO: Removed 1 matching regions from /home/adrian/school/KNN/CLIP/filtered_texts/3d6fc4e0-6d95-480b-a05d-7619f660c0db.xml\n",
      "INFO: Removed 2 matching regions from /home/adrian/school/KNN/CLIP/filtered_texts/12bab47d-e6ab-11e5-bc5e-001b21d0d3a4.xml\n",
      "INFO: Removed 1 matching regions from /home/adrian/school/KNN/CLIP/filtered_texts/d69a407c-9dcf-483f-a613-235461ba403e.xml\n",
      "INFO: Removed 2 matching regions from /home/adrian/school/KNN/CLIP/filtered_texts/ab9d4035-4239-414e-b757-0e27de8cd452.xml\n",
      "INFO: Removed 1 matching regions from /home/adrian/school/KNN/CLIP/filtered_texts/aff1434e-4334-11e1-1431-001143e3f55c.xml\n",
      "INFO: Removed 3 matching regions from /home/adrian/school/KNN/CLIP/filtered_texts/cd5828ad-8662-4521-a2c5-c770da915298.xml\n",
      "INFO: Removed 1 matching regions from /home/adrian/school/KNN/CLIP/filtered_texts/baf3178f-0120-4ff1-a979-a7c6b8e5c26a.xml\n",
      "INFO: Removed 1 matching regions from /home/adrian/school/KNN/CLIP/filtered_texts/af05b572-ca96-11e5-a54b-001b21d0d3a4.xml\n",
      "INFO: Removed 2 matching regions from /home/adrian/school/KNN/CLIP/filtered_texts/de93f8f0-3c8d-11e1-8339-001143e3f55c.xml\n",
      "INFO: Removed 1 matching regions from /home/adrian/school/KNN/CLIP/filtered_texts/47c061d6-435e-11dd-b505-00145e5790ea.xml\n",
      "INFO: Removed 1 matching regions from /home/adrian/school/KNN/CLIP/filtered_texts/ef56e01d-3eda-11e7-b97e-001b63bd97ba.xml\n",
      "INFO: Removed 1 matching regions from /home/adrian/school/KNN/CLIP/filtered_texts/41169fa0-da40-11e2-9ba0-0030487be43a.xml\n",
      "INFO: Removed 1 matching regions from /home/adrian/school/KNN/CLIP/filtered_texts/d36d9816-3339-11ec-bbbc-001b63bd97ba.xml\n",
      "INFO: Removed 1 matching regions from /home/adrian/school/KNN/CLIP/filtered_texts/c5def785-2c1f-4740-83f7-009a5d964be1.xml\n",
      "INFO: Removed 3 matching regions from /home/adrian/school/KNN/CLIP/filtered_texts/def26c10-fd11-11e7-8209-00155d012102.xml\n",
      "INFO: Removed 1 matching regions from /home/adrian/school/KNN/CLIP/filtered_texts/0663778f-1cd7-4afe-9c14-9146a87a9df4.xml\n",
      "INFO: Removed 1 matching regions from /home/adrian/school/KNN/CLIP/filtered_texts/9ef1a9ba-0fa9-4bc2-929a-ad8ee904d8fc.xml\n",
      "INFO: Removed 2 matching regions from /home/adrian/school/KNN/CLIP/filtered_texts/a07d1163-59ba-11e8-b45f-001999480be2.xml\n",
      "INFO: Removed 2 matching regions from /home/adrian/school/KNN/CLIP/filtered_texts/b2528f7a-9638-11e8-a0d6-00155d012102.xml\n",
      "INFO: Removed 5 matching regions from /home/adrian/school/KNN/CLIP/filtered_texts/11c63406-bbdf-11e3-8b25-001b63bd97ba.xml\n",
      "INFO: Removed 1 matching regions from /home/adrian/school/KNN/CLIP/filtered_texts/ac0e40b7-ddec-4280-ae37-b522dec7646d.xml\n",
      "INFO: Removed 1 matching regions from /home/adrian/school/KNN/CLIP/filtered_texts/e3a9100f-3b9b-11ec-b74d-00155d012102.xml\n",
      "INFO: Removed 1 matching regions from /home/adrian/school/KNN/CLIP/filtered_texts/473798d9-5625-11e1-1726-001143e3f55c.xml\n",
      "INFO: Removed 2 matching regions from /home/adrian/school/KNN/CLIP/filtered_texts/856f0970-7e6b-11dd-9c29-0013d398622b.xml\n",
      "INFO: Removed 2 matching regions from /home/adrian/school/KNN/CLIP/filtered_texts/e21615ba-6321-4dbe-a418-30cb72fe9223.xml\n",
      "INFO: Removed 3 matching regions from /home/adrian/school/KNN/CLIP/filtered_texts/890e47a8-4393-11eb-9bf5-001999480be2.xml\n",
      "INFO: Removed 1 matching regions from /home/adrian/school/KNN/CLIP/filtered_texts/b6379c40-ab60-11eb-8ea3-5ef3fc9ae867.xml\n",
      "INFO: Removed 1 matching regions from /home/adrian/school/KNN/CLIP/filtered_texts/bd93735b-b47c-4749-ab2e-2209c8871f4d.xml\n",
      "INFO: Removed 2 matching regions from /home/adrian/school/KNN/CLIP/filtered_texts/30711e7c-c281-11e9-92f0-001999480be2.xml\n",
      "INFO: Removed 1 matching regions from /home/adrian/school/KNN/CLIP/filtered_texts/96b0c1a0-abc7-11eb-9f2d-5ef3fc9bb22f.xml\n",
      "INFO: Removed 2 matching regions from /home/adrian/school/KNN/CLIP/filtered_texts/a443f456-61b5-4e68-8fb2-4822cc28cd82.xml\n",
      "INFO: Removed 1 matching regions from /home/adrian/school/KNN/CLIP/filtered_texts/72a1d4c0-00c2-11e2-971d-0030487be43a.xml\n",
      "INFO: Removed 1 matching regions from /home/adrian/school/KNN/CLIP/filtered_texts/bcd0a0f2-ebc9-11e3-b22b-001b63bd97ba.xml\n",
      "INFO: Removed 1 matching regions from /home/adrian/school/KNN/CLIP/filtered_texts/b60695ac-148b-11e1-8339-001143e3f55c.xml\n",
      "INFO: Removed 1 matching regions from /home/adrian/school/KNN/CLIP/filtered_texts/2abcf527-87e9-49b3-8424-4b2bd403e8fd.xml\n",
      "INFO: Removed 1 matching regions from /home/adrian/school/KNN/CLIP/filtered_texts/3355a998-a682-11e6-adc0-d485646517a0.xml\n",
      "INFO: Removed 1 matching regions from /home/adrian/school/KNN/CLIP/filtered_texts/c05498f7-ae33-11e1-1154-001143e3f55c.xml\n",
      "INFO: Removed 1 matching regions from /home/adrian/school/KNN/CLIP/filtered_texts/711e9f70-e59e-11df-8aa5-0030487be43a.xml\n",
      "INFO: Removed 1 matching regions from /home/adrian/school/KNN/CLIP/filtered_texts/9b8a0739-ccca-401c-a9d9-8ac5aa90791e.xml\n",
      "INFO: Removed 1 matching regions from /home/adrian/school/KNN/CLIP/filtered_texts/9bb39aae-bac8-11e1-2544-001143e3f55c.xml\n",
      "INFO: Removed 1 matching regions from /home/adrian/school/KNN/CLIP/filtered_texts/2ea14a72-f912-4e41-8af0-2005fd5bb584.xml\n",
      "INFO: Removed 1 matching regions from /home/adrian/school/KNN/CLIP/filtered_texts/4d34cc6d-5625-11e1-1418-001143e3f55c.xml\n",
      "INFO: Removed 1 matching regions from /home/adrian/school/KNN/CLIP/filtered_texts/12711268-1e69-4a5c-8993-c278fc15903a.xml\n",
      "INFO: Removed 1 matching regions from /home/adrian/school/KNN/CLIP/filtered_texts/d1db00d7-ccc8-41ea-a828-f812b52018e8.xml\n",
      "INFO: Removed 3 matching regions from /home/adrian/school/KNN/CLIP/filtered_texts/f386ae40-25cf-11eb-a034-5ef3fc9bb22f.xml\n",
      "INFO: Removed 1 matching regions from /home/adrian/school/KNN/CLIP/filtered_texts/b636b87d-95d5-41cc-9973-11eda34ce167.xml\n",
      "INFO: Removed 1 matching regions from /home/adrian/school/KNN/CLIP/filtered_texts/31f73b17-6047-40c1-ac67-f78bd23bed3a.xml\n",
      "INFO: Removed 3 matching regions from /home/adrian/school/KNN/CLIP/filtered_texts/a9645995-d8c2-43b9-b2e7-e16be00699ae.xml\n",
      "INFO: Removed 1 matching regions from /home/adrian/school/KNN/CLIP/filtered_texts/e9dfbdf4-3cfa-11e1-3052-001143e3f55c.xml\n",
      "INFO: Removed 3 matching regions from /home/adrian/school/KNN/CLIP/filtered_texts/c419550c-31fa-4f22-9aed-93d0f6a94910.xml\n",
      "INFO: Removed 1 matching regions from /home/adrian/school/KNN/CLIP/filtered_texts/47029c2a-51b7-4a64-a921-a41b12494cd4.xml\n",
      "INFO: Removed 2 matching regions from /home/adrian/school/KNN/CLIP/filtered_texts/8a9be90b-ae25-425e-8dca-0aa96166c864.xml\n",
      "INFO: Removed 3 matching regions from /home/adrian/school/KNN/CLIP/filtered_texts/205f0326-afd4-4241-afb2-b1a4254e1735.xml\n",
      "INFO: Removed 3 matching regions from /home/adrian/school/KNN/CLIP/filtered_texts/45d13cb5-435e-11dd-b505-00145e5790ea.xml\n",
      "INFO: Removed 1 matching regions from /home/adrian/school/KNN/CLIP/filtered_texts/106beca3-5a4a-11eb-8a7f-001b63bd97ba.xml\n",
      "INFO: Removed 1 matching regions from /home/adrian/school/KNN/CLIP/filtered_texts/13ece062-cb63-11e5-8235-000c290255ab.xml\n",
      "INFO: Removed 1 matching regions from /home/adrian/school/KNN/CLIP/filtered_texts/45bff61a-0063-11e7-9a3e-92f789bb8157.xml\n",
      "INFO: Removed 4 matching regions from /home/adrian/school/KNN/CLIP/filtered_texts/4ed8b4e8-bf4e-11e9-bdf3-001999480be2.xml\n",
      "INFO: Removed 2 matching regions from /home/adrian/school/KNN/CLIP/filtered_texts/585b4221-d46f-4e62-867f-32be1011d507.xml\n",
      "INFO: Removed 1 matching regions from /home/adrian/school/KNN/CLIP/filtered_texts/3c340012-59ba-11e8-b45f-001999480be2.xml\n",
      "INFO: Removed 3 matching regions from /home/adrian/school/KNN/CLIP/filtered_texts/2ae94ece-a67b-11e6-adc0-d485646517a0.xml\n",
      "INFO: Removed 1 matching regions from /home/adrian/school/KNN/CLIP/filtered_texts/754fa37c-9dfb-46da-9d46-5c67dc95d41f.xml\n",
      "INFO: Removed 1 matching regions from /home/adrian/school/KNN/CLIP/filtered_texts/c37bbdec-1d05-11ea-80a0-001999480be2.xml\n",
      "INFO: Removed 1 matching regions from /home/adrian/school/KNN/CLIP/filtered_texts/ffad79cd-e301-11e6-b8fb-001999480be2.xml\n",
      "INFO: Removed 1 matching regions from /home/adrian/school/KNN/CLIP/filtered_texts/12091653-59b8-11e8-b45f-001999480be2.xml\n",
      "INFO: Removed 1 matching regions from /home/adrian/school/KNN/CLIP/filtered_texts/11f1e247-4388-11eb-a6da-001999480be2.xml\n",
      "INFO: Removed 1 matching regions from /home/adrian/school/KNN/CLIP/filtered_texts/8ad0f606-4c6a-11e1-1331-001143e3f55c.xml\n",
      "INFO: Removed 1 matching regions from /home/adrian/school/KNN/CLIP/filtered_texts/4c990245-5625-11e1-1418-001143e3f55c.xml\n",
      "INFO: Removed 1 matching regions from /home/adrian/school/KNN/CLIP/filtered_texts/65b7cb40-575a-11dd-943e-000d606f5dc6.xml\n",
      "INFO: Removed 1 matching regions from /home/adrian/school/KNN/CLIP/filtered_texts/45f19618-435e-11dd-b505-00145e5790ea.xml\n",
      "INFO: Removed 1 matching regions from /home/adrian/school/KNN/CLIP/filtered_texts/6662e5a3-8595-11ea-82dd-001999480be2.xml\n",
      "INFO: Removed 2 matching regions from /home/adrian/school/KNN/CLIP/filtered_texts/56e9e1d2-0281-4536-9221-864f4e16fa0b.xml\n",
      "INFO: Removed 1 matching regions from /home/adrian/school/KNN/CLIP/filtered_texts/d3813a7a-e758-11e8-a438-d485646517a0.xml\n",
      "INFO: Removed 1 matching regions from /home/adrian/school/KNN/CLIP/filtered_texts/5fdb750f-09e6-4dc0-b706-d5845c10cda5.xml\n",
      "INFO: Removed 2 matching regions from /home/adrian/school/KNN/CLIP/filtered_texts/d1e603d1-a677-11e6-adc0-d485646517a0.xml\n",
      "INFO: Removed 2 matching regions from /home/adrian/school/KNN/CLIP/filtered_texts/d719c5af-13b1-4e2b-baef-5da17b581c5c.xml\n",
      "INFO: Removed 2 matching regions from /home/adrian/school/KNN/CLIP/filtered_texts/473febd5-bd30-11e6-a419-001b63bd97ba.xml\n",
      "INFO: Removed 1 matching regions from /home/adrian/school/KNN/CLIP/filtered_texts/a4f75f00-c500-4874-91d4-dded06f58dcd.xml\n",
      "INFO: Removed 1 matching regions from /home/adrian/school/KNN/CLIP/filtered_texts/52ff4b90-cd76-11dc-8cd2-000d606f5dc6.xml\n",
      "INFO: Removed 1 matching regions from /home/adrian/school/KNN/CLIP/filtered_texts/dbbad2f0-b595-11ea-9c77-5ef3fc9ae867.xml\n",
      "INFO: Removed 2 matching regions from /home/adrian/school/KNN/CLIP/filtered_texts/05813c2e-4eea-11e9-93fc-005056a2b051.xml\n",
      "INFO: Removed 4 matching regions from /home/adrian/school/KNN/CLIP/filtered_texts/934e150f-646e-11eb-8822-001b63bd97ba.xml\n",
      "INFO: Removed 2 matching regions from /home/adrian/school/KNN/CLIP/filtered_texts/5e5f4059-fa5b-40b3-a5d9-118e12356f05.xml\n",
      "INFO: Removed 1 matching regions from /home/adrian/school/KNN/CLIP/filtered_texts/8230c26c-2547-11e9-885c-001999480be2.xml\n",
      "INFO: Removed 3 matching regions from /home/adrian/school/KNN/CLIP/filtered_texts/4c398e63-435e-11dd-b505-00145e5790ea.xml\n",
      "INFO: Removed 1 matching regions from /home/adrian/school/KNN/CLIP/filtered_texts/920bc588-53c3-4666-9b76-9f723115517a.xml\n",
      "INFO: Removed 1 matching regions from /home/adrian/school/KNN/CLIP/filtered_texts/8f8a6aac-a67b-11e6-adc0-d485646517a0.xml\n",
      "INFO: Removed 3 matching regions from /home/adrian/school/KNN/CLIP/filtered_texts/c62277d3-3e7e-4ea7-8d55-e8082edebbbb.xml\n",
      "INFO: Removed 1 matching regions from /home/adrian/school/KNN/CLIP/filtered_texts/7345353b-d47a-43f2-ad45-a483626c8df7.xml\n",
      "INFO: Removed 1 matching regions from /home/adrian/school/KNN/CLIP/filtered_texts/888e360d-71c6-11e1-a313-005056a60003.xml\n",
      "INFO: Removed 1 matching regions from /home/adrian/school/KNN/CLIP/filtered_texts/7c9d8160-4440-4324-b34e-30e940572c76.xml\n",
      "INFO: Removed 2 matching regions from /home/adrian/school/KNN/CLIP/filtered_texts/4cb9bf5e-231c-4e94-833b-7d826326f834.xml\n",
      "INFO: Removed 1 matching regions from /home/adrian/school/KNN/CLIP/filtered_texts/75c19df3-435f-11dd-b505-00145e5790ea.xml\n",
      "INFO: Removed 1 matching regions from /home/adrian/school/KNN/CLIP/filtered_texts/04aa82b9-1cbb-4ae0-b65c-1cbae3c6a9cd.xml\n",
      "INFO: Removed 2 matching regions from /home/adrian/school/KNN/CLIP/filtered_texts/475ed569-4394-11eb-9bf5-001999480be2.xml\n",
      "INFO: Removed 4 matching regions from /home/adrian/school/KNN/CLIP/filtered_texts/4b90755a-e3ab-11e6-a395-001999480be2.xml\n",
      "INFO: Removed 5 matching regions from /home/adrian/school/KNN/CLIP/filtered_texts/ac1c09bd-8059-46f5-a540-3edb0eebb17e.xml\n",
      "INFO: Removed 1 matching regions from /home/adrian/school/KNN/CLIP/filtered_texts/46d36060-abaa-11eb-9f2d-5ef3fc9bb22f.xml\n",
      "INFO: Removed 1 matching regions from /home/adrian/school/KNN/CLIP/filtered_texts/92bfe858-4c6a-11e1-1586-001143e3f55c.xml\n",
      "INFO: Removed 1 matching regions from /home/adrian/school/KNN/CLIP/filtered_texts/149362e2-601e-48ab-9cca-f163b60634c9.xml\n",
      "INFO: Removed 1 matching regions from /home/adrian/school/KNN/CLIP/filtered_texts/965bfece-6e27-4b62-956d-a69ece5ac975.xml\n",
      "INFO: Removed 1 matching regions from /home/adrian/school/KNN/CLIP/filtered_texts/a963f0b7-bac8-11e1-1418-001143e3f55c.xml\n",
      "INFO: Removed 1 matching regions from /home/adrian/school/KNN/CLIP/filtered_texts/79ffc0d8-ea93-46f7-99a9-14b8e6bf7685.xml\n",
      "INFO: Removed 5 matching regions from /home/adrian/school/KNN/CLIP/filtered_texts/612dec24-bab8-4c36-bebe-b207ab2779c2.xml\n",
      "INFO: Removed 1 matching regions from /home/adrian/school/KNN/CLIP/filtered_texts/5fc8643b-d16e-4416-95ab-8b32255d5f84.xml\n",
      "INFO: Removed 1 matching regions from /home/adrian/school/KNN/CLIP/filtered_texts/25fafb9c-c5a0-11e1-4047-001143e3f55c.xml\n",
      "INFO: Removed 1 matching regions from /home/adrian/school/KNN/CLIP/filtered_texts/81a6752c-387c-47e7-9f46-0fc50e7aefb6.xml\n",
      "INFO: Removed 1 matching regions from /home/adrian/school/KNN/CLIP/filtered_texts/0e61ac6c-9900-11e5-8438-001b63bd97ba.xml\n",
      "INFO: Removed 1 matching regions from /home/adrian/school/KNN/CLIP/filtered_texts/c26f3680-ab6f-11eb-9f2d-5ef3fc9bb22f.xml\n",
      "INFO: Removed 1 matching regions from /home/adrian/school/KNN/CLIP/filtered_texts/b2a6ce24-4611-11e1-8339-001143e3f55c.xml\n",
      "INFO: Removed 1 matching regions from /home/adrian/school/KNN/CLIP/filtered_texts/71ee3bc2-ff1a-4f59-ac16-585c57504411.xml\n",
      "INFO: Removed 2 matching regions from /home/adrian/school/KNN/CLIP/filtered_texts/b55227dc-6f6b-11e2-1586-001143e3f55c.xml\n",
      "INFO: Removed 3 matching regions from /home/adrian/school/KNN/CLIP/filtered_texts/e47b39ac-0c67-466b-b22e-3fe70c2b5363.xml\n",
      "INFO: Removed 1 matching regions from /home/adrian/school/KNN/CLIP/filtered_texts/d0efd292-fe11-47cd-934e-dc3b9bd5b030.xml\n",
      "INFO: Removed 1 matching regions from /home/adrian/school/KNN/CLIP/filtered_texts/745f4a86-accc-11eb-8c0f-001b63bd97ba.xml\n",
      "INFO: Removed 2 matching regions from /home/adrian/school/KNN/CLIP/filtered_texts/396bf24c-f122-4e59-9d90-93529a00f893.xml\n",
      "INFO: Removed 1 matching regions from /home/adrian/school/KNN/CLIP/filtered_texts/af0f8572-b1e3-11e4-8af0-001b21d0d3a4.xml\n",
      "INFO: Removed 1 matching regions from /home/adrian/school/KNN/CLIP/filtered_texts/dbe1bf62-140f-4b14-90ac-328bbe724dae.xml\n",
      "INFO: Removed 1 matching regions from /home/adrian/school/KNN/CLIP/filtered_texts/e66a2db0-802f-11de-913c-0030487be43a.xml\n",
      "INFO: Removed 1 matching regions from /home/adrian/school/KNN/CLIP/filtered_texts/23588b04-c5a0-11e1-4047-001143e3f55c.xml\n",
      "INFO: Removed 1 matching regions from /home/adrian/school/KNN/CLIP/filtered_texts/1002c731-1d88-4910-b35b-17ac0c3e6002.xml\n",
      "INFO: Removed 1 matching regions from /home/adrian/school/KNN/CLIP/filtered_texts/a07d37ca-59ba-11e8-b45f-001999480be2.xml\n",
      "INFO: Removed 1 matching regions from /home/adrian/school/KNN/CLIP/filtered_texts/68399fd0-443e-11eb-89a3-001999480be2.xml\n",
      "INFO: Removed 3 matching regions from /home/adrian/school/KNN/CLIP/filtered_texts/bd374184-0ec4-49fa-88c5-57cc79b869ad.xml\n",
      "INFO: Removed 1 matching regions from /home/adrian/school/KNN/CLIP/filtered_texts/d6319175-59b7-11e8-b45f-001999480be2.xml\n",
      "INFO: Removed 1 matching regions from /home/adrian/school/KNN/CLIP/filtered_texts/de544352-3cfa-11e1-3052-001143e3f55c.xml\n",
      "INFO: Removed 1 matching regions from /home/adrian/school/KNN/CLIP/filtered_texts/3b346ae0-e712-11ea-9e1b-5ef3fc9bb22f.xml\n",
      "INFO: Removed 1 matching regions from /home/adrian/school/KNN/CLIP/filtered_texts/795c24fd-6974-4a3f-a0e5-3b2164288336.xml\n",
      "INFO: Removed 1 matching regions from /home/adrian/school/KNN/CLIP/filtered_texts/02e85deb-7eb5-11e3-af11-d485646517a0.xml\n",
      "INFO: Removed 4 matching regions from /home/adrian/school/KNN/CLIP/filtered_texts/2a1cb580-a669-11e6-adc0-d485646517a0.xml\n",
      "INFO: Removed 1 matching regions from /home/adrian/school/KNN/CLIP/filtered_texts/449e1105-0343-4f5c-acc0-1365ee041343.xml\n",
      "INFO: Removed 1 matching regions from /home/adrian/school/KNN/CLIP/filtered_texts/ec204967-5d35-4afd-94d6-7263e0d3f25f.xml\n",
      "INFO: Removed 2 matching regions from /home/adrian/school/KNN/CLIP/filtered_texts/65f68883-25d0-43d7-bf46-318b5807f79a.xml\n",
      "INFO: Removed 1 matching regions from /home/adrian/school/KNN/CLIP/filtered_texts/58434e00-5625-11e1-1331-001143e3f55c.xml\n",
      "INFO: Removed 1 matching regions from /home/adrian/school/KNN/CLIP/filtered_texts/a442cae0-6b3e-11e0-a7f1-0030487be43a.xml\n",
      "INFO: Removed 1 matching regions from /home/adrian/school/KNN/CLIP/filtered_texts/1fb03190-7460-11e3-8396-0030487be43a.xml\n",
      "INFO: Removed 1 matching regions from /home/adrian/school/KNN/CLIP/filtered_texts/87412cd1-b1a2-406b-ad16-fe979a451338.xml\n",
      "INFO: Removed 1 matching regions from /home/adrian/school/KNN/CLIP/filtered_texts/8f4c05d0-0255-4ad3-88a2-36b011733f6a.xml\n",
      "INFO: Removed 1 matching regions from /home/adrian/school/KNN/CLIP/filtered_texts/28622c77-d0b3-4a33-852c-46680c27b326.xml\n",
      "INFO: Removed 2 matching regions from /home/adrian/school/KNN/CLIP/filtered_texts/062d0650-5ef7-11dd-821a-000d606f5dc6.xml\n",
      "INFO: Removed 1 matching regions from /home/adrian/school/KNN/CLIP/filtered_texts/53c93d02-4394-11eb-9bf5-001999480be2.xml\n",
      "INFO: Removed 1 matching regions from /home/adrian/school/KNN/CLIP/filtered_texts/38ce0897-8305-11e5-a683-001999480be2.xml\n",
      "INFO: Removed 1 matching regions from /home/adrian/school/KNN/CLIP/filtered_texts/b4ee8dd8-88f6-409e-b350-ec0712656a5a.xml\n",
      "INFO: Removed 3 matching regions from /home/adrian/school/KNN/CLIP/filtered_texts/8ae0e461-e0b8-4562-89da-1f72bc68b926.xml\n",
      "INFO: Removed 3 matching regions from /home/adrian/school/KNN/CLIP/filtered_texts/4f40c710-25d1-11eb-bd18-005056827e51.xml\n",
      "INFO: Removed 1 matching regions from /home/adrian/school/KNN/CLIP/filtered_texts/aa5aec41-ed3d-11e3-91a6-001b63bd97ba.xml\n",
      "INFO: Removed 2 matching regions from /home/adrian/school/KNN/CLIP/filtered_texts/34fd1d9e-43bf-11eb-b2c7-001999480be2.xml\n",
      "INFO: Removed 1 matching regions from /home/adrian/school/KNN/CLIP/filtered_texts/0a482620-5851-11df-9423-0030487be43a.xml\n",
      "INFO: Removed 1 matching regions from /home/adrian/school/KNN/CLIP/filtered_texts/9b66578f-f2cf-4269-91a2-f4a3e15f490b.xml\n",
      "INFO: Removed 1 matching regions from /home/adrian/school/KNN/CLIP/filtered_texts/64ad6fc8-d19c-11e6-ba69-001b63bd97ba.xml\n",
      "INFO: Removed 1 matching regions from /home/adrian/school/KNN/CLIP/filtered_texts/28f60016-59f9-11e9-94c4-001b63bd97ba.xml\n",
      "INFO: Removed 2 matching regions from /home/adrian/school/KNN/CLIP/filtered_texts/0667a7d0-8c31-47ca-906f-475cb8c09c19.xml\n",
      "INFO: Removed 2 matching regions from /home/adrian/school/KNN/CLIP/filtered_texts/1676c429-5a5d-11e7-921c-d485646517a0.xml\n",
      "INFO: Removed 1 matching regions from /home/adrian/school/KNN/CLIP/filtered_texts/e1c34030-5fc5-48b2-bece-f07ae35b99cf.xml\n",
      "INFO: Removed 3 matching regions from /home/adrian/school/KNN/CLIP/filtered_texts/d756cbd8-9e20-4916-9bb4-8224befd44bc.xml\n",
      "INFO: Removed 2 matching regions from /home/adrian/school/KNN/CLIP/filtered_texts/21445f01-5a58-11e7-921c-d485646517a0.xml\n",
      "INFO: Removed 1 matching regions from /home/adrian/school/KNN/CLIP/filtered_texts/d7dcfb25-4eed-11e9-8962-005056a2b051.xml\n",
      "INFO: Removed 1 matching regions from /home/adrian/school/KNN/CLIP/filtered_texts/3a55769e-df28-4c96-b78d-3791e0d9ef9e.xml\n",
      "INFO: Removed 1 matching regions from /home/adrian/school/KNN/CLIP/filtered_texts/44ccfe92-0c79-11e6-932b-001b21d0d3a4.xml\n",
      "INFO: Removed 1 matching regions from /home/adrian/school/KNN/CLIP/filtered_texts/6cab836b-4648-11e9-8ee0-00155d012102.xml\n",
      "INFO: Removed 2 matching regions from /home/adrian/school/KNN/CLIP/filtered_texts/bc43e7c4-1636-4ba5-bb1c-72e5e43692a5.xml\n",
      "INFO: Removed 4 matching regions from /home/adrian/school/KNN/CLIP/filtered_texts/64b210fd-0d86-11e8-8ee8-001b63bd97ba.xml\n",
      "INFO: Removed 1 matching regions from /home/adrian/school/KNN/CLIP/filtered_texts/3c797e75-bb45-4fc6-a170-f9bc68b01401.xml\n",
      "INFO: Removed 1 matching regions from /home/adrian/school/KNN/CLIP/filtered_texts/0be41cb0-1d20-11eb-9210-5ef3fc9ae867.xml\n",
      "INFO: Removed 1 matching regions from /home/adrian/school/KNN/CLIP/filtered_texts/362f7d33-83d6-11e5-bafe-001999480be2.xml\n",
      "INFO: Removed 2 matching regions from /home/adrian/school/KNN/CLIP/filtered_texts/4e09e7ef-d4b1-4600-813c-636b1b98786b.xml\n",
      "INFO: Removed 1 matching regions from /home/adrian/school/KNN/CLIP/filtered_texts/185e0a85-526f-4733-a85f-a57ab7dcaea2.xml\n",
      "INFO: Removed 2 matching regions from /home/adrian/school/KNN/CLIP/filtered_texts/7d076615-443e-11eb-89a3-001999480be2.xml\n",
      "INFO: Removed 2 matching regions from /home/adrian/school/KNN/CLIP/filtered_texts/3e67d4b3-fd12-11e7-8209-00155d012102.xml\n",
      "INFO: Removed 1 matching regions from /home/adrian/school/KNN/CLIP/filtered_texts/9501045f-ffc6-11e9-b0f5-001999480be2.xml\n",
      "INFO: Removed 1 matching regions from /home/adrian/school/KNN/CLIP/filtered_texts/21bbc66d-a674-11e6-adc0-d485646517a0.xml\n",
      "INFO: Removed 1 matching regions from /home/adrian/school/KNN/CLIP/filtered_texts/3d1f8436-df3d-11e1-1154-001143e3f55c.xml\n",
      "INFO: Removed 2 matching regions from /home/adrian/school/KNN/CLIP/filtered_texts/16f70f50-a262-45d5-b679-f84d7344cbf3.xml\n",
      "INFO: Removed 2 matching regions from /home/adrian/school/KNN/CLIP/filtered_texts/822fd8bd-2547-11e9-885c-001999480be2.xml\n",
      "INFO: Removed 1 matching regions from /home/adrian/school/KNN/CLIP/filtered_texts/4eaf4147-db77-41d7-863c-4d9aadb59b98.xml\n",
      "INFO: Removed 1 matching regions from /home/adrian/school/KNN/CLIP/filtered_texts/c14401dd-ae33-11e1-1154-001143e3f55c.xml\n",
      "INFO: Removed 2 matching regions from /home/adrian/school/KNN/CLIP/filtered_texts/349bb813-6b3f-11e5-bb63-001b21d0d3a4.xml\n",
      "INFO: Removed 1 matching regions from /home/adrian/school/KNN/CLIP/filtered_texts/c579045e-3c53-11e1-1331-001143e3f55c.xml\n",
      "INFO: Removed 1 matching regions from /home/adrian/school/KNN/CLIP/filtered_texts/be026e43-1638-11e8-8461-00155d012102.xml\n",
      "INFO: Removed 1 matching regions from /home/adrian/school/KNN/CLIP/filtered_texts/e185dbd1-76b7-4d14-9b77-81216c08225f.xml\n",
      "INFO: Removed 1 matching regions from /home/adrian/school/KNN/CLIP/filtered_texts/b2fc1818-83d0-11e5-9197-001999480be2.xml\n",
      "INFO: Removed 1 matching regions from /home/adrian/school/KNN/CLIP/filtered_texts/e2a5fb10-cc2b-11ea-9a89-005056825209.xml\n",
      "INFO: Removed 3 matching regions from /home/adrian/school/KNN/CLIP/filtered_texts/73c2beb0-ab53-11eb-8c6c-005056827e51.xml\n",
      "INFO: Removed 2 matching regions from /home/adrian/school/KNN/CLIP/filtered_texts/6fc623b6-43c0-11eb-b2c7-001999480be2.xml\n",
      "INFO: Removed 1 matching regions from /home/adrian/school/KNN/CLIP/filtered_texts/867c4352-9aa9-4a11-ae79-d09a054fdcde.xml\n",
      "INFO: Removed 2 matching regions from /home/adrian/school/KNN/CLIP/filtered_texts/4bafea3a-4395-11eb-9bf5-001999480be2.xml\n",
      "INFO: Removed 1 matching regions from /home/adrian/school/KNN/CLIP/filtered_texts/e6beedc0-ab5e-11eb-8ea3-5ef3fc9ae867.xml\n",
      "INFO: Removed 3 matching regions from /home/adrian/school/KNN/CLIP/filtered_texts/4c9901e5-5625-11e1-1418-001143e3f55c.xml\n",
      "INFO: Removed 1 matching regions from /home/adrian/school/KNN/CLIP/filtered_texts/e1efae4c-2b56-42c3-bc47-03627af37ed1.xml\n",
      "INFO: Removed 3 matching regions from /home/adrian/school/KNN/CLIP/filtered_texts/46842a3f-71c8-11e1-a313-005056a60003.xml\n",
      "INFO: Removed 1 matching regions from /home/adrian/school/KNN/CLIP/filtered_texts/dababa3d-b8f4-4ae1-bcb6-5573bcceb2e0.xml\n",
      "INFO: Removed 1 matching regions from /home/adrian/school/KNN/CLIP/filtered_texts/3c9614fa-3600-11ea-ade3-001b63bd97ba.xml\n",
      "INFO: Removed 1 matching regions from /home/adrian/school/KNN/CLIP/filtered_texts/300516ff-b6a6-48b9-a965-c347d70ab412.xml\n",
      "INFO: Removed 2 matching regions from /home/adrian/school/KNN/CLIP/filtered_texts/dd58c517-fbb7-11e9-99ae-001999480be2.xml\n",
      "INFO: Removed 1 matching regions from /home/adrian/school/KNN/CLIP/filtered_texts/89c7447b-e640-11e3-ae01-001b63bd97ba.xml\n",
      "INFO: Removed 1 matching regions from /home/adrian/school/KNN/CLIP/filtered_texts/33f7bafc-5ecb-4f43-ad29-c6e055ce6d08.xml\n",
      "INFO: Removed 1 matching regions from /home/adrian/school/KNN/CLIP/filtered_texts/c378d783-1d05-11ea-80a0-001999480be2.xml\n",
      "INFO: Removed 2 matching regions from /home/adrian/school/KNN/CLIP/filtered_texts/460ac341-435e-11dd-b505-00145e5790ea.xml\n",
      "INFO: Removed 1 matching regions from /home/adrian/school/KNN/CLIP/filtered_texts/39121312-f041-4070-b7e8-f28420ea0dfe.xml\n",
      "INFO: Removed 3 matching regions from /home/adrian/school/KNN/CLIP/filtered_texts/7224b7e2-a492-48fd-a25c-efed868fa3be.xml\n",
      "INFO: Removed 1 matching regions from /home/adrian/school/KNN/CLIP/filtered_texts/5cf28979-9424-45e6-b7cd-8e29f122953c.xml\n",
      "INFO: Removed 1 matching regions from /home/adrian/school/KNN/CLIP/filtered_texts/d1fd6522-3cfa-11e1-8486-001143e3f55c.xml\n",
      "INFO: Removed 1 matching regions from /home/adrian/school/KNN/CLIP/filtered_texts/0f5371b4-feca-48da-9138-8957d055c26e.xml\n",
      "INFO: Removed 6 matching regions from /home/adrian/school/KNN/CLIP/filtered_texts/b4cadc30-2289-4e31-a121-2fc4be22a457.xml\n",
      "INFO: Removed 1 matching regions from /home/adrian/school/KNN/CLIP/filtered_texts/d246d059-4611-11e1-2755-001143e3f55c.xml\n",
      "INFO: Removed 1 matching regions from /home/adrian/school/KNN/CLIP/filtered_texts/3524ddc2-c68a-4108-bc87-c3baa3f81a86.xml\n",
      "INFO: Removed 1 matching regions from /home/adrian/school/KNN/CLIP/filtered_texts/460cac5c-c2de-4425-acbd-0dc1183045b3.xml\n",
      "INFO: Removed 1 matching regions from /home/adrian/school/KNN/CLIP/filtered_texts/a9db06a9-5bd8-4008-b534-af5e9a666284.xml\n",
      "INFO: Removed 1 matching regions from /home/adrian/school/KNN/CLIP/filtered_texts/69beee8d-013b-11ea-a805-001999480be2.xml\n",
      "INFO: Removed 4 matching regions from /home/adrian/school/KNN/CLIP/filtered_texts/9804dec0-abad-11eb-81e5-005056825209.xml\n",
      "INFO: Removed 1 matching regions from /home/adrian/school/KNN/CLIP/filtered_texts/6961a0f9-2d17-47b6-9177-3e3de7ff1e36.xml\n",
      "INFO: Removed 3 matching regions from /home/adrian/school/KNN/CLIP/filtered_texts/da6cf1cd-1d60-4bef-9e83-f809206b0465.xml\n",
      "INFO: Removed 1 matching regions from /home/adrian/school/KNN/CLIP/filtered_texts/a312114c-b18f-11e8-a828-001b63bd97ba.xml\n",
      "INFO: Removed 2 matching regions from /home/adrian/school/KNN/CLIP/filtered_texts/1b2c9385-e3fe-4840-b650-d2584d8340e6.xml\n",
      "INFO: Removed 2 matching regions from /home/adrian/school/KNN/CLIP/filtered_texts/7b67d39b-89b4-4ee1-843b-b87cf6d88b4e.xml\n",
      "INFO: Removed 1 matching regions from /home/adrian/school/KNN/CLIP/filtered_texts/c76a8040-ac32-11eb-8c6c-005056827e51.xml\n",
      "INFO: Removed 3 matching regions from /home/adrian/school/KNN/CLIP/filtered_texts/1b906f18-435e-11dd-b505-00145e5790ea.xml\n",
      "INFO: Removed 2 matching regions from /home/adrian/school/KNN/CLIP/filtered_texts/6369b2a0-0222-4634-8485-ccf17ab8f5d0.xml\n",
      "INFO: Removed 1 matching regions from /home/adrian/school/KNN/CLIP/filtered_texts/d511aa60-5340-11dd-b465-000d606f5dc6.xml\n",
      "INFO: Removed 1 matching regions from /home/adrian/school/KNN/CLIP/filtered_texts/9a48238f-bac8-11e1-3085-001143e3f55c.xml\n",
      "INFO: Removed 1 matching regions from /home/adrian/school/KNN/CLIP/filtered_texts/0c9fb754-2547-11e9-885c-001999480be2.xml\n",
      "INFO: Removed 2 matching regions from /home/adrian/school/KNN/CLIP/filtered_texts/e7abfa2e-2ee3-4a0e-b2a9-869ab697dab9.xml\n",
      "INFO: Removed 2 matching regions from /home/adrian/school/KNN/CLIP/filtered_texts/255d5be8-c5a0-11e1-1418-001143e3f55c.xml\n",
      "INFO: Removed 1 matching regions from /home/adrian/school/KNN/CLIP/filtered_texts/d8f007ec-129f-4fe7-8177-8df3a47484c8.xml\n",
      "INFO: Removed 1 matching regions from /home/adrian/school/KNN/CLIP/filtered_texts/f5cec581-e23d-11e6-8269-001999480be2.xml\n",
      "INFO: Removed 1 matching regions from /home/adrian/school/KNN/CLIP/filtered_texts/b7f6b649-110c-11ea-b8ec-001999480be2.xml\n",
      "INFO: Removed 1 matching regions from /home/adrian/school/KNN/CLIP/filtered_texts/7dac69c1-71c6-11e1-a313-005056a60003.xml\n",
      "INFO: Removed 5 matching regions from /home/adrian/school/KNN/CLIP/filtered_texts/64b28627-0d86-11e8-8ee8-001b63bd97ba.xml\n",
      "INFO: Removed 1 matching regions from /home/adrian/school/KNN/CLIP/filtered_texts/deb4ff1e-e255-11e6-ad76-001999480be2.xml\n",
      "INFO: Removed 1 matching regions from /home/adrian/school/KNN/CLIP/filtered_texts/5db71877-435e-11dd-b505-00145e5790ea.xml\n",
      "INFO: Removed 2 matching regions from /home/adrian/school/KNN/CLIP/filtered_texts/92c19dc0-bd96-11de-aeb2-000d606f5dc6.xml\n",
      "INFO: Removed 3 matching regions from /home/adrian/school/KNN/CLIP/filtered_texts/0d975c60-d03c-11ea-903c-5ef3fc9ae867.xml\n",
      "INFO: Removed 1 matching regions from /home/adrian/school/KNN/CLIP/filtered_texts/2912c5a0-e3c9-11dc-84e3-000d606f5dc6.xml\n",
      "INFO: Removed 1 matching regions from /home/adrian/school/KNN/CLIP/filtered_texts/4c990236-5625-11e1-1418-001143e3f55c.xml\n",
      "INFO: Removed 1 matching regions from /home/adrian/school/KNN/CLIP/filtered_texts/d2e866cf-9fdb-4825-baa8-293afae0e087.xml\n",
      "INFO: Removed 1 matching regions from /home/adrian/school/KNN/CLIP/filtered_texts/cedaf995-2f8f-41e6-8c6e-caa37ae984dd.xml\n",
      "INFO: Removed 2 matching regions from /home/adrian/school/KNN/CLIP/filtered_texts/cc4595ad-5111-4610-b13d-164050b5ee01.xml\n",
      "INFO: Removed 1 matching regions from /home/adrian/school/KNN/CLIP/filtered_texts/75c75d50-0c6b-11e2-8954-0030487be43a.xml\n",
      "INFO: Removed 2 matching regions from /home/adrian/school/KNN/CLIP/filtered_texts/dd58504c-fbb7-11e9-99ae-001999480be2.xml\n",
      "INFO: Removed 1 matching regions from /home/adrian/school/KNN/CLIP/filtered_texts/7cf075a0-1e75-471c-8d86-7e442470412a.xml\n",
      "INFO: Removed 1 matching regions from /home/adrian/school/KNN/CLIP/filtered_texts/334e7dc4-22e3-4049-bd1f-75e961eda9b1.xml\n",
      "INFO: Removed 1 matching regions from /home/adrian/school/KNN/CLIP/filtered_texts/1ef115e2-0670-11e8-b579-001b63bd97ba.xml\n",
      "INFO: Removed 2 matching regions from /home/adrian/school/KNN/CLIP/filtered_texts/36273da0-d94f-11e0-a279-000d606f5dc6.xml\n",
      "INFO: Removed 4 matching regions from /home/adrian/school/KNN/CLIP/filtered_texts/a0b8cc0e-4b4f-4d1a-82c0-31f53ef13ee9.xml\n",
      "INFO: Removed 1 matching regions from /home/adrian/school/KNN/CLIP/filtered_texts/4d34ccca-5625-11e1-1418-001143e3f55c.xml\n",
      "INFO: Removed 1 matching regions from /home/adrian/school/KNN/CLIP/filtered_texts/a813814a-b945-4670-a684-b1aa115ed884.xml\n",
      "INFO: Removed 1 matching regions from /home/adrian/school/KNN/CLIP/filtered_texts/bb48038d-8b5e-4e5e-a1af-2fef987a92ac.xml\n",
      "INFO: Removed 3 matching regions from /home/adrian/school/KNN/CLIP/filtered_texts/e519032c-e302-11e6-88ad-001999480be2.xml\n",
      "INFO: Removed 1 matching regions from /home/adrian/school/KNN/CLIP/filtered_texts/936bb8c8-4c6a-11e1-1726-001143e3f55c.xml\n",
      "INFO: Removed 1 matching regions from /home/adrian/school/KNN/CLIP/filtered_texts/b0ea9f1d-3448-4746-800c-f1b84ccbdb3f.xml\n",
      "INFO: Removed 1 matching regions from /home/adrian/school/KNN/CLIP/filtered_texts/1123bb18-e759-11e8-a438-d485646517a0.xml\n",
      "INFO: Removed 1 matching regions from /home/adrian/school/KNN/CLIP/filtered_texts/a3490db0-d336-11ea-b7a2-005056827e51.xml\n",
      "INFO: Removed 1 matching regions from /home/adrian/school/KNN/CLIP/filtered_texts/5a2475d9-e757-11e8-a438-d485646517a0.xml\n",
      "INFO: Removed 1 matching regions from /home/adrian/school/KNN/CLIP/filtered_texts/f51af4f0-0639-11dd-993b-000d606f5dc6.xml\n",
      "INFO: Removed 1 matching regions from /home/adrian/school/KNN/CLIP/filtered_texts/63209f27-c2da-11e6-82bc-001999480be2.xml\n",
      "INFO: Removed 2 matching regions from /home/adrian/school/KNN/CLIP/filtered_texts/aee13c30-86a4-11e0-a9aa-0013d398622b.xml\n",
      "INFO: Removed 4 matching regions from /home/adrian/school/KNN/CLIP/filtered_texts/15e88f8e-a66c-11e6-adc0-d485646517a0.xml\n",
      "INFO: Removed 3 matching regions from /home/adrian/school/KNN/CLIP/filtered_texts/890df3b0-ab6d-11eb-81e5-005056825209.xml\n",
      "INFO: Removed 1 matching regions from /home/adrian/school/KNN/CLIP/filtered_texts/c88246b9-c146-4fcc-8c74-d223c0d7498d.xml\n",
      "INFO: Removed 2 matching regions from /home/adrian/school/KNN/CLIP/filtered_texts/4f7bfdb2-f276-4962-9f26-1025f0019d88.xml\n",
      "INFO: Removed 1 matching regions from /home/adrian/school/KNN/CLIP/filtered_texts/da486e8b-5971-491e-8d47-1459a255c89b.xml\n",
      "INFO: Removed 1 matching regions from /home/adrian/school/KNN/CLIP/filtered_texts/bd321411-7482-450c-a512-d524da51c5a6.xml\n",
      "INFO: Removed 2 matching regions from /home/adrian/school/KNN/CLIP/filtered_texts/3ab31536-af5a-44fa-9543-5491db93c200.xml\n",
      "INFO: Removed 3 matching regions from /home/adrian/school/KNN/CLIP/filtered_texts/d86fd0ef-5a8b-11e7-8040-d485646517a0.xml\n",
      "INFO: Removed 1 matching regions from /home/adrian/school/KNN/CLIP/filtered_texts/6522601d-e23e-11e6-bfcc-001999480be2.xml\n",
      "INFO: Removed 1 matching regions from /home/adrian/school/KNN/CLIP/filtered_texts/560c97c3-5625-11e1-6101-001143e3f55c.xml\n",
      "INFO: Removed 2 matching regions from /home/adrian/school/KNN/CLIP/filtered_texts/917a958f-7f5b-425c-bf9f-1635bc0789f9.xml\n",
      "INFO: Removed 1 matching regions from /home/adrian/school/KNN/CLIP/filtered_texts/56585e8a-452b-4e05-a21e-7953e778a293.xml\n",
      "INFO: Removed 1 matching regions from /home/adrian/school/KNN/CLIP/filtered_texts/9a0724e9-03ce-44ad-83e6-1388c784da3b.xml\n",
      "INFO: Removed 1 matching regions from /home/adrian/school/KNN/CLIP/filtered_texts/90231d80-4c6a-11e1-1418-001143e3f55c.xml\n",
      "INFO: Removed 1 matching regions from /home/adrian/school/KNN/CLIP/filtered_texts/d7d329e1-7eb4-11e3-af11-d485646517a0.xml\n",
      "INFO: Removed 1 matching regions from /home/adrian/school/KNN/CLIP/filtered_texts/f35bcbbb-c3c2-414d-8c34-5b8c84169bab.xml\n",
      "INFO: Removed 1 matching regions from /home/adrian/school/KNN/CLIP/filtered_texts/896c5f2a-7726-4805-bb9d-953d15c42244.xml\n",
      "INFO: Removed 2 matching regions from /home/adrian/school/KNN/CLIP/filtered_texts/32b8f4c9-fd12-11e7-8209-00155d012102.xml\n",
      "INFO: Removed 1 matching regions from /home/adrian/school/KNN/CLIP/filtered_texts/c0c6256f-c3ec-11e9-adcd-001999480be2.xml\n",
      "INFO: Removed 1 matching regions from /home/adrian/school/KNN/CLIP/filtered_texts/b8257a54-47fc-11e1-2544-001143e3f55c.xml\n",
      "INFO: Removed 1 matching regions from /home/adrian/school/KNN/CLIP/filtered_texts/b6c3cced-148b-11e1-8339-001143e3f55c.xml\n",
      "INFO: Removed 5 matching regions from /home/adrian/school/KNN/CLIP/filtered_texts/0c460e4c-646e-11eb-8822-001b63bd97ba.xml\n",
      "INFO: Removed 1 matching regions from /home/adrian/school/KNN/CLIP/filtered_texts/7ea26dde-894a-4a62-abdd-f706f350dcab.xml\n",
      "INFO: Removed 1 matching regions from /home/adrian/school/KNN/CLIP/filtered_texts/0d2d7f6e-f7aa-4aac-84ec-86f4c807a807.xml\n",
      "INFO: Removed 1 matching regions from /home/adrian/school/KNN/CLIP/filtered_texts/ca6eaa88-0566-4382-ab82-0856945ee367.xml\n",
      "INFO: Removed 1 matching regions from /home/adrian/school/KNN/CLIP/filtered_texts/babe146e-f3f2-427f-acef-8a6019128d75.xml\n",
      "INFO: Removed 3 matching regions from /home/adrian/school/KNN/CLIP/filtered_texts/d5d8d866-3ff9-4621-a930-81745da97233.xml\n",
      "INFO: Removed 1 matching regions from /home/adrian/school/KNN/CLIP/filtered_texts/c4333f2d-a686-11e6-adc0-d485646517a0.xml\n",
      "INFO: Removed 1 matching regions from /home/adrian/school/KNN/CLIP/filtered_texts/8fb444b7-020a-4ece-a44a-d6291ceae03b.xml\n",
      "INFO: Removed 1 matching regions from /home/adrian/school/KNN/CLIP/filtered_texts/b32e05f8-79d0-45ef-bf97-60f3d0c1faa8.xml\n",
      "INFO: Removed 1 matching regions from /home/adrian/school/KNN/CLIP/filtered_texts/46be5b5d-435e-11dd-b505-00145e5790ea.xml\n",
      "INFO: Removed 1 matching regions from /home/adrian/school/KNN/CLIP/filtered_texts/b231b926-a6ce-4d8e-aa72-cfe9f62703e6.xml\n",
      "INFO: Removed 1 matching regions from /home/adrian/school/KNN/CLIP/filtered_texts/a8ec3c4a-c203-4f57-9ba4-c5eb8fb0a426.xml\n",
      "INFO: Removed 2 matching regions from /home/adrian/school/KNN/CLIP/filtered_texts/2f7b6a1d-1e39-4193-967f-4435fbd83ea6.xml\n",
      "INFO: Removed 1 matching regions from /home/adrian/school/KNN/CLIP/filtered_texts/ebe73120-2cf3-4ab8-8d2b-205b4589c5db.xml\n",
      "INFO: Removed 2 matching regions from /home/adrian/school/KNN/CLIP/filtered_texts/331ecba5-a6de-4cdc-a909-e09f9e9392cc.xml\n",
      "INFO: Removed 2 matching regions from /home/adrian/school/KNN/CLIP/filtered_texts/446d3813-25f4-47e8-b120-3ebc186747fa.xml\n",
      "INFO: Removed 1 matching regions from /home/adrian/school/KNN/CLIP/filtered_texts/378df570-435e-11dd-b505-00145e5790ea.xml\n",
      "INFO: Removed 1 matching regions from /home/adrian/school/KNN/CLIP/filtered_texts/4c5a0740-fb56-11dc-ba23-000d606f5dc6.xml\n",
      "INFO: Removed 1 matching regions from /home/adrian/school/KNN/CLIP/filtered_texts/bfc4ceb0-ec4b-11ea-9a6f-5ef3fc9ae867.xml\n",
      "INFO: Removed 1 matching regions from /home/adrian/school/KNN/CLIP/filtered_texts/716eddf0-9225-11de-8ebe-0030487be43a.xml\n",
      "INFO: Removed 1 matching regions from /home/adrian/school/KNN/CLIP/filtered_texts/13ec44d5-cb63-11e5-8235-000c290255ab.xml\n",
      "INFO: Removed 1 matching regions from /home/adrian/school/KNN/CLIP/filtered_texts/663fed1f-928f-4d86-ad17-1048aa0cf9cb.xml\n",
      "INFO: Removed 3 matching regions from /home/adrian/school/KNN/CLIP/filtered_texts/4c0426bb-435e-11dd-b505-00145e5790ea.xml\n",
      "INFO: Removed 1 matching regions from /home/adrian/school/KNN/CLIP/filtered_texts/26531c7c-fae0-11e9-92a2-001999480be2.xml\n",
      "INFO: Removed 1 matching regions from /home/adrian/school/KNN/CLIP/filtered_texts/3390e97a-ca99-11e5-a54b-001b21d0d3a4.xml\n",
      "INFO: Removed 1 matching regions from /home/adrian/school/KNN/CLIP/filtered_texts/381477a3-7e35-11e5-a611-d485646517a0.xml\n",
      "INFO: Removed 3 matching regions from /home/adrian/school/KNN/CLIP/filtered_texts/4740af56-bd30-11e6-a419-001b63bd97ba.xml\n",
      "INFO: Removed 1 matching regions from /home/adrian/school/KNN/CLIP/filtered_texts/0a7885f3-6761-11e9-bca3-001999480be2.xml\n",
      "INFO: Removed 1 matching regions from /home/adrian/school/KNN/CLIP/filtered_texts/167a441d-396d-11e8-9ba9-001b63bd97ba.xml\n",
      "INFO: Removed 4 matching regions from /home/adrian/school/KNN/CLIP/filtered_texts/4674a7f0-435e-11dd-b505-00145e5790ea.xml\n",
      "INFO: Removed 1 matching regions from /home/adrian/school/KNN/CLIP/filtered_texts/40800fbf-43cf-4691-85e2-4cb7f5831905.xml\n",
      "INFO: Removed 1 matching regions from /home/adrian/school/KNN/CLIP/filtered_texts/ba868e30-31bb-11df-a6e0-0030487be43a.xml\n",
      "INFO: Removed 1 matching regions from /home/adrian/school/KNN/CLIP/filtered_texts/d9fa10d5-a674-11e6-adc0-d485646517a0.xml\n",
      "INFO: Removed 1 matching regions from /home/adrian/school/KNN/CLIP/filtered_texts/14a02b20-3522-422f-9728-656503a94e15.xml\n",
      "INFO: Removed 1 matching regions from /home/adrian/school/KNN/CLIP/filtered_texts/7dd470e5-4add-4863-9fae-370f0d22df9e.xml\n",
      "INFO: Removed 1 matching regions from /home/adrian/school/KNN/CLIP/filtered_texts/80babf0a-f186-4939-a01d-d91279ea1d8d.xml\n",
      "INFO: Removed 1 matching regions from /home/adrian/school/KNN/CLIP/filtered_texts/97054a8a-d4ee-4aa8-b75c-7e8bcb021b06.xml\n",
      "INFO: Removed 1 matching regions from /home/adrian/school/KNN/CLIP/filtered_texts/01e92f80-9892-11de-814e-0013d398622b.xml\n",
      "INFO: Removed 1 matching regions from /home/adrian/school/KNN/CLIP/filtered_texts/2c388a1c-6add-432b-b4b5-ce81e55cdf79.xml\n",
      "INFO: Removed 2 matching regions from /home/adrian/school/KNN/CLIP/filtered_texts/5c8eba69-5a83-4e87-85de-1dfe07d39924.xml\n",
      "INFO: Removed 1 matching regions from /home/adrian/school/KNN/CLIP/filtered_texts/db58cdc5-417a-46a8-88f6-dffb4fa315c4.xml\n",
      "INFO: Removed 1 matching regions from /home/adrian/school/KNN/CLIP/filtered_texts/b527c61d-c1cd-46d0-bfb4-8207261fc963.xml\n",
      "INFO: Removed 1 matching regions from /home/adrian/school/KNN/CLIP/filtered_texts/3161ff33-df3d-11e1-1872-001143e3f55c.xml\n",
      "INFO: Removed 1 matching regions from /home/adrian/school/KNN/CLIP/filtered_texts/33df4789-d206-4f35-b5c7-205a9a5b5198.xml\n",
      "INFO: Removed 1 matching regions from /home/adrian/school/KNN/CLIP/filtered_texts/f019761c-953b-441e-8cb3-264c75aa1cad.xml\n",
      "INFO: Removed 1 matching regions from /home/adrian/school/KNN/CLIP/filtered_texts/023ef57c-b28c-4d3a-88ab-bf52e5374222.xml\n",
      "INFO: Removed 1 matching regions from /home/adrian/school/KNN/CLIP/filtered_texts/30b3f043-3600-11ea-ade3-001b63bd97ba.xml\n",
      "INFO: Removed 1 matching regions from /home/adrian/school/KNN/CLIP/filtered_texts/60a9eca1-6ade-4099-9df9-71050f5adfd0.xml\n",
      "INFO: Removed 1 matching regions from /home/adrian/school/KNN/CLIP/filtered_texts/a19a3110-766b-11e0-8ed8-0030487be43a.xml\n",
      "INFO: Removed 1 matching regions from /home/adrian/school/KNN/CLIP/filtered_texts/177fd257-7eb5-11e3-af11-d485646517a0.xml\n",
      "INFO: Removed 2 matching regions from /home/adrian/school/KNN/CLIP/filtered_texts/39cf5f83-53bc-11ea-adf8-00155d012102.xml\n",
      "INFO: Removed 1 matching regions from /home/adrian/school/KNN/CLIP/filtered_texts/db808085-b746-41ea-9a79-9e8ac9938c6f.xml\n",
      "INFO: Removed 2 matching regions from /home/adrian/school/KNN/CLIP/filtered_texts/46d887ef-01c5-4e99-907f-ade63f992ca5.xml\n",
      "INFO: Removed 2 matching regions from /home/adrian/school/KNN/CLIP/filtered_texts/55884c54-5625-11e1-1418-001143e3f55c.xml\n",
      "INFO: Removed 2 matching regions from /home/adrian/school/KNN/CLIP/filtered_texts/2559e4be-429f-4db7-995c-b0ca9e54f81d.xml\n",
      "INFO: Removed 1 matching regions from /home/adrian/school/KNN/CLIP/filtered_texts/0b344eca-fc7f-4edb-98d8-66df51202922.xml\n",
      "INFO: Removed 2 matching regions from /home/adrian/school/KNN/CLIP/filtered_texts/d0fcf126-6d89-46cc-bb39-7704c775fe03.xml\n",
      "INFO: Removed 4 matching regions from /home/adrian/school/KNN/CLIP/filtered_texts/f4c07993-b5a6-11e3-9f6e-001b63bd97ba.xml\n",
      "INFO: Removed 1 matching regions from /home/adrian/school/KNN/CLIP/filtered_texts/1d2001b2-efa8-46da-9279-8ce66b801128.xml\n",
      "INFO: Removed 2 matching regions from /home/adrian/school/KNN/CLIP/filtered_texts/cc0f7131-71c7-11e1-a313-005056a60003.xml\n",
      "INFO: Removed 2 matching regions from /home/adrian/school/KNN/CLIP/filtered_texts/4b244e85-fb0b-11e4-a132-001b63bd97ba.xml\n",
      "INFO: Removed 1 matching regions from /home/adrian/school/KNN/CLIP/filtered_texts/12aa9884-bdd2-11e5-983c-001b21d0d3a4.xml\n",
      "INFO: Removed 1 matching regions from /home/adrian/school/KNN/CLIP/filtered_texts/6662e58c-8595-11ea-82dd-001999480be2.xml\n",
      "INFO: Removed 1 matching regions from /home/adrian/school/KNN/CLIP/filtered_texts/d127b95c-80b3-487b-ab37-02911f6ac0cd.xml\n",
      "INFO: Removed 1 matching regions from /home/adrian/school/KNN/CLIP/filtered_texts/4f51c3e3-91b1-4969-b242-2e3fa9425415.xml\n",
      "INFO: Removed 2 matching regions from /home/adrian/school/KNN/CLIP/filtered_texts/17c7124b-731e-4c64-96a7-b27054c80d3d.xml\n",
      "INFO: Removed 7 matching regions from /home/adrian/school/KNN/CLIP/filtered_texts/c08f9051-8304-11e5-bc44-001999480be2.xml\n",
      "INFO: Removed 1 matching regions from /home/adrian/school/KNN/CLIP/filtered_texts/e4180966-2e01-4e0b-b154-b2e927ea6c6f.xml\n",
      "INFO: Removed 2 matching regions from /home/adrian/school/KNN/CLIP/filtered_texts/b9046415-c0e3-11e5-abe4-001999480be2.xml\n",
      "INFO: Removed 1 matching regions from /home/adrian/school/KNN/CLIP/filtered_texts/4403c0cc-b5d7-11e4-a0e9-001b21d0d3a4.xml\n",
      "INFO: Removed 1 matching regions from /home/adrian/school/KNN/CLIP/filtered_texts/18eb8baa-e75b-11e8-a438-d485646517a0.xml\n",
      "INFO: Removed 1 matching regions from /home/adrian/school/KNN/CLIP/filtered_texts/9644b0ef-19d0-4bbe-abb6-85194253258a.xml\n",
      "INFO: Removed 1 matching regions from /home/adrian/school/KNN/CLIP/filtered_texts/1615716e-5d91-4d6d-a543-e136cf3b7db4.xml\n",
      "INFO: Removed 4 matching regions from /home/adrian/school/KNN/CLIP/filtered_texts/26fd993f-0385-437f-b0e0-daf67ec21b14.xml\n",
      "INFO: Removed 1 matching regions from /home/adrian/school/KNN/CLIP/filtered_texts/5a30e021-3817-4ae0-befa-4b1017af1eaf.xml\n",
      "INFO: Removed 1 matching regions from /home/adrian/school/KNN/CLIP/filtered_texts/00556ada-ebc1-11e3-b214-001b63bd97ba.xml\n",
      "INFO: Removed 1 matching regions from /home/adrian/school/KNN/CLIP/filtered_texts/8f30d330-6a04-11e0-bfe1-000d606f5dc6.xml\n",
      "INFO: Removed 2 matching regions from /home/adrian/school/KNN/CLIP/filtered_texts/6591cc42-0fc7-4bf1-8b31-a6241512e075.xml\n",
      "INFO: Removed 1 matching regions from /home/adrian/school/KNN/CLIP/filtered_texts/23469413-3f8d-49e9-aca3-60d67b30d1bf.xml\n",
      "INFO: Removed 2 matching regions from /home/adrian/school/KNN/CLIP/filtered_texts/152c1bb0-d59f-11ea-9a89-005056825209.xml\n",
      "INFO: Removed 4 matching regions from /home/adrian/school/KNN/CLIP/filtered_texts/5b25d250-2e2f-4eb3-8470-eb81770f220a.xml\n",
      "INFO: Removed 1 matching regions from /home/adrian/school/KNN/CLIP/filtered_texts/4bfd21fb-435e-11dd-b505-00145e5790ea.xml\n",
      "INFO: Removed 1 matching regions from /home/adrian/school/KNN/CLIP/filtered_texts/9116ae05-f6f9-47dc-811e-9bf2144ecfc9.xml\n",
      "INFO: Removed 1 matching regions from /home/adrian/school/KNN/CLIP/filtered_texts/f4396aa7-43bf-11eb-b2c7-001999480be2.xml\n",
      "INFO: Removed 1 matching regions from /home/adrian/school/KNN/CLIP/filtered_texts/acc53054-4334-11e1-8339-001143e3f55c.xml\n",
      "INFO: Removed 1 matching regions from /home/adrian/school/KNN/CLIP/filtered_texts/e8e41ca0-203c-421f-8044-b8afb8090951.xml\n",
      "INFO: Removed 1 matching regions from /home/adrian/school/KNN/CLIP/filtered_texts/32d4ceb8-de75-4932-83d8-b6bf7f20c57b.xml\n",
      "INFO: Removed 1 matching regions from /home/adrian/school/KNN/CLIP/filtered_texts/7d72d705-1cef-4fc3-8f35-fa56f9d69887.xml\n",
      "INFO: Removed 1 matching regions from /home/adrian/school/KNN/CLIP/filtered_texts/2bafb550-1923-47f2-8a60-143a9039d0a8.xml\n",
      "INFO: Removed 7 matching regions from /home/adrian/school/KNN/CLIP/filtered_texts/7a48fbb6-a670-11e6-adc0-d485646517a0.xml\n",
      "INFO: Removed 1 matching regions from /home/adrian/school/KNN/CLIP/filtered_texts/95a1c31a-1ece-4a59-993b-5a97056d044f.xml\n",
      "INFO: Removed 1 matching regions from /home/adrian/school/KNN/CLIP/filtered_texts/213b92a7-accc-11eb-a63b-001b63bd97ba.xml\n",
      "INFO: Removed 1 matching regions from /home/adrian/school/KNN/CLIP/filtered_texts/56e12543-7b05-4009-a5a6-64c76e03f452.xml\n",
      "INFO: Removed 1 matching regions from /home/adrian/school/KNN/CLIP/filtered_texts/eb71cd50-4bb2-11df-a9e2-0030487be43a.xml\n",
      "INFO: Removed 1 matching regions from /home/adrian/school/KNN/CLIP/filtered_texts/47056ec7-10d6-42b2-a766-52f4166b0611.xml\n",
      "INFO: Removed 3 matching regions from /home/adrian/school/KNN/CLIP/filtered_texts/720e12b7-2259-11ea-8d84-001b63bd97ba.xml\n",
      "INFO: Removed 3 matching regions from /home/adrian/school/KNN/CLIP/filtered_texts/1108000b-9ee0-11e8-94b9-00155d012102.xml\n",
      "INFO: Removed 11 matching regions from /home/adrian/school/KNN/CLIP/filtered_texts/55c57c28-0d7f-11e3-1154-001143e3f55c.xml\n",
      "INFO: Removed 1 matching regions from /home/adrian/school/KNN/CLIP/filtered_texts/6fa8ff1a-b5d2-442d-8999-d04821b803bb.xml\n",
      "INFO: Removed 2 matching regions from /home/adrian/school/KNN/CLIP/filtered_texts/76e6f270-443e-11eb-89a3-001999480be2.xml\n",
      "INFO: Removed 1 matching regions from /home/adrian/school/KNN/CLIP/filtered_texts/5d9510e3-1b5d-11ea-9b9b-001b63bd97ba.xml\n",
      "INFO: Removed 1 matching regions from /home/adrian/school/KNN/CLIP/filtered_texts/0ee0b148-69cf-11e3-93fe-d485646517a0.xml\n",
      "INFO: Removed 1 matching regions from /home/adrian/school/KNN/CLIP/filtered_texts/c90023f7-c72f-48fd-870f-f7f041e2dd1e.xml\n",
      "INFO: Removed 1 matching regions from /home/adrian/school/KNN/CLIP/filtered_texts/32f213f7-42c9-42fb-bc11-951e20ea8b6a.xml\n",
      "INFO: Removed 1 matching regions from /home/adrian/school/KNN/CLIP/filtered_texts/2d127ed0-f647-11dc-b281-000d606f5dc6.xml\n",
      "INFO: Removed 1 matching regions from /home/adrian/school/KNN/CLIP/filtered_texts/f02abf70-580f-11dd-9ca5-000d606f5dc6.xml\n",
      "INFO: Removed 1 matching regions from /home/adrian/school/KNN/CLIP/filtered_texts/abae238c-4611-11e1-1121-001143e3f55c.xml\n",
      "INFO: Removed 1 matching regions from /home/adrian/school/KNN/CLIP/filtered_texts/ca9863d9-4909-11eb-bff6-001999480be2.xml\n",
      "INFO: Removed 1 matching regions from /home/adrian/school/KNN/CLIP/filtered_texts/ac6ad11f-3f64-46c8-b6f1-a0dc268d16f4.xml\n",
      "INFO: Removed 4 matching regions from /home/adrian/school/KNN/CLIP/filtered_texts/1f5f12c0-abca-11eb-9f2d-5ef3fc9bb22f.xml\n",
      "INFO: Removed 1 matching regions from /home/adrian/school/KNN/CLIP/filtered_texts/d7233efd-2fa7-46c4-9f93-f36459f55610.xml\n",
      "INFO: Removed 2 matching regions from /home/adrian/school/KNN/CLIP/filtered_texts/39d04949-53bc-11ea-adf8-00155d012102.xml\n",
      "INFO: Removed 3 matching regions from /home/adrian/school/KNN/CLIP/filtered_texts/d7d903a2-4eed-11e9-8962-005056a2b051.xml\n",
      "INFO: Removed 1 matching regions from /home/adrian/school/KNN/CLIP/filtered_texts/2b80921e-6f56-499a-a685-9f8c576846f7.xml\n",
      "INFO: Removed 2 matching regions from /home/adrian/school/KNN/CLIP/filtered_texts/7f3cfd3c-e23b-11e6-a02c-001999480be2.xml\n",
      "INFO: Removed 1 matching regions from /home/adrian/school/KNN/CLIP/filtered_texts/943aca50-f58d-41da-b878-078e4d7c0691.xml\n",
      "INFO: Removed 1 matching regions from /home/adrian/school/KNN/CLIP/filtered_texts/daa8deb3-951c-4769-a5c1-96bbab51123c.xml\n",
      "INFO: Removed 3 matching regions from /home/adrian/school/KNN/CLIP/filtered_texts/943432fe-335b-11e9-8d85-00155d012102.xml\n",
      "INFO: Removed 1 matching regions from /home/adrian/school/KNN/CLIP/filtered_texts/33f4edd1-ebdb-4754-b593-10f437f6c6fa.xml\n",
      "INFO: Removed 4 matching regions from /home/adrian/school/KNN/CLIP/filtered_texts/2fdebc85-0746-4b67-8b0b-0d47094b7ac0.xml\n",
      "INFO: Removed 3 matching regions from /home/adrian/school/KNN/CLIP/filtered_texts/7cdefade-e239-11e6-8fe6-001999480be2.xml\n",
      "INFO: Removed 1 matching regions from /home/adrian/school/KNN/CLIP/filtered_texts/5e3a2064-6fc7-11e4-a401-001b63bd97ba.xml\n",
      "INFO: Removed 3 matching regions from /home/adrian/school/KNN/CLIP/filtered_texts/4b8ad750-435e-11dd-b505-00145e5790ea.xml\n",
      "INFO: Removed 2 matching regions from /home/adrian/school/KNN/CLIP/filtered_texts/4b07d6bb-2259-11ea-8d84-001b63bd97ba.xml\n",
      "INFO: Removed 1 matching regions from /home/adrian/school/KNN/CLIP/filtered_texts/04c0b915-3bb6-4563-8f60-75680e7e28d8.xml\n",
      "INFO: Removed 1 matching regions from /home/adrian/school/KNN/CLIP/filtered_texts/37bd6800-fc18-11e1-9fca-0030487be43a.xml\n",
      "INFO: Removed 1 matching regions from /home/adrian/school/KNN/CLIP/filtered_texts/84002597-7cde-462f-b184-9997b6aadd86.xml\n",
      "INFO: Removed 1 matching regions from /home/adrian/school/KNN/CLIP/filtered_texts/4f90f110-c37b-11e4-b50e-d485646517a0.xml\n",
      "INFO: Removed 1 matching regions from /home/adrian/school/KNN/CLIP/filtered_texts/a1597970-21ac-11dd-bfe6-000d606f5dc6.xml\n",
      "INFO: Removed 1 matching regions from /home/adrian/school/KNN/CLIP/filtered_texts/8c91e0e1-515d-4d36-9d96-6ca3a0c59ef5.xml\n",
      "INFO: Removed 1 matching regions from /home/adrian/school/KNN/CLIP/filtered_texts/b3835dc6-0f85-4ea2-97d0-dc0928a8b074.xml\n",
      "INFO: Removed 1 matching regions from /home/adrian/school/KNN/CLIP/filtered_texts/c671dc95-32d3-4579-9a59-36d41f47daa8.xml\n",
      "INFO: Removed 3 matching regions from /home/adrian/school/KNN/CLIP/filtered_texts/c5f5c903-fd11-11e7-8209-00155d012102.xml\n",
      "INFO: Removed 1 matching regions from /home/adrian/school/KNN/CLIP/filtered_texts/d0f79758-937e-4d47-9572-398157d06058.xml\n",
      "INFO: Removed 1 matching regions from /home/adrian/school/KNN/CLIP/filtered_texts/1d5d9fce-11c3-11e8-a12f-001b63bd97ba.xml\n",
      "INFO: Removed 1 matching regions from /home/adrian/school/KNN/CLIP/filtered_texts/1e5a74a2-ecf3-11e4-8da1-001b63bd97ba.xml\n",
      "INFO: Removed 1 matching regions from /home/adrian/school/KNN/CLIP/filtered_texts/c9af2195-59f8-11e9-94c4-001b63bd97ba.xml\n",
      "INFO: Removed 1 matching regions from /home/adrian/school/KNN/CLIP/filtered_texts/9a4007b0-6a8f-11e0-a6a4-000d606f5dc6.xml\n",
      "INFO: Removed 1 matching regions from /home/adrian/school/KNN/CLIP/filtered_texts/210391a1-f3db-434c-aaad-72fe3f9d7336.xml\n",
      "INFO: Removed 1 matching regions from /home/adrian/school/KNN/CLIP/filtered_texts/96150BC0-B7DD-11DD-9E41-0030487BE43A.xml\n",
      "INFO: Removed 1 matching regions from /home/adrian/school/KNN/CLIP/filtered_texts/61ba6069-b6ba-11ed-a22a-001b63bd97ba.xml\n",
      "INFO: Removed 1 matching regions from /home/adrian/school/KNN/CLIP/filtered_texts/249e489c-3c62-11e1-1211-001143e3f55c.xml\n",
      "INFO: Removed 2 matching regions from /home/adrian/school/KNN/CLIP/filtered_texts/50f5e6a0-ab53-11eb-8ea3-5ef3fc9ae867.xml\n",
      "INFO: Removed 1 matching regions from /home/adrian/school/KNN/CLIP/filtered_texts/b9048b30-c0e3-11e5-abe4-001999480be2.xml\n",
      "INFO: Removed 1 matching regions from /home/adrian/school/KNN/CLIP/filtered_texts/d8cb7cc0-e942-11dc-96aa-000d606f5dc6.xml\n",
      "INFO: Removed 1 matching regions from /home/adrian/school/KNN/CLIP/filtered_texts/1a599f21-ab70-11eb-8c6c-005056827e51.xml\n",
      "INFO: Removed 1 matching regions from /home/adrian/school/KNN/CLIP/filtered_texts/b19105a1-282f-432f-8b67-f1ba847bb35e.xml\n",
      "INFO: Removed 1 matching regions from /home/adrian/school/KNN/CLIP/filtered_texts/9d78c07a-4178-11ec-9fc7-00155d012102.xml\n",
      "INFO: Removed 1 matching regions from /home/adrian/school/KNN/CLIP/filtered_texts/bb69f6ff-62ff-4146-8d2d-ac808502bc1d.xml\n",
      "INFO: Removed 1 matching regions from /home/adrian/school/KNN/CLIP/filtered_texts/64b2ad6f-0d86-11e8-8ee8-001b63bd97ba.xml\n",
      "INFO: Removed 1 matching regions from /home/adrian/school/KNN/CLIP/filtered_texts/1fa2857e-4388-11eb-a6da-001999480be2.xml\n",
      "INFO: Removed 1 matching regions from /home/adrian/school/KNN/CLIP/filtered_texts/3f1dc14b-f711-11e9-94c9-001999480be2.xml\n",
      "INFO: Removed 1 matching regions from /home/adrian/school/KNN/CLIP/filtered_texts/4ab8a0ca-cc63-4299-af60-c2f0d4baa8f7.xml\n",
      "INFO: Removed 1 matching regions from /home/adrian/school/KNN/CLIP/filtered_texts/c77b9178-99a3-4365-b1c3-ee59d9e26030.xml\n",
      "INFO: Removed 1 matching regions from /home/adrian/school/KNN/CLIP/filtered_texts/05cb9640-ab6f-11eb-81e5-005056825209.xml\n",
      "INFO: Removed 1 matching regions from /home/adrian/school/KNN/CLIP/filtered_texts/05148b3a-ff20-11ea-b4c2-001b63bd97ba.xml\n",
      "INFO: Removed 2 matching regions from /home/adrian/school/KNN/CLIP/filtered_texts/a2a89f22-6a1a-4f85-96e4-72d2ad08f779.xml\n",
      "INFO: Removed 1 matching regions from /home/adrian/school/KNN/CLIP/filtered_texts/4048cd82-e31b-41e8-8837-ec52ed0d15eb.xml\n",
      "INFO: Removed 3 matching regions from /home/adrian/school/KNN/CLIP/filtered_texts/4fe3d5fc-bb24-441a-9a5b-94a08bfc2f18.xml\n",
      "INFO: Removed 3 matching regions from /home/adrian/school/KNN/CLIP/filtered_texts/af924fc4-a673-11e6-adc0-d485646517a0.xml\n",
      "INFO: Removed 1 matching regions from /home/adrian/school/KNN/CLIP/filtered_texts/9de77968-bbab-11e1-2544-001143e3f55c.xml\n",
      "INFO: Removed 1 matching regions from /home/adrian/school/KNN/CLIP/filtered_texts/2f589aac-a67c-11e6-adc0-d485646517a0.xml\n",
      "INFO: Removed 1 matching regions from /home/adrian/school/KNN/CLIP/filtered_texts/aea9e276-bac8-11e1-7982-001143e3f55c.xml\n",
      "INFO: Removed 2 matching regions from /home/adrian/school/KNN/CLIP/filtered_texts/539d5bf0-5d9e-43a7-aadf-505db07f882a.xml\n",
      "INFO: Removed 1 matching regions from /home/adrian/school/KNN/CLIP/filtered_texts/d9107de9-2b6a-417e-a122-c659b630572a.xml\n",
      "INFO: Removed 1 matching regions from /home/adrian/school/KNN/CLIP/filtered_texts/22afa1e0-c5a0-11e1-1418-001143e3f55c.xml\n",
      "INFO: Removed 1 matching regions from /home/adrian/school/KNN/CLIP/filtered_texts/e3e74b18-5994-11eb-ae6e-001b63bd97ba.xml\n",
      "INFO: Removed 1 matching regions from /home/adrian/school/KNN/CLIP/filtered_texts/aa2791f2-4de3-11e1-1431-001143e3f55c.xml\n",
      "INFO: Removed 2 matching regions from /home/adrian/school/KNN/CLIP/filtered_texts/c2d1acbe-08bb-488b-b257-f5f39e9924f3.xml\n",
      "INFO: Removed 1 matching regions from /home/adrian/school/KNN/CLIP/filtered_texts/d74d2063-cfab-4376-acd4-510159003fb5.xml\n",
      "INFO: Removed 1 matching regions from /home/adrian/school/KNN/CLIP/filtered_texts/ffbfac5d-e23e-11e6-932d-001999480be2.xml\n",
      "INFO: Removed 2 matching regions from /home/adrian/school/KNN/CLIP/filtered_texts/7ab29cd0-7822-11dd-9c70-0013d398622b.xml\n",
      "INFO: Removed 1 matching regions from /home/adrian/school/KNN/CLIP/filtered_texts/c50a5a05-3e49-11e1-bdd3-005056a60003.xml\n",
      "INFO: Removed 1 matching regions from /home/adrian/school/KNN/CLIP/filtered_texts/61a79c27-cfad-4981-ba2b-26778694d641.xml\n",
      "INFO: Removed 1 matching regions from /home/adrian/school/KNN/CLIP/filtered_texts/93969790-8c92-11e2-a5da-0030487be43a.xml\n",
      "INFO: Removed 3 matching regions from /home/adrian/school/KNN/CLIP/filtered_texts/53b660b0-cc2c-11ea-903c-5ef3fc9ae867.xml\n",
      "INFO: Removed 3 matching regions from /home/adrian/school/KNN/CLIP/filtered_texts/a0cce309-ee99-4e54-9d8c-7da3e7d91095.xml\n",
      "INFO: Removed 1 matching regions from /home/adrian/school/KNN/CLIP/filtered_texts/f3d143e0-e592-11e2-bccc-0030487be43a.xml\n",
      "INFO: Removed 1 matching regions from /home/adrian/school/KNN/CLIP/filtered_texts/aa91772a-81e4-4236-b95a-990e12dc9054.xml\n",
      "INFO: Removed 1 matching regions from /home/adrian/school/KNN/CLIP/filtered_texts/f1e48677-019c-4685-8ed2-7224804777ec.xml\n",
      "INFO: Removed 1 matching regions from /home/adrian/school/KNN/CLIP/filtered_texts/902518fa-183f-4602-84e2-09809e3c4d26.xml\n",
      "INFO: Removed 2 matching regions from /home/adrian/school/KNN/CLIP/filtered_texts/65ec1aa7-beb3-477e-8713-1f2efd279c07.xml\n",
      "INFO: Removed 3 matching regions from /home/adrian/school/KNN/CLIP/filtered_texts/404af1bc-6f17-4940-b743-eb4d4241a6fd.xml\n",
      "INFO: Removed 1 matching regions from /home/adrian/school/KNN/CLIP/filtered_texts/a6bcea0b-bfd9-4da2-872a-edb1f9086f2c.xml\n",
      "INFO: Removed 1 matching regions from /home/adrian/school/KNN/CLIP/filtered_texts/1f2000d0-1240-11eb-9a1f-001b63bd97ba.xml\n",
      "INFO: Removed 1 matching regions from /home/adrian/school/KNN/CLIP/filtered_texts/3f008ae0-798e-11dd-8937-0013d398622b.xml\n",
      "INFO: Removed 2 matching regions from /home/adrian/school/KNN/CLIP/filtered_texts/5c13cd01-bd30-11e6-a419-001b63bd97ba.xml\n",
      "INFO: Removed 3 matching regions from /home/adrian/school/KNN/CLIP/filtered_texts/47be6040-2092-4800-9c49-2eb7f9d6c913.xml\n",
      "INFO: Removed 2 matching regions from /home/adrian/school/KNN/CLIP/filtered_texts/0951a300-1b58-11dd-86c1-000d606f5dc6.xml\n",
      "INFO: Removed 2 matching regions from /home/adrian/school/KNN/CLIP/filtered_texts/2b364cb5-bb5c-469e-9603-993b81f92561.xml\n",
      "INFO: Removed 1 matching regions from /home/adrian/school/KNN/CLIP/filtered_texts/cfb89f06-5a61-11e7-921c-d485646517a0.xml\n",
      "INFO: Removed 1 matching regions from /home/adrian/school/KNN/CLIP/filtered_texts/2aee5e27-56d6-11e1-1726-001143e3f55c.xml\n",
      "INFO: Removed 1 matching regions from /home/adrian/school/KNN/CLIP/filtered_texts/6a44aee2-1855-42dd-b4b7-103467c136bb.xml\n",
      "INFO: Removed 1 matching regions from /home/adrian/school/KNN/CLIP/filtered_texts/2ce26bc3-7047-447a-bc30-c266a8f75523.xml\n",
      "INFO: Removed 1 matching regions from /home/adrian/school/KNN/CLIP/filtered_texts/169fd930-5ce4-46b6-bccd-4caa74eb3be8.xml\n",
      "INFO: Removed 1 matching regions from /home/adrian/school/KNN/CLIP/filtered_texts/7bff2ce8-6761-11e9-bca3-001999480be2.xml\n",
      "INFO: Removed 1 matching regions from /home/adrian/school/KNN/CLIP/filtered_texts/ebd43f5e-5f79-499b-af58-c768a6995c10.xml\n",
      "INFO: Removed 1 matching regions from /home/adrian/school/KNN/CLIP/filtered_texts/07c80d2c-f555-4b7f-9781-8353d207aa05.xml\n",
      "INFO: Removed 1 matching regions from /home/adrian/school/KNN/CLIP/filtered_texts/cb17b333-8b42-4075-af87-29bea1c7bef3.xml\n",
      "INFO: Removed 2 matching regions from /home/adrian/school/KNN/CLIP/filtered_texts/82304d7e-2547-11e9-885c-001999480be2.xml\n",
      "INFO: Removed 1 matching regions from /home/adrian/school/KNN/CLIP/filtered_texts/84a5a570-bbf0-4fb6-b559-9c6e63e2f1cb.xml\n",
      "INFO: Removed 4 matching regions from /home/adrian/school/KNN/CLIP/filtered_texts/cf75a44e-36ef-439f-a572-495356394fe8.xml\n",
      "INFO: Removed 1 matching regions from /home/adrian/school/KNN/CLIP/filtered_texts/61f0ded0-ac32-11eb-9f2d-5ef3fc9bb22f.xml\n",
      "INFO: Removed 1 matching regions from /home/adrian/school/KNN/CLIP/filtered_texts/02a5f44a-e83e-4df2-bb64-13ce80e31935.xml\n",
      "INFO: Removed 3 matching regions from /home/adrian/school/KNN/CLIP/filtered_texts/3f4ba18b-830e-11e5-b345-001999480be2.xml\n",
      "INFO: Removed 1 matching regions from /home/adrian/school/KNN/CLIP/filtered_texts/7dbcd87d-9758-468a-bf3e-2b3695cea636.xml\n",
      "INFO: Removed 1 matching regions from /home/adrian/school/KNN/CLIP/filtered_texts/122b81e8-b595-4120-a994-47860229e788.xml\n",
      "INFO: Removed 1 matching regions from /home/adrian/school/KNN/CLIP/filtered_texts/90ddd41d-443e-11eb-89a3-001999480be2.xml\n",
      "INFO: Removed 1 matching regions from /home/adrian/school/KNN/CLIP/filtered_texts/ca5b1372-4611-11e1-8339-001143e3f55c.xml\n",
      "INFO: Removed 2 matching regions from /home/adrian/school/KNN/CLIP/filtered_texts/39d05b27-43c0-11eb-b2c7-001999480be2.xml\n",
      "INFO: Removed 1 matching regions from /home/adrian/school/KNN/CLIP/filtered_texts/9c264533-7b2f-46a8-91fc-d3f1466ca171.xml\n",
      "INFO: Removed 1 matching regions from /home/adrian/school/KNN/CLIP/filtered_texts/34413bb8-830a-11e5-87c9-001999480be2.xml\n",
      "INFO: Removed 1 matching regions from /home/adrian/school/KNN/CLIP/filtered_texts/6a8867b1-3b1c-11ec-9b97-001b63bd97ba.xml\n",
      "INFO: Removed 1 matching regions from /home/adrian/school/KNN/CLIP/filtered_texts/76d50933-bb53-11e4-a9bd-00155d010f03.xml\n",
      "INFO: Removed 2 matching regions from /home/adrian/school/KNN/CLIP/filtered_texts/d6195be7-956d-4a81-bc43-200ce456883c.xml\n",
      "INFO: Removed 1 matching regions from /home/adrian/school/KNN/CLIP/filtered_texts/3e3ddd72-b74a-432c-a32b-758138fcd0cd.xml\n",
      "INFO: Removed 1 matching regions from /home/adrian/school/KNN/CLIP/filtered_texts/ec236053-cb14-4c01-9013-ae4c30a3aeaf.xml\n",
      "INFO: Removed 2 matching regions from /home/adrian/school/KNN/CLIP/filtered_texts/50ee558c-aa4c-11e3-9f73-d485646517a0.xml\n",
      "INFO: Removed 2 matching regions from /home/adrian/school/KNN/CLIP/filtered_texts/4be58fbe-0d7f-11e3-1586-001143e3f55c.xml\n",
      "INFO: Removed 1 matching regions from /home/adrian/school/KNN/CLIP/filtered_texts/e333c55f-b588-11e7-97fd-00155d012102.xml\n",
      "INFO: Removed 1 matching regions from /home/adrian/school/KNN/CLIP/filtered_texts/47d0eb1d-c1bc-41eb-83b8-5d414511cb2e.xml\n",
      "INFO: Removed 1 matching regions from /home/adrian/school/KNN/CLIP/filtered_texts/473f1dab-3600-11ea-ade3-001b63bd97ba.xml\n",
      "INFO: Removed 1 matching regions from /home/adrian/school/KNN/CLIP/filtered_texts/32adf7cb-7397-421d-8b13-51ed048a2a8c.xml\n",
      "INFO: Removed 1 matching regions from /home/adrian/school/KNN/CLIP/filtered_texts/8d96cee7-4c53-11ec-b0db-00155d012102.xml\n",
      "INFO: Removed 1 matching regions from /home/adrian/school/KNN/CLIP/filtered_texts/0c1b57fb-3c59-11e1-3085-001143e3f55c.xml\n",
      "INFO: Removed 1 matching regions from /home/adrian/school/KNN/CLIP/filtered_texts/6c98de8a-4029-11e1-1586-001143e3f55c.xml\n",
      "INFO: Removed 3 matching regions from /home/adrian/school/KNN/CLIP/filtered_texts/6fb7bd04-b7cc-4931-a928-a23ba00c634b.xml\n",
      "INFO: Removed 6 matching regions from /home/adrian/school/KNN/CLIP/filtered_texts/3c5a0110-2a5d-11ed-89e3-005056822549.xml\n",
      "INFO: Removed 1 matching regions from /home/adrian/school/KNN/CLIP/filtered_texts/ab5fd2a3-5006-4da1-8d13-cd51f009eadc.xml\n",
      "INFO: Removed 1 matching regions from /home/adrian/school/KNN/CLIP/filtered_texts/d3b91e1c-3cfa-11e1-7963-001143e3f55c.xml\n",
      "INFO: Removed 1 matching regions from /home/adrian/school/KNN/CLIP/filtered_texts/b2500b90-30fd-11e9-bd36-005056a2b051.xml\n",
      "INFO: Removed 1 matching regions from /home/adrian/school/KNN/CLIP/filtered_texts/f3eb2b2e-7e35-11e5-a611-d485646517a0.xml\n",
      "INFO: Removed 1 matching regions from /home/adrian/school/KNN/CLIP/filtered_texts/245fbbd9-331b-11ec-a6f0-001b63bd97ba.xml\n",
      "INFO: Removed 1 matching regions from /home/adrian/school/KNN/CLIP/filtered_texts/3a5e725f-d7a0-447e-b576-8120da3d2b1a.xml\n",
      "INFO: Removed 1 matching regions from /home/adrian/school/KNN/CLIP/filtered_texts/49d80259-5a61-11e7-921c-d485646517a0.xml\n",
      "INFO: Removed 4 matching regions from /home/adrian/school/KNN/CLIP/filtered_texts/759614e5-33c6-4404-8903-1dc81386ad49.xml\n",
      "INFO: Removed 1 matching regions from /home/adrian/school/KNN/CLIP/filtered_texts/3fb0e9c8-3600-11ea-ade3-001b63bd97ba.xml\n",
      "INFO: Removed 1 matching regions from /home/adrian/school/KNN/CLIP/filtered_texts/37974460-435e-11dd-b505-00145e5790ea.xml\n",
      "INFO: Removed 1 matching regions from /home/adrian/school/KNN/CLIP/filtered_texts/2e460684-0178-4fb7-84bd-219e165dbe22.xml\n",
      "INFO: Removed 2 matching regions from /home/adrian/school/KNN/CLIP/filtered_texts/c7766a5b-7f02-11ea-9d78-001999480be2.xml\n",
      "INFO: Removed 3 matching regions from /home/adrian/school/KNN/CLIP/filtered_texts/97b5958a-e6f6-11e3-864d-001b63bd97ba.xml\n",
      "INFO: Removed 1 matching regions from /home/adrian/school/KNN/CLIP/filtered_texts/d4d58095-2d80-48a5-af51-b3e0fa464a67.xml\n",
      "INFO: Removed 1 matching regions from /home/adrian/school/KNN/CLIP/filtered_texts/d0c83418-0315-4916-bbd5-4a2250241a74.xml\n",
      "INFO: Removed 2 matching regions from /home/adrian/school/KNN/CLIP/filtered_texts/409bda70-cc2a-11ea-9a89-005056825209.xml\n",
      "INFO: Removed 1 matching regions from /home/adrian/school/KNN/CLIP/filtered_texts/dfc1c0e8-9875-4fd2-853d-ee77d642f827.xml\n",
      "INFO: Removed 1 matching regions from /home/adrian/school/KNN/CLIP/filtered_texts/6b3b4ce6-708f-11e4-8500-001b63bd97ba.xml\n",
      "INFO: Removed 1 matching regions from /home/adrian/school/KNN/CLIP/filtered_texts/c4277ad7-83e1-11e5-ba56-001999480be2.xml\n",
      "INFO: Removed 1 matching regions from /home/adrian/school/KNN/CLIP/filtered_texts/6cce87ba-5f3c-416f-8d78-cca048c3a722.xml\n",
      "INFO: Removed 1 matching regions from /home/adrian/school/KNN/CLIP/filtered_texts/d7237d73-71b6-486e-9d3f-29911ac04414.xml\n",
      "INFO: Removed 1 matching regions from /home/adrian/school/KNN/CLIP/filtered_texts/7dce2470-7e53-11dd-b150-0013d398622b.xml\n",
      "INFO: Removed 1 matching regions from /home/adrian/school/KNN/CLIP/filtered_texts/7ca6bef8-ec6b-4c85-89b6-8613be084951.xml\n",
      "INFO: Removed 4 matching regions from /home/adrian/school/KNN/CLIP/filtered_texts/4744a637-bd30-11e6-a419-001b63bd97ba.xml\n",
      "INFO: Removed 1 matching regions from /home/adrian/school/KNN/CLIP/filtered_texts/507cb62d-435e-11dd-b505-00145e5790ea.xml\n",
      "INFO: Removed 1 matching regions from /home/adrian/school/KNN/CLIP/filtered_texts/9c5aa3b4-6bf6-11e4-ac81-001b63bd97ba.xml\n",
      "INFO: Removed 1 matching regions from /home/adrian/school/KNN/CLIP/filtered_texts/f0472f39-5a5b-11e7-921c-d485646517a0.xml\n",
      "INFO: Removed 1 matching regions from /home/adrian/school/KNN/CLIP/filtered_texts/da5e465d-ad98-4391-9a8b-019fe27ff56d.xml\n",
      "INFO: Removed 2 matching regions from /home/adrian/school/KNN/CLIP/filtered_texts/03e9b559-c09b-4c19-a217-780438c3d80f.xml\n",
      "INFO: Removed 1 matching regions from /home/adrian/school/KNN/CLIP/filtered_texts/05bbd6be-a94b-4f02-a975-d258dc74c816.xml\n",
      "INFO: Removed 1 matching regions from /home/adrian/school/KNN/CLIP/filtered_texts/f44c93a6-7e3d-476d-bd2c-ab2ee6650634.xml\n",
      "INFO: Removed 1 matching regions from /home/adrian/school/KNN/CLIP/filtered_texts/d38aca87-285d-4fb7-ace0-855a129844c5.xml\n",
      "INFO: Removed 2 matching regions from /home/adrian/school/KNN/CLIP/filtered_texts/6edb2faa-544d-4d4a-8370-c1cb728778f2.xml\n",
      "INFO: Removed 2 matching regions from /home/adrian/school/KNN/CLIP/filtered_texts/a905b5a7-2547-11e9-885c-001999480be2.xml\n",
      "INFO: Removed 2 matching regions from /home/adrian/school/KNN/CLIP/filtered_texts/2326b72a-4648-11e9-8ee0-00155d012102.xml\n",
      "INFO: Removed 2 matching regions from /home/adrian/school/KNN/CLIP/filtered_texts/142c2009-e388-4b9a-b443-1ad7110ad10f.xml\n",
      "INFO: Removed 1 matching regions from /home/adrian/school/KNN/CLIP/filtered_texts/85a7c334-bb13-4b9f-b8f1-511c932f7f3a.xml\n",
      "INFO: Removed 1 matching regions from /home/adrian/school/KNN/CLIP/filtered_texts/d8f48250-cf48-11dc-baa7-000d606f5dc6.xml\n",
      "INFO: Removed 1 matching regions from /home/adrian/school/KNN/CLIP/filtered_texts/b6193e52-ca9a-11e5-a54b-001b21d0d3a4.xml\n",
      "INFO: Removed 1 matching regions from /home/adrian/school/KNN/CLIP/filtered_texts/cac16b89-d479-4a95-9701-b907de2190f0.xml\n",
      "INFO: Removed 1 matching regions from /home/adrian/school/KNN/CLIP/filtered_texts/76b6ce1d-3cf8-44d1-9cc0-a6803e6f2fac.xml\n",
      "INFO: Removed 1 matching regions from /home/adrian/school/KNN/CLIP/filtered_texts/c13f20c2-57da-43e9-a8f5-efb68ce67809.xml\n",
      "INFO: Removed 1 matching regions from /home/adrian/school/KNN/CLIP/filtered_texts/2b657b6f-984e-4667-a652-e7ec960c3039.xml\n",
      "INFO: Removed 1 matching regions from /home/adrian/school/KNN/CLIP/filtered_texts/c1976c76-4178-11ec-9fc7-00155d012102.xml\n",
      "INFO: Removed 2 matching regions from /home/adrian/school/KNN/CLIP/filtered_texts/302b76e4-4403-4928-b34e-7a135d6ac445.xml\n",
      "INFO: Removed 1 matching regions from /home/adrian/school/KNN/CLIP/filtered_texts/d3a15a55-5a5b-11e7-921c-d485646517a0.xml\n",
      "INFO: Removed 1 matching regions from /home/adrian/school/KNN/CLIP/filtered_texts/0795f091-fae3-4e44-b9af-0d1f64747f5e.xml\n",
      "INFO: Removed 1 matching regions from /home/adrian/school/KNN/CLIP/filtered_texts/612349da-c375-11e4-b50e-d485646517a0.xml\n",
      "INFO: Removed 2 matching regions from /home/adrian/school/KNN/CLIP/filtered_texts/08cdd95c-adbe-425f-ac48-6bd1777f9ace.xml\n",
      "INFO: Removed 2 matching regions from /home/adrian/school/KNN/CLIP/filtered_texts/4741fb12-2277-4a52-8e04-e22a9cfd9d9a.xml\n",
      "INFO: Removed 1 matching regions from /home/adrian/school/KNN/CLIP/filtered_texts/b2097170-aa90-4839-b48d-bafc4fdaee5f.xml\n",
      "INFO: Removed 1 matching regions from /home/adrian/school/KNN/CLIP/filtered_texts/0e9dfccd-8190-4740-84ad-2c30636ea187.xml\n",
      "INFO: Removed 1 matching regions from /home/adrian/school/KNN/CLIP/filtered_texts/08b71f22-469c-4b9b-bfa6-1faf56132210.xml\n",
      "INFO: Removed 3 matching regions from /home/adrian/school/KNN/CLIP/filtered_texts/f1296a2b-a67b-11e6-adc0-d485646517a0.xml\n",
      "INFO: Removed 9 matching regions from /home/adrian/school/KNN/CLIP/filtered_texts/c5649006-bd69-4e5d-b3f9-7ab894b5686c.xml\n",
      "INFO: Removed 1 matching regions from /home/adrian/school/KNN/CLIP/filtered_texts/cddc08d5-ae33-11e1-1154-001143e3f55c.xml\n",
      "INFO: Removed 1 matching regions from /home/adrian/school/KNN/CLIP/filtered_texts/38ce85d8-e301-11e6-9a61-001999480be2.xml\n",
      "INFO: Removed 1 matching regions from /home/adrian/school/KNN/CLIP/filtered_texts/b6069791-148b-11e1-8339-001143e3f55c.xml\n",
      "INFO: Removed 1 matching regions from /home/adrian/school/KNN/CLIP/filtered_texts/cf624410-3115-11eb-9146-005056825209.xml\n",
      "INFO: Removed 1 matching regions from /home/adrian/school/KNN/CLIP/filtered_texts/03a52034-6203-4fab-83f1-8c778eae250f.xml\n",
      "INFO: Removed 1 matching regions from /home/adrian/school/KNN/CLIP/filtered_texts/0841e0e0-efb5-4f0f-a0a0-c33fc807fc77.xml\n",
      "INFO: Removed 1 matching regions from /home/adrian/school/KNN/CLIP/filtered_texts/d9b61004-2ad6-411a-a5cb-9136d87c4658.xml\n",
      "INFO: Removed 1 matching regions from /home/adrian/school/KNN/CLIP/filtered_texts/874aee07-3611-11ea-9875-001b63bd97ba.xml\n",
      "INFO: Removed 3 matching regions from /home/adrian/school/KNN/CLIP/filtered_texts/3572ad70-646e-11eb-8822-001b63bd97ba.xml\n",
      "INFO: Removed 2 matching regions from /home/adrian/school/KNN/CLIP/filtered_texts/4772dd12-2de9-11e8-b265-001999480be2.xml\n",
      "INFO: Removed 1 matching regions from /home/adrian/school/KNN/CLIP/filtered_texts/a37c38c9-5316-4d4c-ae81-1c30af1703f4.xml\n",
      "INFO: Removed 1 matching regions from /home/adrian/school/KNN/CLIP/filtered_texts/0b078920-a714-11dc-8d2e-000d606f5dc6.xml\n",
      "INFO: Removed 1 matching regions from /home/adrian/school/KNN/CLIP/filtered_texts/d062d720-cc2b-11ea-9a89-005056825209.xml\n",
      "INFO: Removed 1 matching regions from /home/adrian/school/KNN/CLIP/filtered_texts/0a04f529-8c09-4d32-a9cb-039d42a766cf.xml\n",
      "INFO: Removed 1 matching regions from /home/adrian/school/KNN/CLIP/filtered_texts/e28eded5-3cfa-11e1-8486-001143e3f55c.xml\n",
      "INFO: Removed 2 matching regions from /home/adrian/school/KNN/CLIP/filtered_texts/3b7c66d0-cc2b-11ea-b03f-5ef3fc9bb22f.xml\n",
      "INFO: Removed 1 matching regions from /home/adrian/school/KNN/CLIP/filtered_texts/3539330d-bf43-4d17-bf37-f57d9c6f50d1.xml\n",
      "INFO: Removed 1 matching regions from /home/adrian/school/KNN/CLIP/filtered_texts/e7504253-8305-11e5-a274-001999480be2.xml\n",
      "INFO: Removed 2 matching regions from /home/adrian/school/KNN/CLIP/filtered_texts/4677b597-435e-11dd-b505-00145e5790ea.xml\n",
      "INFO: Removed 1 matching regions from /home/adrian/school/KNN/CLIP/filtered_texts/3234ae5c-3b5e-4fd9-af7b-2f8e52e09c8c.xml\n",
      "INFO: Removed 2 matching regions from /home/adrian/school/KNN/CLIP/filtered_texts/b3225db6-a67f-11e6-adc0-d485646517a0.xml\n",
      "INFO: Removed 1 matching regions from /home/adrian/school/KNN/CLIP/filtered_texts/4d34cc72-5625-11e1-1418-001143e3f55c.xml\n",
      "INFO: Removed 1 matching regions from /home/adrian/school/KNN/CLIP/filtered_texts/5ffa3105-4387-11eb-a6da-001999480be2.xml\n",
      "INFO: Removed 2 matching regions from /home/adrian/school/KNN/CLIP/filtered_texts/c1ec9158-4611-11e1-1726-001143e3f55c.xml\n",
      "INFO: Removed 2 matching regions from /home/adrian/school/KNN/CLIP/filtered_texts/2458de69-331b-11ec-a6f0-001b63bd97ba.xml\n",
      "INFO: Removed 1 matching regions from /home/adrian/school/KNN/CLIP/filtered_texts/6aac2a99-1c4f-43f3-b070-76f304eb22c4.xml\n",
      "INFO: Removed 1 matching regions from /home/adrian/school/KNN/CLIP/filtered_texts/362cb1a5-b261-11e7-aa61-001b63bd97ba.xml\n",
      "INFO: Removed 3 matching regions from /home/adrian/school/KNN/CLIP/filtered_texts/afacb069-5b85-455a-9865-119c93a90993.xml\n",
      "INFO: Removed 1 matching regions from /home/adrian/school/KNN/CLIP/filtered_texts/e8301140-0578-45b7-83d0-3a6cae3dd88e.xml\n",
      "INFO: Removed 1 matching regions from /home/adrian/school/KNN/CLIP/filtered_texts/8ebf9f00-1a1e-11e2-aaf8-000d606f5dc6.xml\n",
      "INFO: Removed 2 matching regions from /home/adrian/school/KNN/CLIP/filtered_texts/f655935a-eeb9-4d0b-bdf3-3f0d8f9b9c76.xml\n",
      "INFO: Removed 2 matching regions from /home/adrian/school/KNN/CLIP/filtered_texts/72cbd53b-9b22-4691-9aee-954d3a74ff6a.xml\n",
      "INFO: Removed 2 matching regions from /home/adrian/school/KNN/CLIP/filtered_texts/3bd9a23e-4b7f-4b71-856b-97e402d7f75b.xml\n",
      "INFO: Removed 1 matching regions from /home/adrian/school/KNN/CLIP/filtered_texts/483e8000-3112-11eb-bd18-005056827e51.xml\n",
      "INFO: Removed 1 matching regions from /home/adrian/school/KNN/CLIP/filtered_texts/61fc6267-1e04-4e07-b0fc-4691e888b934.xml\n",
      "INFO: Removed 1 matching regions from /home/adrian/school/KNN/CLIP/filtered_texts/dbd97103-cbe5-49ad-b553-44f3396803a3.xml\n",
      "INFO: Removed 1 matching regions from /home/adrian/school/KNN/CLIP/filtered_texts/4b11d792-518b-11e1-1027-001143e3f55c.xml\n",
      "INFO: Removed 2 matching regions from /home/adrian/school/KNN/CLIP/filtered_texts/d1a2c850-043c-11e0-8db5-000d606f5dc6.xml\n",
      "INFO: Removed 1 matching regions from /home/adrian/school/KNN/CLIP/filtered_texts/4f982b1f-cfd6-4f8a-be09-77fe4f223335.xml\n",
      "INFO: Removed 1 matching regions from /home/adrian/school/KNN/CLIP/filtered_texts/b182af7c-815b-4349-bea6-078818e31479.xml\n",
      "INFO: Removed 1 matching regions from /home/adrian/school/KNN/CLIP/filtered_texts/984d90bb-0060-11e7-9c30-92f789bb8157.xml\n",
      "INFO: Removed 1 matching regions from /home/adrian/school/KNN/CLIP/filtered_texts/29eff5d0-f710-11e9-94c9-001999480be2.xml\n",
      "INFO: Removed 1 matching regions from /home/adrian/school/KNN/CLIP/filtered_texts/69c3f367-6093-48ea-8cb0-5b813e878536.xml\n",
      "INFO: Removed 1 matching regions from /home/adrian/school/KNN/CLIP/filtered_texts/5034ec05-6768-4692-9c6b-80eeba2e8c1f.xml\n",
      "INFO: Removed 1 matching regions from /home/adrian/school/KNN/CLIP/filtered_texts/01a2771e-f711-11e9-94c9-001999480be2.xml\n",
      "INFO: Removed 1 matching regions from /home/adrian/school/KNN/CLIP/filtered_texts/45c63fc6-435e-11dd-b505-00145e5790ea.xml\n",
      "INFO: Removed 1 matching regions from /home/adrian/school/KNN/CLIP/filtered_texts/0a781110-6761-11e9-bca3-001999480be2.xml\n",
      "INFO: Removed 2 matching regions from /home/adrian/school/KNN/CLIP/filtered_texts/7f3ef95a-e23b-11e6-a02c-001999480be2.xml\n",
      "INFO: Removed 1 matching regions from /home/adrian/school/KNN/CLIP/filtered_texts/4a0ac283-0bdc-4c24-a55a-09b0342e875c.xml\n",
      "INFO: Removed 1 matching regions from /home/adrian/school/KNN/CLIP/filtered_texts/b803c017-035f-4e42-bd6d-e35a737cd4d2.xml\n",
      "INFO: Removed 1 matching regions from /home/adrian/school/KNN/CLIP/filtered_texts/e55a7dbe-8c09-4eab-b49d-ac28dafde5cf.xml\n",
      "INFO: Removed 1 matching regions from /home/adrian/school/KNN/CLIP/filtered_texts/c78ff123-ae33-11e1-1586-001143e3f55c.xml\n",
      "INFO: Removed 1 matching regions from /home/adrian/school/KNN/CLIP/filtered_texts/e4fa6d6d-e3bd-11e6-8daf-001999480be2.xml\n",
      "INFO: Removed 1 matching regions from /home/adrian/school/KNN/CLIP/filtered_texts/5f204ad0-8a06-11ea-b5cd-001999480be2.xml\n",
      "INFO: Removed 1 matching regions from /home/adrian/school/KNN/CLIP/filtered_texts/787bf7e1-c296-4646-97d0-69b20a84b9a5.xml\n",
      "INFO: Removed 1 matching regions from /home/adrian/school/KNN/CLIP/filtered_texts/2b837a26-ae8b-40ee-b291-3ce8966b236a.xml\n",
      "INFO: Removed 1 matching regions from /home/adrian/school/KNN/CLIP/filtered_texts/bc3191d0-e25c-11e2-85d8-0030487be43a.xml\n",
      "INFO: Removed 1 matching regions from /home/adrian/school/KNN/CLIP/filtered_texts/599d9dcc-efa6-40ad-8132-a8583653ede3.xml\n",
      "INFO: Removed 1 matching regions from /home/adrian/school/KNN/CLIP/filtered_texts/53acbd39-d92b-45de-9739-06338182c630.xml\n",
      "INFO: Removed 1 matching regions from /home/adrian/school/KNN/CLIP/filtered_texts/9501c7cf-ffc6-11e9-b0f5-001999480be2.xml\n",
      "INFO: Removed 1 matching regions from /home/adrian/school/KNN/CLIP/filtered_texts/b4197129-4611-11e1-1586-001143e3f55c.xml\n",
      "INFO: Removed 1 matching regions from /home/adrian/school/KNN/CLIP/filtered_texts/3851bce7-5b88-42c1-97fc-651b3492a717.xml\n",
      "INFO: Removed 2 matching regions from /home/adrian/school/KNN/CLIP/filtered_texts/8f450b0d-8128-427d-a675-7290ef7e5533.xml\n",
      "INFO: Removed 1 matching regions from /home/adrian/school/KNN/CLIP/filtered_texts/b7f68f11-110c-11ea-b8ec-001999480be2.xml\n",
      "INFO: Removed 1 matching regions from /home/adrian/school/KNN/CLIP/filtered_texts/673e5305-c2dc-11e6-8b5b-001999480be2.xml\n",
      "INFO: Removed 1 matching regions from /home/adrian/school/KNN/CLIP/filtered_texts/6a93be94-1e75-429c-9110-f74b86eea4b8.xml\n",
      "INFO: Removed 1 matching regions from /home/adrian/school/KNN/CLIP/filtered_texts/557e07c0-3bbe-11eb-95e3-5ef3fc9ae867.xml\n",
      "INFO: Removed 3 matching regions from /home/adrian/school/KNN/CLIP/filtered_texts/7166e07d-0c17-402b-866b-0c584359d1dc.xml\n",
      "INFO: Removed 1 matching regions from /home/adrian/school/KNN/CLIP/filtered_texts/ff88e6c3-93ce-41c9-9fa6-f92c1822bb1f.xml\n",
      "INFO: Removed 1 matching regions from /home/adrian/school/KNN/CLIP/filtered_texts/d7505783-cbb6-4104-8deb-2001c92ca01f.xml\n",
      "INFO: Removed 1 matching regions from /home/adrian/school/KNN/CLIP/filtered_texts/440fb09b-1b85-4538-be72-3b677264a565.xml\n",
      "INFO: Removed 1 matching regions from /home/adrian/school/KNN/CLIP/filtered_texts/2436df80-fc61-11e3-b8b2-001b63bd97ba.xml\n",
      "INFO: Removed 1 matching regions from /home/adrian/school/KNN/CLIP/filtered_texts/693182e8-c282-11e9-92f0-001999480be2.xml\n",
      "INFO: Removed 2 matching regions from /home/adrian/school/KNN/CLIP/filtered_texts/52b79430-cd76-11dc-bfed-000d606f5dc6.xml\n",
      "INFO: Removed 2 matching regions from /home/adrian/school/KNN/CLIP/filtered_texts/a07bddac-c2da-11e6-b5b6-001999480be2.xml\n",
      "INFO: Removed 1 matching regions from /home/adrian/school/KNN/CLIP/filtered_texts/d7dd70b4-4eed-11e9-8962-005056a2b051.xml\n",
      "INFO: Removed 1 matching regions from /home/adrian/school/KNN/CLIP/filtered_texts/40a7fadb-8d84-4d6d-b651-82b0729cfe8f.xml\n",
      "INFO: Removed 1 matching regions from /home/adrian/school/KNN/CLIP/filtered_texts/c71c6a0a-79cf-4959-a9cb-614fcb6a25ba.xml\n",
      "INFO: Removed 1 matching regions from /home/adrian/school/KNN/CLIP/filtered_texts/01f60c3b-6af4-4d2e-8bbc-0b986b6868a3.xml\n",
      "INFO: Removed 3 matching regions from /home/adrian/school/KNN/CLIP/filtered_texts/9ea51a08-4c6a-11e1-8339-001143e3f55c.xml\n",
      "INFO: Removed 1 matching regions from /home/adrian/school/KNN/CLIP/filtered_texts/5202818c-5625-11e1-1418-001143e3f55c.xml\n",
      "INFO: Removed 1 matching regions from /home/adrian/school/KNN/CLIP/filtered_texts/55eb5f91-82ee-4f69-bc9b-03fcf1df7002.xml\n",
      "INFO: Removed 1 matching regions from /home/adrian/school/KNN/CLIP/filtered_texts/f045b49d-c0e2-11e5-9451-001999480be2.xml\n",
      "INFO: Removed 3 matching regions from /home/adrian/school/KNN/CLIP/filtered_texts/7f3c87f5-e23b-11e6-a02c-001999480be2.xml\n",
      "INFO: Removed 4 matching regions from /home/adrian/school/KNN/CLIP/filtered_texts/73b6f020-2030-11eb-bd18-005056827e51.xml\n",
      "INFO: Removed 2 matching regions from /home/adrian/school/KNN/CLIP/filtered_texts/4693a1a9-435e-11dd-b505-00145e5790ea.xml\n",
      "INFO: Removed 1 matching regions from /home/adrian/school/KNN/CLIP/filtered_texts/01de4b19-cd10-4b78-a016-e21e5a30ae48.xml\n",
      "INFO: Removed 3 matching regions from /home/adrian/school/KNN/CLIP/filtered_texts/46d05d60-435e-11dd-b505-00145e5790ea.xml\n",
      "INFO: Removed 1 matching regions from /home/adrian/school/KNN/CLIP/filtered_texts/d7be0cae-c4d7-11e9-b0b4-001999480be2.xml\n",
      "INFO: Removed 1 matching regions from /home/adrian/school/KNN/CLIP/filtered_texts/e56fef30-802f-11de-bce4-0030487be43a.xml\n",
      "INFO: Removed 1 matching regions from /home/adrian/school/KNN/CLIP/filtered_texts/c518a21c-5cd7-11e8-a9b6-001999480be2.xml\n",
      "INFO: Removed 1 matching regions from /home/adrian/school/KNN/CLIP/filtered_texts/c1326407-148b-11e1-8339-001143e3f55c.xml\n",
      "INFO: Removed 1 matching regions from /home/adrian/school/KNN/CLIP/filtered_texts/133b280d-40e4-11e1-3052-001143e3f55c.xml\n",
      "INFO: Removed 1 matching regions from /home/adrian/school/KNN/CLIP/filtered_texts/0c978690-e304-11e6-9f58-001999480be2.xml\n",
      "INFO: Removed 1 matching regions from /home/adrian/school/KNN/CLIP/filtered_texts/ced6fcef-e3aa-11e6-b496-001999480be2.xml\n",
      "INFO: Removed 1 matching regions from /home/adrian/school/KNN/CLIP/filtered_texts/ef794910-ac26-11eb-8ea3-5ef3fc9ae867.xml\n",
      "INFO: Removed 1 matching regions from /home/adrian/school/KNN/CLIP/filtered_texts/3d9782f3-13ce-4952-8073-bcacc8b467ba.xml\n",
      "INFO: Removed 2 matching regions from /home/adrian/school/KNN/CLIP/filtered_texts/68a74937-e4d8-4083-9a29-29d06ff3955b.xml\n",
      "INFO: Removed 1 matching regions from /home/adrian/school/KNN/CLIP/filtered_texts/f4ca0fba-a651-4775-a288-aa8f24b5677c.xml\n",
      "INFO: Removed 2 matching regions from /home/adrian/school/KNN/CLIP/filtered_texts/6e511910-a5f5-4b2c-a130-3f0afc835ff4.xml\n",
      "INFO: Removed 1 matching regions from /home/adrian/school/KNN/CLIP/filtered_texts/2f23a138-bcb3-498d-a1d7-98d5a5e988f9.xml\n",
      "INFO: Removed 1 matching regions from /home/adrian/school/KNN/CLIP/filtered_texts/3dbc127e-be6f-43f5-8d3c-d948da051b31.xml\n",
      "INFO: Removed 1 matching regions from /home/adrian/school/KNN/CLIP/filtered_texts/60b254f2-85e8-4947-bb27-2cec87434f42.xml\n",
      "INFO: Removed 2 matching regions from /home/adrian/school/KNN/CLIP/filtered_texts/44053905-d1fe-4b89-88fd-48b9658954ea.xml\n",
      "INFO: Removed 1 matching regions from /home/adrian/school/KNN/CLIP/filtered_texts/2404a9c5-c5a0-11e1-1154-001143e3f55c.xml\n",
      "INFO: Removed 1 matching regions from /home/adrian/school/KNN/CLIP/filtered_texts/215db057-901e-11ed-868a-001b63bd97ba.xml\n",
      "INFO: Removed 2 matching regions from /home/adrian/school/KNN/CLIP/filtered_texts/46f9cad4-0d7f-11e3-2544-001143e3f55c.xml\n",
      "INFO: Removed 1 matching regions from /home/adrian/school/KNN/CLIP/filtered_texts/0a0e41e0-4ec3-11df-9584-0030487be43a.xml\n",
      "INFO: Removed 1 matching regions from /home/adrian/school/KNN/CLIP/filtered_texts/4b5956c0-73c2-11df-b762-0030487be43a.xml\n",
      "INFO: Removed 1 matching regions from /home/adrian/school/KNN/CLIP/filtered_texts/e4b4b441-3bd9-11e8-95cd-001b63bd97ba.xml\n",
      "INFO: Removed 1 matching regions from /home/adrian/school/KNN/CLIP/filtered_texts/3acaf120-cc2b-11ea-9a89-005056825209.xml\n",
      "INFO: Removed 1 matching regions from /home/adrian/school/KNN/CLIP/filtered_texts/bc5a751b-148b-11e1-1586-001143e3f55c.xml\n",
      "INFO: Removed 1 matching regions from /home/adrian/school/KNN/CLIP/filtered_texts/83243bd2-6f0d-42c6-b0f5-3467ed2c1e95.xml\n",
      "INFO: Removed 1 matching regions from /home/adrian/school/KNN/CLIP/filtered_texts/cdfb9268-5cf1-11e8-a84a-001999480be2.xml\n",
      "INFO: Removed 1 matching regions from /home/adrian/school/KNN/CLIP/filtered_texts/cfb4eb0e-a67a-11e6-adc0-d485646517a0.xml\n",
      "INFO: Removed 1 matching regions from /home/adrian/school/KNN/CLIP/filtered_texts/4c99018d-5625-11e1-1418-001143e3f55c.xml\n",
      "INFO: Removed 2 matching regions from /home/adrian/school/KNN/CLIP/filtered_texts/b47e3890-abc5-11eb-9f2d-5ef3fc9bb22f.xml\n",
      "INFO: Removed 1 matching regions from /home/adrian/school/KNN/CLIP/filtered_texts/3431bb29-56d6-11e1-4047-001143e3f55c.xml\n",
      "INFO: Removed 2 matching regions from /home/adrian/school/KNN/CLIP/filtered_texts/59ddb890-ddbb-11df-a7dd-0030487be43a.xml\n",
      "INFO: Removed 2 matching regions from /home/adrian/school/KNN/CLIP/filtered_texts/45020a45-4efb-11e9-aa8e-005056a2b051.xml\n",
      "INFO: Removed 4 matching regions from /home/adrian/school/KNN/CLIP/filtered_texts/38b375ce-646d-11eb-8822-001b63bd97ba.xml\n",
      "INFO: Removed 1 matching regions from /home/adrian/school/KNN/CLIP/filtered_texts/61bc0e64-b6ba-11ed-a22a-001b63bd97ba.xml\n",
      "INFO: Removed 4 matching regions from /home/adrian/school/KNN/CLIP/filtered_texts/2b3dd963-82ac-11e9-aa6f-00155d012102.xml\n",
      "INFO: Removed 3 matching regions from /home/adrian/school/KNN/CLIP/filtered_texts/caf45f30-59cf-11e0-9f4b-000d606f5dc6.xml\n",
      "INFO: Removed 1 matching regions from /home/adrian/school/KNN/CLIP/filtered_texts/dc1f1a55-0ce5-11e8-859d-001b63bd97ba.xml\n",
      "INFO: Removed 2 matching regions from /home/adrian/school/KNN/CLIP/filtered_texts/47a56077-435e-11dd-b505-00145e5790ea.xml\n",
      "INFO: Removed 8 matching regions from /home/adrian/school/KNN/CLIP/filtered_texts/19754a0f-4bc1-4e44-bdc5-705c11b87ad7.xml\n",
      "INFO: Removed 1 matching regions from /home/adrian/school/KNN/CLIP/filtered_texts/bc190570-6a43-11e9-9d4f-001999480be2.xml\n",
      "INFO: Removed 1 matching regions from /home/adrian/school/KNN/CLIP/filtered_texts/d80db7f6-4088-45ea-b942-96a9fabaefe3.xml\n",
      "INFO: \n",
      "Processing completed in: 58.72 seconds\n",
      "INFO: Summary: Processed 3949 file pairs\n",
      "INFO: Files with matches: 1810\n",
      "INFO: Files copied without filtering: 2139\n",
      "INFO: Total match percentage: 99.35% (2896/2915 regions matched)\n",
      "INFO: Total regions removed from XML: 2784\n"
     ]
    },
    {
     "data": {
      "text/markdown": [
       "\n",
       "    ## Picture Description Filtering Results\n",
       "    \n",
       "    - **Processed Files:** 3949 file pairs\n",
       "    - **Files with Matches:** 1810\n",
       "    - **Files Copied Without Filtering:** 2139\n",
       "    \n",
       "    ### Matching Statistics:\n",
       "    - Total picture description regions: 2915\n",
       "    - Matched regions: 2896\n",
       "    - Match percentage: 99.35%\n",
       "    - Text regions removed from XML: 2784\n",
       "    \n",
       "    ### Processing Details:\n",
       "    - IoU threshold used: 5e-05\n",
       "    - Processing time: 58.72 seconds\n",
       "    \n",
       "    Filtered XML files are available in: `/home/adrian/school/KNN/CLIP/filtered_texts_no_desc`\n",
       "    "
      ],
      "text/plain": [
       "<IPython.core.display.Markdown object>"
      ]
     },
     "metadata": {},
     "output_type": "display_data"
    }
   ],
   "source": [
    "# Import the picture description filtering module\n",
    "import filter_picture_descriptions\n",
    "from IPython.display import display, Markdown\n",
    "\n",
    "# Setup logging for notebook environment\n",
    "filter_picture_descriptions.setup_logging(debug_mode=DEBUG, use_notebook=True)\n",
    "\n",
    "# Run the filtering process with our directory structure\n",
    "result = filter_picture_descriptions.run_filter_descriptions(\n",
    "    json_dir=DIRS[\"filtered_jsons_dir\"],             # JSON files from filtered directory \n",
    "    xml_dir=DIRS[\"filtered_texts_dir\"],              # XML files from filtered directory\n",
    "    output_dir=\"filtered_texts_no_desc\",             # Output directory for filtered XMLs\n",
    "    iou_threshold=0.00005,                           # IoU threshold for matching\n",
    "    show_progress=True                               # Show progress updates (ensure this is True)\n",
    ")\n",
    "\n",
    "# Display results as markdown\n",
    "if \"error\" in result:\n",
    "    display(Markdown(f\"## ❌ Error\\n{result['error']}\"))\n",
    "else:\n",
    "    display(Markdown(f\"\"\"\n",
    "    ## Picture Description Filtering Results\n",
    "    \n",
    "    - **Processed Files:** {result['processed_files']} file pairs\n",
    "    - **Files with Matches:** {result['files_with_matches']}\n",
    "    - **Files Copied Without Filtering:** {result['copied_without_filtering']}\n",
    "    \n",
    "    ### Matching Statistics:\n",
    "    - Total picture description regions: {result['total_json_regions']}\n",
    "    - Matched regions: {result['total_matches']}\n",
    "    {f\"- Match percentage: {result['match_percentage']:.2f}%\" if 'match_percentage' in result else \"\"}\n",
    "    - Text regions removed from XML: {result['regions_removed']}\n",
    "    \n",
    "    ### Processing Details:\n",
    "    - IoU threshold used: {result['iou_threshold']}\n",
    "    - Processing time: {result['elapsed_time']:.2f} seconds\n",
    "    \n",
    "    Filtered XML files are available in: `{result['output_dir']}`\n",
    "    \"\"\"))\n",
    "\n",
    "# Update our directories dictionary with the filtered texts directory\n",
    "DIRS[\"filtered_texts_no_desc_dir\"] = \"filtered_texts_no_desc\""
   ]
  },
  {
   "cell_type": "markdown",
   "id": "e29cfa83",
   "metadata": {},
   "source": [
    "Uses OpenAI's CLIP model to find semantic matches between images and text:\n",
    "\n",
    "- Loads the CLIP ViT-B/32 model (handles both images and text)\n",
    "- For each cropped image, computes CLIP embeddings\n",
    "- For each text region in the XML files, computes CLIP embeddings\n",
    "- Calculates cosine similarity between image and text embeddings\n",
    "- Identifies text that semantically matches each image\n",
    "- Creates visual context images showing the image with matched text\n",
    "- Uses nested progress bars with improved tqdm implementation\n",
    "- Displays a sample result with the matched image and text\n",
    "\n",
    "This is the core of the pipeline that creates the final image-text matches."
   ]
  },
  {
   "cell_type": "code",
   "execution_count": null,
   "id": "bf9f6443",
   "metadata": {},
   "outputs": [
    {
     "name": "stdout",
     "output_type": "stream",
     "text": [
      "INFO: Log level set to: INFO\n"
     ]
    },
    {
     "name": "stderr",
     "output_type": "stream",
     "text": [
      "INFO: Log level set to: INFO\n"
     ]
    },
    {
     "data": {
      "text/markdown": [
       "## ⚙️ Running CLIP model - this may take several minutes..."
      ],
      "text/plain": [
       "<IPython.core.display.Markdown object>"
      ]
     },
     "metadata": {},
     "output_type": "display_data"
    },
    {
     "name": "stdout",
     "output_type": "stream",
     "text": [
      "INFO: Using device: cuda\n"
     ]
    },
    {
     "name": "stderr",
     "output_type": "stream",
     "text": [
      "INFO: Using device: cuda\n"
     ]
    },
    {
     "name": "stdout",
     "output_type": "stream",
     "text": [
      "INFO: Loading CLIP model: ViT-B/32\n"
     ]
    },
    {
     "name": "stderr",
     "output_type": "stream",
     "text": [
      "INFO: Loading CLIP model: ViT-B/32\n"
     ]
    },
    {
     "name": "stdout",
     "output_type": "stream",
     "text": [
      "INFO: Model loaded in 4.34 seconds\n"
     ]
    },
    {
     "name": "stderr",
     "output_type": "stream",
     "text": [
      "INFO: Model loaded in 4.34 seconds\n"
     ]
    },
    {
     "name": "stdout",
     "output_type": "stream",
     "text": [
      "INFO: Starting processing with ViT-B/32 model\n"
     ]
    },
    {
     "name": "stderr",
     "output_type": "stream",
     "text": [
      "INFO: Starting processing with ViT-B/32 model\n"
     ]
    },
    {
     "name": "stdout",
     "output_type": "stream",
     "text": [
      "INFO: Scanning for JSONs containing 'Obrázek' label...\n"
     ]
    },
    {
     "name": "stderr",
     "output_type": "stream",
     "text": [
      "INFO: Scanning for JSONs containing 'Obrázek' label...\n"
     ]
    },
    {
     "data": {
      "application/vnd.jupyter.widget-view+json": {
       "model_id": "a21d1cd7ae014c468eca1422bed6fce9",
       "version_major": 2,
       "version_minor": 0
      },
      "text/plain": [
       "Checking JSONs for Obrázek label:   0%|          | 0/3949 [00:00<?, ?it/s]"
      ]
     },
     "metadata": {},
     "output_type": "display_data"
    },
    {
     "name": "stdout",
     "output_type": "stream",
     "text": [
      "INFO: Limiting to 10 IDs out of 3949 total\n"
     ]
    },
    {
     "name": "stderr",
     "output_type": "stream",
     "text": [
      "INFO: Limiting to 10 IDs out of 3949 total\n"
     ]
    },
    {
     "name": "stdout",
     "output_type": "stream",
     "text": [
      "INFO: Found 10 IDs to process\n"
     ]
    },
    {
     "name": "stderr",
     "output_type": "stream",
     "text": [
      "INFO: Found 10 IDs to process\n"
     ]
    },
    {
     "name": "stdout",
     "output_type": "stream",
     "text": [
      "INFO: ============================================================\n"
     ]
    },
    {
     "name": "stderr",
     "output_type": "stream",
     "text": [
      "INFO: ============================================================\n"
     ]
    },
    {
     "name": "stdout",
     "output_type": "stream",
     "text": [
      "INFO: STARTING PROCESSING\n"
     ]
    },
    {
     "name": "stderr",
     "output_type": "stream",
     "text": [
      "INFO: STARTING PROCESSING\n"
     ]
    },
    {
     "name": "stdout",
     "output_type": "stream",
     "text": [
      "INFO: ============================================================\n"
     ]
    },
    {
     "name": "stderr",
     "output_type": "stream",
     "text": [
      "INFO: ============================================================\n"
     ]
    },
    {
     "name": "stdout",
     "output_type": "stream",
     "text": [
      "INFO: Configuration: threshold=0.25, model=ViT-B/32\n"
     ]
    },
    {
     "name": "stderr",
     "output_type": "stream",
     "text": [
      "INFO: Configuration: threshold=0.25, model=ViT-B/32\n"
     ]
    },
    {
     "name": "stdout",
     "output_type": "stream",
     "text": [
      "INFO: Directories: json=filtered_jsons, images=cropped_images, texts=filtered_texts_no_desc\n"
     ]
    },
    {
     "name": "stderr",
     "output_type": "stream",
     "text": [
      "INFO: Directories: json=filtered_jsons, images=cropped_images, texts=filtered_texts_no_desc\n"
     ]
    },
    {
     "data": {
      "application/vnd.jupyter.widget-view+json": {
       "model_id": "c7fd5b56147e470a8d4d13c59b1f795e",
       "version_major": 2,
       "version_minor": 0
      },
      "text/plain": [
       "Processing IDs:   0%|          | 0/10 [00:00<?, ?ID/s]"
      ]
     },
     "metadata": {},
     "output_type": "display_data"
    },
    {
     "name": "stdout",
     "output_type": "stream",
     "text": [
      "INFO: Processing ID 1/10: 9fc3f6dd-ca34-407c-9455-44aa098fa163\n"
     ]
    },
    {
     "name": "stderr",
     "output_type": "stream",
     "text": [
      "INFO: Processing ID 1/10: 9fc3f6dd-ca34-407c-9455-44aa098fa163\n"
     ]
    },
    {
     "name": "stdout",
     "output_type": "stream",
     "text": [
      "ERROR: XML file not found: filtered_texts_no_desc/filtered_9fc3f6dd-ca34-407c-9455-44aa098fa163.xml\n"
     ]
    },
    {
     "name": "stderr",
     "output_type": "stream",
     "text": [
      "ERROR: XML file not found: filtered_texts_no_desc/filtered_9fc3f6dd-ca34-407c-9455-44aa098fa163.xml\n"
     ]
    },
    {
     "name": "stdout",
     "output_type": "stream",
     "text": [
      "INFO: Detailed info for ID 9fc3f6dd-ca34-407c-9455-44aa098fa163\n"
     ]
    },
    {
     "name": "stderr",
     "output_type": "stream",
     "text": [
      "INFO: Detailed info for ID 9fc3f6dd-ca34-407c-9455-44aa098fa163\n"
     ]
    },
    {
     "name": "stdout",
     "output_type": "stream",
     "text": [
      "INFO: Processed 1/10 IDs, success rate: 0.0%\n"
     ]
    },
    {
     "name": "stderr",
     "output_type": "stream",
     "text": [
      "INFO: Processed 1/10 IDs, success rate: 0.0%\n"
     ]
    },
    {
     "name": "stdout",
     "output_type": "stream",
     "text": [
      "INFO: Processing ID 2/10: 8f04042d-2d06-4e1f-bd4f-a8a5abfa95f6\n"
     ]
    },
    {
     "name": "stderr",
     "output_type": "stream",
     "text": [
      "INFO: Processing ID 2/10: 8f04042d-2d06-4e1f-bd4f-a8a5abfa95f6\n"
     ]
    },
    {
     "name": "stdout",
     "output_type": "stream",
     "text": [
      "ERROR: XML file not found: filtered_texts_no_desc/filtered_8f04042d-2d06-4e1f-bd4f-a8a5abfa95f6.xml\n"
     ]
    },
    {
     "name": "stderr",
     "output_type": "stream",
     "text": [
      "ERROR: XML file not found: filtered_texts_no_desc/filtered_8f04042d-2d06-4e1f-bd4f-a8a5abfa95f6.xml\n"
     ]
    },
    {
     "name": "stdout",
     "output_type": "stream",
     "text": [
      "INFO: Detailed info for ID 8f04042d-2d06-4e1f-bd4f-a8a5abfa95f6\n"
     ]
    },
    {
     "name": "stderr",
     "output_type": "stream",
     "text": [
      "INFO: Detailed info for ID 8f04042d-2d06-4e1f-bd4f-a8a5abfa95f6\n"
     ]
    },
    {
     "name": "stdout",
     "output_type": "stream",
     "text": [
      "INFO: Processed 2/10 IDs, success rate: 0.0%\n"
     ]
    },
    {
     "name": "stderr",
     "output_type": "stream",
     "text": [
      "INFO: Processed 2/10 IDs, success rate: 0.0%\n"
     ]
    },
    {
     "name": "stdout",
     "output_type": "stream",
     "text": [
      "INFO: Processing ID 3/10: 469772d1-435e-11dd-b505-00145e5790ea\n"
     ]
    },
    {
     "name": "stderr",
     "output_type": "stream",
     "text": [
      "INFO: Processing ID 3/10: 469772d1-435e-11dd-b505-00145e5790ea\n"
     ]
    },
    {
     "name": "stdout",
     "output_type": "stream",
     "text": [
      "ERROR: XML file not found: filtered_texts_no_desc/filtered_469772d1-435e-11dd-b505-00145e5790ea.xml\n"
     ]
    },
    {
     "name": "stderr",
     "output_type": "stream",
     "text": [
      "ERROR: XML file not found: filtered_texts_no_desc/filtered_469772d1-435e-11dd-b505-00145e5790ea.xml\n"
     ]
    },
    {
     "name": "stdout",
     "output_type": "stream",
     "text": [
      "INFO: Detailed info for ID 469772d1-435e-11dd-b505-00145e5790ea\n"
     ]
    },
    {
     "name": "stderr",
     "output_type": "stream",
     "text": [
      "INFO: Detailed info for ID 469772d1-435e-11dd-b505-00145e5790ea\n"
     ]
    },
    {
     "name": "stdout",
     "output_type": "stream",
     "text": [
      "INFO: Processed 3/10 IDs, success rate: 0.0%\n"
     ]
    },
    {
     "name": "stderr",
     "output_type": "stream",
     "text": [
      "INFO: Processed 3/10 IDs, success rate: 0.0%\n"
     ]
    },
    {
     "name": "stdout",
     "output_type": "stream",
     "text": [
      "INFO: Processing ID 4/10: 3d2a5068-d0db-4e3c-beab-0a64a523ac25\n"
     ]
    },
    {
     "name": "stderr",
     "output_type": "stream",
     "text": [
      "INFO: Processing ID 4/10: 3d2a5068-d0db-4e3c-beab-0a64a523ac25\n"
     ]
    },
    {
     "name": "stdout",
     "output_type": "stream",
     "text": [
      "ERROR: XML file not found: filtered_texts_no_desc/filtered_3d2a5068-d0db-4e3c-beab-0a64a523ac25.xml\n"
     ]
    },
    {
     "name": "stderr",
     "output_type": "stream",
     "text": [
      "ERROR: XML file not found: filtered_texts_no_desc/filtered_3d2a5068-d0db-4e3c-beab-0a64a523ac25.xml\n"
     ]
    },
    {
     "name": "stdout",
     "output_type": "stream",
     "text": [
      "INFO: Detailed info for ID 3d2a5068-d0db-4e3c-beab-0a64a523ac25\n"
     ]
    },
    {
     "name": "stderr",
     "output_type": "stream",
     "text": [
      "INFO: Detailed info for ID 3d2a5068-d0db-4e3c-beab-0a64a523ac25\n"
     ]
    },
    {
     "name": "stdout",
     "output_type": "stream",
     "text": [
      "INFO: Processed 4/10 IDs, success rate: 0.0%\n"
     ]
    },
    {
     "name": "stderr",
     "output_type": "stream",
     "text": [
      "INFO: Processed 4/10 IDs, success rate: 0.0%\n"
     ]
    },
    {
     "name": "stdout",
     "output_type": "stream",
     "text": [
      "INFO: Processing ID 5/10: c26fd9c9-5997-4718-9300-4a3aee9d3e09\n"
     ]
    },
    {
     "name": "stderr",
     "output_type": "stream",
     "text": [
      "INFO: Processing ID 5/10: c26fd9c9-5997-4718-9300-4a3aee9d3e09\n"
     ]
    },
    {
     "name": "stdout",
     "output_type": "stream",
     "text": [
      "ERROR: XML file not found: filtered_texts_no_desc/filtered_c26fd9c9-5997-4718-9300-4a3aee9d3e09.xml\n"
     ]
    },
    {
     "name": "stderr",
     "output_type": "stream",
     "text": [
      "ERROR: XML file not found: filtered_texts_no_desc/filtered_c26fd9c9-5997-4718-9300-4a3aee9d3e09.xml\n"
     ]
    },
    {
     "name": "stdout",
     "output_type": "stream",
     "text": [
      "INFO: Detailed info for ID c26fd9c9-5997-4718-9300-4a3aee9d3e09\n"
     ]
    },
    {
     "name": "stderr",
     "output_type": "stream",
     "text": [
      "INFO: Detailed info for ID c26fd9c9-5997-4718-9300-4a3aee9d3e09\n"
     ]
    },
    {
     "name": "stdout",
     "output_type": "stream",
     "text": [
      "INFO: Processed 5/10 IDs, success rate: 0.0%\n"
     ]
    },
    {
     "name": "stderr",
     "output_type": "stream",
     "text": [
      "INFO: Processed 5/10 IDs, success rate: 0.0%\n"
     ]
    },
    {
     "name": "stdout",
     "output_type": "stream",
     "text": [
      "INFO: Processing ID 6/10: d69341c9-4909-11eb-bff6-001999480be2\n"
     ]
    },
    {
     "name": "stderr",
     "output_type": "stream",
     "text": [
      "INFO: Processing ID 6/10: d69341c9-4909-11eb-bff6-001999480be2\n"
     ]
    },
    {
     "name": "stdout",
     "output_type": "stream",
     "text": [
      "ERROR: XML file not found: filtered_texts_no_desc/filtered_d69341c9-4909-11eb-bff6-001999480be2.xml\n"
     ]
    },
    {
     "name": "stderr",
     "output_type": "stream",
     "text": [
      "ERROR: XML file not found: filtered_texts_no_desc/filtered_d69341c9-4909-11eb-bff6-001999480be2.xml\n"
     ]
    },
    {
     "name": "stdout",
     "output_type": "stream",
     "text": [
      "INFO: Detailed info for ID d69341c9-4909-11eb-bff6-001999480be2\n"
     ]
    },
    {
     "name": "stderr",
     "output_type": "stream",
     "text": [
      "INFO: Detailed info for ID d69341c9-4909-11eb-bff6-001999480be2\n"
     ]
    },
    {
     "name": "stdout",
     "output_type": "stream",
     "text": [
      "INFO: Processed 6/10 IDs, success rate: 0.0%\n"
     ]
    },
    {
     "name": "stderr",
     "output_type": "stream",
     "text": [
      "INFO: Processed 6/10 IDs, success rate: 0.0%\n"
     ]
    },
    {
     "name": "stdout",
     "output_type": "stream",
     "text": [
      "INFO: Processing ID 7/10: cd20e381-9a2f-4539-a79a-122c5bfdfad3\n"
     ]
    },
    {
     "name": "stderr",
     "output_type": "stream",
     "text": [
      "INFO: Processing ID 7/10: cd20e381-9a2f-4539-a79a-122c5bfdfad3\n"
     ]
    },
    {
     "name": "stdout",
     "output_type": "stream",
     "text": [
      "ERROR: XML file not found: filtered_texts_no_desc/filtered_cd20e381-9a2f-4539-a79a-122c5bfdfad3.xml\n"
     ]
    },
    {
     "name": "stderr",
     "output_type": "stream",
     "text": [
      "ERROR: XML file not found: filtered_texts_no_desc/filtered_cd20e381-9a2f-4539-a79a-122c5bfdfad3.xml\n"
     ]
    },
    {
     "name": "stdout",
     "output_type": "stream",
     "text": [
      "INFO: Detailed info for ID cd20e381-9a2f-4539-a79a-122c5bfdfad3\n"
     ]
    },
    {
     "name": "stderr",
     "output_type": "stream",
     "text": [
      "INFO: Detailed info for ID cd20e381-9a2f-4539-a79a-122c5bfdfad3\n"
     ]
    },
    {
     "name": "stdout",
     "output_type": "stream",
     "text": [
      "INFO: Processed 7/10 IDs, success rate: 0.0%\n"
     ]
    },
    {
     "name": "stderr",
     "output_type": "stream",
     "text": [
      "INFO: Processed 7/10 IDs, success rate: 0.0%\n"
     ]
    },
    {
     "name": "stdout",
     "output_type": "stream",
     "text": [
      "INFO: Processing ID 8/10: 80f746a1-11ad-4de6-97ab-181d03beba67\n"
     ]
    },
    {
     "name": "stderr",
     "output_type": "stream",
     "text": [
      "INFO: Processing ID 8/10: 80f746a1-11ad-4de6-97ab-181d03beba67\n"
     ]
    },
    {
     "name": "stdout",
     "output_type": "stream",
     "text": [
      "ERROR: XML file not found: filtered_texts_no_desc/filtered_80f746a1-11ad-4de6-97ab-181d03beba67.xml\n"
     ]
    },
    {
     "name": "stderr",
     "output_type": "stream",
     "text": [
      "ERROR: XML file not found: filtered_texts_no_desc/filtered_80f746a1-11ad-4de6-97ab-181d03beba67.xml\n"
     ]
    },
    {
     "name": "stdout",
     "output_type": "stream",
     "text": [
      "INFO: Detailed info for ID 80f746a1-11ad-4de6-97ab-181d03beba67\n"
     ]
    },
    {
     "name": "stderr",
     "output_type": "stream",
     "text": [
      "INFO: Detailed info for ID 80f746a1-11ad-4de6-97ab-181d03beba67\n"
     ]
    },
    {
     "name": "stdout",
     "output_type": "stream",
     "text": [
      "INFO: Processed 8/10 IDs, success rate: 0.0%\n"
     ]
    },
    {
     "name": "stderr",
     "output_type": "stream",
     "text": [
      "INFO: Processed 8/10 IDs, success rate: 0.0%\n"
     ]
    },
    {
     "name": "stdout",
     "output_type": "stream",
     "text": [
      "INFO: Processing ID 9/10: f0fd55b4-226f-11ea-acbe-001999480be2\n"
     ]
    },
    {
     "name": "stderr",
     "output_type": "stream",
     "text": [
      "INFO: Processing ID 9/10: f0fd55b4-226f-11ea-acbe-001999480be2\n"
     ]
    },
    {
     "name": "stdout",
     "output_type": "stream",
     "text": [
      "ERROR: XML file not found: filtered_texts_no_desc/filtered_f0fd55b4-226f-11ea-acbe-001999480be2.xml\n"
     ]
    },
    {
     "name": "stderr",
     "output_type": "stream",
     "text": [
      "ERROR: XML file not found: filtered_texts_no_desc/filtered_f0fd55b4-226f-11ea-acbe-001999480be2.xml\n"
     ]
    },
    {
     "name": "stdout",
     "output_type": "stream",
     "text": [
      "INFO: Detailed info for ID f0fd55b4-226f-11ea-acbe-001999480be2\n"
     ]
    },
    {
     "name": "stderr",
     "output_type": "stream",
     "text": [
      "INFO: Detailed info for ID f0fd55b4-226f-11ea-acbe-001999480be2\n"
     ]
    },
    {
     "name": "stdout",
     "output_type": "stream",
     "text": [
      "INFO: Processed 9/10 IDs, success rate: 0.0%\n"
     ]
    },
    {
     "name": "stderr",
     "output_type": "stream",
     "text": [
      "INFO: Processed 9/10 IDs, success rate: 0.0%\n"
     ]
    },
    {
     "name": "stdout",
     "output_type": "stream",
     "text": [
      "INFO: Processing ID 10/10: 5fc7663d-7b57-407d-93e5-6465109d303a\n"
     ]
    },
    {
     "name": "stderr",
     "output_type": "stream",
     "text": [
      "INFO: Processing ID 10/10: 5fc7663d-7b57-407d-93e5-6465109d303a\n"
     ]
    },
    {
     "name": "stdout",
     "output_type": "stream",
     "text": [
      "ERROR: XML file not found: filtered_texts_no_desc/filtered_5fc7663d-7b57-407d-93e5-6465109d303a.xml\n"
     ]
    },
    {
     "name": "stderr",
     "output_type": "stream",
     "text": [
      "ERROR: XML file not found: filtered_texts_no_desc/filtered_5fc7663d-7b57-407d-93e5-6465109d303a.xml\n"
     ]
    },
    {
     "name": "stdout",
     "output_type": "stream",
     "text": [
      "INFO: Detailed info for ID 5fc7663d-7b57-407d-93e5-6465109d303a\n"
     ]
    },
    {
     "name": "stderr",
     "output_type": "stream",
     "text": [
      "INFO: Detailed info for ID 5fc7663d-7b57-407d-93e5-6465109d303a\n"
     ]
    },
    {
     "name": "stdout",
     "output_type": "stream",
     "text": [
      "INFO: Processed 10/10 IDs, success rate: 0.0%\n"
     ]
    },
    {
     "name": "stderr",
     "output_type": "stream",
     "text": [
      "INFO: Processed 10/10 IDs, success rate: 0.0%\n"
     ]
    },
    {
     "name": "stdout",
     "output_type": "stream",
     "text": [
      "INFO: ============================================================\n"
     ]
    },
    {
     "name": "stderr",
     "output_type": "stream",
     "text": [
      "INFO: ============================================================\n"
     ]
    },
    {
     "name": "stdout",
     "output_type": "stream",
     "text": [
      "INFO: PROCESSING COMPLETE\n"
     ]
    },
    {
     "name": "stderr",
     "output_type": "stream",
     "text": [
      "INFO: PROCESSING COMPLETE\n"
     ]
    },
    {
     "name": "stdout",
     "output_type": "stream",
     "text": [
      "INFO: ============================================================\n"
     ]
    },
    {
     "name": "stderr",
     "output_type": "stream",
     "text": [
      "INFO: ============================================================\n"
     ]
    },
    {
     "name": "stdout",
     "output_type": "stream",
     "text": [
      "INFO: Total IDs processed: 10\n"
     ]
    },
    {
     "name": "stderr",
     "output_type": "stream",
     "text": [
      "INFO: Total IDs processed: 10\n"
     ]
    },
    {
     "name": "stdout",
     "output_type": "stream",
     "text": [
      "INFO: Successful context images created: 0\n"
     ]
    },
    {
     "name": "stderr",
     "output_type": "stream",
     "text": [
      "INFO: Successful context images created: 0\n"
     ]
    },
    {
     "name": "stdout",
     "output_type": "stream",
     "text": [
      "INFO: Total images processed: 0\n"
     ]
    },
    {
     "name": "stderr",
     "output_type": "stream",
     "text": [
      "INFO: Total images processed: 0\n"
     ]
    },
    {
     "name": "stdout",
     "output_type": "stream",
     "text": [
      "INFO: Images below threshold: 0\n"
     ]
    },
    {
     "name": "stderr",
     "output_type": "stream",
     "text": [
      "INFO: Images below threshold: 0\n"
     ]
    },
    {
     "name": "stdout",
     "output_type": "stream",
     "text": [
      "INFO: Success rate: 0.00%\n"
     ]
    },
    {
     "name": "stderr",
     "output_type": "stream",
     "text": [
      "INFO: Success rate: 0.00%\n"
     ]
    },
    {
     "name": "stdout",
     "output_type": "stream",
     "text": [
      "INFO: Total processing time: 0.09 seconds\n"
     ]
    },
    {
     "name": "stderr",
     "output_type": "stream",
     "text": [
      "INFO: Total processing time: 0.09 seconds\n"
     ]
    },
    {
     "name": "stdout",
     "output_type": "stream",
     "text": [
      "INFO: Average time per ID: 0.01 seconds\n"
     ]
    },
    {
     "name": "stderr",
     "output_type": "stream",
     "text": [
      "INFO: Average time per ID: 0.01 seconds\n"
     ]
    },
    {
     "name": "stdout",
     "output_type": "stream",
     "text": [
      "INFO: Detailed results saved to output_context/processing_results.json\n"
     ]
    },
    {
     "name": "stderr",
     "output_type": "stream",
     "text": [
      "INFO: Detailed results saved to output_context/processing_results.json\n"
     ]
    },
    {
     "data": {
      "text/markdown": [
       "\n",
       "    ## CLIP Text-Image Matching Results\n",
       "    \n",
       "    ### Processing Summary:\n",
       "    - Total IDs processed: 10\n",
       "    - Successful matches: 0\n",
       "    - Success rate: 0.0%\n",
       "    - Total images processed: 0\n",
       "    - Images below threshold: 0\n",
       "    \n",
       "    ### Configuration:\n",
       "    - Model used: ViT-B/32 on cuda\n",
       "    - Similarity threshold: 0.25\n",
       "    - Max lines context: 3\n",
       "    \n",
       "    ### Performance:\n",
       "    - Total processing time: 0.09 seconds\n",
       "    - Average time per ID: 0.01 seconds\n",
       "    "
      ],
      "text/plain": [
       "<IPython.core.display.Markdown object>"
      ]
     },
     "metadata": {},
     "output_type": "display_data"
    },
    {
     "data": {
      "text/markdown": [
       "No successful results to display"
      ],
      "text/plain": [
       "<IPython.core.display.Markdown object>"
      ]
     },
     "metadata": {},
     "output_type": "display_data"
    }
   ],
   "source": [
    "# Import the process descriptions module\n",
    "import process_descriptions\n",
    "from IPython.display import display, Markdown, Image\n",
    "import os\n",
    "from tqdm.notebook import tqdm  # Import tqdm for notebooks\n",
    "\n",
    "# Set up logging for notebook environment\n",
    "process_descriptions.setup_logging(debug_mode=DEBUG, use_notebook=True, log_to_file=False)\n",
    "\n",
    "# Let's add a notification that this might take a while\n",
    "\n",
    "display(Markdown(\"## ⚙️ Running CLIP model - this may take several minutes...\"))\n",
    "\n",
    "# Run the processing function with our directory structure\n",
    "result = process_descriptions.run_process_descriptions(\n",
    "    json_dir=DIRS[\"filtered_jsons_dir\"],      # Use filtered JSONs\n",
    "    images_dir=DIRS[\"cropped_images_dir\"],    # Use cropped images \n",
    "    texts_dir=DIRS[\"filtered_texts_no_desc_dir\"],  # Use filtered texts without descriptions\n",
    "    output_dir=DIRS[\"output_dir\"],            # Where output files will go\n",
    "    similarity_threshold=0.25,                # Threshold for text matching\n",
    "    max_lines_context=3,                      # Include 3 lines above/below matches\n",
    "    max_ids=10,                               # Process 10 IDs\n",
    "    model_name=\"ViT-B/32\",                    # CLIP model to use\n",
    "    best_only=True,                           # Only use best matching text\n",
    "    show_progress=True,                       # Use tqdm.notebook for progress bars\n",
    "    verbose=False                             # Disable verbose output for cleaner logs\n",
    ")\n",
    "\n",
    "# Display results as markdown\n",
    "if \"error\" in result:\n",
    "    display(Markdown(f\"## ❌ Error\\n{result['error']}\"))\n",
    "else:\n",
    "    display(Markdown(f\"\"\"\n",
    "    ## CLIP Text-Image Matching Results\n",
    "    \n",
    "    ### Processing Summary:\n",
    "    - Total IDs processed: {result['summary']['total_ids']}\n",
    "    - Successful matches: {result['summary']['successful_ids']}\n",
    "    - Success rate: {result['summary']['success_rate']:.1f}%\n",
    "    - Total images processed: {result['summary']['total_images_processed']}\n",
    "    - Images below threshold: {result['summary']['images_below_threshold']}\n",
    "    \n",
    "    ### Configuration:\n",
    "    - Model used: {result['config']['model']} on {result['config']['device']}\n",
    "    - Similarity threshold: {result['config']['similarity_threshold']}\n",
    "    - Max lines context: {result['config']['max_lines_context']}\n",
    "    \n",
    "    ### Performance:\n",
    "    - Total processing time: {result['summary']['elapsed_time']:.2f} seconds\n",
    "    - Average time per ID: {result['summary']['average_time_per_id']:.2f} seconds\n",
    "    \"\"\"))\n",
    "    \n",
    "    # Show a sample image if any were successful\n",
    "    successful_results = [r for r in result['details'] if r.get('success', False)]\n",
    "    if successful_results:\n",
    "        sample = successful_results[0]\n",
    "        display(Markdown(f\"### Sample Result: ID {sample['id']}\"))\n",
    "        sample_path = os.path.join(DIRS[\"output_dir\"], sample['output_file'])\n",
    "        if os.path.exists(sample_path):\n",
    "            display(Image(filename=sample_path, width=800))\n",
    "            display(Markdown(f\"- Context blocks: {sample['context_blocks']}\"))\n",
    "            display(Markdown(f\"- Processing time: {sample['time']:.2f} seconds\"))\n",
    "        else:\n",
    "            display(Markdown(f\"Image file not found: {sample_path}\"))\n",
    "    else:\n",
    "        display(Markdown(\"No successful results to display\"))"
   ]
  }
 ],
 "metadata": {
  "kernelspec": {
   "display_name": "Python 3",
   "language": "python",
   "name": "python3"
  },
  "language_info": {
   "codemirror_mode": {
    "name": "ipython",
    "version": 3
   },
   "file_extension": ".py",
   "mimetype": "text/x-python",
   "name": "python",
   "nbconvert_exporter": "python",
   "pygments_lexer": "ipython3",
   "version": "3.10.12"
  }
 },
 "nbformat": 4,
 "nbformat_minor": 5
}
